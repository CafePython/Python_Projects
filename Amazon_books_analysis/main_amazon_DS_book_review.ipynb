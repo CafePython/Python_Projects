{
 "cells": [
  {
   "cell_type": "markdown",
   "id": "2efecfe6",
   "metadata": {},
   "source": [
    "# Amazon Data Sciences books analysis"
   ]
  },
  {
   "cell_type": "markdown",
   "id": "53a85d38",
   "metadata": {},
   "source": [
    "## Introduction\n",
    "The dataset contains 946 books obtained from scraping Amazon books related to data science, statistics, data analysis, Python, deep learning, and machine learning.\n",
    "There are 18 columns:\n",
    "\n",
    "> * `title`: title of the book\n",
    "> * `author`: author (or the authors) of the book\n",
    "> * `price`: price (in dollars)\n",
    "> * `price (including used books)`: price range of new and used books (in dollars)\n",
    "> * `pages`: number of pages\n",
    "> * `avg_reviews`: average reviews (out of 5)\n",
    "> * `n_reviews`: reviews done for each book\n",
    "> * `star5`: percentage of 5 star reviews\n",
    "> * `star4`: percentage of 4 star reviews\n",
    "> * `star3`: percentage of 3 star reviews\n",
    "> * `star2`: percentage of 2 star reviews\n",
    "> * `star1`: percentage of 1 star reviews\n",
    "> * `dimensions`: size of the book (in inches)\n",
    "> * `weight`: weight (in pounds or ounces)\n",
    "> * `language`: language of the book\n",
    "> * `publisher`: publisher\n",
    "> * `ISBN-13`: ISBN_13 code\n",
    "> * `link`: link of the Amazon book\n",
    "> * `complete_link`: complete link of the Amazon book (including the domain https://amazon.com)\n",
    "\n",
    "### Inspiration\n",
    "\n",
    "You can perform an exploratory data analysis of the dataset, working with Pandas or Numpy.\n",
    "Interesting visualizations can be performed too using, for instance, Python libraries to plot the different features.\n",
    "This dataset can be also used to practice queries using SQL or Pandas.\n",
    "Moreover, you can rank the books based on the number of positive reviews, or you can explore the dataset to have a reference for buying data-science-related books in the future.\n",
    "\n",
    "Remember to upvote if you found the dataset useful :).\n",
    "Collection methodology\n",
    "\n",
    "The dataset was obtained through web scraping from Amazon.\n",
    "More than 1700 books were scraped, fetching the most important information for each book.\n",
    "Duplicated were deleted, each column was formatted and made easy to use for data analysis purposes.\n",
    "Rows containing a lot of missing values were deleted, and in some cases, were filled with an appropriate value based on the column. Thus, the total number of books passed from 1788 to 946.\n",
    "\n",
    "### Few Open question to investigate in the dataset:\n",
    "\n",
    "* are there link between rating and price of the books\n",
    "* are there link between rating and size of the books\n",
    "* are there a link between rating and number of page. Is there also a correlation between rating & price?\n",
    "* Are there correlation bewteen the rating and the editing company\n",
    "* is there a correlation between rating & nb of comment?\n",
    "* Are the quality of books published the same for one author? or are there disparities in the quality through one same single author?\n",
    "* Are we observing the same analysis for books written in different languages?\n",
    "\n",
    "## Approach\n",
    "In order to reach our goal, we will divide our project in four steps:\n",
    "> 1. **[Exploratory Data Analysis](#title1)** (EDA): a mandatory step to comprehend and understand our datase (descriptive data, correlation between variables, data cleaning, visualization graphs...)\n",
    "> 2. **[Data Processing](#title2)**: NLP methods require to transform raw data (comments) in usable and workable data (tokenization, stemming, regular expression...).\n",
    "> 3. **[Modeling](#title3)**: training machine learning and deep learning models and interpreting results.\n",
    "> 4. **[Predictions & Conclusion](#title4)**: test driving the model chosen upon selection criteria (interpretability & performances).\n",
    "\n",
    "\n",
    "## 1. Explorative Data Analysis <a id=\"title1\"></a>\n",
    "\n",
    "### 1.1. Data description and preparation\n",
    "Through this part we will proceed to analysis (distribution, etc.)  and cleaning of the dataset (NaN, duplicates, etc.) \n",
    "\n",
    "#### 1.1.1. Dataset discovery"
   ]
  },
  {
   "cell_type": "code",
   "execution_count": 1,
   "id": "5ac611ee",
   "metadata": {},
   "outputs": [],
   "source": [
    "import pandas as pd\n",
    "#!pip install ydata-profiling\n",
    "#from ydata_profiling import ProfileReport # replace pandas_profiling\n",
    "import numpy as np\n",
    "import datetime as dt\n",
    "import pprint\n",
    "\n",
    "# Graphic libraries\n",
    "import matplotlib.pyplot as plt\n",
    "import plotly.express as px\n",
    "from plotly.subplots import make_subplots\n",
    "import plotly.graph_objects as go\n",
    "import seaborn as sns\n",
    "import plotly.express as px\n",
    "%matplotlib inline"
   ]
  },
  {
   "cell_type": "code",
   "execution_count": 2,
   "id": "881932bc",
   "metadata": {
    "scrolled": false
   },
   "outputs": [
    {
     "data": {
      "text/html": [
       "<div>\n",
       "<style scoped>\n",
       "    .dataframe tbody tr th:only-of-type {\n",
       "        vertical-align: middle;\n",
       "    }\n",
       "\n",
       "    .dataframe tbody tr th {\n",
       "        vertical-align: top;\n",
       "    }\n",
       "\n",
       "    .dataframe thead th {\n",
       "        text-align: right;\n",
       "    }\n",
       "</style>\n",
       "<table border=\"1\" class=\"dataframe\">\n",
       "  <thead>\n",
       "    <tr style=\"text-align: right;\">\n",
       "      <th></th>\n",
       "      <th>title</th>\n",
       "      <th>author</th>\n",
       "      <th>price</th>\n",
       "      <th>price (including used books)</th>\n",
       "      <th>pages</th>\n",
       "      <th>avg_reviews</th>\n",
       "      <th>n_reviews</th>\n",
       "      <th>star5</th>\n",
       "      <th>star4</th>\n",
       "      <th>star3</th>\n",
       "      <th>star2</th>\n",
       "      <th>star1</th>\n",
       "      <th>dimensions</th>\n",
       "      <th>weight</th>\n",
       "      <th>language</th>\n",
       "      <th>publisher</th>\n",
       "      <th>ISBN_13</th>\n",
       "      <th>link</th>\n",
       "      <th>complete_link</th>\n",
       "    </tr>\n",
       "  </thead>\n",
       "  <tbody>\n",
       "    <tr>\n",
       "      <th>0</th>\n",
       "      <td>Data Analysis Using R (Low Priced Edition): A ...</td>\n",
       "      <td>[ Dr Dhaval Maheta]</td>\n",
       "      <td>6.75</td>\n",
       "      <td>6.75</td>\n",
       "      <td>500</td>\n",
       "      <td>4.4</td>\n",
       "      <td>23</td>\n",
       "      <td>55%</td>\n",
       "      <td>39%</td>\n",
       "      <td>6%</td>\n",
       "      <td>NaN</td>\n",
       "      <td>NaN</td>\n",
       "      <td>8.5 x 1.01 x 11 inches</td>\n",
       "      <td>2.53 pounds</td>\n",
       "      <td>English</td>\n",
       "      <td>Notion Press Media Pvt Ltd (November 22, 2021)</td>\n",
       "      <td>978-1685549596</td>\n",
       "      <td>/Data-Analysis-Using-Low-Priced/dp/1685549594/...</td>\n",
       "      <td>https://www.amazon.com/Data-Analysis-Using-Low...</td>\n",
       "    </tr>\n",
       "    <tr>\n",
       "      <th>1</th>\n",
       "      <td>Head First Data Analysis: A learner's guide to...</td>\n",
       "      <td>NaN</td>\n",
       "      <td>33.72</td>\n",
       "      <td>21.49 - 33.72</td>\n",
       "      <td>484</td>\n",
       "      <td>4.3</td>\n",
       "      <td>124</td>\n",
       "      <td>61%</td>\n",
       "      <td>20%</td>\n",
       "      <td>9%</td>\n",
       "      <td>4%</td>\n",
       "      <td>6%</td>\n",
       "      <td>8 x 0.98 x 9.25 inches</td>\n",
       "      <td>1.96 pounds</td>\n",
       "      <td>English</td>\n",
       "      <td>O'Reilly Media; 1st edition (August 18, 2009)</td>\n",
       "      <td>978-0596153939</td>\n",
       "      <td>/Head-First-Data-Analysis-statistics/dp/059615...</td>\n",
       "      <td>https://www.amazon.com/Head-First-Data-Analysi...</td>\n",
       "    </tr>\n",
       "    <tr>\n",
       "      <th>2</th>\n",
       "      <td>Guerrilla Data Analysis Using Microsoft Excel:...</td>\n",
       "      <td>[ Oz du Soleil,  and , Bill Jelen]</td>\n",
       "      <td>32.07</td>\n",
       "      <td>32.07</td>\n",
       "      <td>274</td>\n",
       "      <td>4.7</td>\n",
       "      <td>10</td>\n",
       "      <td>87%</td>\n",
       "      <td>13%</td>\n",
       "      <td>NaN</td>\n",
       "      <td>NaN</td>\n",
       "      <td>NaN</td>\n",
       "      <td>8.25 x 0.6 x 10.75 inches</td>\n",
       "      <td>1.4 pounds</td>\n",
       "      <td>English</td>\n",
       "      <td>Holy Macro! Books; Third edition (August 1, 2022)</td>\n",
       "      <td>978-1615470747</td>\n",
       "      <td>/Guerrilla-Analysis-Using-Microsoft-Excel/dp/1...</td>\n",
       "      <td>https://www.amazon.com/Guerrilla-Analysis-Usin...</td>\n",
       "    </tr>\n",
       "    <tr>\n",
       "      <th>3</th>\n",
       "      <td>Python for Data Analysis: Data Wrangling with ...</td>\n",
       "      <td>[ William McKinney]</td>\n",
       "      <td>53.99</td>\n",
       "      <td>53.99</td>\n",
       "      <td>547</td>\n",
       "      <td>4.6</td>\n",
       "      <td>1,686</td>\n",
       "      <td>75%</td>\n",
       "      <td>16%</td>\n",
       "      <td>5%</td>\n",
       "      <td>2%</td>\n",
       "      <td>2%</td>\n",
       "      <td>7 x 1.11 x 9.19 inches</td>\n",
       "      <td>1.47 pounds</td>\n",
       "      <td>English</td>\n",
       "      <td>O'Reilly Media; 2nd edition (November 14, 2017)</td>\n",
       "      <td>978-1491957660</td>\n",
       "      <td>/Python-Data-Analysis-Wrangling-IPython/dp/149...</td>\n",
       "      <td>https://www.amazon.com/Python-Data-Analysis-Wr...</td>\n",
       "    </tr>\n",
       "    <tr>\n",
       "      <th>4</th>\n",
       "      <td>Excel Data Analysis For Dummies (For Dummies (...</td>\n",
       "      <td>[ Paul McFedries]</td>\n",
       "      <td>24.49</td>\n",
       "      <td>24.49</td>\n",
       "      <td>368</td>\n",
       "      <td>3.9</td>\n",
       "      <td>12</td>\n",
       "      <td>52%</td>\n",
       "      <td>17%</td>\n",
       "      <td>10%</td>\n",
       "      <td>10%</td>\n",
       "      <td>10%</td>\n",
       "      <td>7.38 x 0.83 x 9.25 inches</td>\n",
       "      <td>1.3 pounds</td>\n",
       "      <td>English</td>\n",
       "      <td>For Dummies; 5th edition (February 3, 2022)</td>\n",
       "      <td>978-1119844426</td>\n",
       "      <td>/Excel-Data-Analysis-Dummies-Computer/dp/11198...</td>\n",
       "      <td>https://www.amazon.com/Excel-Data-Analysis-Dum...</td>\n",
       "    </tr>\n",
       "  </tbody>\n",
       "</table>\n",
       "</div>"
      ],
      "text/plain": [
       "                                               title  \\\n",
       "0  Data Analysis Using R (Low Priced Edition): A ...   \n",
       "1  Head First Data Analysis: A learner's guide to...   \n",
       "2  Guerrilla Data Analysis Using Microsoft Excel:...   \n",
       "3  Python for Data Analysis: Data Wrangling with ...   \n",
       "4  Excel Data Analysis For Dummies (For Dummies (...   \n",
       "\n",
       "                               author  price price (including used books)  \\\n",
       "0                 [ Dr Dhaval Maheta]   6.75                         6.75   \n",
       "1                                 NaN  33.72               21.49 - 33.72    \n",
       "2  [ Oz du Soleil,  and , Bill Jelen]  32.07                        32.07   \n",
       "3                 [ William McKinney]  53.99                        53.99   \n",
       "4                   [ Paul McFedries]  24.49                        24.49   \n",
       "\n",
       "  pages  avg_reviews n_reviews star5 star4 star3 star2 star1  \\\n",
       "0   500          4.4        23   55%   39%    6%   NaN   NaN   \n",
       "1   484          4.3       124   61%   20%    9%    4%    6%   \n",
       "2   274          4.7        10   87%   13%   NaN   NaN   NaN   \n",
       "3   547          4.6     1,686   75%   16%    5%    2%    2%   \n",
       "4   368          3.9        12   52%   17%   10%   10%   10%   \n",
       "\n",
       "                  dimensions       weight language  \\\n",
       "0     8.5 x 1.01 x 11 inches  2.53 pounds  English   \n",
       "1     8 x 0.98 x 9.25 inches  1.96 pounds  English   \n",
       "2  8.25 x 0.6 x 10.75 inches   1.4 pounds  English   \n",
       "3     7 x 1.11 x 9.19 inches  1.47 pounds  English   \n",
       "4  7.38 x 0.83 x 9.25 inches   1.3 pounds  English   \n",
       "\n",
       "                                           publisher         ISBN_13  \\\n",
       "0     Notion Press Media Pvt Ltd (November 22, 2021)  978-1685549596   \n",
       "1      O'Reilly Media; 1st edition (August 18, 2009)  978-0596153939   \n",
       "2  Holy Macro! Books; Third edition (August 1, 2022)  978-1615470747   \n",
       "3    O'Reilly Media; 2nd edition (November 14, 2017)  978-1491957660   \n",
       "4        For Dummies; 5th edition (February 3, 2022)  978-1119844426   \n",
       "\n",
       "                                                link  \\\n",
       "0  /Data-Analysis-Using-Low-Priced/dp/1685549594/...   \n",
       "1  /Head-First-Data-Analysis-statistics/dp/059615...   \n",
       "2  /Guerrilla-Analysis-Using-Microsoft-Excel/dp/1...   \n",
       "3  /Python-Data-Analysis-Wrangling-IPython/dp/149...   \n",
       "4  /Excel-Data-Analysis-Dummies-Computer/dp/11198...   \n",
       "\n",
       "                                       complete_link  \n",
       "0  https://www.amazon.com/Data-Analysis-Using-Low...  \n",
       "1  https://www.amazon.com/Head-First-Data-Analysi...  \n",
       "2  https://www.amazon.com/Guerrilla-Analysis-Usin...  \n",
       "3  https://www.amazon.com/Python-Data-Analysis-Wr...  \n",
       "4  https://www.amazon.com/Excel-Data-Analysis-Dum...  "
      ]
     },
     "execution_count": 2,
     "metadata": {},
     "output_type": "execute_result"
    }
   ],
   "source": [
    "raw_df = pd.read_csv(\"final_book_dataset_kaggle2.csv\")\n",
    "raw_df.head()\n"
   ]
  },
  {
   "cell_type": "code",
   "execution_count": 3,
   "id": "dbb0ce53",
   "metadata": {},
   "outputs": [
    {
     "name": "stdout",
     "output_type": "stream",
     "text": [
      "<class 'pandas.core.frame.DataFrame'>\n",
      "RangeIndex: 830 entries, 0 to 829\n",
      "Data columns (total 19 columns):\n",
      " #   Column                        Non-Null Count  Dtype  \n",
      "---  ------                        --------------  -----  \n",
      " 0   title                         830 non-null    object \n",
      " 1   author                        657 non-null    object \n",
      " 2   price                         722 non-null    float64\n",
      " 3   price (including used books)  722 non-null    object \n",
      " 4   pages                         745 non-null    object \n",
      " 5   avg_reviews                   702 non-null    float64\n",
      " 6   n_reviews                     702 non-null    object \n",
      " 7   star5                         702 non-null    object \n",
      " 8   star4                         635 non-null    object \n",
      " 9   star3                         554 non-null    object \n",
      " 10  star2                         451 non-null    object \n",
      " 11  star1                         328 non-null    object \n",
      " 12  dimensions                    644 non-null    object \n",
      " 13  weight                        651 non-null    object \n",
      " 14  language                      759 non-null    object \n",
      " 15  publisher                     714 non-null    object \n",
      " 16  ISBN_13                       665 non-null    object \n",
      " 17  link                          830 non-null    object \n",
      " 18  complete_link                 830 non-null    object \n",
      "dtypes: float64(2), object(17)\n",
      "memory usage: 123.3+ KB\n",
      "\n",
      "Missing values:\n"
     ]
    },
    {
     "data": {
      "text/plain": [
       "title                             0\n",
       "author                          173\n",
       "price                           108\n",
       "price (including used books)    108\n",
       "pages                            85\n",
       "avg_reviews                     128\n",
       "n_reviews                       128\n",
       "star5                           128\n",
       "star4                           195\n",
       "star3                           276\n",
       "star2                           379\n",
       "star1                           502\n",
       "dimensions                      186\n",
       "weight                          179\n",
       "language                         71\n",
       "publisher                       116\n",
       "ISBN_13                         165\n",
       "link                              0\n",
       "complete_link                     0\n",
       "dtype: int64"
      ]
     },
     "metadata": {},
     "output_type": "display_data"
    }
   ],
   "source": [
    "raw_df.info()\n",
    "#display(raw_df.describe())\n",
    "print(\"\\nMissing values:\")\n",
    "display(raw_df.isnull().sum(axis=0))"
   ]
  },
  {
   "cell_type": "markdown",
   "id": "5add46d9",
   "metadata": {},
   "source": [
    "[Comment on output of the review of the dataset]\n",
    "\n",
    "As our analysis is mainly based on average rating (which will be our index to assess the quality of a book), we can already remove all rows without having any rating, as well as the columns which are not of interest."
   ]
  },
  {
   "cell_type": "code",
   "execution_count": 4,
   "id": "97a37a56",
   "metadata": {},
   "outputs": [
    {
     "name": "stdout",
     "output_type": "stream",
     "text": [
      "The number of columns in the dataframe is : 17 \n",
      "\n"
     ]
    },
    {
     "data": {
      "text/plain": [
       "title              0\n",
       "author           142\n",
       "price             65\n",
       "pages             44\n",
       "avg_reviews        0\n",
       "n_reviews          0\n",
       "star5              0\n",
       "star4             67\n",
       "star3            148\n",
       "star2            251\n",
       "star1            374\n",
       "weight           118\n",
       "language          37\n",
       "publisher         74\n",
       "ISBN_13          105\n",
       "link               0\n",
       "complete_link      0\n",
       "dtype: int64"
      ]
     },
     "execution_count": 4,
     "metadata": {},
     "output_type": "execute_result"
    }
   ],
   "source": [
    "df = raw_df.drop(['dimensions', 'price (including used books)'], axis = 1)\n",
    "df.dropna(axis = 0, how = 'all', subset = ['avg_reviews'], inplace=True)\n",
    "\n",
    "print(\"The number of columns in the dataframe is :\", len(df.columns), \"\\n\")\n",
    "df.isnull().sum(axis=0)\n"
   ]
  },
  {
   "cell_type": "markdown",
   "id": "9e453387",
   "metadata": {},
   "source": [
    "the Analysis of empty field, suppose that the dataset doesn't include only book, as there are empty row in the field ISBN (mandatory code for any books published - paper or numerical). We will check it later after having reduced further the dataset.\n",
    "\n",
    "#### 1.1.1.1. Reducing dataset to what is needed\n",
    "\n",
    "Assuming our hypothesis, let's have a closer look on each variable if it might be usable for serving our purpose.\n",
    "\n",
    "* A. Variable **`Language`**"
   ]
  },
  {
   "cell_type": "code",
   "execution_count": 5,
   "id": "7e165a1b",
   "metadata": {},
   "outputs": [
    {
     "data": {
      "text/html": [
       "<div>\n",
       "<style scoped>\n",
       "    .dataframe tbody tr th:only-of-type {\n",
       "        vertical-align: middle;\n",
       "    }\n",
       "\n",
       "    .dataframe tbody tr th {\n",
       "        vertical-align: top;\n",
       "    }\n",
       "\n",
       "    .dataframe thead th {\n",
       "        text-align: right;\n",
       "    }\n",
       "</style>\n",
       "<table border=\"1\" class=\"dataframe\">\n",
       "  <thead>\n",
       "    <tr style=\"text-align: right;\">\n",
       "      <th></th>\n",
       "      <th>language</th>\n",
       "      <th>title</th>\n",
       "    </tr>\n",
       "  </thead>\n",
       "  <tbody>\n",
       "    <tr>\n",
       "      <th>0</th>\n",
       "      <td>\"Brilliant.\"</td>\n",
       "      <td>1</td>\n",
       "    </tr>\n",
       "    <tr>\n",
       "      <th>1</th>\n",
       "      <td>Concepts are presented in a \"to-the-point\" sty...</td>\n",
       "      <td>1</td>\n",
       "    </tr>\n",
       "    <tr>\n",
       "      <th>2</th>\n",
       "      <td>English</td>\n",
       "      <td>652</td>\n",
       "    </tr>\n",
       "    <tr>\n",
       "      <th>3</th>\n",
       "      <td>English (DTS-HD Master Audio 5.1), French (DTS...</td>\n",
       "      <td>1</td>\n",
       "    </tr>\n",
       "    <tr>\n",
       "      <th>4</th>\n",
       "      <td>English (Dolby Digital 2.0 Mono)</td>\n",
       "      <td>1</td>\n",
       "    </tr>\n",
       "    <tr>\n",
       "      <th>5</th>\n",
       "      <td>Spanish</td>\n",
       "      <td>4</td>\n",
       "    </tr>\n",
       "    <tr>\n",
       "      <th>6</th>\n",
       "      <td>This Python programming guide assumes certain ...</td>\n",
       "      <td>1</td>\n",
       "    </tr>\n",
       "    <tr>\n",
       "      <th>7</th>\n",
       "      <td>Unqualified, Japanese (Dolby Digital 2.0 Mono)...</td>\n",
       "      <td>1</td>\n",
       "    </tr>\n",
       "    <tr>\n",
       "      <th>8</th>\n",
       "      <td>standard library</td>\n",
       "      <td>1</td>\n",
       "    </tr>\n",
       "    <tr>\n",
       "      <th>9</th>\n",
       "      <td>you will discover all you need</td>\n",
       "      <td>1</td>\n",
       "    </tr>\n",
       "    <tr>\n",
       "      <th>10</th>\n",
       "      <td>• How to make better business decisions using</td>\n",
       "      <td>1</td>\n",
       "    </tr>\n",
       "  </tbody>\n",
       "</table>\n",
       "</div>"
      ],
      "text/plain": [
       "                                             language  title\n",
       "0                                        \"Brilliant.\"      1\n",
       "1   Concepts are presented in a \"to-the-point\" sty...      1\n",
       "2                                             English    652\n",
       "3   English (DTS-HD Master Audio 5.1), French (DTS...      1\n",
       "4                    English (Dolby Digital 2.0 Mono)      1\n",
       "5                                             Spanish      4\n",
       "6   This Python programming guide assumes certain ...      1\n",
       "7   Unqualified, Japanese (Dolby Digital 2.0 Mono)...      1\n",
       "8                                    standard library      1\n",
       "9                     you will discover all you need       1\n",
       "10     • How to make better business decisions using       1"
      ]
     },
     "execution_count": 5,
     "metadata": {},
     "output_type": "execute_result"
    }
   ],
   "source": [
    "df_language = df.groupby(\"language\")['title'].count()\n",
    "df_language.reset_index()\n"
   ]
  },
  {
   "cell_type": "code",
   "execution_count": 6,
   "id": "f3d35a2e",
   "metadata": {},
   "outputs": [
    {
     "name": "stdout",
     "output_type": "stream",
     "text": [
      "\n",
      "Display books title written in Spanish :\n"
     ]
    },
    {
     "data": {
      "text/html": [
       "<div>\n",
       "<style scoped>\n",
       "    .dataframe tbody tr th:only-of-type {\n",
       "        vertical-align: middle;\n",
       "    }\n",
       "\n",
       "    .dataframe tbody tr th {\n",
       "        vertical-align: top;\n",
       "    }\n",
       "\n",
       "    .dataframe thead th {\n",
       "        text-align: right;\n",
       "    }\n",
       "</style>\n",
       "<table border=\"1\" class=\"dataframe\">\n",
       "  <thead>\n",
       "    <tr style=\"text-align: right;\">\n",
       "      <th></th>\n",
       "      <th>index</th>\n",
       "      <th>title</th>\n",
       "    </tr>\n",
       "  </thead>\n",
       "  <tbody>\n",
       "    <tr>\n",
       "      <th>0</th>\n",
       "      <td>18</td>\n",
       "      <td>Python para Principiantes: 2 Libros en 1: Prog...</td>\n",
       "    </tr>\n",
       "    <tr>\n",
       "      <th>1</th>\n",
       "      <td>480</td>\n",
       "      <td>Aprende Python en un fin de semana (Spanish Ed...</td>\n",
       "    </tr>\n",
       "    <tr>\n",
       "      <th>2</th>\n",
       "      <td>481</td>\n",
       "      <td>Python Aplicado (Spanish Edition)</td>\n",
       "    </tr>\n",
       "    <tr>\n",
       "      <th>3</th>\n",
       "      <td>613</td>\n",
       "      <td>El lenguaje de programación Python de principi...</td>\n",
       "    </tr>\n",
       "  </tbody>\n",
       "</table>\n",
       "</div>"
      ],
      "text/plain": [
       "   index                                              title\n",
       "0     18  Python para Principiantes: 2 Libros en 1: Prog...\n",
       "1    480  Aprende Python en un fin de semana (Spanish Ed...\n",
       "2    481                  Python Aplicado (Spanish Edition)\n",
       "3    613  El lenguaje de programación Python de principi..."
      ]
     },
     "metadata": {},
     "output_type": "display_data"
    }
   ],
   "source": [
    "print(\"\\nDisplay books title written in Spanish :\")\n",
    "display(df[df['language'] == \"Spanish\"].title.reset_index())"
   ]
  },
  {
   "cell_type": "markdown",
   "id": "b0f73bb0",
   "metadata": {},
   "source": [
    "We notice that the vast majority of books are written in english, while only 4 in Spanish. This means that we won't be able to decline our analysis further by country. Therefore we will limit our anlaysis only on Enligh-written books.\n",
    "\n",
    "On top, we can notice that the other books with misleading language label, have their title written in English, therefore we can suppose their content is in english and assign it \"English\" language. In parallel to check is this assumption is correct, we have checked that spanish books have their title in Spanish.\n",
    "\n",
    "let's arrange the dataframe accordingly."
   ]
  },
  {
   "cell_type": "code",
   "execution_count": 7,
   "id": "5677496c",
   "metadata": {},
   "outputs": [
    {
     "data": {
      "text/plain": [
       "698"
      ]
     },
     "execution_count": 7,
     "metadata": {},
     "output_type": "execute_result"
    }
   ],
   "source": [
    "df = df[df[\"language\"] != \"Spanish\"]\n",
    "df.language.fillna(\"English\", inplace=True)\n",
    "len(df)"
   ]
  },
  {
   "cell_type": "markdown",
   "id": "cdad5d97",
   "metadata": {},
   "source": [
    "* B. **Types** of Articles (Books, audio, movies, etc.)\n",
    "\n",
    "Among books with misleading language label, some labels let suppose that there might be not only books. Let's deep dive :"
   ]
  },
  {
   "cell_type": "code",
   "execution_count": 8,
   "id": "9532a49f",
   "metadata": {},
   "outputs": [
    {
     "name": "stdout",
     "output_type": "stream",
     "text": [
      "\n",
      "Display books title where language has been wrongly assigned :\n"
     ]
    },
    {
     "data": {
      "text/html": [
       "<div>\n",
       "<style scoped>\n",
       "    .dataframe tbody tr th:only-of-type {\n",
       "        vertical-align: middle;\n",
       "    }\n",
       "\n",
       "    .dataframe tbody tr th {\n",
       "        vertical-align: top;\n",
       "    }\n",
       "\n",
       "    .dataframe thead th {\n",
       "        text-align: right;\n",
       "    }\n",
       "</style>\n",
       "<table border=\"1\" class=\"dataframe\">\n",
       "  <thead>\n",
       "    <tr style=\"text-align: right;\">\n",
       "      <th></th>\n",
       "      <th>title</th>\n",
       "      <th>author</th>\n",
       "      <th>price</th>\n",
       "      <th>pages</th>\n",
       "      <th>avg_reviews</th>\n",
       "      <th>n_reviews</th>\n",
       "      <th>star5</th>\n",
       "      <th>star4</th>\n",
       "      <th>star3</th>\n",
       "      <th>star2</th>\n",
       "      <th>star1</th>\n",
       "      <th>weight</th>\n",
       "      <th>language</th>\n",
       "      <th>publisher</th>\n",
       "      <th>ISBN_13</th>\n",
       "      <th>link</th>\n",
       "      <th>complete_link</th>\n",
       "    </tr>\n",
       "  </thead>\n",
       "  <tbody>\n",
       "    <tr>\n",
       "      <th>22</th>\n",
       "      <td>Monty Python and the Holy Grail (Special Edition)</td>\n",
       "      <td>NaN</td>\n",
       "      <td>9.99</td>\n",
       "      <td>NaN</td>\n",
       "      <td>4.7</td>\n",
       "      <td>10,103</td>\n",
       "      <td>85%</td>\n",
       "      <td>8%</td>\n",
       "      <td>3%</td>\n",
       "      <td>1%</td>\n",
       "      <td>2%</td>\n",
       "      <td>NaN</td>\n",
       "      <td>Unqualified, Japanese (Dolby Digital 2.0 Mono)...</td>\n",
       "      <td>NaN</td>\n",
       "      <td>NaN</td>\n",
       "      <td>/Monty-Python-Holy-Grail-Special/dp/B00005O3VC...</td>\n",
       "      <td>https://www.amazon.com/Monty-Python-Holy-Grail...</td>\n",
       "    </tr>\n",
       "    <tr>\n",
       "      <th>54</th>\n",
       "      <td>SQL: 3 books 1 - The Ultimate Beginner, Interm...</td>\n",
       "      <td>[ Mark Reed]</td>\n",
       "      <td>22.58</td>\n",
       "      <td>346</td>\n",
       "      <td>4.6</td>\n",
       "      <td>281</td>\n",
       "      <td>77%</td>\n",
       "      <td>13%</td>\n",
       "      <td>5%</td>\n",
       "      <td>3%</td>\n",
       "      <td>2%</td>\n",
       "      <td>1.46 pounds</td>\n",
       "      <td>you will discover all you need</td>\n",
       "      <td>Independently published (July 10, 2022)</td>\n",
       "      <td>979-8840191583</td>\n",
       "      <td>/SQL-Intermediate-Programming-Practical-Exerci...</td>\n",
       "      <td>https://www.amazon.com/SQL-Intermediate-Progra...</td>\n",
       "    </tr>\n",
       "    <tr>\n",
       "      <th>290</th>\n",
       "      <td>Data Analytics for Absolute Beginners: A Decon...</td>\n",
       "      <td>NaN</td>\n",
       "      <td>14.80</td>\n",
       "      <td>155</td>\n",
       "      <td>4.4</td>\n",
       "      <td>334</td>\n",
       "      <td>67%</td>\n",
       "      <td>18%</td>\n",
       "      <td>9%</td>\n",
       "      <td>2%</td>\n",
       "      <td>3%</td>\n",
       "      <td>8.3 ounces</td>\n",
       "      <td>• How to make better business decisions using</td>\n",
       "      <td>Independently published (July 21, 2019)</td>\n",
       "      <td>978-1081762469</td>\n",
       "      <td>/Data-Analytics-Absolute-Beginners-Deconstruct...</td>\n",
       "      <td>https://www.amazon.com/Data-Analytics-Absolute...</td>\n",
       "    </tr>\n",
       "    <tr>\n",
       "      <th>381</th>\n",
       "      <td>Python (2nd Edition): Learn Python in One Day ...</td>\n",
       "      <td>NaN</td>\n",
       "      <td>NaN</td>\n",
       "      <td>175</td>\n",
       "      <td>4.5</td>\n",
       "      <td>1,542</td>\n",
       "      <td>69%</td>\n",
       "      <td>19%</td>\n",
       "      <td>9%</td>\n",
       "      <td>2%</td>\n",
       "      <td>2%</td>\n",
       "      <td>NaN</td>\n",
       "      <td>Concepts are presented in a \"to-the-point\" sty...</td>\n",
       "      <td>Learn Coding Fast; 2nd edition (May 10, 2017)</td>\n",
       "      <td>NaN</td>\n",
       "      <td>/Python-2nd-Beginners-Hands-Project-ebook/dp/B...</td>\n",
       "      <td>https://www.amazon.com/Python-2nd-Beginners-Ha...</td>\n",
       "    </tr>\n",
       "    <tr>\n",
       "      <th>382</th>\n",
       "      <td>Python 3: The Comprehensive Guide to Hands-On ...</td>\n",
       "      <td>[ Johannes Ernesti,  and , Peter Kaiser]</td>\n",
       "      <td>55.48</td>\n",
       "      <td>1,000</td>\n",
       "      <td>4.3</td>\n",
       "      <td>9</td>\n",
       "      <td>71%</td>\n",
       "      <td>14%</td>\n",
       "      <td>14%</td>\n",
       "      <td>NaN</td>\n",
       "      <td>NaN</td>\n",
       "      <td>3.94 pounds</td>\n",
       "      <td>standard library</td>\n",
       "      <td>Rheinwerk Computing; First edition (September ...</td>\n",
       "      <td>978-1493223022</td>\n",
       "      <td>/gp/slredirect/picassoRedirect.html/ref=pa_sp_...</td>\n",
       "      <td>https://www.amazon.com/gp/slredirect/picassoRe...</td>\n",
       "    </tr>\n",
       "    <tr>\n",
       "      <th>476</th>\n",
       "      <td>Microsoft Python Certification Exam 98-281 &amp; P...</td>\n",
       "      <td>[ Raman Publications, R Raman, et al.]</td>\n",
       "      <td>19.99</td>\n",
       "      <td>151</td>\n",
       "      <td>3.9</td>\n",
       "      <td>18</td>\n",
       "      <td>59%</td>\n",
       "      <td>13%</td>\n",
       "      <td>15%</td>\n",
       "      <td>13%</td>\n",
       "      <td>NaN</td>\n",
       "      <td>13 ounces</td>\n",
       "      <td>This Python programming guide assumes certain ...</td>\n",
       "      <td>Independently published (January 14, 2021)</td>\n",
       "      <td>979-8589463590</td>\n",
       "      <td>/Microsoft-Python-Certification-Exam-98-281/dp...</td>\n",
       "      <td>https://www.amazon.com/Microsoft-Python-Certif...</td>\n",
       "    </tr>\n",
       "    <tr>\n",
       "      <th>569</th>\n",
       "      <td>Monty Python's Life Of Brian [DVD]</td>\n",
       "      <td>NaN</td>\n",
       "      <td>18.85</td>\n",
       "      <td>NaN</td>\n",
       "      <td>4.8</td>\n",
       "      <td>3,678</td>\n",
       "      <td>86%</td>\n",
       "      <td>9%</td>\n",
       "      <td>4%</td>\n",
       "      <td>1%</td>\n",
       "      <td>NaN</td>\n",
       "      <td>NaN</td>\n",
       "      <td>English (Dolby Digital 2.0 Mono)</td>\n",
       "      <td>NaN</td>\n",
       "      <td>NaN</td>\n",
       "      <td>/Monty-Pythons-Brian-Graham-Chapman/dp/6305388...</td>\n",
       "      <td>https://www.amazon.com/Monty-Pythons-Brian-Gra...</td>\n",
       "    </tr>\n",
       "    <tr>\n",
       "      <th>582</th>\n",
       "      <td>Monty Python's The Meaning of Life [Blu-ray]</td>\n",
       "      <td>NaN</td>\n",
       "      <td>9.99</td>\n",
       "      <td>NaN</td>\n",
       "      <td>4.7</td>\n",
       "      <td>3,337</td>\n",
       "      <td>82%</td>\n",
       "      <td>10%</td>\n",
       "      <td>4%</td>\n",
       "      <td>2%</td>\n",
       "      <td>2%</td>\n",
       "      <td>NaN</td>\n",
       "      <td>English (DTS-HD Master Audio 5.1), French (DTS...</td>\n",
       "      <td>NaN</td>\n",
       "      <td>NaN</td>\n",
       "      <td>/Monty-Pythons-Meaning-Life-Blu-ray/dp/B07G24K...</td>\n",
       "      <td>https://www.amazon.com/Monty-Pythons-Meaning-L...</td>\n",
       "    </tr>\n",
       "    <tr>\n",
       "      <th>633</th>\n",
       "      <td>Python Crash Course, 2nd Edition: A Hands-On, ...</td>\n",
       "      <td>[ Eric Matthes]</td>\n",
       "      <td>23.99</td>\n",
       "      <td>544</td>\n",
       "      <td>4.7</td>\n",
       "      <td>7,767</td>\n",
       "      <td>81%</td>\n",
       "      <td>13%</td>\n",
       "      <td>4%</td>\n",
       "      <td>1%</td>\n",
       "      <td>1%</td>\n",
       "      <td>NaN</td>\n",
       "      <td>\"Brilliant.\"</td>\n",
       "      <td>No Starch Press; 2nd edition (May 21, 2019)</td>\n",
       "      <td>NaN</td>\n",
       "      <td>/Python-Crash-Course-Eric-Matthes-ebook/dp/B07...</td>\n",
       "      <td>https://www.amazon.com/Python-Crash-Course-Eri...</td>\n",
       "    </tr>\n",
       "  </tbody>\n",
       "</table>\n",
       "</div>"
      ],
      "text/plain": [
       "                                                 title  \\\n",
       "22   Monty Python and the Holy Grail (Special Edition)   \n",
       "54   SQL: 3 books 1 - The Ultimate Beginner, Interm...   \n",
       "290  Data Analytics for Absolute Beginners: A Decon...   \n",
       "381  Python (2nd Edition): Learn Python in One Day ...   \n",
       "382  Python 3: The Comprehensive Guide to Hands-On ...   \n",
       "476  Microsoft Python Certification Exam 98-281 & P...   \n",
       "569                 Monty Python's Life Of Brian [DVD]   \n",
       "582       Monty Python's The Meaning of Life [Blu-ray]   \n",
       "633  Python Crash Course, 2nd Edition: A Hands-On, ...   \n",
       "\n",
       "                                       author  price  pages  avg_reviews  \\\n",
       "22                                        NaN   9.99    NaN          4.7   \n",
       "54                               [ Mark Reed]  22.58    346          4.6   \n",
       "290                                       NaN  14.80    155          4.4   \n",
       "381                                       NaN    NaN    175          4.5   \n",
       "382  [ Johannes Ernesti,  and , Peter Kaiser]  55.48  1,000          4.3   \n",
       "476    [ Raman Publications, R Raman, et al.]  19.99    151          3.9   \n",
       "569                                       NaN  18.85    NaN          4.8   \n",
       "582                                       NaN   9.99    NaN          4.7   \n",
       "633                           [ Eric Matthes]  23.99    544          4.7   \n",
       "\n",
       "    n_reviews star5 star4 star3 star2 star1       weight  \\\n",
       "22     10,103   85%    8%    3%    1%    2%          NaN   \n",
       "54        281   77%   13%    5%    3%    2%  1.46 pounds   \n",
       "290       334   67%   18%    9%    2%    3%   8.3 ounces   \n",
       "381     1,542   69%   19%    9%    2%    2%          NaN   \n",
       "382         9   71%   14%   14%   NaN   NaN  3.94 pounds   \n",
       "476        18   59%   13%   15%   13%   NaN    13 ounces   \n",
       "569     3,678   86%    9%    4%    1%   NaN          NaN   \n",
       "582     3,337   82%   10%    4%    2%    2%          NaN   \n",
       "633     7,767   81%   13%    4%    1%    1%          NaN   \n",
       "\n",
       "                                              language  \\\n",
       "22   Unqualified, Japanese (Dolby Digital 2.0 Mono)...   \n",
       "54                     you will discover all you need    \n",
       "290     • How to make better business decisions using    \n",
       "381  Concepts are presented in a \"to-the-point\" sty...   \n",
       "382                                   standard library   \n",
       "476  This Python programming guide assumes certain ...   \n",
       "569                   English (Dolby Digital 2.0 Mono)   \n",
       "582  English (DTS-HD Master Audio 5.1), French (DTS...   \n",
       "633                                       \"Brilliant.\"   \n",
       "\n",
       "                                             publisher         ISBN_13  \\\n",
       "22                                                 NaN             NaN   \n",
       "54             Independently published (July 10, 2022)  979-8840191583   \n",
       "290            Independently published (July 21, 2019)  978-1081762469   \n",
       "381      Learn Coding Fast; 2nd edition (May 10, 2017)             NaN   \n",
       "382  Rheinwerk Computing; First edition (September ...  978-1493223022   \n",
       "476         Independently published (January 14, 2021)  979-8589463590   \n",
       "569                                                NaN             NaN   \n",
       "582                                                NaN             NaN   \n",
       "633        No Starch Press; 2nd edition (May 21, 2019)             NaN   \n",
       "\n",
       "                                                  link  \\\n",
       "22   /Monty-Python-Holy-Grail-Special/dp/B00005O3VC...   \n",
       "54   /SQL-Intermediate-Programming-Practical-Exerci...   \n",
       "290  /Data-Analytics-Absolute-Beginners-Deconstruct...   \n",
       "381  /Python-2nd-Beginners-Hands-Project-ebook/dp/B...   \n",
       "382  /gp/slredirect/picassoRedirect.html/ref=pa_sp_...   \n",
       "476  /Microsoft-Python-Certification-Exam-98-281/dp...   \n",
       "569  /Monty-Pythons-Brian-Graham-Chapman/dp/6305388...   \n",
       "582  /Monty-Pythons-Meaning-Life-Blu-ray/dp/B07G24K...   \n",
       "633  /Python-Crash-Course-Eric-Matthes-ebook/dp/B07...   \n",
       "\n",
       "                                         complete_link  \n",
       "22   https://www.amazon.com/Monty-Python-Holy-Grail...  \n",
       "54   https://www.amazon.com/SQL-Intermediate-Progra...  \n",
       "290  https://www.amazon.com/Data-Analytics-Absolute...  \n",
       "381  https://www.amazon.com/Python-2nd-Beginners-Ha...  \n",
       "382  https://www.amazon.com/gp/slredirect/picassoRe...  \n",
       "476  https://www.amazon.com/Microsoft-Python-Certif...  \n",
       "569  https://www.amazon.com/Monty-Pythons-Brian-Gra...  \n",
       "582  https://www.amazon.com/Monty-Pythons-Meaning-L...  \n",
       "633  https://www.amazon.com/Python-Crash-Course-Eri...  "
      ]
     },
     "metadata": {},
     "output_type": "display_data"
    }
   ],
   "source": [
    "print(\"\\nDisplay books title where language has been wrongly assigned :\")\n",
    "display(df[(df['language'] != \"English\")])\n"
   ]
  },
  {
   "cell_type": "markdown",
   "id": "569da1fc",
   "metadata": {},
   "source": [
    "Our assumption seems to be confirmed and futher more. We can observe 2 additionnal discrepancies in the dataset:\n",
    "* Some articles are not related to Data science book but rather completely different topic (e.g.: \"Monty Python's\" humorist band). After checking\n",
    "* Some article are indeed not book, but other support as DVD or Blu-ray. We notice they are missing ISBN code.\n",
    "\n",
    "Let's check whether the dataset includes other similar articles\n",
    "\n",
    "##### Checking **Non-Data-science** related article:\n",
    "> We do not have further element at disposal to check further the topic of articles, except to go through detailed review of titles using NLP processing or similar. As it is not purpose here, we will simply check how many books do we have related to Monty Python's humorist band."
   ]
  },
  {
   "cell_type": "code",
   "execution_count": 9,
   "id": "c0bc7f8e",
   "metadata": {},
   "outputs": [
    {
     "name": "stdout",
     "output_type": "stream",
     "text": [
      "Numbers of articles not related to Data Science - Monty Python's : 7\n"
     ]
    },
    {
     "data": {
      "text/html": [
       "<style type=\"text/css\">\n",
       "#T_c39ce_row0_col0, #T_c39ce_row1_col0, #T_c39ce_row2_col0, #T_c39ce_row3_col0, #T_c39ce_row4_col0 {\n",
       "  width: 300px;\n",
       "}\n",
       "</style>\n",
       "<table id=\"T_c39ce\">\n",
       "  <thead>\n",
       "    <tr>\n",
       "      <th class=\"blank level0\" >&nbsp;</th>\n",
       "      <th id=\"T_c39ce_level0_col0\" class=\"col_heading level0 col0\" >title</th>\n",
       "      <th id=\"T_c39ce_level0_col1\" class=\"col_heading level0 col1\" >author</th>\n",
       "      <th id=\"T_c39ce_level0_col2\" class=\"col_heading level0 col2\" >price</th>\n",
       "      <th id=\"T_c39ce_level0_col3\" class=\"col_heading level0 col3\" >pages</th>\n",
       "      <th id=\"T_c39ce_level0_col4\" class=\"col_heading level0 col4\" >avg_reviews</th>\n",
       "      <th id=\"T_c39ce_level0_col5\" class=\"col_heading level0 col5\" >n_reviews</th>\n",
       "      <th id=\"T_c39ce_level0_col6\" class=\"col_heading level0 col6\" >star5</th>\n",
       "      <th id=\"T_c39ce_level0_col7\" class=\"col_heading level0 col7\" >star4</th>\n",
       "      <th id=\"T_c39ce_level0_col8\" class=\"col_heading level0 col8\" >star3</th>\n",
       "      <th id=\"T_c39ce_level0_col9\" class=\"col_heading level0 col9\" >star2</th>\n",
       "      <th id=\"T_c39ce_level0_col10\" class=\"col_heading level0 col10\" >star1</th>\n",
       "      <th id=\"T_c39ce_level0_col11\" class=\"col_heading level0 col11\" >weight</th>\n",
       "      <th id=\"T_c39ce_level0_col12\" class=\"col_heading level0 col12\" >language</th>\n",
       "      <th id=\"T_c39ce_level0_col13\" class=\"col_heading level0 col13\" >publisher</th>\n",
       "      <th id=\"T_c39ce_level0_col14\" class=\"col_heading level0 col14\" >ISBN_13</th>\n",
       "      <th id=\"T_c39ce_level0_col15\" class=\"col_heading level0 col15\" >link</th>\n",
       "      <th id=\"T_c39ce_level0_col16\" class=\"col_heading level0 col16\" >complete_link</th>\n",
       "    </tr>\n",
       "  </thead>\n",
       "  <tbody>\n",
       "    <tr>\n",
       "      <th id=\"T_c39ce_level0_row0\" class=\"row_heading level0 row0\" >22</th>\n",
       "      <td id=\"T_c39ce_row0_col0\" class=\"data row0 col0\" >Monty Python and the Holy Grail (Special Edition)</td>\n",
       "      <td id=\"T_c39ce_row0_col1\" class=\"data row0 col1\" >nan</td>\n",
       "      <td id=\"T_c39ce_row0_col2\" class=\"data row0 col2\" >9.990000</td>\n",
       "      <td id=\"T_c39ce_row0_col3\" class=\"data row0 col3\" >nan</td>\n",
       "      <td id=\"T_c39ce_row0_col4\" class=\"data row0 col4\" >4.700000</td>\n",
       "      <td id=\"T_c39ce_row0_col5\" class=\"data row0 col5\" >10,103</td>\n",
       "      <td id=\"T_c39ce_row0_col6\" class=\"data row0 col6\" >85%</td>\n",
       "      <td id=\"T_c39ce_row0_col7\" class=\"data row0 col7\" >8%</td>\n",
       "      <td id=\"T_c39ce_row0_col8\" class=\"data row0 col8\" >3%</td>\n",
       "      <td id=\"T_c39ce_row0_col9\" class=\"data row0 col9\" >1%</td>\n",
       "      <td id=\"T_c39ce_row0_col10\" class=\"data row0 col10\" >2%</td>\n",
       "      <td id=\"T_c39ce_row0_col11\" class=\"data row0 col11\" >nan</td>\n",
       "      <td id=\"T_c39ce_row0_col12\" class=\"data row0 col12\" >Unqualified, Japanese (Dolby Digital 2.0 Mono), English (Dolby Digital 5.1), English (Dolby Digital 2.0 Mono)</td>\n",
       "      <td id=\"T_c39ce_row0_col13\" class=\"data row0 col13\" >nan</td>\n",
       "      <td id=\"T_c39ce_row0_col14\" class=\"data row0 col14\" >nan</td>\n",
       "      <td id=\"T_c39ce_row0_col15\" class=\"data row0 col15\" >/Monty-Python-Holy-Grail-Special/dp/B00005O3VC/ref=sr_1_57?keywords=python&qid=1671164641&sr=8-57</td>\n",
       "      <td id=\"T_c39ce_row0_col16\" class=\"data row0 col16\" >https://www.amazon.com/Monty-Python-Holy-Grail-Special/dp/B00005O3VC/ref=sr_1_57?keywords=python&qid=1671164641&sr=8-57</td>\n",
       "    </tr>\n",
       "    <tr>\n",
       "      <th id=\"T_c39ce_level0_row1\" class=\"row_heading level0 row1\" >406</th>\n",
       "      <td id=\"T_c39ce_row1_col0\" class=\"data row1 col0\" >Monty Python's Flying Circus: The Complete Series [DVD]</td>\n",
       "      <td id=\"T_c39ce_row1_col1\" class=\"data row1 col1\" >nan</td>\n",
       "      <td id=\"T_c39ce_row1_col2\" class=\"data row1 col2\" >31.490000</td>\n",
       "      <td id=\"T_c39ce_row1_col3\" class=\"data row1 col3\" >nan</td>\n",
       "      <td id=\"T_c39ce_row1_col4\" class=\"data row1 col4\" >4.800000</td>\n",
       "      <td id=\"T_c39ce_row1_col5\" class=\"data row1 col5\" >621</td>\n",
       "      <td id=\"T_c39ce_row1_col6\" class=\"data row1 col6\" >88%</td>\n",
       "      <td id=\"T_c39ce_row1_col7\" class=\"data row1 col7\" >9%</td>\n",
       "      <td id=\"T_c39ce_row1_col8\" class=\"data row1 col8\" >1%</td>\n",
       "      <td id=\"T_c39ce_row1_col9\" class=\"data row1 col9\" >1%</td>\n",
       "      <td id=\"T_c39ce_row1_col10\" class=\"data row1 col10\" >nan</td>\n",
       "      <td id=\"T_c39ce_row1_col11\" class=\"data row1 col11\" >nan</td>\n",
       "      <td id=\"T_c39ce_row1_col12\" class=\"data row1 col12\" >English</td>\n",
       "      <td id=\"T_c39ce_row1_col13\" class=\"data row1 col13\" >nan</td>\n",
       "      <td id=\"T_c39ce_row1_col14\" class=\"data row1 col14\" >nan</td>\n",
       "      <td id=\"T_c39ce_row1_col15\" class=\"data row1 col15\" >/Monty-Pythons-Flying-Circus-Complete/dp/B0B9T3GZ5D/ref=sr_1_92?keywords=python&qid=1671164900&sr=8-92</td>\n",
       "      <td id=\"T_c39ce_row1_col16\" class=\"data row1 col16\" >https://www.amazon.com/Monty-Pythons-Flying-Circus-Complete/dp/B0B9T3GZ5D/ref=sr_1_92?keywords=python&qid=1671164900&sr=8-92</td>\n",
       "    </tr>\n",
       "    <tr>\n",
       "      <th id=\"T_c39ce_level0_row2\" class=\"row_heading level0 row2\" >520</th>\n",
       "      <td id=\"T_c39ce_row2_col0\" class=\"data row2 col0\" >Monty Python Speaks, Revised and Updated Edition: The Complete Oral History</td>\n",
       "      <td id=\"T_c39ce_row2_col1\" class=\"data row2 col1\" >[ David Morgan,  and , John Oliver]</td>\n",
       "      <td id=\"T_c39ce_row2_col2\" class=\"data row2 col2\" >17.990000</td>\n",
       "      <td id=\"T_c39ce_row2_col3\" class=\"data row2 col3\" >432</td>\n",
       "      <td id=\"T_c39ce_row2_col4\" class=\"data row2 col4\" >4.600000</td>\n",
       "      <td id=\"T_c39ce_row2_col5\" class=\"data row2 col5\" >41</td>\n",
       "      <td id=\"T_c39ce_row2_col6\" class=\"data row2 col6\" >74%</td>\n",
       "      <td id=\"T_c39ce_row2_col7\" class=\"data row2 col7\" >18%</td>\n",
       "      <td id=\"T_c39ce_row2_col8\" class=\"data row2 col8\" >4%</td>\n",
       "      <td id=\"T_c39ce_row2_col9\" class=\"data row2 col9\" >4%</td>\n",
       "      <td id=\"T_c39ce_row2_col10\" class=\"data row2 col10\" >nan</td>\n",
       "      <td id=\"T_c39ce_row2_col11\" class=\"data row2 col11\" >10.4 ounces</td>\n",
       "      <td id=\"T_c39ce_row2_col12\" class=\"data row2 col12\" >English</td>\n",
       "      <td id=\"T_c39ce_row2_col13\" class=\"data row2 col13\" >Dey Street Books; Revised, Updated edition (January 8, 2019)</td>\n",
       "      <td id=\"T_c39ce_row2_col14\" class=\"data row2 col14\" >978-0062866448</td>\n",
       "      <td id=\"T_c39ce_row2_col15\" class=\"data row2 col15\" >/Monty-Python-Speaks-Revised-Updated/dp/0062866443/ref=sr_1_304?keywords=python&qid=1671164946&sr=8-304</td>\n",
       "      <td id=\"T_c39ce_row2_col16\" class=\"data row2 col16\" >https://www.amazon.com/Monty-Python-Speaks-Revised-Updated/dp/0062866443/ref=sr_1_304?keywords=python&qid=1671164946&sr=8-304</td>\n",
       "    </tr>\n",
       "    <tr>\n",
       "      <th id=\"T_c39ce_level0_row3\" class=\"row_heading level0 row3\" >528</th>\n",
       "      <td id=\"T_c39ce_row3_col0\" class=\"data row3 col0\" >Monty Python's Life Of Brian - The Immaculate Edition [Blu-ray]</td>\n",
       "      <td id=\"T_c39ce_row3_col1\" class=\"data row3 col1\" >nan</td>\n",
       "      <td id=\"T_c39ce_row3_col2\" class=\"data row3 col2\" >9.480000</td>\n",
       "      <td id=\"T_c39ce_row3_col3\" class=\"data row3 col3\" >nan</td>\n",
       "      <td id=\"T_c39ce_row3_col4\" class=\"data row3 col4\" >4.800000</td>\n",
       "      <td id=\"T_c39ce_row3_col5\" class=\"data row3 col5\" >3,678</td>\n",
       "      <td id=\"T_c39ce_row3_col6\" class=\"data row3 col6\" >86%</td>\n",
       "      <td id=\"T_c39ce_row3_col7\" class=\"data row3 col7\" >9%</td>\n",
       "      <td id=\"T_c39ce_row3_col8\" class=\"data row3 col8\" >4%</td>\n",
       "      <td id=\"T_c39ce_row3_col9\" class=\"data row3 col9\" >1%</td>\n",
       "      <td id=\"T_c39ce_row3_col10\" class=\"data row3 col10\" >nan</td>\n",
       "      <td id=\"T_c39ce_row3_col11\" class=\"data row3 col11\" >nan</td>\n",
       "      <td id=\"T_c39ce_row3_col12\" class=\"data row3 col12\" >English</td>\n",
       "      <td id=\"T_c39ce_row3_col13\" class=\"data row3 col13\" >nan</td>\n",
       "      <td id=\"T_c39ce_row3_col14\" class=\"data row3 col14\" >nan</td>\n",
       "      <td id=\"T_c39ce_row3_col15\" class=\"data row3 col15\" >/Monty-Pythons-Life-Brian-Immaculate/dp/B000VECAC6/ref=sr_1_297?keywords=python&qid=1671164946&sr=8-297</td>\n",
       "      <td id=\"T_c39ce_row3_col16\" class=\"data row3 col16\" >https://www.amazon.com/Monty-Pythons-Life-Brian-Immaculate/dp/B000VECAC6/ref=sr_1_297?keywords=python&qid=1671164946&sr=8-297</td>\n",
       "    </tr>\n",
       "    <tr>\n",
       "      <th id=\"T_c39ce_level0_row4\" class=\"row_heading level0 row4\" >569</th>\n",
       "      <td id=\"T_c39ce_row4_col0\" class=\"data row4 col0\" >Monty Python's Life Of Brian [DVD]</td>\n",
       "      <td id=\"T_c39ce_row4_col1\" class=\"data row4 col1\" >nan</td>\n",
       "      <td id=\"T_c39ce_row4_col2\" class=\"data row4 col2\" >18.850000</td>\n",
       "      <td id=\"T_c39ce_row4_col3\" class=\"data row4 col3\" >nan</td>\n",
       "      <td id=\"T_c39ce_row4_col4\" class=\"data row4 col4\" >4.800000</td>\n",
       "      <td id=\"T_c39ce_row4_col5\" class=\"data row4 col5\" >3,678</td>\n",
       "      <td id=\"T_c39ce_row4_col6\" class=\"data row4 col6\" >86%</td>\n",
       "      <td id=\"T_c39ce_row4_col7\" class=\"data row4 col7\" >9%</td>\n",
       "      <td id=\"T_c39ce_row4_col8\" class=\"data row4 col8\" >4%</td>\n",
       "      <td id=\"T_c39ce_row4_col9\" class=\"data row4 col9\" >1%</td>\n",
       "      <td id=\"T_c39ce_row4_col10\" class=\"data row4 col10\" >nan</td>\n",
       "      <td id=\"T_c39ce_row4_col11\" class=\"data row4 col11\" >nan</td>\n",
       "      <td id=\"T_c39ce_row4_col12\" class=\"data row4 col12\" >English (Dolby Digital 2.0 Mono)</td>\n",
       "      <td id=\"T_c39ce_row4_col13\" class=\"data row4 col13\" >nan</td>\n",
       "      <td id=\"T_c39ce_row4_col14\" class=\"data row4 col14\" >nan</td>\n",
       "      <td id=\"T_c39ce_row4_col15\" class=\"data row4 col15\" >/Monty-Pythons-Brian-Graham-Chapman/dp/6305388458/ref=sr_1_206?keywords=python&qid=1671164927&sr=8-206</td>\n",
       "      <td id=\"T_c39ce_row4_col16\" class=\"data row4 col16\" >https://www.amazon.com/Monty-Pythons-Brian-Graham-Chapman/dp/6305388458/ref=sr_1_206?keywords=python&qid=1671164927&sr=8-206</td>\n",
       "    </tr>\n",
       "  </tbody>\n",
       "</table>\n"
      ],
      "text/plain": [
       "<pandas.io.formats.style.Styler at 0x7f7b5a3375e0>"
      ]
     },
     "execution_count": 9,
     "metadata": {},
     "output_type": "execute_result"
    }
   ],
   "source": [
    "df_notDS = df[df['title'].str.contains(\"Monty Python\")]\n",
    "print(f\"Numbers of articles not related to Data Science - Monty Python's : {len(df_notDS)}\")\n",
    "df_notDS.head().style.set_properties(subset=['title'], **{'width': '300px'})"
   ]
  },
  {
   "cell_type": "code",
   "execution_count": 10,
   "id": "47e500a4",
   "metadata": {},
   "outputs": [],
   "source": [
    "df = df[df['title'].str.contains(\"Monty Python\") == False]"
   ]
  },
  {
   "cell_type": "markdown",
   "id": "c66c45bf",
   "metadata": {},
   "source": [
    "5 articles are not data-science articles (Monty Python's). We removed these lines from the dataset.\n",
    "\n",
    "##### Checking articles which are **not books**: \n",
    "To identify them:\n",
    "> we will first identify them by filtering product without ISBN code. We assume that all these product are not books (written or audio)"
   ]
  },
  {
   "cell_type": "code",
   "execution_count": 11,
   "id": "adaf0548",
   "metadata": {
    "scrolled": true
   },
   "outputs": [
    {
     "data": {
      "text/html": [
       "<style type=\"text/css\">\n",
       "#T_f7659_row0_col0, #T_f7659_row1_col0, #T_f7659_row2_col0, #T_f7659_row3_col0, #T_f7659_row4_col0, #T_f7659_row5_col0, #T_f7659_row6_col0, #T_f7659_row7_col0, #T_f7659_row8_col0, #T_f7659_row9_col0, #T_f7659_row10_col0, #T_f7659_row11_col0, #T_f7659_row12_col0, #T_f7659_row13_col0, #T_f7659_row14_col0, #T_f7659_row15_col0, #T_f7659_row16_col0, #T_f7659_row17_col0, #T_f7659_row18_col0, #T_f7659_row19_col0, #T_f7659_row20_col0, #T_f7659_row21_col0, #T_f7659_row22_col0, #T_f7659_row23_col0, #T_f7659_row24_col0, #T_f7659_row25_col0, #T_f7659_row26_col0, #T_f7659_row27_col0, #T_f7659_row28_col0, #T_f7659_row29_col0, #T_f7659_row30_col0, #T_f7659_row31_col0, #T_f7659_row32_col0, #T_f7659_row33_col0, #T_f7659_row34_col0, #T_f7659_row35_col0, #T_f7659_row36_col0, #T_f7659_row37_col0, #T_f7659_row38_col0, #T_f7659_row39_col0, #T_f7659_row40_col0, #T_f7659_row41_col0, #T_f7659_row42_col0, #T_f7659_row43_col0, #T_f7659_row44_col0, #T_f7659_row45_col0, #T_f7659_row46_col0, #T_f7659_row47_col0, #T_f7659_row48_col0, #T_f7659_row49_col0, #T_f7659_row50_col0, #T_f7659_row51_col0, #T_f7659_row52_col0, #T_f7659_row53_col0, #T_f7659_row54_col0, #T_f7659_row55_col0, #T_f7659_row56_col0, #T_f7659_row57_col0, #T_f7659_row58_col0, #T_f7659_row59_col0, #T_f7659_row60_col0, #T_f7659_row61_col0, #T_f7659_row62_col0, #T_f7659_row63_col0, #T_f7659_row64_col0, #T_f7659_row65_col0, #T_f7659_row66_col0, #T_f7659_row67_col0, #T_f7659_row68_col0, #T_f7659_row69_col0, #T_f7659_row70_col0, #T_f7659_row71_col0, #T_f7659_row72_col0, #T_f7659_row73_col0, #T_f7659_row74_col0, #T_f7659_row75_col0, #T_f7659_row76_col0, #T_f7659_row77_col0, #T_f7659_row78_col0, #T_f7659_row79_col0, #T_f7659_row80_col0, #T_f7659_row81_col0, #T_f7659_row82_col0, #T_f7659_row83_col0, #T_f7659_row84_col0, #T_f7659_row85_col0, #T_f7659_row86_col0, #T_f7659_row87_col0, #T_f7659_row88_col0, #T_f7659_row89_col0, #T_f7659_row90_col0, #T_f7659_row91_col0, #T_f7659_row92_col0, #T_f7659_row93_col0, #T_f7659_row94_col0, #T_f7659_row95_col0, #T_f7659_row96_col0, #T_f7659_row97_col0, #T_f7659_row98_col0, #T_f7659_row99_col0 {\n",
       "  width: 300px;\n",
       "}\n",
       "</style>\n",
       "<table id=\"T_f7659\">\n",
       "  <thead>\n",
       "    <tr>\n",
       "      <th class=\"blank level0\" >&nbsp;</th>\n",
       "      <th id=\"T_f7659_level0_col0\" class=\"col_heading level0 col0\" >title</th>\n",
       "      <th id=\"T_f7659_level0_col1\" class=\"col_heading level0 col1\" >author</th>\n",
       "      <th id=\"T_f7659_level0_col2\" class=\"col_heading level0 col2\" >price</th>\n",
       "      <th id=\"T_f7659_level0_col3\" class=\"col_heading level0 col3\" >pages</th>\n",
       "      <th id=\"T_f7659_level0_col4\" class=\"col_heading level0 col4\" >avg_reviews</th>\n",
       "      <th id=\"T_f7659_level0_col5\" class=\"col_heading level0 col5\" >n_reviews</th>\n",
       "      <th id=\"T_f7659_level0_col6\" class=\"col_heading level0 col6\" >star5</th>\n",
       "      <th id=\"T_f7659_level0_col7\" class=\"col_heading level0 col7\" >star4</th>\n",
       "      <th id=\"T_f7659_level0_col8\" class=\"col_heading level0 col8\" >star3</th>\n",
       "      <th id=\"T_f7659_level0_col9\" class=\"col_heading level0 col9\" >star2</th>\n",
       "      <th id=\"T_f7659_level0_col10\" class=\"col_heading level0 col10\" >star1</th>\n",
       "      <th id=\"T_f7659_level0_col11\" class=\"col_heading level0 col11\" >weight</th>\n",
       "      <th id=\"T_f7659_level0_col12\" class=\"col_heading level0 col12\" >language</th>\n",
       "      <th id=\"T_f7659_level0_col13\" class=\"col_heading level0 col13\" >publisher</th>\n",
       "      <th id=\"T_f7659_level0_col14\" class=\"col_heading level0 col14\" >ISBN_13</th>\n",
       "      <th id=\"T_f7659_level0_col15\" class=\"col_heading level0 col15\" >link</th>\n",
       "      <th id=\"T_f7659_level0_col16\" class=\"col_heading level0 col16\" >complete_link</th>\n",
       "    </tr>\n",
       "  </thead>\n",
       "  <tbody>\n",
       "    <tr>\n",
       "      <th id=\"T_f7659_level0_row0\" class=\"row_heading level0 row0\" >5</th>\n",
       "      <td id=\"T_f7659_row0_col0\" class=\"data row0 col0\" >Everything Data Analytics: A Beginner's Guide to Data Literacy: Understanding the Processes That Turn Data Into Insights</td>\n",
       "      <td id=\"T_f7659_row0_col1\" class=\"data row0 col1\" >nan</td>\n",
       "      <td id=\"T_f7659_row0_col2\" class=\"data row0 col2\" >nan</td>\n",
       "      <td id=\"T_f7659_row0_col3\" class=\"data row0 col3\" >nan</td>\n",
       "      <td id=\"T_f7659_row0_col4\" class=\"data row0 col4\" >4.200000</td>\n",
       "      <td id=\"T_f7659_row0_col5\" class=\"data row0 col5\" >31</td>\n",
       "      <td id=\"T_f7659_row0_col6\" class=\"data row0 col6\" >61%</td>\n",
       "      <td id=\"T_f7659_row0_col7\" class=\"data row0 col7\" >16%</td>\n",
       "      <td id=\"T_f7659_row0_col8\" class=\"data row0 col8\" >14%</td>\n",
       "      <td id=\"T_f7659_row0_col9\" class=\"data row0 col9\" >4%</td>\n",
       "      <td id=\"T_f7659_row0_col10\" class=\"data row0 col10\" >5%</td>\n",
       "      <td id=\"T_f7659_row0_col11\" class=\"data row0 col11\" >nan</td>\n",
       "      <td id=\"T_f7659_row0_col12\" class=\"data row0 col12\" >English</td>\n",
       "      <td id=\"T_f7659_row0_col13\" class=\"data row0 col13\" >nan</td>\n",
       "      <td id=\"T_f7659_row0_col14\" class=\"data row0 col14\" >nan</td>\n",
       "      <td id=\"T_f7659_row0_col15\" class=\"data row0 col15\" >/Everything-Data-Analytics-Beginners-Understanding/dp/B0B52FL5RT/ref=sr_1_10?keywords=data+analysis&qid=1671164640&sr=8-10</td>\n",
       "      <td id=\"T_f7659_row0_col16\" class=\"data row0 col16\" >https://www.amazon.com/Everything-Data-Analytics-Beginners-Understanding/dp/B0B52FL5RT/ref=sr_1_10?keywords=data+analysis&qid=1671164640&sr=8-10</td>\n",
       "    </tr>\n",
       "    <tr>\n",
       "      <th id=\"T_f7659_level0_row1\" class=\"row_heading level0 row1\" >12</th>\n",
       "      <td id=\"T_f7659_row1_col0\" class=\"data row1 col0\" >Python for Beginners: 2 Books in 1: The Perfect Beginner's Guide to Learning How to Program with Python with a Crash Course + Workbook</td>\n",
       "      <td id=\"T_f7659_row1_col1\" class=\"data row1 col1\" >[ Programming Languages Academy, Matthew Kinsey, et al.]</td>\n",
       "      <td id=\"T_f7659_row1_col2\" class=\"data row1 col2\" >nan</td>\n",
       "      <td id=\"T_f7659_row1_col3\" class=\"data row1 col3\" >nan</td>\n",
       "      <td id=\"T_f7659_row1_col4\" class=\"data row1 col4\" >4.400000</td>\n",
       "      <td id=\"T_f7659_row1_col5\" class=\"data row1 col5\" >292</td>\n",
       "      <td id=\"T_f7659_row1_col6\" class=\"data row1 col6\" >63%</td>\n",
       "      <td id=\"T_f7659_row1_col7\" class=\"data row1 col7\" >22%</td>\n",
       "      <td id=\"T_f7659_row1_col8\" class=\"data row1 col8\" >7%</td>\n",
       "      <td id=\"T_f7659_row1_col9\" class=\"data row1 col9\" >3%</td>\n",
       "      <td id=\"T_f7659_row1_col10\" class=\"data row1 col10\" >4%</td>\n",
       "      <td id=\"T_f7659_row1_col11\" class=\"data row1 col11\" >nan</td>\n",
       "      <td id=\"T_f7659_row1_col12\" class=\"data row1 col12\" >English</td>\n",
       "      <td id=\"T_f7659_row1_col13\" class=\"data row1 col13\" >nan</td>\n",
       "      <td id=\"T_f7659_row1_col14\" class=\"data row1 col14\" >nan</td>\n",
       "      <td id=\"T_f7659_row1_col15\" class=\"data row1 col15\" >/Python-Beginners-Perfect-Learning-Workbook/dp/B084VHN9M6/ref=sr_1_59?keywords=python&qid=1671164641&sr=8-59</td>\n",
       "      <td id=\"T_f7659_row1_col16\" class=\"data row1 col16\" >https://www.amazon.com/Python-Beginners-Perfect-Learning-Workbook/dp/B084VHN9M6/ref=sr_1_59?keywords=python&qid=1671164641&sr=8-59</td>\n",
       "    </tr>\n",
       "    <tr>\n",
       "      <th id=\"T_f7659_level0_row2\" class=\"row_heading level0 row2\" >32</th>\n",
       "      <td id=\"T_f7659_row2_col0\" class=\"data row2 col0\" >Python for Everybody: Exploring Data in Python 3</td>\n",
       "      <td id=\"T_f7659_row2_col1\" class=\"data row2 col1\" >[ Charles R. Severance, Aimee Andrion, et al.]</td>\n",
       "      <td id=\"T_f7659_row2_col2\" class=\"data row2 col2\" >0.990000</td>\n",
       "      <td id=\"T_f7659_row2_col3\" class=\"data row2 col3\" >387</td>\n",
       "      <td id=\"T_f7659_row2_col4\" class=\"data row2 col4\" >4.600000</td>\n",
       "      <td id=\"T_f7659_row2_col5\" class=\"data row2 col5\" >2,568</td>\n",
       "      <td id=\"T_f7659_row2_col6\" class=\"data row2 col6\" >76%</td>\n",
       "      <td id=\"T_f7659_row2_col7\" class=\"data row2 col7\" >16%</td>\n",
       "      <td id=\"T_f7659_row2_col8\" class=\"data row2 col8\" >5%</td>\n",
       "      <td id=\"T_f7659_row2_col9\" class=\"data row2 col9\" >2%</td>\n",
       "      <td id=\"T_f7659_row2_col10\" class=\"data row2 col10\" >2%</td>\n",
       "      <td id=\"T_f7659_row2_col11\" class=\"data row2 col11\" >nan</td>\n",
       "      <td id=\"T_f7659_row2_col12\" class=\"data row2 col12\" >English</td>\n",
       "      <td id=\"T_f7659_row2_col13\" class=\"data row2 col13\" >nan</td>\n",
       "      <td id=\"T_f7659_row2_col14\" class=\"data row2 col14\" >nan</td>\n",
       "      <td id=\"T_f7659_row2_col15\" class=\"data row2 col15\" >/Python-Everybody-Exploring-Data-ebook/dp/B01IA5VIFM/ref=sr_1_44?keywords=python&qid=1671164641&sr=8-44</td>\n",
       "      <td id=\"T_f7659_row2_col16\" class=\"data row2 col16\" >https://www.amazon.com/Python-Everybody-Exploring-Data-ebook/dp/B01IA5VIFM/ref=sr_1_44?keywords=python&qid=1671164641&sr=8-44</td>\n",
       "    </tr>\n",
       "    <tr>\n",
       "      <th id=\"T_f7659_level0_row3\" class=\"row_heading level0 row3\" >34</th>\n",
       "      <td id=\"T_f7659_row3_col0\" class=\"data row3 col0\" >Python Programming for Beginners: Python Programming Creak Course to Get Python Coding Well & Quick</td>\n",
       "      <td id=\"T_f7659_row3_col1\" class=\"data row3 col1\" >[ Donald P. Wilson]</td>\n",
       "      <td id=\"T_f7659_row3_col2\" class=\"data row3 col2\" >nan</td>\n",
       "      <td id=\"T_f7659_row3_col3\" class=\"data row3 col3\" >100</td>\n",
       "      <td id=\"T_f7659_row3_col4\" class=\"data row3 col4\" >5.000000</td>\n",
       "      <td id=\"T_f7659_row3_col5\" class=\"data row3 col5\" >126</td>\n",
       "      <td id=\"T_f7659_row3_col6\" class=\"data row3 col6\" >97%</td>\n",
       "      <td id=\"T_f7659_row3_col7\" class=\"data row3 col7\" >3%</td>\n",
       "      <td id=\"T_f7659_row3_col8\" class=\"data row3 col8\" >nan</td>\n",
       "      <td id=\"T_f7659_row3_col9\" class=\"data row3 col9\" >nan</td>\n",
       "      <td id=\"T_f7659_row3_col10\" class=\"data row3 col10\" >nan</td>\n",
       "      <td id=\"T_f7659_row3_col11\" class=\"data row3 col11\" >nan</td>\n",
       "      <td id=\"T_f7659_row3_col12\" class=\"data row3 col12\" >English</td>\n",
       "      <td id=\"T_f7659_row3_col13\" class=\"data row3 col13\" >nan</td>\n",
       "      <td id=\"T_f7659_row3_col14\" class=\"data row3 col14\" >nan</td>\n",
       "      <td id=\"T_f7659_row3_col15\" class=\"data row3 col15\" >/Python-Programming-Beginners-Course-Coding-ebook/dp/B0BN99NQYV/ref=sr_1_39?keywords=python&qid=1671164641&sr=8-39</td>\n",
       "      <td id=\"T_f7659_row3_col16\" class=\"data row3 col16\" >https://www.amazon.com/Python-Programming-Beginners-Course-Coding-ebook/dp/B0BN99NQYV/ref=sr_1_39?keywords=python&qid=1671164641&sr=8-39</td>\n",
       "    </tr>\n",
       "    <tr>\n",
       "      <th id=\"T_f7659_level0_row4\" class=\"row_heading level0 row4\" >51</th>\n",
       "      <td id=\"T_f7659_row4_col0\" class=\"data row4 col0\" >Machine Learning: 4 Books in 1: The #1 Beginner's Guide to Master the Basics of Python Programming, Learn the Art of Data Science and Build Artificial Intelligence</td>\n",
       "      <td id=\"T_f7659_row4_col1\" class=\"data row4 col1\" >[ Andrew Park,  and , Russell Newton]</td>\n",
       "      <td id=\"T_f7659_row4_col2\" class=\"data row4 col2\" >nan</td>\n",
       "      <td id=\"T_f7659_row4_col3\" class=\"data row4 col3\" >nan</td>\n",
       "      <td id=\"T_f7659_row4_col4\" class=\"data row4 col4\" >4.700000</td>\n",
       "      <td id=\"T_f7659_row4_col5\" class=\"data row4 col5\" >290</td>\n",
       "      <td id=\"T_f7659_row4_col6\" class=\"data row4 col6\" >83%</td>\n",
       "      <td id=\"T_f7659_row4_col7\" class=\"data row4 col7\" >10%</td>\n",
       "      <td id=\"T_f7659_row4_col8\" class=\"data row4 col8\" >3%</td>\n",
       "      <td id=\"T_f7659_row4_col9\" class=\"data row4 col9\" >1%</td>\n",
       "      <td id=\"T_f7659_row4_col10\" class=\"data row4 col10\" >3%</td>\n",
       "      <td id=\"T_f7659_row4_col11\" class=\"data row4 col11\" >nan</td>\n",
       "      <td id=\"T_f7659_row4_col12\" class=\"data row4 col12\" >English</td>\n",
       "      <td id=\"T_f7659_row4_col13\" class=\"data row4 col13\" >nan</td>\n",
       "      <td id=\"T_f7659_row4_col14\" class=\"data row4 col14\" >nan</td>\n",
       "      <td id=\"T_f7659_row4_col15\" class=\"data row4 col15\" >/Data-Science-Beginners-Programming-Learning/dp/B0869Q3Z3H/ref=sr_1_94?keywords=data+analysis&qid=1671164651&sr=8-94</td>\n",
       "      <td id=\"T_f7659_row4_col16\" class=\"data row4 col16\" >https://www.amazon.com/Data-Science-Beginners-Programming-Learning/dp/B0869Q3Z3H/ref=sr_1_94?keywords=data+analysis&qid=1671164651&sr=8-94</td>\n",
       "    </tr>\n",
       "    <tr>\n",
       "      <th id=\"T_f7659_level0_row5\" class=\"row_heading level0 row5\" >55</th>\n",
       "      <td id=\"T_f7659_row5_col0\" class=\"data row5 col0\" >Excel Pivot Tables: Basic Beginners Guide to Learn Excel Pivot Tables for Data Analysis and Modeling</td>\n",
       "      <td id=\"T_f7659_row5_col1\" class=\"data row5 col1\" >[ MG Martin, Peter Prova, et al.]</td>\n",
       "      <td id=\"T_f7659_row5_col2\" class=\"data row5 col2\" >nan</td>\n",
       "      <td id=\"T_f7659_row5_col3\" class=\"data row5 col3\" >nan</td>\n",
       "      <td id=\"T_f7659_row5_col4\" class=\"data row5 col4\" >4.000000</td>\n",
       "      <td id=\"T_f7659_row5_col5\" class=\"data row5 col5\" >58</td>\n",
       "      <td id=\"T_f7659_row5_col6\" class=\"data row5 col6\" >53%</td>\n",
       "      <td id=\"T_f7659_row5_col7\" class=\"data row5 col7\" >23%</td>\n",
       "      <td id=\"T_f7659_row5_col8\" class=\"data row5 col8\" >8%</td>\n",
       "      <td id=\"T_f7659_row5_col9\" class=\"data row5 col9\" >16%</td>\n",
       "      <td id=\"T_f7659_row5_col10\" class=\"data row5 col10\" >nan</td>\n",
       "      <td id=\"T_f7659_row5_col11\" class=\"data row5 col11\" >nan</td>\n",
       "      <td id=\"T_f7659_row5_col12\" class=\"data row5 col12\" >English</td>\n",
       "      <td id=\"T_f7659_row5_col13\" class=\"data row5 col13\" >nan</td>\n",
       "      <td id=\"T_f7659_row5_col14\" class=\"data row5 col14\" >nan</td>\n",
       "      <td id=\"T_f7659_row5_col15\" class=\"data row5 col15\" >/Excel-Pivot-Tables-Beginners-Analysis/dp/B07VGL7S7V/ref=sr_1_92?keywords=data+analysis&qid=1671164651&sr=8-92</td>\n",
       "      <td id=\"T_f7659_row5_col16\" class=\"data row5 col16\" >https://www.amazon.com/Excel-Pivot-Tables-Beginners-Analysis/dp/B07VGL7S7V/ref=sr_1_92?keywords=data+analysis&qid=1671164651&sr=8-92</td>\n",
       "    </tr>\n",
       "    <tr>\n",
       "      <th id=\"T_f7659_level0_row6\" class=\"row_heading level0 row6\" >58</th>\n",
       "      <td id=\"T_f7659_row6_col0\" class=\"data row6 col0\" >Hands-On Data Analysis with Pandas: Efficiently perform data collection, wrangling, analysis, and visualization using Python</td>\n",
       "      <td id=\"T_f7659_row6_col1\" class=\"data row6 col1\" >[ Stefanie Molin]</td>\n",
       "      <td id=\"T_f7659_row6_col2\" class=\"data row6 col2\" >21.090000</td>\n",
       "      <td id=\"T_f7659_row6_col3\" class=\"data row6 col3\" >716</td>\n",
       "      <td id=\"T_f7659_row6_col4\" class=\"data row6 col4\" >4.500000</td>\n",
       "      <td id=\"T_f7659_row6_col5\" class=\"data row6 col5\" >60</td>\n",
       "      <td id=\"T_f7659_row6_col6\" class=\"data row6 col6\" >76%</td>\n",
       "      <td id=\"T_f7659_row6_col7\" class=\"data row6 col7\" >11%</td>\n",
       "      <td id=\"T_f7659_row6_col8\" class=\"data row6 col8\" >3%</td>\n",
       "      <td id=\"T_f7659_row6_col9\" class=\"data row6 col9\" >3%</td>\n",
       "      <td id=\"T_f7659_row6_col10\" class=\"data row6 col10\" >7%</td>\n",
       "      <td id=\"T_f7659_row6_col11\" class=\"data row6 col11\" >nan</td>\n",
       "      <td id=\"T_f7659_row6_col12\" class=\"data row6 col12\" >English</td>\n",
       "      <td id=\"T_f7659_row6_col13\" class=\"data row6 col13\" >Packt Publishing; 1st edition (July 26, 2019)</td>\n",
       "      <td id=\"T_f7659_row6_col14\" class=\"data row6 col14\" >nan</td>\n",
       "      <td id=\"T_f7659_row6_col15\" class=\"data row6 col15\" >/Hands-Data-Analysis-Pandas-visualization-ebook/dp/B07KJQN1CC/ref=sr_1_87?keywords=data+analysis&qid=1671164651&sr=8-87</td>\n",
       "      <td id=\"T_f7659_row6_col16\" class=\"data row6 col16\" >https://www.amazon.com/Hands-Data-Analysis-Pandas-visualization-ebook/dp/B07KJQN1CC/ref=sr_1_87?keywords=data+analysis&qid=1671164651&sr=8-87</td>\n",
       "    </tr>\n",
       "    <tr>\n",
       "      <th id=\"T_f7659_level0_row7\" class=\"row_heading level0 row7\" >75</th>\n",
       "      <td id=\"T_f7659_row7_col0\" class=\"data row7 col0\" >Time Series: A Data Analysis Approach Using R (Chapman & Hall/CRC Texts in Statistical Science)</td>\n",
       "      <td id=\"T_f7659_row7_col1\" class=\"data row7 col1\" >nan</td>\n",
       "      <td id=\"T_f7659_row7_col2\" class=\"data row7 col2\" >57.340000</td>\n",
       "      <td id=\"T_f7659_row7_col3\" class=\"data row7 col3\" >271</td>\n",
       "      <td id=\"T_f7659_row7_col4\" class=\"data row7 col4\" >4.100000</td>\n",
       "      <td id=\"T_f7659_row7_col5\" class=\"data row7 col5\" >16</td>\n",
       "      <td id=\"T_f7659_row7_col6\" class=\"data row7 col6\" >58%</td>\n",
       "      <td id=\"T_f7659_row7_col7\" class=\"data row7 col7\" >20%</td>\n",
       "      <td id=\"T_f7659_row7_col8\" class=\"data row7 col8\" >9%</td>\n",
       "      <td id=\"T_f7659_row7_col9\" class=\"data row7 col9\" >14%</td>\n",
       "      <td id=\"T_f7659_row7_col10\" class=\"data row7 col10\" >nan</td>\n",
       "      <td id=\"T_f7659_row7_col11\" class=\"data row7 col11\" >nan</td>\n",
       "      <td id=\"T_f7659_row7_col12\" class=\"data row7 col12\" >English</td>\n",
       "      <td id=\"T_f7659_row7_col13\" class=\"data row7 col13\" >Chapman and Hall/CRC; 1st edition (May 17, 2019)</td>\n",
       "      <td id=\"T_f7659_row7_col14\" class=\"data row7 col14\" >nan</td>\n",
       "      <td id=\"T_f7659_row7_col15\" class=\"data row7 col15\" >/Time-Analysis-Approach-Chapman-Statistical-ebook/dp/B07S1CN793/ref=sr_1_144?keywords=data+analysis&qid=1671164661&sr=8-144</td>\n",
       "      <td id=\"T_f7659_row7_col16\" class=\"data row7 col16\" >https://www.amazon.com/Time-Analysis-Approach-Chapman-Statistical-ebook/dp/B07S1CN793/ref=sr_1_144?keywords=data+analysis&qid=1671164661&sr=8-144</td>\n",
       "    </tr>\n",
       "    <tr>\n",
       "      <th id=\"T_f7659_level0_row8\" class=\"row_heading level0 row8\" >78</th>\n",
       "      <td id=\"T_f7659_row8_col0\" class=\"data row8 col0\" >The Model Thinker: What You Need to Know to Make Data Work for You</td>\n",
       "      <td id=\"T_f7659_row8_col1\" class=\"data row8 col1\" >[ Scott E. Page, Jamie Renell, et al.]</td>\n",
       "      <td id=\"T_f7659_row8_col2\" class=\"data row8 col2\" >nan</td>\n",
       "      <td id=\"T_f7659_row8_col3\" class=\"data row8 col3\" >nan</td>\n",
       "      <td id=\"T_f7659_row8_col4\" class=\"data row8 col4\" >4.500000</td>\n",
       "      <td id=\"T_f7659_row8_col5\" class=\"data row8 col5\" >463</td>\n",
       "      <td id=\"T_f7659_row8_col6\" class=\"data row8 col6\" >68%</td>\n",
       "      <td id=\"T_f7659_row8_col7\" class=\"data row8 col7\" >20%</td>\n",
       "      <td id=\"T_f7659_row8_col8\" class=\"data row8 col8\" >6%</td>\n",
       "      <td id=\"T_f7659_row8_col9\" class=\"data row8 col9\" >3%</td>\n",
       "      <td id=\"T_f7659_row8_col10\" class=\"data row8 col10\" >2%</td>\n",
       "      <td id=\"T_f7659_row8_col11\" class=\"data row8 col11\" >nan</td>\n",
       "      <td id=\"T_f7659_row8_col12\" class=\"data row8 col12\" >English</td>\n",
       "      <td id=\"T_f7659_row8_col13\" class=\"data row8 col13\" >nan</td>\n",
       "      <td id=\"T_f7659_row8_col14\" class=\"data row8 col14\" >nan</td>\n",
       "      <td id=\"T_f7659_row8_col15\" class=\"data row8 col15\" >/Model-Thinker-What-Need-Know/dp/B08WHN4M7S/ref=sr_1_145?keywords=data+analysis&qid=1671164661&sr=8-145</td>\n",
       "      <td id=\"T_f7659_row8_col16\" class=\"data row8 col16\" >https://www.amazon.com/Model-Thinker-What-Need-Know/dp/B08WHN4M7S/ref=sr_1_145?keywords=data+analysis&qid=1671164661&sr=8-145</td>\n",
       "    </tr>\n",
       "    <tr>\n",
       "      <th id=\"T_f7659_level0_row9\" class=\"row_heading level0 row9\" >79</th>\n",
       "      <td id=\"T_f7659_row9_col0\" class=\"data row9 col0\" >Data Science Foundations Tools and Techniques (Addison-Wesley Data & Analytics Series)</td>\n",
       "      <td id=\"T_f7659_row9_col1\" class=\"data row9 col1\" >nan</td>\n",
       "      <td id=\"T_f7659_row9_col2\" class=\"data row9 col2\" >28.990000</td>\n",
       "      <td id=\"T_f7659_row9_col3\" class=\"data row9 col3\" >384</td>\n",
       "      <td id=\"T_f7659_row9_col4\" class=\"data row9 col4\" >4.400000</td>\n",
       "      <td id=\"T_f7659_row9_col5\" class=\"data row9 col5\" >57</td>\n",
       "      <td id=\"T_f7659_row9_col6\" class=\"data row9 col6\" >67%</td>\n",
       "      <td id=\"T_f7659_row9_col7\" class=\"data row9 col7\" >22%</td>\n",
       "      <td id=\"T_f7659_row9_col8\" class=\"data row9 col8\" >6%</td>\n",
       "      <td id=\"T_f7659_row9_col9\" class=\"data row9 col9\" >6%</td>\n",
       "      <td id=\"T_f7659_row9_col10\" class=\"data row9 col10\" >nan</td>\n",
       "      <td id=\"T_f7659_row9_col11\" class=\"data row9 col11\" >nan</td>\n",
       "      <td id=\"T_f7659_row9_col12\" class=\"data row9 col12\" >English</td>\n",
       "      <td id=\"T_f7659_row9_col13\" class=\"data row9 col13\" >Addison-Wesley Professional; 1st edition (November 23, 2018)</td>\n",
       "      <td id=\"T_f7659_row9_col14\" class=\"data row9 col14\" >nan</td>\n",
       "      <td id=\"T_f7659_row9_col15\" class=\"data row9 col15\" >/Programming-Skills-Data-Science-Addison-Wesley-ebook/dp/B07KMDCHT2/ref=sr_1_138?keywords=data+analysis&qid=1671164661&sr=8-138</td>\n",
       "      <td id=\"T_f7659_row9_col16\" class=\"data row9 col16\" >https://www.amazon.com/Programming-Skills-Data-Science-Addison-Wesley-ebook/dp/B07KMDCHT2/ref=sr_1_138?keywords=data+analysis&qid=1671164661&sr=8-138</td>\n",
       "    </tr>\n",
       "    <tr>\n",
       "      <th id=\"T_f7659_level0_row10\" class=\"row_heading level0 row10\" >82</th>\n",
       "      <td id=\"T_f7659_row10_col0\" class=\"data row10 col0\" >Python for Data Science: A Crash Course for Data Science and Analysis, Python Machine Learning and Big Data</td>\n",
       "      <td id=\"T_f7659_row10_col1\" class=\"data row10 col1\" >[ Computer Science Academy]</td>\n",
       "      <td id=\"T_f7659_row10_col2\" class=\"data row10 col2\" >nan</td>\n",
       "      <td id=\"T_f7659_row10_col3\" class=\"data row10 col3\" >147</td>\n",
       "      <td id=\"T_f7659_row10_col4\" class=\"data row10 col4\" >4.200000</td>\n",
       "      <td id=\"T_f7659_row10_col5\" class=\"data row10 col5\" >16</td>\n",
       "      <td id=\"T_f7659_row10_col6\" class=\"data row10 col6\" >52%</td>\n",
       "      <td id=\"T_f7659_row10_col7\" class=\"data row10 col7\" >21%</td>\n",
       "      <td id=\"T_f7659_row10_col8\" class=\"data row10 col8\" >27%</td>\n",
       "      <td id=\"T_f7659_row10_col9\" class=\"data row10 col9\" >nan</td>\n",
       "      <td id=\"T_f7659_row10_col10\" class=\"data row10 col10\" >nan</td>\n",
       "      <td id=\"T_f7659_row10_col11\" class=\"data row10 col11\" >nan</td>\n",
       "      <td id=\"T_f7659_row10_col12\" class=\"data row10 col12\" >English</td>\n",
       "      <td id=\"T_f7659_row10_col13\" class=\"data row10 col13\" >nan</td>\n",
       "      <td id=\"T_f7659_row10_col14\" class=\"data row10 col14\" >nan</td>\n",
       "      <td id=\"T_f7659_row10_col15\" class=\"data row10 col15\" >/Python-Data-Science-Analysis-Learning-ebook/dp/B082TRL2RL/ref=sr_1_134?keywords=data+analysis&qid=1671164661&sr=8-134</td>\n",
       "      <td id=\"T_f7659_row10_col16\" class=\"data row10 col16\" >https://www.amazon.com/Python-Data-Science-Analysis-Learning-ebook/dp/B082TRL2RL/ref=sr_1_134?keywords=data+analysis&qid=1671164661&sr=8-134</td>\n",
       "    </tr>\n",
       "    <tr>\n",
       "      <th id=\"T_f7659_level0_row11\" class=\"row_heading level0 row11\" >90</th>\n",
       "      <td id=\"T_f7659_row11_col0\" class=\"data row11 col0\" >Time Series for Data Science: Analysis and Forecasting (Chapman & Hall/CRC Texts in Statistical Science)</td>\n",
       "      <td id=\"T_f7659_row11_col1\" class=\"data row11 col1\" >nan</td>\n",
       "      <td id=\"T_f7659_row11_col2\" class=\"data row11 col2\" >96.000000</td>\n",
       "      <td id=\"T_f7659_row11_col3\" class=\"data row11 col3\" >506</td>\n",
       "      <td id=\"T_f7659_row11_col4\" class=\"data row11 col4\" >5.000000</td>\n",
       "      <td id=\"T_f7659_row11_col5\" class=\"data row11 col5\" >3</td>\n",
       "      <td id=\"T_f7659_row11_col6\" class=\"data row11 col6\" >100%</td>\n",
       "      <td id=\"T_f7659_row11_col7\" class=\"data row11 col7\" >nan</td>\n",
       "      <td id=\"T_f7659_row11_col8\" class=\"data row11 col8\" >nan</td>\n",
       "      <td id=\"T_f7659_row11_col9\" class=\"data row11 col9\" >nan</td>\n",
       "      <td id=\"T_f7659_row11_col10\" class=\"data row11 col10\" >nan</td>\n",
       "      <td id=\"T_f7659_row11_col11\" class=\"data row11 col11\" >nan</td>\n",
       "      <td id=\"T_f7659_row11_col12\" class=\"data row11 col12\" >English</td>\n",
       "      <td id=\"T_f7659_row11_col13\" class=\"data row11 col13\" >Chapman and Hall/CRC; 1st edition (August 1, 2022)</td>\n",
       "      <td id=\"T_f7659_row11_col14\" class=\"data row11 col14\" >nan</td>\n",
       "      <td id=\"T_f7659_row11_col15\" class=\"data row11 col15\" >/Time-Data-Science-Forecasting-Statistical-ebook/dp/B0B69TN4BH/ref=sr_1_202?keywords=data+analysis&qid=1671164670&sr=8-202</td>\n",
       "      <td id=\"T_f7659_row11_col16\" class=\"data row11 col16\" >https://www.amazon.com/Time-Data-Science-Forecasting-Statistical-ebook/dp/B0B69TN4BH/ref=sr_1_202?keywords=data+analysis&qid=1671164670&sr=8-202</td>\n",
       "    </tr>\n",
       "    <tr>\n",
       "      <th id=\"T_f7659_level0_row12\" class=\"row_heading level0 row12\" >105</th>\n",
       "      <td id=\"T_f7659_row12_col0\" class=\"data row12 col0\" >Essential R For Data Analysis: Data manipulation and visualization using R for beginning and intermediate users</td>\n",
       "      <td id=\"T_f7659_row12_col1\" class=\"data row12 col1\" >[ PBR Books]</td>\n",
       "      <td id=\"T_f7659_row12_col2\" class=\"data row12 col2\" >nan</td>\n",
       "      <td id=\"T_f7659_row12_col3\" class=\"data row12 col3\" >146</td>\n",
       "      <td id=\"T_f7659_row12_col4\" class=\"data row12 col4\" >4.600000</td>\n",
       "      <td id=\"T_f7659_row12_col5\" class=\"data row12 col5\" >3</td>\n",
       "      <td id=\"T_f7659_row12_col6\" class=\"data row12 col6\" >63%</td>\n",
       "      <td id=\"T_f7659_row12_col7\" class=\"data row12 col7\" >37%</td>\n",
       "      <td id=\"T_f7659_row12_col8\" class=\"data row12 col8\" >nan</td>\n",
       "      <td id=\"T_f7659_row12_col9\" class=\"data row12 col9\" >nan</td>\n",
       "      <td id=\"T_f7659_row12_col10\" class=\"data row12 col10\" >nan</td>\n",
       "      <td id=\"T_f7659_row12_col11\" class=\"data row12 col11\" >nan</td>\n",
       "      <td id=\"T_f7659_row12_col12\" class=\"data row12 col12\" >English</td>\n",
       "      <td id=\"T_f7659_row12_col13\" class=\"data row12 col13\" >nan</td>\n",
       "      <td id=\"T_f7659_row12_col14\" class=\"data row12 col14\" >nan</td>\n",
       "      <td id=\"T_f7659_row12_col15\" class=\"data row12 col15\" >/Essential-Data-Analysis-manipulation-visualization-ebook/dp/B074YG6KZN/ref=sr_1_184?keywords=data+analysis&qid=1671164670&sr=8-184</td>\n",
       "      <td id=\"T_f7659_row12_col16\" class=\"data row12 col16\" >https://www.amazon.com/Essential-Data-Analysis-manipulation-visualization-ebook/dp/B074YG6KZN/ref=sr_1_184?keywords=data+analysis&qid=1671164670&sr=8-184</td>\n",
       "    </tr>\n",
       "    <tr>\n",
       "      <th id=\"T_f7659_level0_row13\" class=\"row_heading level0 row13\" >111</th>\n",
       "      <td id=\"T_f7659_row13_col0\" class=\"data row13 col0\" >Exploratory Data Analysis with MATLAB (Chapman & Hall/CRC Computer Science & Data Analysis)</td>\n",
       "      <td id=\"T_f7659_row13_col1\" class=\"data row13 col1\" >nan</td>\n",
       "      <td id=\"T_f7659_row13_col2\" class=\"data row13 col2\" >41.490000</td>\n",
       "      <td id=\"T_f7659_row13_col3\" class=\"data row13 col3\" >832</td>\n",
       "      <td id=\"T_f7659_row13_col4\" class=\"data row13 col4\" >4.000000</td>\n",
       "      <td id=\"T_f7659_row13_col5\" class=\"data row13 col5\" >3</td>\n",
       "      <td id=\"T_f7659_row13_col6\" class=\"data row13 col6\" >34%</td>\n",
       "      <td id=\"T_f7659_row13_col7\" class=\"data row13 col7\" >33%</td>\n",
       "      <td id=\"T_f7659_row13_col8\" class=\"data row13 col8\" >33%</td>\n",
       "      <td id=\"T_f7659_row13_col9\" class=\"data row13 col9\" >nan</td>\n",
       "      <td id=\"T_f7659_row13_col10\" class=\"data row13 col10\" >nan</td>\n",
       "      <td id=\"T_f7659_row13_col11\" class=\"data row13 col11\" >nan</td>\n",
       "      <td id=\"T_f7659_row13_col12\" class=\"data row13 col12\" >English</td>\n",
       "      <td id=\"T_f7659_row13_col13\" class=\"data row13 col13\" >Chapman and Hall/CRC; 3rd edition (August 7, 2017)</td>\n",
       "      <td id=\"T_f7659_row13_col14\" class=\"data row13 col14\" >nan</td>\n",
       "      <td id=\"T_f7659_row13_col15\" class=\"data row13 col15\" >/Exploratory-Analysis-Chapman-Computer-Science-ebook/dp/B074MVTKM9/ref=sr_1_249?keywords=data+analysis&qid=1671164678&sr=8-249</td>\n",
       "      <td id=\"T_f7659_row13_col16\" class=\"data row13 col16\" >https://www.amazon.com/Exploratory-Analysis-Chapman-Computer-Science-ebook/dp/B074MVTKM9/ref=sr_1_249?keywords=data+analysis&qid=1671164678&sr=8-249</td>\n",
       "    </tr>\n",
       "    <tr>\n",
       "      <th id=\"T_f7659_level0_row14\" class=\"row_heading level0 row14\" >127</th>\n",
       "      <td id=\"T_f7659_row14_col0\" class=\"data row14 col0\" >Data Analysis for Database Design</td>\n",
       "      <td id=\"T_f7659_row14_col1\" class=\"data row14 col1\" >[ David Howe]</td>\n",
       "      <td id=\"T_f7659_row14_col2\" class=\"data row14 col2\" >28.450000</td>\n",
       "      <td id=\"T_f7659_row14_col3\" class=\"data row14 col3\" >336</td>\n",
       "      <td id=\"T_f7659_row14_col4\" class=\"data row14 col4\" >4.800000</td>\n",
       "      <td id=\"T_f7659_row14_col5\" class=\"data row14 col5\" >9</td>\n",
       "      <td id=\"T_f7659_row14_col6\" class=\"data row14 col6\" >78%</td>\n",
       "      <td id=\"T_f7659_row14_col7\" class=\"data row14 col7\" >22%</td>\n",
       "      <td id=\"T_f7659_row14_col8\" class=\"data row14 col8\" >nan</td>\n",
       "      <td id=\"T_f7659_row14_col9\" class=\"data row14 col9\" >nan</td>\n",
       "      <td id=\"T_f7659_row14_col10\" class=\"data row14 col10\" >nan</td>\n",
       "      <td id=\"T_f7659_row14_col11\" class=\"data row14 col11\" >nan</td>\n",
       "      <td id=\"T_f7659_row14_col12\" class=\"data row14 col12\" >English</td>\n",
       "      <td id=\"T_f7659_row14_col13\" class=\"data row14 col13\" >Butterworth-Heinemann; 3rd edition (May 31, 2001)</td>\n",
       "      <td id=\"T_f7659_row14_col14\" class=\"data row14 col14\" >nan</td>\n",
       "      <td id=\"T_f7659_row14_col15\" class=\"data row14 col15\" >/Data-Analysis-Database-Design-David-ebook/dp/B001D0JCMS/ref=sr_1_237?keywords=data+analysis&qid=1671164678&sr=8-237</td>\n",
       "      <td id=\"T_f7659_row14_col16\" class=\"data row14 col16\" >https://www.amazon.com/Data-Analysis-Database-Design-David-ebook/dp/B001D0JCMS/ref=sr_1_237?keywords=data+analysis&qid=1671164678&sr=8-237</td>\n",
       "    </tr>\n",
       "    <tr>\n",
       "      <th id=\"T_f7659_level0_row15\" class=\"row_heading level0 row15\" >156</th>\n",
       "      <td id=\"T_f7659_row15_col0\" class=\"data row15 col0\" >Approximation Theory and Algorithms for Data Analysis (Texts in Applied Mathematics Book 68)</td>\n",
       "      <td id=\"T_f7659_row15_col1\" class=\"data row15 col1\" >nan</td>\n",
       "      <td id=\"T_f7659_row15_col2\" class=\"data row15 col2\" >59.990000</td>\n",
       "      <td id=\"T_f7659_row15_col3\" class=\"data row15 col3\" >368</td>\n",
       "      <td id=\"T_f7659_row15_col4\" class=\"data row15 col4\" >4.500000</td>\n",
       "      <td id=\"T_f7659_row15_col5\" class=\"data row15 col5\" >2</td>\n",
       "      <td id=\"T_f7659_row15_col6\" class=\"data row15 col6\" >50%</td>\n",
       "      <td id=\"T_f7659_row15_col7\" class=\"data row15 col7\" >50%</td>\n",
       "      <td id=\"T_f7659_row15_col8\" class=\"data row15 col8\" >nan</td>\n",
       "      <td id=\"T_f7659_row15_col9\" class=\"data row15 col9\" >nan</td>\n",
       "      <td id=\"T_f7659_row15_col10\" class=\"data row15 col10\" >nan</td>\n",
       "      <td id=\"T_f7659_row15_col11\" class=\"data row15 col11\" >nan</td>\n",
       "      <td id=\"T_f7659_row15_col12\" class=\"data row15 col12\" >English</td>\n",
       "      <td id=\"T_f7659_row15_col13\" class=\"data row15 col13\" >Springer; 1st ed. 2018 edition (December 14, 2018)</td>\n",
       "      <td id=\"T_f7659_row15_col14\" class=\"data row15 col14\" >nan</td>\n",
       "      <td id=\"T_f7659_row15_col15\" class=\"data row15 col15\" >/Approximation-Algorithms-Analysis-Applied-Mathematics-ebook/dp/B07QQV29K7/ref=sr_1_288?keywords=data+analysis&qid=1671164689&sr=8-288</td>\n",
       "      <td id=\"T_f7659_row15_col16\" class=\"data row15 col16\" >https://www.amazon.com/Approximation-Algorithms-Analysis-Applied-Mathematics-ebook/dp/B07QQV29K7/ref=sr_1_288?keywords=data+analysis&qid=1671164689&sr=8-288</td>\n",
       "    </tr>\n",
       "    <tr>\n",
       "      <th id=\"T_f7659_level0_row16\" class=\"row_heading level0 row16\" >164</th>\n",
       "      <td id=\"T_f7659_row16_col0\" class=\"data row16 col0\" >PYTHON DATA ANALYTICS: Advanced and Effective Strategies of Using Python Data Analytics</td>\n",
       "      <td id=\"T_f7659_row16_col1\" class=\"data row16 col1\" >nan</td>\n",
       "      <td id=\"T_f7659_row16_col2\" class=\"data row16 col2\" >nan</td>\n",
       "      <td id=\"T_f7659_row16_col3\" class=\"data row16 col3\" >131</td>\n",
       "      <td id=\"T_f7659_row16_col4\" class=\"data row16 col4\" >4.300000</td>\n",
       "      <td id=\"T_f7659_row16_col5\" class=\"data row16 col5\" >6</td>\n",
       "      <td id=\"T_f7659_row16_col6\" class=\"data row16 col6\" >55%</td>\n",
       "      <td id=\"T_f7659_row16_col7\" class=\"data row16 col7\" >22%</td>\n",
       "      <td id=\"T_f7659_row16_col8\" class=\"data row16 col8\" >23%</td>\n",
       "      <td id=\"T_f7659_row16_col9\" class=\"data row16 col9\" >nan</td>\n",
       "      <td id=\"T_f7659_row16_col10\" class=\"data row16 col10\" >nan</td>\n",
       "      <td id=\"T_f7659_row16_col11\" class=\"data row16 col11\" >nan</td>\n",
       "      <td id=\"T_f7659_row16_col12\" class=\"data row16 col12\" >English</td>\n",
       "      <td id=\"T_f7659_row16_col13\" class=\"data row16 col13\" >nan</td>\n",
       "      <td id=\"T_f7659_row16_col14\" class=\"data row16 col14\" >nan</td>\n",
       "      <td id=\"T_f7659_row16_col15\" class=\"data row16 col15\" >/PYTHON-DATA-ANALYTICS-Effective-Strategies-ebook/dp/B0873WRXPJ/ref=sr_1_277?keywords=data+analysis&qid=1671164689&sr=8-277</td>\n",
       "      <td id=\"T_f7659_row16_col16\" class=\"data row16 col16\" >https://www.amazon.com/PYTHON-DATA-ANALYTICS-Effective-Strategies-ebook/dp/B0873WRXPJ/ref=sr_1_277?keywords=data+analysis&qid=1671164689&sr=8-277</td>\n",
       "    </tr>\n",
       "    <tr>\n",
       "      <th id=\"T_f7659_level0_row17\" class=\"row_heading level0 row17\" >177</th>\n",
       "      <td id=\"T_f7659_row17_col0\" class=\"data row17 col0\" >Data Analysis in High Energy Physics: A Practical Guide to Statistical Methods</td>\n",
       "      <td id=\"T_f7659_row17_col1\" class=\"data row17 col1\" >[ Olaf Behnke, Kevin Kröninger, et al.]</td>\n",
       "      <td id=\"T_f7659_row17_col2\" class=\"data row17 col2\" >89.000000</td>\n",
       "      <td id=\"T_f7659_row17_col3\" class=\"data row17 col3\" >658</td>\n",
       "      <td id=\"T_f7659_row17_col4\" class=\"data row17 col4\" >4.800000</td>\n",
       "      <td id=\"T_f7659_row17_col5\" class=\"data row17 col5\" >9</td>\n",
       "      <td id=\"T_f7659_row17_col6\" class=\"data row17 col6\" >77%</td>\n",
       "      <td id=\"T_f7659_row17_col7\" class=\"data row17 col7\" >23%</td>\n",
       "      <td id=\"T_f7659_row17_col8\" class=\"data row17 col8\" >nan</td>\n",
       "      <td id=\"T_f7659_row17_col9\" class=\"data row17 col9\" >nan</td>\n",
       "      <td id=\"T_f7659_row17_col10\" class=\"data row17 col10\" >nan</td>\n",
       "      <td id=\"T_f7659_row17_col11\" class=\"data row17 col11\" >nan</td>\n",
       "      <td id=\"T_f7659_row17_col12\" class=\"data row17 col12\" >English</td>\n",
       "      <td id=\"T_f7659_row17_col13\" class=\"data row17 col13\" >Wiley-VCH; 1st edition (August 30, 2013)</td>\n",
       "      <td id=\"T_f7659_row17_col14\" class=\"data row17 col14\" >nan</td>\n",
       "      <td id=\"T_f7659_row17_col15\" class=\"data row17 col15\" >/Data-Analysis-High-Energy-Physics-ebook/dp/B00EYBOPY8/ref=sr_1_302?keywords=data+analysis&qid=1671164699&sr=8-302</td>\n",
       "      <td id=\"T_f7659_row17_col16\" class=\"data row17 col16\" >https://www.amazon.com/Data-Analysis-High-Energy-Physics-ebook/dp/B00EYBOPY8/ref=sr_1_302?keywords=data+analysis&qid=1671164699&sr=8-302</td>\n",
       "    </tr>\n",
       "    <tr>\n",
       "      <th id=\"T_f7659_level0_row18\" class=\"row_heading level0 row18\" >186</th>\n",
       "      <td id=\"T_f7659_row18_col0\" class=\"data row18 col0\" >Data Analysis with Mplus (Methodology in the Social Sciences)</td>\n",
       "      <td id=\"T_f7659_row18_col1\" class=\"data row18 col1\" >nan</td>\n",
       "      <td id=\"T_f7659_row18_col2\" class=\"data row18 col2\" >39.490000</td>\n",
       "      <td id=\"T_f7659_row18_col3\" class=\"data row18 col3\" >305</td>\n",
       "      <td id=\"T_f7659_row18_col4\" class=\"data row18 col4\" >4.800000</td>\n",
       "      <td id=\"T_f7659_row18_col5\" class=\"data row18 col5\" >32</td>\n",
       "      <td id=\"T_f7659_row18_col6\" class=\"data row18 col6\" >78%</td>\n",
       "      <td id=\"T_f7659_row18_col7\" class=\"data row18 col7\" >22%</td>\n",
       "      <td id=\"T_f7659_row18_col8\" class=\"data row18 col8\" >nan</td>\n",
       "      <td id=\"T_f7659_row18_col9\" class=\"data row18 col9\" >nan</td>\n",
       "      <td id=\"T_f7659_row18_col10\" class=\"data row18 col10\" >nan</td>\n",
       "      <td id=\"T_f7659_row18_col11\" class=\"data row18 col11\" >nan</td>\n",
       "      <td id=\"T_f7659_row18_col12\" class=\"data row18 col12\" >English</td>\n",
       "      <td id=\"T_f7659_row18_col13\" class=\"data row18 col13\" >The Guilford Press; Illustrated edition (December 5, 2012)</td>\n",
       "      <td id=\"T_f7659_row18_col14\" class=\"data row18 col14\" >nan</td>\n",
       "      <td id=\"T_f7659_row18_col15\" class=\"data row18 col15\" >/Analysis-Mplus-Methodology-Social-Sciences-ebook/dp/B00FP531ME/ref=sr_1_298?keywords=data+analysis&qid=1671164699&sr=8-298</td>\n",
       "      <td id=\"T_f7659_row18_col16\" class=\"data row18 col16\" >https://www.amazon.com/Analysis-Mplus-Methodology-Social-Sciences-ebook/dp/B00FP531ME/ref=sr_1_298?keywords=data+analysis&qid=1671164699&sr=8-298</td>\n",
       "    </tr>\n",
       "    <tr>\n",
       "      <th id=\"T_f7659_level0_row19\" class=\"row_heading level0 row19\" >192</th>\n",
       "      <td id=\"T_f7659_row19_col0\" class=\"data row19 col0\" >Python NumPy for Beginners: NumPy Specialization for Data Science (Python for Beginners in Data Science and Data Analysis Book 1)</td>\n",
       "      <td id=\"T_f7659_row19_col1\" class=\"data row19 col1\" >nan</td>\n",
       "      <td id=\"T_f7659_row19_col2\" class=\"data row19 col2\" >9.990000</td>\n",
       "      <td id=\"T_f7659_row19_col3\" class=\"data row19 col3\" >220</td>\n",
       "      <td id=\"T_f7659_row19_col4\" class=\"data row19 col4\" >3.700000</td>\n",
       "      <td id=\"T_f7659_row19_col5\" class=\"data row19 col5\" >6</td>\n",
       "      <td id=\"T_f7659_row19_col6\" class=\"data row19 col6\" >43%</td>\n",
       "      <td id=\"T_f7659_row19_col7\" class=\"data row19 col7\" >19%</td>\n",
       "      <td id=\"T_f7659_row19_col8\" class=\"data row19 col8\" >19%</td>\n",
       "      <td id=\"T_f7659_row19_col9\" class=\"data row19 col9\" >19%</td>\n",
       "      <td id=\"T_f7659_row19_col10\" class=\"data row19 col10\" >nan</td>\n",
       "      <td id=\"T_f7659_row19_col11\" class=\"data row19 col11\" >nan</td>\n",
       "      <td id=\"T_f7659_row19_col12\" class=\"data row19 col12\" >English</td>\n",
       "      <td id=\"T_f7659_row19_col13\" class=\"data row19 col13\" >AI Publishing LLC (January 17, 2022)</td>\n",
       "      <td id=\"T_f7659_row19_col14\" class=\"data row19 col14\" >nan</td>\n",
       "      <td id=\"T_f7659_row19_col15\" class=\"data row19 col15\" >/Python-NumPy-Beginners-Specialization-Analysis-ebook/dp/B09QNTX3JK/ref=sr_1_271?keywords=data+analysis&qid=1671164689&sr=8-271</td>\n",
       "      <td id=\"T_f7659_row19_col16\" class=\"data row19 col16\" >https://www.amazon.com/Python-NumPy-Beginners-Specialization-Analysis-ebook/dp/B09QNTX3JK/ref=sr_1_271?keywords=data+analysis&qid=1671164689&sr=8-271</td>\n",
       "    </tr>\n",
       "    <tr>\n",
       "      <th id=\"T_f7659_level0_row20\" class=\"row_heading level0 row20\" >205</th>\n",
       "      <td id=\"T_f7659_row20_col0\" class=\"data row20 col0\" >Deep Learning: A Comprehensive Guide to Python Coding and Programming Machine Learning and Neural Networks for Data Analysis (Python Programming Deep Learning)</td>\n",
       "      <td id=\"T_f7659_row20_col1\" class=\"data row20 col1\" >nan</td>\n",
       "      <td id=\"T_f7659_row20_col2\" class=\"data row20 col2\" >4.970000</td>\n",
       "      <td id=\"T_f7659_row20_col3\" class=\"data row20 col3\" >287</td>\n",
       "      <td id=\"T_f7659_row20_col4\" class=\"data row20 col4\" >4.700000</td>\n",
       "      <td id=\"T_f7659_row20_col5\" class=\"data row20 col5\" >22</td>\n",
       "      <td id=\"T_f7659_row20_col6\" class=\"data row20 col6\" >74%</td>\n",
       "      <td id=\"T_f7659_row20_col7\" class=\"data row20 col7\" >19%</td>\n",
       "      <td id=\"T_f7659_row20_col8\" class=\"data row20 col8\" >7%</td>\n",
       "      <td id=\"T_f7659_row20_col9\" class=\"data row20 col9\" >nan</td>\n",
       "      <td id=\"T_f7659_row20_col10\" class=\"data row20 col10\" >nan</td>\n",
       "      <td id=\"T_f7659_row20_col11\" class=\"data row20 col11\" >nan</td>\n",
       "      <td id=\"T_f7659_row20_col12\" class=\"data row20 col12\" >English</td>\n",
       "      <td id=\"T_f7659_row20_col13\" class=\"data row20 col13\" >nan</td>\n",
       "      <td id=\"T_f7659_row20_col14\" class=\"data row20 col14\" >nan</td>\n",
       "      <td id=\"T_f7659_row20_col15\" class=\"data row20 col15\" >/Deep-Learning-Comprehensive-Programming-Networks-ebook/dp/B085ZZ4CZX/ref=sr_1_263?keywords=data+analysis&qid=1671164689&sr=8-263</td>\n",
       "      <td id=\"T_f7659_row20_col16\" class=\"data row20 col16\" >https://www.amazon.com/Deep-Learning-Comprehensive-Programming-Networks-ebook/dp/B085ZZ4CZX/ref=sr_1_263?keywords=data+analysis&qid=1671164689&sr=8-263</td>\n",
       "    </tr>\n",
       "    <tr>\n",
       "      <th id=\"T_f7659_level0_row21\" class=\"row_heading level0 row21\" >209</th>\n",
       "      <td id=\"T_f7659_row21_col0\" class=\"data row21 col0\" >Pandas for Everyone: Python Data Analysis (Addison-Wesley Data & Analytics Series)</td>\n",
       "      <td id=\"T_f7659_row21_col1\" class=\"data row21 col1\" >nan</td>\n",
       "      <td id=\"T_f7659_row21_col2\" class=\"data row21 col2\" >17.270000</td>\n",
       "      <td id=\"T_f7659_row21_col3\" class=\"data row21 col3\" >406</td>\n",
       "      <td id=\"T_f7659_row21_col4\" class=\"data row21 col4\" >4.500000</td>\n",
       "      <td id=\"T_f7659_row21_col5\" class=\"data row21 col5\" >274</td>\n",
       "      <td id=\"T_f7659_row21_col6\" class=\"data row21 col6\" >71%</td>\n",
       "      <td id=\"T_f7659_row21_col7\" class=\"data row21 col7\" >15%</td>\n",
       "      <td id=\"T_f7659_row21_col8\" class=\"data row21 col8\" >9%</td>\n",
       "      <td id=\"T_f7659_row21_col9\" class=\"data row21 col9\" >2%</td>\n",
       "      <td id=\"T_f7659_row21_col10\" class=\"data row21 col10\" >3%</td>\n",
       "      <td id=\"T_f7659_row21_col11\" class=\"data row21 col11\" >nan</td>\n",
       "      <td id=\"T_f7659_row21_col12\" class=\"data row21 col12\" >English</td>\n",
       "      <td id=\"T_f7659_row21_col13\" class=\"data row21 col13\" >Addison-Wesley Professional; 1st edition (December 15, 2017)</td>\n",
       "      <td id=\"T_f7659_row21_col14\" class=\"data row21 col14\" >nan</td>\n",
       "      <td id=\"T_f7659_row21_col15\" class=\"data row21 col15\" >/Pandas-Everyone-Analysis-Addison-Wesley-Analytics-ebook/dp/B0789WKTKJ/ref=sr_1_261?keywords=data+analysis&qid=1671164689&sr=8-261</td>\n",
       "      <td id=\"T_f7659_row21_col16\" class=\"data row21 col16\" >https://www.amazon.com/Pandas-Everyone-Analysis-Addison-Wesley-Analytics-ebook/dp/B0789WKTKJ/ref=sr_1_261?keywords=data+analysis&qid=1671164689&sr=8-261</td>\n",
       "    </tr>\n",
       "    <tr>\n",
       "      <th id=\"T_f7659_level0_row22\" class=\"row_heading level0 row22\" >213</th>\n",
       "      <td id=\"T_f7659_row22_col0\" class=\"data row22 col0\" >Mastering pandas: A complete guide to pandas, from installation to advanced data analysis techniques, 2nd Edition</td>\n",
       "      <td id=\"T_f7659_row22_col1\" class=\"data row22 col1\" >[ Ashish Kumar]</td>\n",
       "      <td id=\"T_f7659_row22_col2\" class=\"data row22 col2\" >21.090000</td>\n",
       "      <td id=\"T_f7659_row22_col3\" class=\"data row22 col3\" >1004</td>\n",
       "      <td id=\"T_f7659_row22_col4\" class=\"data row22 col4\" >4.400000</td>\n",
       "      <td id=\"T_f7659_row22_col5\" class=\"data row22 col5\" >11</td>\n",
       "      <td id=\"T_f7659_row22_col6\" class=\"data row22 col6\" >51%</td>\n",
       "      <td id=\"T_f7659_row22_col7\" class=\"data row22 col7\" >37%</td>\n",
       "      <td id=\"T_f7659_row22_col8\" class=\"data row22 col8\" >13%</td>\n",
       "      <td id=\"T_f7659_row22_col9\" class=\"data row22 col9\" >nan</td>\n",
       "      <td id=\"T_f7659_row22_col10\" class=\"data row22 col10\" >nan</td>\n",
       "      <td id=\"T_f7659_row22_col11\" class=\"data row22 col11\" >nan</td>\n",
       "      <td id=\"T_f7659_row22_col12\" class=\"data row22 col12\" >English</td>\n",
       "      <td id=\"T_f7659_row22_col13\" class=\"data row22 col13\" >Packt Publishing; 2nd edition (October 25, 2019)</td>\n",
       "      <td id=\"T_f7659_row22_col14\" class=\"data row22 col14\" >nan</td>\n",
       "      <td id=\"T_f7659_row22_col15\" class=\"data row22 col15\" >/Mastering-pandas-complete-installation-techniques-ebook/dp/B07WFM4JXZ/ref=sr_1_249?keywords=data+analysis&qid=1671164689&sr=8-249</td>\n",
       "      <td id=\"T_f7659_row22_col16\" class=\"data row22 col16\" >https://www.amazon.com/Mastering-pandas-complete-installation-techniques-ebook/dp/B07WFM4JXZ/ref=sr_1_249?keywords=data+analysis&qid=1671164689&sr=8-249</td>\n",
       "    </tr>\n",
       "    <tr>\n",
       "      <th id=\"T_f7659_level0_row23\" class=\"row_heading level0 row23\" >221</th>\n",
       "      <td id=\"T_f7659_row23_col0\" class=\"data row23 col0\" >PYTHON ALGORITHMS: A Complete Guide to Learn Python for Data Analysis, Machine Learning, and Coding from Scratch (Python programming language)</td>\n",
       "      <td id=\"T_f7659_row23_col1\" class=\"data row23 col1\" >nan</td>\n",
       "      <td id=\"T_f7659_row23_col2\" class=\"data row23 col2\" >nan</td>\n",
       "      <td id=\"T_f7659_row23_col3\" class=\"data row23 col3\" >126</td>\n",
       "      <td id=\"T_f7659_row23_col4\" class=\"data row23 col4\" >3.600000</td>\n",
       "      <td id=\"T_f7659_row23_col5\" class=\"data row23 col5\" >78</td>\n",
       "      <td id=\"T_f7659_row23_col6\" class=\"data row23 col6\" >47%</td>\n",
       "      <td id=\"T_f7659_row23_col7\" class=\"data row23 col7\" >13%</td>\n",
       "      <td id=\"T_f7659_row23_col8\" class=\"data row23 col8\" >15%</td>\n",
       "      <td id=\"T_f7659_row23_col9\" class=\"data row23 col9\" >5%</td>\n",
       "      <td id=\"T_f7659_row23_col10\" class=\"data row23 col10\" >20%</td>\n",
       "      <td id=\"T_f7659_row23_col11\" class=\"data row23 col11\" >nan</td>\n",
       "      <td id=\"T_f7659_row23_col12\" class=\"data row23 col12\" >English</td>\n",
       "      <td id=\"T_f7659_row23_col13\" class=\"data row23 col13\" >nan</td>\n",
       "      <td id=\"T_f7659_row23_col14\" class=\"data row23 col14\" >nan</td>\n",
       "      <td id=\"T_f7659_row23_col15\" class=\"data row23 col15\" >/PYTHON-ALGORITHMS-Complete-Analysis-programming-ebook/dp/B08QFYCMBM/ref=sr_1_221?keywords=data+analysis&qid=1671164678&sr=8-221</td>\n",
       "      <td id=\"T_f7659_row23_col16\" class=\"data row23 col16\" >https://www.amazon.com/PYTHON-ALGORITHMS-Complete-Analysis-programming-ebook/dp/B08QFYCMBM/ref=sr_1_221?keywords=data+analysis&qid=1671164678&sr=8-221</td>\n",
       "    </tr>\n",
       "    <tr>\n",
       "      <th id=\"T_f7659_level0_row24\" class=\"row_heading level0 row24\" >235</th>\n",
       "      <td id=\"T_f7659_row24_col0\" class=\"data row24 col0\" >Big Data Analysis with Python: Combine Spark and Python to unlock the powers of parallel computing and machine learning</td>\n",
       "      <td id=\"T_f7659_row24_col1\" class=\"data row24 col1\" >[ Ivan Marin, Ankit Shukla, et al.]</td>\n",
       "      <td id=\"T_f7659_row24_col2\" class=\"data row24 col2\" >13.290000</td>\n",
       "      <td id=\"T_f7659_row24_col3\" class=\"data row24 col3\" >278</td>\n",
       "      <td id=\"T_f7659_row24_col4\" class=\"data row24 col4\" >3.700000</td>\n",
       "      <td id=\"T_f7659_row24_col5\" class=\"data row24 col5\" >5</td>\n",
       "      <td id=\"T_f7659_row24_col6\" class=\"data row24 col6\" >68%</td>\n",
       "      <td id=\"T_f7659_row24_col7\" class=\"data row24 col7\" >32%</td>\n",
       "      <td id=\"T_f7659_row24_col8\" class=\"data row24 col8\" >nan</td>\n",
       "      <td id=\"T_f7659_row24_col9\" class=\"data row24 col9\" >nan</td>\n",
       "      <td id=\"T_f7659_row24_col10\" class=\"data row24 col10\" >nan</td>\n",
       "      <td id=\"T_f7659_row24_col11\" class=\"data row24 col11\" >nan</td>\n",
       "      <td id=\"T_f7659_row24_col12\" class=\"data row24 col12\" >English</td>\n",
       "      <td id=\"T_f7659_row24_col13\" class=\"data row24 col13\" >Packt Publishing; 1st edition (April 10, 2019)</td>\n",
       "      <td id=\"T_f7659_row24_col14\" class=\"data row24 col14\" >nan</td>\n",
       "      <td id=\"T_f7659_row24_col15\" class=\"data row24 col15\" >/Big-Data-Analysis-Python-computing-ebook/dp/B07KX3W4K5/ref=sr_1_204?keywords=data+analysis&qid=1671164678&sr=8-204</td>\n",
       "      <td id=\"T_f7659_row24_col16\" class=\"data row24 col16\" >https://www.amazon.com/Big-Data-Analysis-Python-computing-ebook/dp/B07KX3W4K5/ref=sr_1_204?keywords=data+analysis&qid=1671164678&sr=8-204</td>\n",
       "    </tr>\n",
       "    <tr>\n",
       "      <th id=\"T_f7659_level0_row25\" class=\"row_heading level0 row25\" >238</th>\n",
       "      <td id=\"T_f7659_row25_col0\" class=\"data row25 col0\" >Bayesian Artificial Intelligence (Chapman & Hall/CRC Computer Science & Data Analysis Book 2)</td>\n",
       "      <td id=\"T_f7659_row25_col1\" class=\"data row25 col1\" >nan</td>\n",
       "      <td id=\"T_f7659_row25_col2\" class=\"data row25 col2\" >52.170000</td>\n",
       "      <td id=\"T_f7659_row25_col3\" class=\"data row25 col3\" >491</td>\n",
       "      <td id=\"T_f7659_row25_col4\" class=\"data row25 col4\" >4.100000</td>\n",
       "      <td id=\"T_f7659_row25_col5\" class=\"data row25 col5\" >6</td>\n",
       "      <td id=\"T_f7659_row25_col6\" class=\"data row25 col6\" >38%</td>\n",
       "      <td id=\"T_f7659_row25_col7\" class=\"data row25 col7\" >34%</td>\n",
       "      <td id=\"T_f7659_row25_col8\" class=\"data row25 col8\" >29%</td>\n",
       "      <td id=\"T_f7659_row25_col9\" class=\"data row25 col9\" >nan</td>\n",
       "      <td id=\"T_f7659_row25_col10\" class=\"data row25 col10\" >nan</td>\n",
       "      <td id=\"T_f7659_row25_col11\" class=\"data row25 col11\" >nan</td>\n",
       "      <td id=\"T_f7659_row25_col12\" class=\"data row25 col12\" >English</td>\n",
       "      <td id=\"T_f7659_row25_col13\" class=\"data row25 col13\" >CRC Press; 2nd edition (December 16, 2010)</td>\n",
       "      <td id=\"T_f7659_row25_col14\" class=\"data row25 col14\" >nan</td>\n",
       "      <td id=\"T_f7659_row25_col15\" class=\"data row25 col15\" >/Bayesian-Artificial-Intelligence-Computer-Analysis-ebook/dp/B00I60M1EY/ref=sr_1_203?keywords=data+analysis&qid=1671164678&sr=8-203</td>\n",
       "      <td id=\"T_f7659_row25_col16\" class=\"data row25 col16\" >https://www.amazon.com/Bayesian-Artificial-Intelligence-Computer-Analysis-ebook/dp/B00I60M1EY/ref=sr_1_203?keywords=data+analysis&qid=1671164678&sr=8-203</td>\n",
       "    </tr>\n",
       "    <tr>\n",
       "      <th id=\"T_f7659_level0_row26\" class=\"row_heading level0 row26\" >245</th>\n",
       "      <td id=\"T_f7659_row26_col0\" class=\"data row26 col0\" >The Dropout Multi-Millionaire: 37 Business Lessons on How to Succeed in Business With No Money, No Education and No Clue</td>\n",
       "      <td id=\"T_f7659_row26_col1\" class=\"data row26 col1\" >[ Brian  WIll]</td>\n",
       "      <td id=\"T_f7659_row26_col2\" class=\"data row26 col2\" >0.990000</td>\n",
       "      <td id=\"T_f7659_row26_col3\" class=\"data row26 col3\" >162</td>\n",
       "      <td id=\"T_f7659_row26_col4\" class=\"data row26 col4\" >4.600000</td>\n",
       "      <td id=\"T_f7659_row26_col5\" class=\"data row26 col5\" >235</td>\n",
       "      <td id=\"T_f7659_row26_col6\" class=\"data row26 col6\" >75%</td>\n",
       "      <td id=\"T_f7659_row26_col7\" class=\"data row26 col7\" >16%</td>\n",
       "      <td id=\"T_f7659_row26_col8\" class=\"data row26 col8\" >6%</td>\n",
       "      <td id=\"T_f7659_row26_col9\" class=\"data row26 col9\" >1%</td>\n",
       "      <td id=\"T_f7659_row26_col10\" class=\"data row26 col10\" >1%</td>\n",
       "      <td id=\"T_f7659_row26_col11\" class=\"data row26 col11\" >nan</td>\n",
       "      <td id=\"T_f7659_row26_col12\" class=\"data row26 col12\" >English</td>\n",
       "      <td id=\"T_f7659_row26_col13\" class=\"data row26 col13\" >Bookmark Publishing House (April 30, 2021)</td>\n",
       "      <td id=\"T_f7659_row26_col14\" class=\"data row26 col14\" >nan</td>\n",
       "      <td id=\"T_f7659_row26_col15\" class=\"data row26 col15\" >/Dropout-Multi-Millionaire-Business-Lessons-Education-ebook/dp/B093Y3BFCF/ref=sr_1_173?keywords=data+analysis&qid=1671164670&sr=8-173</td>\n",
       "      <td id=\"T_f7659_row26_col16\" class=\"data row26 col16\" >https://www.amazon.com/Dropout-Multi-Millionaire-Business-Lessons-Education-ebook/dp/B093Y3BFCF/ref=sr_1_173?keywords=data+analysis&qid=1671164670&sr=8-173</td>\n",
       "    </tr>\n",
       "    <tr>\n",
       "      <th id=\"T_f7659_level0_row27\" class=\"row_heading level0 row27\" >253</th>\n",
       "      <td id=\"T_f7659_row27_col0\" class=\"data row27 col0\" >Data Analysis from Scratch Python: 2 Books in 1: Basic Data Analysis and Time Series Analysis in Finance using Python (Financial Data Analytics Using Python)</td>\n",
       "      <td id=\"T_f7659_row27_col1\" class=\"data row27 col1\" >nan</td>\n",
       "      <td id=\"T_f7659_row27_col2\" class=\"data row27 col2\" >24.990000</td>\n",
       "      <td id=\"T_f7659_row27_col3\" class=\"data row27 col3\" >333</td>\n",
       "      <td id=\"T_f7659_row27_col4\" class=\"data row27 col4\" >5.000000</td>\n",
       "      <td id=\"T_f7659_row27_col5\" class=\"data row27 col5\" >3</td>\n",
       "      <td id=\"T_f7659_row27_col6\" class=\"data row27 col6\" >100%</td>\n",
       "      <td id=\"T_f7659_row27_col7\" class=\"data row27 col7\" >nan</td>\n",
       "      <td id=\"T_f7659_row27_col8\" class=\"data row27 col8\" >nan</td>\n",
       "      <td id=\"T_f7659_row27_col9\" class=\"data row27 col9\" >nan</td>\n",
       "      <td id=\"T_f7659_row27_col10\" class=\"data row27 col10\" >nan</td>\n",
       "      <td id=\"T_f7659_row27_col11\" class=\"data row27 col11\" >nan</td>\n",
       "      <td id=\"T_f7659_row27_col12\" class=\"data row27 col12\" >English</td>\n",
       "      <td id=\"T_f7659_row27_col13\" class=\"data row27 col13\" >nan</td>\n",
       "      <td id=\"T_f7659_row27_col14\" class=\"data row27 col14\" >nan</td>\n",
       "      <td id=\"T_f7659_row27_col15\" class=\"data row27 col15\" >/Data-Analysis-Scratch-Python-Finance-ebook/dp/B08CCSWT37/ref=sr_1_170?keywords=data+analysis&qid=1671164670&sr=8-170</td>\n",
       "      <td id=\"T_f7659_row27_col16\" class=\"data row27 col16\" >https://www.amazon.com/Data-Analysis-Scratch-Python-Finance-ebook/dp/B08CCSWT37/ref=sr_1_170?keywords=data+analysis&qid=1671164670&sr=8-170</td>\n",
       "    </tr>\n",
       "    <tr>\n",
       "      <th id=\"T_f7659_level0_row28\" class=\"row_heading level0 row28\" >258</th>\n",
       "      <td id=\"T_f7659_row28_col0\" class=\"data row28 col0\" >Python for Data Analysis: From the Beginner to Expert Crash Course 3.0 that will Change your Life as a Digital Programmer Thanks to the Minimalism of this Manual. Deep Machine Learning and Big Data</td>\n",
       "      <td id=\"T_f7659_row28_col1\" class=\"data row28 col1\" >[ Mik Arduino]</td>\n",
       "      <td id=\"T_f7659_row28_col2\" class=\"data row28 col2\" >nan</td>\n",
       "      <td id=\"T_f7659_row28_col3\" class=\"data row28 col3\" >162</td>\n",
       "      <td id=\"T_f7659_row28_col4\" class=\"data row28 col4\" >3.000000</td>\n",
       "      <td id=\"T_f7659_row28_col5\" class=\"data row28 col5\" >1</td>\n",
       "      <td id=\"T_f7659_row28_col6\" class=\"data row28 col6\" >100%</td>\n",
       "      <td id=\"T_f7659_row28_col7\" class=\"data row28 col7\" >nan</td>\n",
       "      <td id=\"T_f7659_row28_col8\" class=\"data row28 col8\" >nan</td>\n",
       "      <td id=\"T_f7659_row28_col9\" class=\"data row28 col9\" >nan</td>\n",
       "      <td id=\"T_f7659_row28_col10\" class=\"data row28 col10\" >nan</td>\n",
       "      <td id=\"T_f7659_row28_col11\" class=\"data row28 col11\" >nan</td>\n",
       "      <td id=\"T_f7659_row28_col12\" class=\"data row28 col12\" >English</td>\n",
       "      <td id=\"T_f7659_row28_col13\" class=\"data row28 col13\" >nan</td>\n",
       "      <td id=\"T_f7659_row28_col14\" class=\"data row28 col14\" >nan</td>\n",
       "      <td id=\"T_f7659_row28_col15\" class=\"data row28 col15\" >/Python-Data-Analysis-Programmer-Minimalism-ebook/dp/B081K251FY/ref=sr_1_160?keywords=data+analysis&qid=1671164670&sr=8-160</td>\n",
       "      <td id=\"T_f7659_row28_col16\" class=\"data row28 col16\" >https://www.amazon.com/Python-Data-Analysis-Programmer-Minimalism-ebook/dp/B081K251FY/ref=sr_1_160?keywords=data+analysis&qid=1671164670&sr=8-160</td>\n",
       "    </tr>\n",
       "    <tr>\n",
       "      <th id=\"T_f7659_level0_row29\" class=\"row_heading level0 row29\" >279</th>\n",
       "      <td id=\"T_f7659_row29_col0\" class=\"data row29 col0\" >The Art of Statistical Thinking: Detect Misinformation, Understand the World Deeper, and Make Better Decisions. (Advanced Thinking Skills Book 3)</td>\n",
       "      <td id=\"T_f7659_row29_col1\" class=\"data row29 col1\" >nan</td>\n",
       "      <td id=\"T_f7659_row29_col2\" class=\"data row29 col2\" >4.990000</td>\n",
       "      <td id=\"T_f7659_row29_col3\" class=\"data row29 col3\" >178</td>\n",
       "      <td id=\"T_f7659_row29_col4\" class=\"data row29 col4\" >4.400000</td>\n",
       "      <td id=\"T_f7659_row29_col5\" class=\"data row29 col5\" >13</td>\n",
       "      <td id=\"T_f7659_row29_col6\" class=\"data row29 col6\" >50%</td>\n",
       "      <td id=\"T_f7659_row29_col7\" class=\"data row29 col7\" >39%</td>\n",
       "      <td id=\"T_f7659_row29_col8\" class=\"data row29 col8\" >11%</td>\n",
       "      <td id=\"T_f7659_row29_col9\" class=\"data row29 col9\" >nan</td>\n",
       "      <td id=\"T_f7659_row29_col10\" class=\"data row29 col10\" >nan</td>\n",
       "      <td id=\"T_f7659_row29_col11\" class=\"data row29 col11\" >nan</td>\n",
       "      <td id=\"T_f7659_row29_col12\" class=\"data row29 col12\" >English</td>\n",
       "      <td id=\"T_f7659_row29_col13\" class=\"data row29 col13\" >ARB Publications; 1st edition (October 13, 2022)</td>\n",
       "      <td id=\"T_f7659_row29_col14\" class=\"data row29 col14\" >nan</td>\n",
       "      <td id=\"T_f7659_row29_col15\" class=\"data row29 col15\" >/Art-Statistical-Thinking-Misinformation-Understand-ebook/dp/B0BJ7QGMBL/ref=sr_1_120?keywords=data+analysis&qid=1671164661&sr=8-120</td>\n",
       "      <td id=\"T_f7659_row29_col16\" class=\"data row29 col16\" >https://www.amazon.com/Art-Statistical-Thinking-Misinformation-Understand-ebook/dp/B0BJ7QGMBL/ref=sr_1_120?keywords=data+analysis&qid=1671164661&sr=8-120</td>\n",
       "    </tr>\n",
       "    <tr>\n",
       "      <th id=\"T_f7659_level0_row30\" class=\"row_heading level0 row30\" >284</th>\n",
       "      <td id=\"T_f7659_row30_col0\" class=\"data row30 col0\" >The Economics of Data, Analytics, and Digital Transformation: The theorems, laws, and empowerments to guide your organization’s digital transformation</td>\n",
       "      <td id=\"T_f7659_row30_col1\" class=\"data row30 col1\" >[ Bill Schmarzo,  and , Dr. Kirk Borne]</td>\n",
       "      <td id=\"T_f7659_row30_col2\" class=\"data row30 col2\" >17.840000</td>\n",
       "      <td id=\"T_f7659_row30_col3\" class=\"data row30 col3\" >260</td>\n",
       "      <td id=\"T_f7659_row30_col4\" class=\"data row30 col4\" >4.200000</td>\n",
       "      <td id=\"T_f7659_row30_col5\" class=\"data row30 col5\" >96</td>\n",
       "      <td id=\"T_f7659_row30_col6\" class=\"data row30 col6\" >59%</td>\n",
       "      <td id=\"T_f7659_row30_col7\" class=\"data row30 col7\" >20%</td>\n",
       "      <td id=\"T_f7659_row30_col8\" class=\"data row30 col8\" >11%</td>\n",
       "      <td id=\"T_f7659_row30_col9\" class=\"data row30 col9\" >5%</td>\n",
       "      <td id=\"T_f7659_row30_col10\" class=\"data row30 col10\" >6%</td>\n",
       "      <td id=\"T_f7659_row30_col11\" class=\"data row30 col11\" >nan</td>\n",
       "      <td id=\"T_f7659_row30_col12\" class=\"data row30 col12\" >English</td>\n",
       "      <td id=\"T_f7659_row30_col13\" class=\"data row30 col13\" >Packt Publishing; 1st edition (November 30, 2020)</td>\n",
       "      <td id=\"T_f7659_row30_col14\" class=\"data row30 col14\" >nan</td>\n",
       "      <td id=\"T_f7659_row30_col15\" class=\"data row30 col15\" >/Economics-Data-Analytics-Digital-Transformation-ebook/dp/B08M3XPCHW/ref=sr_1_111?keywords=data+analysis&qid=1671164661&sr=8-111</td>\n",
       "      <td id=\"T_f7659_row30_col16\" class=\"data row30 col16\" >https://www.amazon.com/Economics-Data-Analytics-Digital-Transformation-ebook/dp/B08M3XPCHW/ref=sr_1_111?keywords=data+analysis&qid=1671164661&sr=8-111</td>\n",
       "    </tr>\n",
       "    <tr>\n",
       "      <th id=\"T_f7659_level0_row31\" class=\"row_heading level0 row31\" >299</th>\n",
       "      <td id=\"T_f7659_row31_col0\" class=\"data row31 col0\" >Data Analysis with IBM SPSS Statistics: Implementing Data Modeling, Descriptive Statistics and ANOVA</td>\n",
       "      <td id=\"T_f7659_row31_col1\" class=\"data row31 col1\" >[ Kenneth Stehlik-Barry,  and , Anthony J. Babinec]</td>\n",
       "      <td id=\"T_f7659_row31_col2\" class=\"data row31 col2\" >37.490000</td>\n",
       "      <td id=\"T_f7659_row31_col3\" class=\"data row31 col3\" >682</td>\n",
       "      <td id=\"T_f7659_row31_col4\" class=\"data row31 col4\" >3.800000</td>\n",
       "      <td id=\"T_f7659_row31_col5\" class=\"data row31 col5\" >8</td>\n",
       "      <td id=\"T_f7659_row31_col6\" class=\"data row31 col6\" >53%</td>\n",
       "      <td id=\"T_f7659_row31_col7\" class=\"data row31 col7\" >23%</td>\n",
       "      <td id=\"T_f7659_row31_col8\" class=\"data row31 col8\" >24%</td>\n",
       "      <td id=\"T_f7659_row31_col9\" class=\"data row31 col9\" >nan</td>\n",
       "      <td id=\"T_f7659_row31_col10\" class=\"data row31 col10\" >nan</td>\n",
       "      <td id=\"T_f7659_row31_col11\" class=\"data row31 col11\" >nan</td>\n",
       "      <td id=\"T_f7659_row31_col12\" class=\"data row31 col12\" >English</td>\n",
       "      <td id=\"T_f7659_row31_col13\" class=\"data row31 col13\" >Packt Publishing; 1st edition (September 22, 2017)</td>\n",
       "      <td id=\"T_f7659_row31_col14\" class=\"data row31 col14\" >nan</td>\n",
       "      <td id=\"T_f7659_row31_col15\" class=\"data row31 col15\" >/Data-Analysis-IBM-SPSS-Statistics-ebook/dp/B0728K1C3F/ref=sr_1_75?keywords=data+analysis&qid=1671164651&sr=8-75</td>\n",
       "      <td id=\"T_f7659_row31_col16\" class=\"data row31 col16\" >https://www.amazon.com/Data-Analysis-IBM-SPSS-Statistics-ebook/dp/B0728K1C3F/ref=sr_1_75?keywords=data+analysis&qid=1671164651&sr=8-75</td>\n",
       "    </tr>\n",
       "    <tr>\n",
       "      <th id=\"T_f7659_level0_row32\" class=\"row_heading level0 row32\" >304</th>\n",
       "      <td id=\"T_f7659_row32_col0\" class=\"data row32 col0\" >The Statistical Analysis of Functional MRI Data (Statistics for Biology and Health)</td>\n",
       "      <td id=\"T_f7659_row32_col1\" class=\"data row32 col1\" >nan</td>\n",
       "      <td id=\"T_f7659_row32_col2\" class=\"data row32 col2\" >100.330000</td>\n",
       "      <td id=\"T_f7659_row32_col3\" class=\"data row32 col3\" >313</td>\n",
       "      <td id=\"T_f7659_row32_col4\" class=\"data row32 col4\" >5.000000</td>\n",
       "      <td id=\"T_f7659_row32_col5\" class=\"data row32 col5\" >2</td>\n",
       "      <td id=\"T_f7659_row32_col6\" class=\"data row32 col6\" >100%</td>\n",
       "      <td id=\"T_f7659_row32_col7\" class=\"data row32 col7\" >nan</td>\n",
       "      <td id=\"T_f7659_row32_col8\" class=\"data row32 col8\" >nan</td>\n",
       "      <td id=\"T_f7659_row32_col9\" class=\"data row32 col9\" >nan</td>\n",
       "      <td id=\"T_f7659_row32_col10\" class=\"data row32 col10\" >nan</td>\n",
       "      <td id=\"T_f7659_row32_col11\" class=\"data row32 col11\" >nan</td>\n",
       "      <td id=\"T_f7659_row32_col12\" class=\"data row32 col12\" >English</td>\n",
       "      <td id=\"T_f7659_row32_col13\" class=\"data row32 col13\" >Springer; 2008th edition (June 10, 2008)</td>\n",
       "      <td id=\"T_f7659_row32_col14\" class=\"data row32 col14\" >nan</td>\n",
       "      <td id=\"T_f7659_row32_col15\" class=\"data row32 col15\" >/Statistical-Analysis-Functional-Statistics-Biology-ebook/dp/B001WAJXXM/ref=sr_1_71?keywords=data+analysis&qid=1671164651&sr=8-71</td>\n",
       "      <td id=\"T_f7659_row32_col16\" class=\"data row32 col16\" >https://www.amazon.com/Statistical-Analysis-Functional-Statistics-Biology-ebook/dp/B001WAJXXM/ref=sr_1_71?keywords=data+analysis&qid=1671164651&sr=8-71</td>\n",
       "    </tr>\n",
       "    <tr>\n",
       "      <th id=\"T_f7659_level0_row33\" class=\"row_heading level0 row33\" >306</th>\n",
       "      <td id=\"T_f7659_row33_col0\" class=\"data row33 col0\" >Data Analytics, Data Visualization & Communicating Data: 3 books in 1: Learn the Processes of Data Analytics and Data Science, Create Engaging Data Visualizations, ... Present Data Effectively (All Things Data)</td>\n",
       "      <td id=\"T_f7659_row33_col1\" class=\"data row33 col1\" >nan</td>\n",
       "      <td id=\"T_f7659_row33_col2\" class=\"data row33 col2\" >nan</td>\n",
       "      <td id=\"T_f7659_row33_col3\" class=\"data row33 col3\" >530</td>\n",
       "      <td id=\"T_f7659_row33_col4\" class=\"data row33 col4\" >4.600000</td>\n",
       "      <td id=\"T_f7659_row33_col5\" class=\"data row33 col5\" >20</td>\n",
       "      <td id=\"T_f7659_row33_col6\" class=\"data row33 col6\" >81%</td>\n",
       "      <td id=\"T_f7659_row33_col7\" class=\"data row33 col7\" >11%</td>\n",
       "      <td id=\"T_f7659_row33_col8\" class=\"data row33 col8\" >7%</td>\n",
       "      <td id=\"T_f7659_row33_col9\" class=\"data row33 col9\" >nan</td>\n",
       "      <td id=\"T_f7659_row33_col10\" class=\"data row33 col10\" >nan</td>\n",
       "      <td id=\"T_f7659_row33_col11\" class=\"data row33 col11\" >nan</td>\n",
       "      <td id=\"T_f7659_row33_col12\" class=\"data row33 col12\" >English</td>\n",
       "      <td id=\"T_f7659_row33_col13\" class=\"data row33 col13\" >nan</td>\n",
       "      <td id=\"T_f7659_row33_col14\" class=\"data row33 col14\" >nan</td>\n",
       "      <td id=\"T_f7659_row33_col15\" class=\"data row33 col15\" >/Data-Analytics-Visualization-Communicating-Visualizations-ebook/dp/B0BM1WP239/ref=sr_1_62?keywords=data+analysis&qid=1671164651&sr=8-62</td>\n",
       "      <td id=\"T_f7659_row33_col16\" class=\"data row33 col16\" >https://www.amazon.com/Data-Analytics-Visualization-Communicating-Visualizations-ebook/dp/B0BM1WP239/ref=sr_1_62?keywords=data+analysis&qid=1671164651&sr=8-62</td>\n",
       "    </tr>\n",
       "    <tr>\n",
       "      <th id=\"T_f7659_level0_row34\" class=\"row_heading level0 row34\" >311</th>\n",
       "      <td id=\"T_f7659_row34_col0\" class=\"data row34 col0\" >Microsoft Excel: Advanced Microsoft Excel Data Analysis for Business</td>\n",
       "      <td id=\"T_f7659_row34_col1\" class=\"data row34 col1\" >[ John Slavio, Dave Wright, et al.]</td>\n",
       "      <td id=\"T_f7659_row34_col2\" class=\"data row34 col2\" >nan</td>\n",
       "      <td id=\"T_f7659_row34_col3\" class=\"data row34 col3\" >nan</td>\n",
       "      <td id=\"T_f7659_row34_col4\" class=\"data row34 col4\" >2.800000</td>\n",
       "      <td id=\"T_f7659_row34_col5\" class=\"data row34 col5\" >26</td>\n",
       "      <td id=\"T_f7659_row34_col6\" class=\"data row34 col6\" >24%</td>\n",
       "      <td id=\"T_f7659_row34_col7\" class=\"data row34 col7\" >10%</td>\n",
       "      <td id=\"T_f7659_row34_col8\" class=\"data row34 col8\" >18%</td>\n",
       "      <td id=\"T_f7659_row34_col9\" class=\"data row34 col9\" >18%</td>\n",
       "      <td id=\"T_f7659_row34_col10\" class=\"data row34 col10\" >29%</td>\n",
       "      <td id=\"T_f7659_row34_col11\" class=\"data row34 col11\" >nan</td>\n",
       "      <td id=\"T_f7659_row34_col12\" class=\"data row34 col12\" >English</td>\n",
       "      <td id=\"T_f7659_row34_col13\" class=\"data row34 col13\" >nan</td>\n",
       "      <td id=\"T_f7659_row34_col14\" class=\"data row34 col14\" >nan</td>\n",
       "      <td id=\"T_f7659_row34_col15\" class=\"data row34 col15\" >/Microsoft-Excel-Advanced-Analysis-Business/dp/B07RDMGJX3/ref=sr_1_60?keywords=data+analysis&qid=1671164651&sr=8-60</td>\n",
       "      <td id=\"T_f7659_row34_col16\" class=\"data row34 col16\" >https://www.amazon.com/Microsoft-Excel-Advanced-Analysis-Business/dp/B07RDMGJX3/ref=sr_1_60?keywords=data+analysis&qid=1671164651&sr=8-60</td>\n",
       "    </tr>\n",
       "    <tr>\n",
       "      <th id=\"T_f7659_level0_row35\" class=\"row_heading level0 row35\" >312</th>\n",
       "      <td id=\"T_f7659_row35_col0\" class=\"data row35 col0\" >PYTHON FOR DATA ANALYSIS: Master the Basics of Data Analysis in Python Using Numpy & Pandas: Answers all your Questions Step-by-Step (Programming for Beginners: A Friendly Q & A Guide Book 3)</td>\n",
       "      <td id=\"T_f7659_row35_col1\" class=\"data row35 col1\" >nan</td>\n",
       "      <td id=\"T_f7659_row35_col2\" class=\"data row35 col2\" >nan</td>\n",
       "      <td id=\"T_f7659_row35_col3\" class=\"data row35 col3\" >62</td>\n",
       "      <td id=\"T_f7659_row35_col4\" class=\"data row35 col4\" >4.000000</td>\n",
       "      <td id=\"T_f7659_row35_col5\" class=\"data row35 col5\" >37</td>\n",
       "      <td id=\"T_f7659_row35_col6\" class=\"data row35 col6\" >54%</td>\n",
       "      <td id=\"T_f7659_row35_col7\" class=\"data row35 col7\" >12%</td>\n",
       "      <td id=\"T_f7659_row35_col8\" class=\"data row35 col8\" >25%</td>\n",
       "      <td id=\"T_f7659_row35_col9\" class=\"data row35 col9\" >4%</td>\n",
       "      <td id=\"T_f7659_row35_col10\" class=\"data row35 col10\" >6%</td>\n",
       "      <td id=\"T_f7659_row35_col11\" class=\"data row35 col11\" >nan</td>\n",
       "      <td id=\"T_f7659_row35_col12\" class=\"data row35 col12\" >English</td>\n",
       "      <td id=\"T_f7659_row35_col13\" class=\"data row35 col13\" >nan</td>\n",
       "      <td id=\"T_f7659_row35_col14\" class=\"data row35 col14\" >nan</td>\n",
       "      <td id=\"T_f7659_row35_col15\" class=\"data row35 col15\" >/PYTHON-DATA-ANALYSIS-Step-Step-ebook/dp/B07P689SZ3/ref=sr_1_59?keywords=data+analysis&qid=1671164651&sr=8-59</td>\n",
       "      <td id=\"T_f7659_row35_col16\" class=\"data row35 col16\" >https://www.amazon.com/PYTHON-DATA-ANALYSIS-Step-Step-ebook/dp/B07P689SZ3/ref=sr_1_59?keywords=data+analysis&qid=1671164651&sr=8-59</td>\n",
       "    </tr>\n",
       "    <tr>\n",
       "      <th id=\"T_f7659_level0_row36\" class=\"row_heading level0 row36\" >318</th>\n",
       "      <td id=\"T_f7659_row36_col0\" class=\"data row36 col0\" >Statistics & Statistical Analysis Illustrated: Foundations You Should Know</td>\n",
       "      <td id=\"T_f7659_row36_col1\" class=\"data row36 col1\" >nan</td>\n",
       "      <td id=\"T_f7659_row36_col2\" class=\"data row36 col2\" >3.990000</td>\n",
       "      <td id=\"T_f7659_row36_col3\" class=\"data row36 col3\" >120</td>\n",
       "      <td id=\"T_f7659_row36_col4\" class=\"data row36 col4\" >4.100000</td>\n",
       "      <td id=\"T_f7659_row36_col5\" class=\"data row36 col5\" >16</td>\n",
       "      <td id=\"T_f7659_row36_col6\" class=\"data row36 col6\" >61%</td>\n",
       "      <td id=\"T_f7659_row36_col7\" class=\"data row36 col7\" >14%</td>\n",
       "      <td id=\"T_f7659_row36_col8\" class=\"data row36 col8\" >8%</td>\n",
       "      <td id=\"T_f7659_row36_col9\" class=\"data row36 col9\" >8%</td>\n",
       "      <td id=\"T_f7659_row36_col10\" class=\"data row36 col10\" >8%</td>\n",
       "      <td id=\"T_f7659_row36_col11\" class=\"data row36 col11\" >nan</td>\n",
       "      <td id=\"T_f7659_row36_col12\" class=\"data row36 col12\" >English</td>\n",
       "      <td id=\"T_f7659_row36_col13\" class=\"data row36 col13\" >nan</td>\n",
       "      <td id=\"T_f7659_row36_col14\" class=\"data row36 col14\" >nan</td>\n",
       "      <td id=\"T_f7659_row36_col15\" class=\"data row36 col15\" >/Statistics-Statistical-Analysis-Illustrated-Foundations-ebook/dp/B09QD64XSW/ref=sr_1_58?keywords=data+analysis&qid=1671164651&sr=8-58</td>\n",
       "      <td id=\"T_f7659_row36_col16\" class=\"data row36 col16\" >https://www.amazon.com/Statistics-Statistical-Analysis-Illustrated-Foundations-ebook/dp/B09QD64XSW/ref=sr_1_58?keywords=data+analysis&qid=1671164651&sr=8-58</td>\n",
       "    </tr>\n",
       "    <tr>\n",
       "      <th id=\"T_f7659_level0_row37\" class=\"row_heading level0 row37\" >322</th>\n",
       "      <td id=\"T_f7659_row37_col0\" class=\"data row37 col0\" >Python Data Analysis: Comprehensive Guide to Data Science, Analytics and Metrics with Python (Data Science and Analysis Book 1)</td>\n",
       "      <td id=\"T_f7659_row37_col1\" class=\"data row37 col1\" >nan</td>\n",
       "      <td id=\"T_f7659_row37_col2\" class=\"data row37 col2\" >nan</td>\n",
       "      <td id=\"T_f7659_row37_col3\" class=\"data row37 col3\" >82</td>\n",
       "      <td id=\"T_f7659_row37_col4\" class=\"data row37 col4\" >4.100000</td>\n",
       "      <td id=\"T_f7659_row37_col5\" class=\"data row37 col5\" >19</td>\n",
       "      <td id=\"T_f7659_row37_col6\" class=\"data row37 col6\" >65%</td>\n",
       "      <td id=\"T_f7659_row37_col7\" class=\"data row37 col7\" >7%</td>\n",
       "      <td id=\"T_f7659_row37_col8\" class=\"data row37 col8\" >16%</td>\n",
       "      <td id=\"T_f7659_row37_col9\" class=\"data row37 col9\" >12%</td>\n",
       "      <td id=\"T_f7659_row37_col10\" class=\"data row37 col10\" >nan</td>\n",
       "      <td id=\"T_f7659_row37_col11\" class=\"data row37 col11\" >nan</td>\n",
       "      <td id=\"T_f7659_row37_col12\" class=\"data row37 col12\" >English</td>\n",
       "      <td id=\"T_f7659_row37_col13\" class=\"data row37 col13\" >nan</td>\n",
       "      <td id=\"T_f7659_row37_col14\" class=\"data row37 col14\" >nan</td>\n",
       "      <td id=\"T_f7659_row37_col15\" class=\"data row37 col15\" >/Python-Data-Analysis-Comprehensive-Analytics-ebook/dp/B08KF5LXFD/ref=sr_1_54?keywords=data+analysis&qid=1671164651&sr=8-54</td>\n",
       "      <td id=\"T_f7659_row37_col16\" class=\"data row37 col16\" >https://www.amazon.com/Python-Data-Analysis-Comprehensive-Analytics-ebook/dp/B08KF5LXFD/ref=sr_1_54?keywords=data+analysis&qid=1671164651&sr=8-54</td>\n",
       "    </tr>\n",
       "    <tr>\n",
       "      <th id=\"T_f7659_level0_row38\" class=\"row_heading level0 row38\" >341</th>\n",
       "      <td id=\"T_f7659_row38_col0\" class=\"data row38 col0\" >Introduction to Multivariate Data Analysis (Easy Statistics)</td>\n",
       "      <td id=\"T_f7659_row38_col1\" class=\"data row38 col1\" >nan</td>\n",
       "      <td id=\"T_f7659_row38_col2\" class=\"data row38 col2\" >nan</td>\n",
       "      <td id=\"T_f7659_row38_col3\" class=\"data row38 col3\" >67</td>\n",
       "      <td id=\"T_f7659_row38_col4\" class=\"data row38 col4\" >4.400000</td>\n",
       "      <td id=\"T_f7659_row38_col5\" class=\"data row38 col5\" >3</td>\n",
       "      <td id=\"T_f7659_row38_col6\" class=\"data row38 col6\" >37%</td>\n",
       "      <td id=\"T_f7659_row38_col7\" class=\"data row38 col7\" >63%</td>\n",
       "      <td id=\"T_f7659_row38_col8\" class=\"data row38 col8\" >nan</td>\n",
       "      <td id=\"T_f7659_row38_col9\" class=\"data row38 col9\" >nan</td>\n",
       "      <td id=\"T_f7659_row38_col10\" class=\"data row38 col10\" >nan</td>\n",
       "      <td id=\"T_f7659_row38_col11\" class=\"data row38 col11\" >nan</td>\n",
       "      <td id=\"T_f7659_row38_col12\" class=\"data row38 col12\" >English</td>\n",
       "      <td id=\"T_f7659_row38_col13\" class=\"data row38 col13\" >anushabooks.com (June 22, 2022)</td>\n",
       "      <td id=\"T_f7659_row38_col14\" class=\"data row38 col14\" >nan</td>\n",
       "      <td id=\"T_f7659_row38_col15\" class=\"data row38 col15\" >/Introduction-Multivariate-Data-Analysis-Statistics-ebook/dp/B0B4W7743J/ref=sr_1_32?keywords=data+analysis&qid=1671164651&sr=8-32</td>\n",
       "      <td id=\"T_f7659_row38_col16\" class=\"data row38 col16\" >https://www.amazon.com/Introduction-Multivariate-Data-Analysis-Statistics-ebook/dp/B0B4W7743J/ref=sr_1_32?keywords=data+analysis&qid=1671164651&sr=8-32</td>\n",
       "    </tr>\n",
       "    <tr>\n",
       "      <th id=\"T_f7659_level0_row39\" class=\"row_heading level0 row39\" >374</th>\n",
       "      <td id=\"T_f7659_row39_col0\" class=\"data row39 col0\" >Python Basics: A Practical Introduction to Python 3</td>\n",
       "      <td id=\"T_f7659_row39_col1\" class=\"data row39 col1\" >[ David Amos, Dan Bader, et al.]</td>\n",
       "      <td id=\"T_f7659_row39_col2\" class=\"data row39 col2\" >9.990000</td>\n",
       "      <td id=\"T_f7659_row39_col3\" class=\"data row39 col3\" >637</td>\n",
       "      <td id=\"T_f7659_row39_col4\" class=\"data row39 col4\" >4.600000</td>\n",
       "      <td id=\"T_f7659_row39_col5\" class=\"data row39 col5\" >491</td>\n",
       "      <td id=\"T_f7659_row39_col6\" class=\"data row39 col6\" >77%</td>\n",
       "      <td id=\"T_f7659_row39_col7\" class=\"data row39 col7\" >16%</td>\n",
       "      <td id=\"T_f7659_row39_col8\" class=\"data row39 col8\" >4%</td>\n",
       "      <td id=\"T_f7659_row39_col9\" class=\"data row39 col9\" >2%</td>\n",
       "      <td id=\"T_f7659_row39_col10\" class=\"data row39 col10\" >1%</td>\n",
       "      <td id=\"T_f7659_row39_col11\" class=\"data row39 col11\" >nan</td>\n",
       "      <td id=\"T_f7659_row39_col12\" class=\"data row39 col12\" >English</td>\n",
       "      <td id=\"T_f7659_row39_col13\" class=\"data row39 col13\" >Real Python (realpython.com); 4th edition (August 30, 2022)</td>\n",
       "      <td id=\"T_f7659_row39_col14\" class=\"data row39 col14\" >nan</td>\n",
       "      <td id=\"T_f7659_row39_col15\" class=\"data row39 col15\" >/Python-Basics-Practical-Introduction-ebook/dp/B0BCN4H62C/ref=sr_1_27?keywords=python&qid=1671164641&sr=8-27</td>\n",
       "      <td id=\"T_f7659_row39_col16\" class=\"data row39 col16\" >https://www.amazon.com/Python-Basics-Practical-Introduction-ebook/dp/B0BCN4H62C/ref=sr_1_27?keywords=python&qid=1671164641&sr=8-27</td>\n",
       "    </tr>\n",
       "    <tr>\n",
       "      <th id=\"T_f7659_level0_row40\" class=\"row_heading level0 row40\" >381</th>\n",
       "      <td id=\"T_f7659_row40_col0\" class=\"data row40 col0\" >Python (2nd Edition): Learn Python in One Day and Learn It Well. Python for Beginners with Hands-on Project. (Learn Coding Fast with Hands-On Project Book 1)</td>\n",
       "      <td id=\"T_f7659_row40_col1\" class=\"data row40 col1\" >nan</td>\n",
       "      <td id=\"T_f7659_row40_col2\" class=\"data row40 col2\" >nan</td>\n",
       "      <td id=\"T_f7659_row40_col3\" class=\"data row40 col3\" >175</td>\n",
       "      <td id=\"T_f7659_row40_col4\" class=\"data row40 col4\" >4.500000</td>\n",
       "      <td id=\"T_f7659_row40_col5\" class=\"data row40 col5\" >1,542</td>\n",
       "      <td id=\"T_f7659_row40_col6\" class=\"data row40 col6\" >69%</td>\n",
       "      <td id=\"T_f7659_row40_col7\" class=\"data row40 col7\" >19%</td>\n",
       "      <td id=\"T_f7659_row40_col8\" class=\"data row40 col8\" >9%</td>\n",
       "      <td id=\"T_f7659_row40_col9\" class=\"data row40 col9\" >2%</td>\n",
       "      <td id=\"T_f7659_row40_col10\" class=\"data row40 col10\" >2%</td>\n",
       "      <td id=\"T_f7659_row40_col11\" class=\"data row40 col11\" >nan</td>\n",
       "      <td id=\"T_f7659_row40_col12\" class=\"data row40 col12\" >Concepts are presented in a \"to-the-point\" style to cater to the busy individual. With this book, you can learn Python in just one day and start coding immediately. </td>\n",
       "      <td id=\"T_f7659_row40_col13\" class=\"data row40 col13\" >Learn Coding Fast; 2nd edition (May 10, 2017)</td>\n",
       "      <td id=\"T_f7659_row40_col14\" class=\"data row40 col14\" >nan</td>\n",
       "      <td id=\"T_f7659_row40_col15\" class=\"data row40 col15\" >/Python-2nd-Beginners-Hands-Project-ebook/dp/B071Z2Q6TQ/ref=sr_1_25?keywords=python&qid=1671164641&sr=8-25</td>\n",
       "      <td id=\"T_f7659_row40_col16\" class=\"data row40 col16\" >https://www.amazon.com/Python-2nd-Beginners-Hands-Project-ebook/dp/B071Z2Q6TQ/ref=sr_1_25?keywords=python&qid=1671164641&sr=8-25</td>\n",
       "    </tr>\n",
       "    <tr>\n",
       "      <th id=\"T_f7659_level0_row41\" class=\"row_heading level0 row41\" >386</th>\n",
       "      <td id=\"T_f7659_row41_col0\" class=\"data row41 col0\" >2Pack Reptile Plants Hanging Silk Terrarium Plants with Suction Cup for Bearded Dragons,Lizards,Geckos,Snake,Hermit Crab Tank Habitat Decorations,Small Size,12 inches Green</td>\n",
       "      <td id=\"T_f7659_row41_col1\" class=\"data row41 col1\" >nan</td>\n",
       "      <td id=\"T_f7659_row41_col2\" class=\"data row41 col2\" >nan</td>\n",
       "      <td id=\"T_f7659_row41_col3\" class=\"data row41 col3\" >nan</td>\n",
       "      <td id=\"T_f7659_row41_col4\" class=\"data row41 col4\" >4.400000</td>\n",
       "      <td id=\"T_f7659_row41_col5\" class=\"data row41 col5\" >701</td>\n",
       "      <td id=\"T_f7659_row41_col6\" class=\"data row41 col6\" >68%</td>\n",
       "      <td id=\"T_f7659_row41_col7\" class=\"data row41 col7\" >15%</td>\n",
       "      <td id=\"T_f7659_row41_col8\" class=\"data row41 col8\" >9%</td>\n",
       "      <td id=\"T_f7659_row41_col9\" class=\"data row41 col9\" >4%</td>\n",
       "      <td id=\"T_f7659_row41_col10\" class=\"data row41 col10\" >3%</td>\n",
       "      <td id=\"T_f7659_row41_col11\" class=\"data row41 col11\" >nan</td>\n",
       "      <td id=\"T_f7659_row41_col12\" class=\"data row41 col12\" >English</td>\n",
       "      <td id=\"T_f7659_row41_col13\" class=\"data row41 col13\" >nan</td>\n",
       "      <td id=\"T_f7659_row41_col14\" class=\"data row41 col14\" >nan</td>\n",
       "      <td id=\"T_f7659_row41_col15\" class=\"data row41 col15\" >/Reptile-Hanging-Terrarium-Suction-Decorations/dp/B087N9VWHS/ref=sxin_25_sbl_swi?content-id=amzn1.sym.6ca367be-63d0-4765-855e-02d825778bca%3Aamzn1.sym.6ca367be-63d0-4765-855e-02d825778bca&cv_ct_cx=python&keywords=python&pd_rd_i=B087N9VWHS&pd_rd_r=de905080-8a65-431b-822d-b652734a0201&pd_rd_w=mMdXD&pd_rd_wg=I6FbD&pf_rd_p=6ca367be-63d0-4765-855e-02d825778bca&pf_rd_r=KWYW0166FNAF6HQDXMK4&qid=1671164641&sr=1-7-33f6704f-9b8e-4c12-a6e0-b7957fe916db</td>\n",
       "      <td id=\"T_f7659_row41_col16\" class=\"data row41 col16\" >https://www.amazon.com/Reptile-Hanging-Terrarium-Suction-Decorations/dp/B087N9VWHS/ref=sxin_25_sbl_swi?content-id=amzn1.sym.6ca367be-63d0-4765-855e-02d825778bca%3Aamzn1.sym.6ca367be-63d0-4765-855e-02d825778bca&cv_ct_cx=python&keywords=python&pd_rd_i=B087N9VWHS&pd_rd_r=de905080-8a65-431b-822d-b652734a0201&pd_rd_w=mMdXD&pd_rd_wg=I6FbD&pf_rd_p=6ca367be-63d0-4765-855e-02d825778bca&pf_rd_r=KWYW0166FNAF6HQDXMK4&qid=1671164641&sr=1-7-33f6704f-9b8e-4c12-a6e0-b7957fe916db</td>\n",
       "    </tr>\n",
       "    <tr>\n",
       "      <th id=\"T_f7659_level0_row42\" class=\"row_heading level0 row42\" >388</th>\n",
       "      <td id=\"T_f7659_row42_col0\" class=\"data row42 col0\" >kathson Reptile Vines Plants Flexible Bendable Jungle Climbing Vine Terrarium Plastic Plant Leaves Pet Tank Habitat Decor for Bearded Dragons Lizards Geckos Snakes Hermit Crab Frogs and More Reptiles</td>\n",
       "      <td id=\"T_f7659_row42_col1\" class=\"data row42 col1\" >nan</td>\n",
       "      <td id=\"T_f7659_row42_col2\" class=\"data row42 col2\" >nan</td>\n",
       "      <td id=\"T_f7659_row42_col3\" class=\"data row42 col3\" >nan</td>\n",
       "      <td id=\"T_f7659_row42_col4\" class=\"data row42 col4\" >4.400000</td>\n",
       "      <td id=\"T_f7659_row42_col5\" class=\"data row42 col5\" >904</td>\n",
       "      <td id=\"T_f7659_row42_col6\" class=\"data row42 col6\" >67%</td>\n",
       "      <td id=\"T_f7659_row42_col7\" class=\"data row42 col7\" >17%</td>\n",
       "      <td id=\"T_f7659_row42_col8\" class=\"data row42 col8\" >10%</td>\n",
       "      <td id=\"T_f7659_row42_col9\" class=\"data row42 col9\" >3%</td>\n",
       "      <td id=\"T_f7659_row42_col10\" class=\"data row42 col10\" >3%</td>\n",
       "      <td id=\"T_f7659_row42_col11\" class=\"data row42 col11\" >nan</td>\n",
       "      <td id=\"T_f7659_row42_col12\" class=\"data row42 col12\" >English</td>\n",
       "      <td id=\"T_f7659_row42_col13\" class=\"data row42 col13\" >nan</td>\n",
       "      <td id=\"T_f7659_row42_col14\" class=\"data row42 col14\" >nan</td>\n",
       "      <td id=\"T_f7659_row42_col15\" class=\"data row42 col15\" >/kathson-Flexible-Bendable-Climbing-Terrarium/dp/B08T5V4QQY/ref=sxin_25_sbl_swi?content-id=amzn1.sym.6ca367be-63d0-4765-855e-02d825778bca%3Aamzn1.sym.6ca367be-63d0-4765-855e-02d825778bca&cv_ct_cx=python&keywords=python&pd_rd_i=B08T5V4QQY&pd_rd_r=de905080-8a65-431b-822d-b652734a0201&pd_rd_w=mMdXD&pd_rd_wg=I6FbD&pf_rd_p=6ca367be-63d0-4765-855e-02d825778bca&pf_rd_r=KWYW0166FNAF6HQDXMK4&qid=1671164641&sr=1-4-33f6704f-9b8e-4c12-a6e0-b7957fe916db</td>\n",
       "      <td id=\"T_f7659_row42_col16\" class=\"data row42 col16\" >https://www.amazon.com/kathson-Flexible-Bendable-Climbing-Terrarium/dp/B08T5V4QQY/ref=sxin_25_sbl_swi?content-id=amzn1.sym.6ca367be-63d0-4765-855e-02d825778bca%3Aamzn1.sym.6ca367be-63d0-4765-855e-02d825778bca&cv_ct_cx=python&keywords=python&pd_rd_i=B08T5V4QQY&pd_rd_r=de905080-8a65-431b-822d-b652734a0201&pd_rd_w=mMdXD&pd_rd_wg=I6FbD&pf_rd_p=6ca367be-63d0-4765-855e-02d825778bca&pf_rd_r=KWYW0166FNAF6HQDXMK4&qid=1671164641&sr=1-4-33f6704f-9b8e-4c12-a6e0-b7957fe916db</td>\n",
       "    </tr>\n",
       "    <tr>\n",
       "      <th id=\"T_f7659_level0_row43\" class=\"row_heading level0 row43\" >389</th>\n",
       "      <td id=\"T_f7659_row43_col0\" class=\"data row43 col0\" >Zoo Med Reptile Rock Corner Water Dish, Large - Assorted colors</td>\n",
       "      <td id=\"T_f7659_row43_col1\" class=\"data row43 col1\" >nan</td>\n",
       "      <td id=\"T_f7659_row43_col2\" class=\"data row43 col2\" >nan</td>\n",
       "      <td id=\"T_f7659_row43_col3\" class=\"data row43 col3\" >nan</td>\n",
       "      <td id=\"T_f7659_row43_col4\" class=\"data row43 col4\" >4.700000</td>\n",
       "      <td id=\"T_f7659_row43_col5\" class=\"data row43 col5\" >1,881</td>\n",
       "      <td id=\"T_f7659_row43_col6\" class=\"data row43 col6\" >85%</td>\n",
       "      <td id=\"T_f7659_row43_col7\" class=\"data row43 col7\" >8%</td>\n",
       "      <td id=\"T_f7659_row43_col8\" class=\"data row43 col8\" >4%</td>\n",
       "      <td id=\"T_f7659_row43_col9\" class=\"data row43 col9\" >1%</td>\n",
       "      <td id=\"T_f7659_row43_col10\" class=\"data row43 col10\" >2%</td>\n",
       "      <td id=\"T_f7659_row43_col11\" class=\"data row43 col11\" >nan</td>\n",
       "      <td id=\"T_f7659_row43_col12\" class=\"data row43 col12\" >English</td>\n",
       "      <td id=\"T_f7659_row43_col13\" class=\"data row43 col13\" >nan</td>\n",
       "      <td id=\"T_f7659_row43_col14\" class=\"data row43 col14\" >nan</td>\n",
       "      <td id=\"T_f7659_row43_col15\" class=\"data row43 col15\" >/Zoo-Med-Reptile-Corner-Water/dp/B000QFR6J2/ref=sxin_25_sbl_swi?content-id=amzn1.sym.6ca367be-63d0-4765-855e-02d825778bca%3Aamzn1.sym.6ca367be-63d0-4765-855e-02d825778bca&cv_ct_cx=python&keywords=python&pd_rd_i=B000QFR6J2&pd_rd_r=de905080-8a65-431b-822d-b652734a0201&pd_rd_w=mMdXD&pd_rd_wg=I6FbD&pf_rd_p=6ca367be-63d0-4765-855e-02d825778bca&pf_rd_r=KWYW0166FNAF6HQDXMK4&qid=1671164641&sr=1-5-33f6704f-9b8e-4c12-a6e0-b7957fe916db</td>\n",
       "      <td id=\"T_f7659_row43_col16\" class=\"data row43 col16\" >https://www.amazon.com/Zoo-Med-Reptile-Corner-Water/dp/B000QFR6J2/ref=sxin_25_sbl_swi?content-id=amzn1.sym.6ca367be-63d0-4765-855e-02d825778bca%3Aamzn1.sym.6ca367be-63d0-4765-855e-02d825778bca&cv_ct_cx=python&keywords=python&pd_rd_i=B000QFR6J2&pd_rd_r=de905080-8a65-431b-822d-b652734a0201&pd_rd_w=mMdXD&pd_rd_wg=I6FbD&pf_rd_p=6ca367be-63d0-4765-855e-02d825778bca&pf_rd_r=KWYW0166FNAF6HQDXMK4&qid=1671164641&sr=1-5-33f6704f-9b8e-4c12-a6e0-b7957fe916db</td>\n",
       "    </tr>\n",
       "    <tr>\n",
       "      <th id=\"T_f7659_level0_row44\" class=\"row_heading level0 row44\" >390</th>\n",
       "      <td id=\"T_f7659_row44_col0\" class=\"data row44 col0\" >AQUA KT Reptile Corner Branch Terrarium Plant Decoration with Suction Cup for Amphibian Lizard Snake Climbing</td>\n",
       "      <td id=\"T_f7659_row44_col1\" class=\"data row44 col1\" >nan</td>\n",
       "      <td id=\"T_f7659_row44_col2\" class=\"data row44 col2\" >nan</td>\n",
       "      <td id=\"T_f7659_row44_col3\" class=\"data row44 col3\" >nan</td>\n",
       "      <td id=\"T_f7659_row44_col4\" class=\"data row44 col4\" >4.400000</td>\n",
       "      <td id=\"T_f7659_row44_col5\" class=\"data row44 col5\" >1,397</td>\n",
       "      <td id=\"T_f7659_row44_col6\" class=\"data row44 col6\" >68%</td>\n",
       "      <td id=\"T_f7659_row44_col7\" class=\"data row44 col7\" >13%</td>\n",
       "      <td id=\"T_f7659_row44_col8\" class=\"data row44 col8\" >11%</td>\n",
       "      <td id=\"T_f7659_row44_col9\" class=\"data row44 col9\" >3%</td>\n",
       "      <td id=\"T_f7659_row44_col10\" class=\"data row44 col10\" >4%</td>\n",
       "      <td id=\"T_f7659_row44_col11\" class=\"data row44 col11\" >nan</td>\n",
       "      <td id=\"T_f7659_row44_col12\" class=\"data row44 col12\" >English</td>\n",
       "      <td id=\"T_f7659_row44_col13\" class=\"data row44 col13\" >nan</td>\n",
       "      <td id=\"T_f7659_row44_col14\" class=\"data row44 col14\" >nan</td>\n",
       "      <td id=\"T_f7659_row44_col15\" class=\"data row44 col15\" >/Aqua-KT-Terrarium-Decoration-Amphibian/dp/B07Z7PRV65/ref=sxin_25_sbl_swi?content-id=amzn1.sym.6ca367be-63d0-4765-855e-02d825778bca%3Aamzn1.sym.6ca367be-63d0-4765-855e-02d825778bca&cv_ct_cx=python&keywords=python&pd_rd_i=B07Z7PRV65&pd_rd_r=de905080-8a65-431b-822d-b652734a0201&pd_rd_w=mMdXD&pd_rd_wg=I6FbD&pf_rd_p=6ca367be-63d0-4765-855e-02d825778bca&pf_rd_r=KWYW0166FNAF6HQDXMK4&qid=1671164641&sr=1-6-33f6704f-9b8e-4c12-a6e0-b7957fe916db</td>\n",
       "      <td id=\"T_f7659_row44_col16\" class=\"data row44 col16\" >https://www.amazon.com/Aqua-KT-Terrarium-Decoration-Amphibian/dp/B07Z7PRV65/ref=sxin_25_sbl_swi?content-id=amzn1.sym.6ca367be-63d0-4765-855e-02d825778bca%3Aamzn1.sym.6ca367be-63d0-4765-855e-02d825778bca&cv_ct_cx=python&keywords=python&pd_rd_i=B07Z7PRV65&pd_rd_r=de905080-8a65-431b-822d-b652734a0201&pd_rd_w=mMdXD&pd_rd_wg=I6FbD&pf_rd_p=6ca367be-63d0-4765-855e-02d825778bca&pf_rd_r=KWYW0166FNAF6HQDXMK4&qid=1671164641&sr=1-6-33f6704f-9b8e-4c12-a6e0-b7957fe916db</td>\n",
       "    </tr>\n",
       "    <tr>\n",
       "      <th id=\"T_f7659_level0_row45\" class=\"row_heading level0 row45\" >392</th>\n",
       "      <td id=\"T_f7659_row45_col0\" class=\"data row45 col0\" >DOHAOOE Reptile Tank Accessories Habitat Water Dish Tree Trunk and Artificial Arched Rock Bridge for Bearded Dragon Leopard Gecko Lizard Snake Chameleon Hermit Crab Ball Python Water Frog Turtle</td>\n",
       "      <td id=\"T_f7659_row45_col1\" class=\"data row45 col1\" >nan</td>\n",
       "      <td id=\"T_f7659_row45_col2\" class=\"data row45 col2\" >nan</td>\n",
       "      <td id=\"T_f7659_row45_col3\" class=\"data row45 col3\" >nan</td>\n",
       "      <td id=\"T_f7659_row45_col4\" class=\"data row45 col4\" >4.100000</td>\n",
       "      <td id=\"T_f7659_row45_col5\" class=\"data row45 col5\" >77</td>\n",
       "      <td id=\"T_f7659_row45_col6\" class=\"data row45 col6\" >64%</td>\n",
       "      <td id=\"T_f7659_row45_col7\" class=\"data row45 col7\" >12%</td>\n",
       "      <td id=\"T_f7659_row45_col8\" class=\"data row45 col8\" >7%</td>\n",
       "      <td id=\"T_f7659_row45_col9\" class=\"data row45 col9\" >6%</td>\n",
       "      <td id=\"T_f7659_row45_col10\" class=\"data row45 col10\" >12%</td>\n",
       "      <td id=\"T_f7659_row45_col11\" class=\"data row45 col11\" >nan</td>\n",
       "      <td id=\"T_f7659_row45_col12\" class=\"data row45 col12\" >English</td>\n",
       "      <td id=\"T_f7659_row45_col13\" class=\"data row45 col13\" >nan</td>\n",
       "      <td id=\"T_f7659_row45_col14\" class=\"data row45 col14\" >nan</td>\n",
       "      <td id=\"T_f7659_row45_col15\" class=\"data row45 col15\" >/DOHAOOE-Reptile-Accessories-Artificial-Chameleon/dp/B09124VSN5/ref=sxin_25_sbl_swi?content-id=amzn1.sym.6ca367be-63d0-4765-855e-02d825778bca%3Aamzn1.sym.6ca367be-63d0-4765-855e-02d825778bca&cv_ct_cx=python&keywords=python&pd_rd_i=B09124VSN5&pd_rd_r=de905080-8a65-431b-822d-b652734a0201&pd_rd_w=mMdXD&pd_rd_wg=I6FbD&pf_rd_p=6ca367be-63d0-4765-855e-02d825778bca&pf_rd_r=KWYW0166FNAF6HQDXMK4&qid=1671164641&sr=1-3-33f6704f-9b8e-4c12-a6e0-b7957fe916db</td>\n",
       "      <td id=\"T_f7659_row45_col16\" class=\"data row45 col16\" >https://www.amazon.com/DOHAOOE-Reptile-Accessories-Artificial-Chameleon/dp/B09124VSN5/ref=sxin_25_sbl_swi?content-id=amzn1.sym.6ca367be-63d0-4765-855e-02d825778bca%3Aamzn1.sym.6ca367be-63d0-4765-855e-02d825778bca&cv_ct_cx=python&keywords=python&pd_rd_i=B09124VSN5&pd_rd_r=de905080-8a65-431b-822d-b652734a0201&pd_rd_w=mMdXD&pd_rd_wg=I6FbD&pf_rd_p=6ca367be-63d0-4765-855e-02d825778bca&pf_rd_r=KWYW0166FNAF6HQDXMK4&qid=1671164641&sr=1-3-33f6704f-9b8e-4c12-a6e0-b7957fe916db</td>\n",
       "    </tr>\n",
       "    <tr>\n",
       "      <th id=\"T_f7659_level0_row46\" class=\"row_heading level0 row46\" >393</th>\n",
       "      <td id=\"T_f7659_row46_col0\" class=\"data row46 col0\" >REPTI ZOO Reptile Terrarium Thermometer Hygrometer Digital Display Pet Rearing Box Reptiles Tank Thermometer Hygrometer with Suction Cup</td>\n",
       "      <td id=\"T_f7659_row46_col1\" class=\"data row46 col1\" >nan</td>\n",
       "      <td id=\"T_f7659_row46_col2\" class=\"data row46 col2\" >nan</td>\n",
       "      <td id=\"T_f7659_row46_col3\" class=\"data row46 col3\" >nan</td>\n",
       "      <td id=\"T_f7659_row46_col4\" class=\"data row46 col4\" >4.400000</td>\n",
       "      <td id=\"T_f7659_row46_col5\" class=\"data row46 col5\" >4,388</td>\n",
       "      <td id=\"T_f7659_row46_col6\" class=\"data row46 col6\" >68%</td>\n",
       "      <td id=\"T_f7659_row46_col7\" class=\"data row46 col7\" >15%</td>\n",
       "      <td id=\"T_f7659_row46_col8\" class=\"data row46 col8\" >8%</td>\n",
       "      <td id=\"T_f7659_row46_col9\" class=\"data row46 col9\" >4%</td>\n",
       "      <td id=\"T_f7659_row46_col10\" class=\"data row46 col10\" >5%</td>\n",
       "      <td id=\"T_f7659_row46_col11\" class=\"data row46 col11\" >nan</td>\n",
       "      <td id=\"T_f7659_row46_col12\" class=\"data row46 col12\" >English</td>\n",
       "      <td id=\"T_f7659_row46_col13\" class=\"data row46 col13\" >nan</td>\n",
       "      <td id=\"T_f7659_row46_col14\" class=\"data row46 col14\" >nan</td>\n",
       "      <td id=\"T_f7659_row46_col15\" class=\"data row46 col15\" >/REPTIZOO-Reptile-Terrarium-Thermometer-Hygrometer/dp/B07D284W96/ref=sxin_25_sbl_swi?content-id=amzn1.sym.6ca367be-63d0-4765-855e-02d825778bca%3Aamzn1.sym.6ca367be-63d0-4765-855e-02d825778bca&cv_ct_cx=python&keywords=python&pd_rd_i=B07D284W96&pd_rd_r=de905080-8a65-431b-822d-b652734a0201&pd_rd_w=mMdXD&pd_rd_wg=I6FbD&pf_rd_p=6ca367be-63d0-4765-855e-02d825778bca&pf_rd_r=KWYW0166FNAF6HQDXMK4&qid=1671164641&sr=1-2-33f6704f-9b8e-4c12-a6e0-b7957fe916db</td>\n",
       "      <td id=\"T_f7659_row46_col16\" class=\"data row46 col16\" >https://www.amazon.com/REPTIZOO-Reptile-Terrarium-Thermometer-Hygrometer/dp/B07D284W96/ref=sxin_25_sbl_swi?content-id=amzn1.sym.6ca367be-63d0-4765-855e-02d825778bca%3Aamzn1.sym.6ca367be-63d0-4765-855e-02d825778bca&cv_ct_cx=python&keywords=python&pd_rd_i=B07D284W96&pd_rd_r=de905080-8a65-431b-822d-b652734a0201&pd_rd_w=mMdXD&pd_rd_wg=I6FbD&pf_rd_p=6ca367be-63d0-4765-855e-02d825778bca&pf_rd_r=KWYW0166FNAF6HQDXMK4&qid=1671164641&sr=1-2-33f6704f-9b8e-4c12-a6e0-b7957fe916db</td>\n",
       "    </tr>\n",
       "    <tr>\n",
       "      <th id=\"T_f7659_level0_row47\" class=\"row_heading level0 row47\" >397</th>\n",
       "      <td id=\"T_f7659_row47_col0\" class=\"data row47 col0\" >Testing Python: Applying Unit Testing, TDD, BDD and Acceptance Testing</td>\n",
       "      <td id=\"T_f7659_row47_col1\" class=\"data row47 col1\" >[ David Sale]</td>\n",
       "      <td id=\"T_f7659_row47_col2\" class=\"data row47 col2\" >27.000000</td>\n",
       "      <td id=\"T_f7659_row47_col3\" class=\"data row47 col3\" >201</td>\n",
       "      <td id=\"T_f7659_row47_col4\" class=\"data row47 col4\" >4.100000</td>\n",
       "      <td id=\"T_f7659_row47_col5\" class=\"data row47 col5\" >30</td>\n",
       "      <td id=\"T_f7659_row47_col6\" class=\"data row47 col6\" >53%</td>\n",
       "      <td id=\"T_f7659_row47_col7\" class=\"data row47 col7\" >19%</td>\n",
       "      <td id=\"T_f7659_row47_col8\" class=\"data row47 col8\" >13%</td>\n",
       "      <td id=\"T_f7659_row47_col9\" class=\"data row47 col9\" >9%</td>\n",
       "      <td id=\"T_f7659_row47_col10\" class=\"data row47 col10\" >5%</td>\n",
       "      <td id=\"T_f7659_row47_col11\" class=\"data row47 col11\" >nan</td>\n",
       "      <td id=\"T_f7659_row47_col12\" class=\"data row47 col12\" >English</td>\n",
       "      <td id=\"T_f7659_row47_col13\" class=\"data row47 col13\" >Wiley; 1st edition (July 3, 2014)</td>\n",
       "      <td id=\"T_f7659_row47_col14\" class=\"data row47 col14\" >nan</td>\n",
       "      <td id=\"T_f7659_row47_col15\" class=\"data row47 col15\" >/Testing-Python-Applying-Unit-Acceptance-ebook/dp/B00LJV2GXI/ref=sr_1_103?keywords=python&qid=1671164900&sr=8-103</td>\n",
       "      <td id=\"T_f7659_row47_col16\" class=\"data row47 col16\" >https://www.amazon.com/Testing-Python-Applying-Unit-Acceptance-ebook/dp/B00LJV2GXI/ref=sr_1_103?keywords=python&qid=1671164900&sr=8-103</td>\n",
       "    </tr>\n",
       "    <tr>\n",
       "      <th id=\"T_f7659_level0_row48\" class=\"row_heading level0 row48\" >398</th>\n",
       "      <td id=\"T_f7659_row48_col0\" class=\"data row48 col0\" >Python Workbook: Learn Python in one day and Learn It Well (Workbook with Questions, Solutions and Projects) (Learn Coding Fast Workbook 1)</td>\n",
       "      <td id=\"T_f7659_row48_col1\" class=\"data row48 col1\" >nan</td>\n",
       "      <td id=\"T_f7659_row48_col2\" class=\"data row48 col2\" >nan</td>\n",
       "      <td id=\"T_f7659_row48_col3\" class=\"data row48 col3\" >149</td>\n",
       "      <td id=\"T_f7659_row48_col4\" class=\"data row48 col4\" >4.400000</td>\n",
       "      <td id=\"T_f7659_row48_col5\" class=\"data row48 col5\" >807</td>\n",
       "      <td id=\"T_f7659_row48_col6\" class=\"data row48 col6\" >67%</td>\n",
       "      <td id=\"T_f7659_row48_col7\" class=\"data row48 col7\" >19%</td>\n",
       "      <td id=\"T_f7659_row48_col8\" class=\"data row48 col8\" >9%</td>\n",
       "      <td id=\"T_f7659_row48_col9\" class=\"data row48 col9\" >2%</td>\n",
       "      <td id=\"T_f7659_row48_col10\" class=\"data row48 col10\" >3%</td>\n",
       "      <td id=\"T_f7659_row48_col11\" class=\"data row48 col11\" >nan</td>\n",
       "      <td id=\"T_f7659_row48_col12\" class=\"data row48 col12\" >English</td>\n",
       "      <td id=\"T_f7659_row48_col13\" class=\"data row48 col13\" >nan</td>\n",
       "      <td id=\"T_f7659_row48_col14\" class=\"data row48 col14\" >nan</td>\n",
       "      <td id=\"T_f7659_row48_col15\" class=\"data row48 col15\" >/Python-Workbook-Questions-Solutions-Projects-ebook/dp/B07WH99L1J/ref=sr_1_102?keywords=python&qid=1671164900&sr=8-102</td>\n",
       "      <td id=\"T_f7659_row48_col16\" class=\"data row48 col16\" >https://www.amazon.com/Python-Workbook-Questions-Solutions-Projects-ebook/dp/B07WH99L1J/ref=sr_1_102?keywords=python&qid=1671164900&sr=8-102</td>\n",
       "    </tr>\n",
       "    <tr>\n",
       "      <th id=\"T_f7659_level0_row49\" class=\"row_heading level0 row49\" >404</th>\n",
       "      <td id=\"T_f7659_row49_col0\" class=\"data row49 col0\" >Python for Absolute Beginners: Rocket through the basics in an afternoon (AI, Data Science, Python & Statistics for Beginners Book 4)</td>\n",
       "      <td id=\"T_f7659_row49_col1\" class=\"data row49 col1\" >nan</td>\n",
       "      <td id=\"T_f7659_row49_col2\" class=\"data row49 col2\" >nan</td>\n",
       "      <td id=\"T_f7659_row49_col3\" class=\"data row49 col3\" >167</td>\n",
       "      <td id=\"T_f7659_row49_col4\" class=\"data row49 col4\" >4.300000</td>\n",
       "      <td id=\"T_f7659_row49_col5\" class=\"data row49 col5\" >10</td>\n",
       "      <td id=\"T_f7659_row49_col6\" class=\"data row49 col6\" >48%</td>\n",
       "      <td id=\"T_f7659_row49_col7\" class=\"data row49 col7\" >30%</td>\n",
       "      <td id=\"T_f7659_row49_col8\" class=\"data row49 col8\" >22%</td>\n",
       "      <td id=\"T_f7659_row49_col9\" class=\"data row49 col9\" >nan</td>\n",
       "      <td id=\"T_f7659_row49_col10\" class=\"data row49 col10\" >nan</td>\n",
       "      <td id=\"T_f7659_row49_col11\" class=\"data row49 col11\" >nan</td>\n",
       "      <td id=\"T_f7659_row49_col12\" class=\"data row49 col12\" >English</td>\n",
       "      <td id=\"T_f7659_row49_col13\" class=\"data row49 col13\" >nan</td>\n",
       "      <td id=\"T_f7659_row49_col14\" class=\"data row49 col14\" >nan</td>\n",
       "      <td id=\"T_f7659_row49_col15\" class=\"data row49 col15\" >/Python-Absolute-Beginners-through-afternoon-ebook/dp/B098M4Z1G8/ref=sr_1_96?keywords=python&qid=1671164900&sr=8-96</td>\n",
       "      <td id=\"T_f7659_row49_col16\" class=\"data row49 col16\" >https://www.amazon.com/Python-Absolute-Beginners-through-afternoon-ebook/dp/B098M4Z1G8/ref=sr_1_96?keywords=python&qid=1671164900&sr=8-96</td>\n",
       "    </tr>\n",
       "    <tr>\n",
       "      <th id=\"T_f7659_level0_row50\" class=\"row_heading level0 row50\" >408</th>\n",
       "      <td id=\"T_f7659_row50_col0\" class=\"data row50 col0\" >Hands-On Python INTERMEDIATE: with 50 Exercises, 2 Projects, 2 Assignments & Final Exam</td>\n",
       "      <td id=\"T_f7659_row50_col1\" class=\"data row50 col1\" >nan</td>\n",
       "      <td id=\"T_f7659_row50_col2\" class=\"data row50 col2\" >nan</td>\n",
       "      <td id=\"T_f7659_row50_col3\" class=\"data row50 col3\" >603</td>\n",
       "      <td id=\"T_f7659_row50_col4\" class=\"data row50 col4\" >4.400000</td>\n",
       "      <td id=\"T_f7659_row50_col5\" class=\"data row50 col5\" >18</td>\n",
       "      <td id=\"T_f7659_row50_col6\" class=\"data row50 col6\" >74%</td>\n",
       "      <td id=\"T_f7659_row50_col7\" class=\"data row50 col7\" >18%</td>\n",
       "      <td id=\"T_f7659_row50_col8\" class=\"data row50 col8\" >8%</td>\n",
       "      <td id=\"T_f7659_row50_col9\" class=\"data row50 col9\" >nan</td>\n",
       "      <td id=\"T_f7659_row50_col10\" class=\"data row50 col10\" >nan</td>\n",
       "      <td id=\"T_f7659_row50_col11\" class=\"data row50 col11\" >nan</td>\n",
       "      <td id=\"T_f7659_row50_col12\" class=\"data row50 col12\" >English</td>\n",
       "      <td id=\"T_f7659_row50_col13\" class=\"data row50 col13\" >nan</td>\n",
       "      <td id=\"T_f7659_row50_col14\" class=\"data row50 col14\" >nan</td>\n",
       "      <td id=\"T_f7659_row50_col15\" class=\"data row50 col15\" >/Hands-Python-INTERMEDIATE-Exercises-Assignments-ebook/dp/B09NMCVWXT/ref=sr_1_89?keywords=python&qid=1671164900&sr=8-89</td>\n",
       "      <td id=\"T_f7659_row50_col16\" class=\"data row50 col16\" >https://www.amazon.com/Hands-Python-INTERMEDIATE-Exercises-Assignments-ebook/dp/B09NMCVWXT/ref=sr_1_89?keywords=python&qid=1671164900&sr=8-89</td>\n",
       "    </tr>\n",
       "    <tr>\n",
       "      <th id=\"T_f7659_level0_row51\" class=\"row_heading level0 row51\" >420</th>\n",
       "      <td id=\"T_f7659_row51_col0\" class=\"data row51 col0\" >Deep Learning with Python</td>\n",
       "      <td id=\"T_f7659_row51_col1\" class=\"data row51 col1\" >[ Francois Chollet, Mark Thomas, et al.]</td>\n",
       "      <td id=\"T_f7659_row51_col2\" class=\"data row51 col2\" >nan</td>\n",
       "      <td id=\"T_f7659_row51_col3\" class=\"data row51 col3\" >nan</td>\n",
       "      <td id=\"T_f7659_row51_col4\" class=\"data row51 col4\" >4.500000</td>\n",
       "      <td id=\"T_f7659_row51_col5\" class=\"data row51 col5\" >1,374</td>\n",
       "      <td id=\"T_f7659_row51_col6\" class=\"data row51 col6\" >76%</td>\n",
       "      <td id=\"T_f7659_row51_col7\" class=\"data row51 col7\" >13%</td>\n",
       "      <td id=\"T_f7659_row51_col8\" class=\"data row51 col8\" >4%</td>\n",
       "      <td id=\"T_f7659_row51_col9\" class=\"data row51 col9\" >2%</td>\n",
       "      <td id=\"T_f7659_row51_col10\" class=\"data row51 col10\" >5%</td>\n",
       "      <td id=\"T_f7659_row51_col11\" class=\"data row51 col11\" >nan</td>\n",
       "      <td id=\"T_f7659_row51_col12\" class=\"data row51 col12\" >English</td>\n",
       "      <td id=\"T_f7659_row51_col13\" class=\"data row51 col13\" >nan</td>\n",
       "      <td id=\"T_f7659_row51_col14\" class=\"data row51 col14\" >nan</td>\n",
       "      <td id=\"T_f7659_row51_col15\" class=\"data row51 col15\" >/Deep-Learning-with-Python-audiobook/dp/B07H5RKKB6/ref=sr_1_150?keywords=python&qid=1671164909&sr=8-150</td>\n",
       "      <td id=\"T_f7659_row51_col16\" class=\"data row51 col16\" >https://www.amazon.com/Deep-Learning-with-Python-audiobook/dp/B07H5RKKB6/ref=sr_1_150?keywords=python&qid=1671164909&sr=8-150</td>\n",
       "    </tr>\n",
       "    <tr>\n",
       "      <th id=\"T_f7659_level0_row52\" class=\"row_heading level0 row52\" >436</th>\n",
       "      <td id=\"T_f7659_row52_col0\" class=\"data row52 col0\" >Python Mini Reference 2022: A Quick Guide to the Modern Python Programming Language for Busy Coders (A Hitchhiker's Guide to the Modern Programming Languages Book 3)</td>\n",
       "      <td id=\"T_f7659_row52_col1\" class=\"data row52 col1\" >nan</td>\n",
       "      <td id=\"T_f7659_row52_col2\" class=\"data row52 col2\" >nan</td>\n",
       "      <td id=\"T_f7659_row52_col3\" class=\"data row52 col3\" >206</td>\n",
       "      <td id=\"T_f7659_row52_col4\" class=\"data row52 col4\" >5.000000</td>\n",
       "      <td id=\"T_f7659_row52_col5\" class=\"data row52 col5\" >1</td>\n",
       "      <td id=\"T_f7659_row52_col6\" class=\"data row52 col6\" >100%</td>\n",
       "      <td id=\"T_f7659_row52_col7\" class=\"data row52 col7\" >nan</td>\n",
       "      <td id=\"T_f7659_row52_col8\" class=\"data row52 col8\" >nan</td>\n",
       "      <td id=\"T_f7659_row52_col9\" class=\"data row52 col9\" >nan</td>\n",
       "      <td id=\"T_f7659_row52_col10\" class=\"data row52 col10\" >nan</td>\n",
       "      <td id=\"T_f7659_row52_col11\" class=\"data row52 col11\" >nan</td>\n",
       "      <td id=\"T_f7659_row52_col12\" class=\"data row52 col12\" >English</td>\n",
       "      <td id=\"T_f7659_row52_col13\" class=\"data row52 col13\" >Coding Books Press (October 12, 2022)</td>\n",
       "      <td id=\"T_f7659_row52_col14\" class=\"data row52 col14\" >nan</td>\n",
       "      <td id=\"T_f7659_row52_col15\" class=\"data row52 col15\" >/Python-Mini-Reference-2022-Programming-ebook/dp/B0B2QJD6P8/ref=sr_1_133?keywords=python&qid=1671164909&sr=8-133</td>\n",
       "      <td id=\"T_f7659_row52_col16\" class=\"data row52 col16\" >https://www.amazon.com/Python-Mini-Reference-2022-Programming-ebook/dp/B0B2QJD6P8/ref=sr_1_133?keywords=python&qid=1671164909&sr=8-133</td>\n",
       "    </tr>\n",
       "    <tr>\n",
       "      <th id=\"T_f7659_level0_row53\" class=\"row_heading level0 row53\" >449</th>\n",
       "      <td id=\"T_f7659_row53_col0\" class=\"data row53 col0\" >Python: Programming Basics for Absolute Beginners</td>\n",
       "      <td id=\"T_f7659_row53_col1\" class=\"data row53 col1\" >nan</td>\n",
       "      <td id=\"T_f7659_row53_col2\" class=\"data row53 col2\" >nan</td>\n",
       "      <td id=\"T_f7659_row53_col3\" class=\"data row53 col3\" >103</td>\n",
       "      <td id=\"T_f7659_row53_col4\" class=\"data row53 col4\" >4.000000</td>\n",
       "      <td id=\"T_f7659_row53_col5\" class=\"data row53 col5\" >187</td>\n",
       "      <td id=\"T_f7659_row53_col6\" class=\"data row53 col6\" >52%</td>\n",
       "      <td id=\"T_f7659_row53_col7\" class=\"data row53 col7\" >19%</td>\n",
       "      <td id=\"T_f7659_row53_col8\" class=\"data row53 col8\" >14%</td>\n",
       "      <td id=\"T_f7659_row53_col9\" class=\"data row53 col9\" >6%</td>\n",
       "      <td id=\"T_f7659_row53_col10\" class=\"data row53 col10\" >9%</td>\n",
       "      <td id=\"T_f7659_row53_col11\" class=\"data row53 col11\" >nan</td>\n",
       "      <td id=\"T_f7659_row53_col12\" class=\"data row53 col12\" >English</td>\n",
       "      <td id=\"T_f7659_row53_col13\" class=\"data row53 col13\" >Nathan Clark (April 2, 2018)</td>\n",
       "      <td id=\"T_f7659_row53_col14\" class=\"data row53 col14\" >nan</td>\n",
       "      <td id=\"T_f7659_row53_col15\" class=\"data row53 col15\" >/Python-Programming-Beginners-Step-Step-ebook/dp/B07BWT2MR5/ref=sr_1_194?keywords=python&qid=1671164918&sr=8-194</td>\n",
       "      <td id=\"T_f7659_row53_col16\" class=\"data row53 col16\" >https://www.amazon.com/Python-Programming-Beginners-Step-Step-ebook/dp/B07BWT2MR5/ref=sr_1_194?keywords=python&qid=1671164918&sr=8-194</td>\n",
       "    </tr>\n",
       "    <tr>\n",
       "      <th id=\"T_f7659_level0_row54\" class=\"row_heading level0 row54\" >458</th>\n",
       "      <td id=\"T_f7659_row54_col0\" class=\"data row54 col0\" >Functional Python Programming: Use a functional approach to write succinct, expressive, and efficient Python code, 3rd Edition</td>\n",
       "      <td id=\"T_f7659_row54_col1\" class=\"data row54 col1\" >[ Steven F. Lott]</td>\n",
       "      <td id=\"T_f7659_row54_col2\" class=\"data row54 col2\" >32.990000</td>\n",
       "      <td id=\"T_f7659_row54_col3\" class=\"data row54 col3\" >nan</td>\n",
       "      <td id=\"T_f7659_row54_col4\" class=\"data row54 col4\" >5.000000</td>\n",
       "      <td id=\"T_f7659_row54_col5\" class=\"data row54 col5\" >2</td>\n",
       "      <td id=\"T_f7659_row54_col6\" class=\"data row54 col6\" >100%</td>\n",
       "      <td id=\"T_f7659_row54_col7\" class=\"data row54 col7\" >nan</td>\n",
       "      <td id=\"T_f7659_row54_col8\" class=\"data row54 col8\" >nan</td>\n",
       "      <td id=\"T_f7659_row54_col9\" class=\"data row54 col9\" >nan</td>\n",
       "      <td id=\"T_f7659_row54_col10\" class=\"data row54 col10\" >nan</td>\n",
       "      <td id=\"T_f7659_row54_col11\" class=\"data row54 col11\" >nan</td>\n",
       "      <td id=\"T_f7659_row54_col12\" class=\"data row54 col12\" >English</td>\n",
       "      <td id=\"T_f7659_row54_col13\" class=\"data row54 col13\" >Packt Publishing (January 10, 2023)</td>\n",
       "      <td id=\"T_f7659_row54_col14\" class=\"data row54 col14\" >nan</td>\n",
       "      <td id=\"T_f7659_row54_col15\" class=\"data row54 col15\" >/Functional-Python-Programming-functional-expressive-ebook/dp/B0B1N4PLL5/ref=sr_1_181?keywords=python&qid=1671164918&sr=8-181</td>\n",
       "      <td id=\"T_f7659_row54_col16\" class=\"data row54 col16\" >https://www.amazon.com/Functional-Python-Programming-functional-expressive-ebook/dp/B0B1N4PLL5/ref=sr_1_181?keywords=python&qid=1671164918&sr=8-181</td>\n",
       "    </tr>\n",
       "    <tr>\n",
       "      <th id=\"T_f7659_level0_row55\" class=\"row_heading level0 row55\" >461</th>\n",
       "      <td id=\"T_f7659_row55_col0\" class=\"data row55 col0\" >Mega Python vs. Gatoroid</td>\n",
       "      <td id=\"T_f7659_row55_col1\" class=\"data row55 col1\" >nan</td>\n",
       "      <td id=\"T_f7659_row55_col2\" class=\"data row55 col2\" >9.230000</td>\n",
       "      <td id=\"T_f7659_row55_col3\" class=\"data row55 col3\" >nan</td>\n",
       "      <td id=\"T_f7659_row55_col4\" class=\"data row55 col4\" >4.300000</td>\n",
       "      <td id=\"T_f7659_row55_col5\" class=\"data row55 col5\" >238</td>\n",
       "      <td id=\"T_f7659_row55_col6\" class=\"data row55 col6\" >67%</td>\n",
       "      <td id=\"T_f7659_row55_col7\" class=\"data row55 col7\" >18%</td>\n",
       "      <td id=\"T_f7659_row55_col8\" class=\"data row55 col8\" >3%</td>\n",
       "      <td id=\"T_f7659_row55_col9\" class=\"data row55 col9\" >5%</td>\n",
       "      <td id=\"T_f7659_row55_col10\" class=\"data row55 col10\" >7%</td>\n",
       "      <td id=\"T_f7659_row55_col11\" class=\"data row55 col11\" >nan</td>\n",
       "      <td id=\"T_f7659_row55_col12\" class=\"data row55 col12\" >English</td>\n",
       "      <td id=\"T_f7659_row55_col13\" class=\"data row55 col13\" >nan</td>\n",
       "      <td id=\"T_f7659_row55_col14\" class=\"data row55 col14\" >nan</td>\n",
       "      <td id=\"T_f7659_row55_col15\" class=\"data row55 col15\" >/Mega-Python-Gatoroid-Debbie-Gibson/dp/B004QDW2CQ/ref=sr_1_251?keywords=python&qid=1671164927&sr=8-251</td>\n",
       "      <td id=\"T_f7659_row55_col16\" class=\"data row55 col16\" >https://www.amazon.com/Mega-Python-Gatoroid-Debbie-Gibson/dp/B004QDW2CQ/ref=sr_1_251?keywords=python&qid=1671164927&sr=8-251</td>\n",
       "    </tr>\n",
       "    <tr>\n",
       "      <th id=\"T_f7659_level0_row56\" class=\"row_heading level0 row56\" >462</th>\n",
       "      <td id=\"T_f7659_row56_col0\" class=\"data row56 col0\" >Python Programming for Beginners: An Introduction to the Python Computer Language and Computer Programming (Python, Python 3, Python Tutorial)</td>\n",
       "      <td id=\"T_f7659_row56_col1\" class=\"data row56 col1\" >[ Jason Cannon]</td>\n",
       "      <td id=\"T_f7659_row56_col2\" class=\"data row56 col2\" >nan</td>\n",
       "      <td id=\"T_f7659_row56_col3\" class=\"data row56 col3\" >164</td>\n",
       "      <td id=\"T_f7659_row56_col4\" class=\"data row56 col4\" >4.500000</td>\n",
       "      <td id=\"T_f7659_row56_col5\" class=\"data row56 col5\" >1,001</td>\n",
       "      <td id=\"T_f7659_row56_col6\" class=\"data row56 col6\" >72%</td>\n",
       "      <td id=\"T_f7659_row56_col7\" class=\"data row56 col7\" >15%</td>\n",
       "      <td id=\"T_f7659_row56_col8\" class=\"data row56 col8\" >8%</td>\n",
       "      <td id=\"T_f7659_row56_col9\" class=\"data row56 col9\" >3%</td>\n",
       "      <td id=\"T_f7659_row56_col10\" class=\"data row56 col10\" >2%</td>\n",
       "      <td id=\"T_f7659_row56_col11\" class=\"data row56 col11\" >nan</td>\n",
       "      <td id=\"T_f7659_row56_col12\" class=\"data row56 col12\" >English</td>\n",
       "      <td id=\"T_f7659_row56_col13\" class=\"data row56 col13\" >nan</td>\n",
       "      <td id=\"T_f7659_row56_col14\" class=\"data row56 col14\" >nan</td>\n",
       "      <td id=\"T_f7659_row56_col15\" class=\"data row56 col15\" >/Python-Programming-Beginners-Introduction-Computer-ebook/dp/B00N4IQRD4/ref=sr_1_249?keywords=python&qid=1671164927&sr=8-249</td>\n",
       "      <td id=\"T_f7659_row56_col16\" class=\"data row56 col16\" >https://www.amazon.com/Python-Programming-Beginners-Introduction-Computer-ebook/dp/B00N4IQRD4/ref=sr_1_249?keywords=python&qid=1671164927&sr=8-249</td>\n",
       "    </tr>\n",
       "    <tr>\n",
       "      <th id=\"T_f7659_level0_row57\" class=\"row_heading level0 row57\" >475</th>\n",
       "      <td id=\"T_f7659_row57_col0\" class=\"data row57 col0\" >Algorithms to Live By: The Computer Science of Human Decisions</td>\n",
       "      <td id=\"T_f7659_row57_col1\" class=\"data row57 col1\" >[ Brian Christian, Tom Griffiths, et al.]</td>\n",
       "      <td id=\"T_f7659_row57_col2\" class=\"data row57 col2\" >nan</td>\n",
       "      <td id=\"T_f7659_row57_col3\" class=\"data row57 col3\" >nan</td>\n",
       "      <td id=\"T_f7659_row57_col4\" class=\"data row57 col4\" >4.500000</td>\n",
       "      <td id=\"T_f7659_row57_col5\" class=\"data row57 col5\" >3,310</td>\n",
       "      <td id=\"T_f7659_row57_col6\" class=\"data row57 col6\" >70%</td>\n",
       "      <td id=\"T_f7659_row57_col7\" class=\"data row57 col7\" >17%</td>\n",
       "      <td id=\"T_f7659_row57_col8\" class=\"data row57 col8\" >8%</td>\n",
       "      <td id=\"T_f7659_row57_col9\" class=\"data row57 col9\" >2%</td>\n",
       "      <td id=\"T_f7659_row57_col10\" class=\"data row57 col10\" >2%</td>\n",
       "      <td id=\"T_f7659_row57_col11\" class=\"data row57 col11\" >nan</td>\n",
       "      <td id=\"T_f7659_row57_col12\" class=\"data row57 col12\" >English</td>\n",
       "      <td id=\"T_f7659_row57_col13\" class=\"data row57 col13\" >nan</td>\n",
       "      <td id=\"T_f7659_row57_col14\" class=\"data row57 col14\" >nan</td>\n",
       "      <td id=\"T_f7659_row57_col15\" class=\"data row57 col15\" >/Algorithms-to-Live-By-audiobook/dp/B01D24NAL6/ref=sr_1_240?keywords=python&qid=1671164927&sr=8-240</td>\n",
       "      <td id=\"T_f7659_row57_col16\" class=\"data row57 col16\" >https://www.amazon.com/Algorithms-to-Live-By-audiobook/dp/B01D24NAL6/ref=sr_1_240?keywords=python&qid=1671164927&sr=8-240</td>\n",
       "    </tr>\n",
       "    <tr>\n",
       "      <th id=\"T_f7659_level0_row58\" class=\"row_heading level0 row58\" >477</th>\n",
       "      <td id=\"T_f7659_row58_col0\" class=\"data row58 col0\" >Ultimate Step by Step Guide to Machine Learning Using Python: Predictive modelling concepts explained in simple terms for beginners</td>\n",
       "      <td id=\"T_f7659_row58_col1\" class=\"data row58 col1\" >nan</td>\n",
       "      <td id=\"T_f7659_row58_col2\" class=\"data row58 col2\" >nan</td>\n",
       "      <td id=\"T_f7659_row58_col3\" class=\"data row58 col3\" >70</td>\n",
       "      <td id=\"T_f7659_row58_col4\" class=\"data row58 col4\" >4.200000</td>\n",
       "      <td id=\"T_f7659_row58_col5\" class=\"data row58 col5\" >271</td>\n",
       "      <td id=\"T_f7659_row58_col6\" class=\"data row58 col6\" >62%</td>\n",
       "      <td id=\"T_f7659_row58_col7\" class=\"data row58 col7\" >15%</td>\n",
       "      <td id=\"T_f7659_row58_col8\" class=\"data row58 col8\" >12%</td>\n",
       "      <td id=\"T_f7659_row58_col9\" class=\"data row58 col9\" >5%</td>\n",
       "      <td id=\"T_f7659_row58_col10\" class=\"data row58 col10\" >6%</td>\n",
       "      <td id=\"T_f7659_row58_col11\" class=\"data row58 col11\" >nan</td>\n",
       "      <td id=\"T_f7659_row58_col12\" class=\"data row58 col12\" >English</td>\n",
       "      <td id=\"T_f7659_row58_col13\" class=\"data row58 col13\" >nan</td>\n",
       "      <td id=\"T_f7659_row58_col14\" class=\"data row58 col14\" >nan</td>\n",
       "      <td id=\"T_f7659_row58_col15\" class=\"data row58 col15\" >/Ultimate-Guide-Machine-Learning-Python-ebook/dp/B084WGCMG1/ref=sr_1_236?keywords=python&qid=1671164927&sr=8-236</td>\n",
       "      <td id=\"T_f7659_row58_col16\" class=\"data row58 col16\" >https://www.amazon.com/Ultimate-Guide-Machine-Learning-Python-ebook/dp/B084WGCMG1/ref=sr_1_236?keywords=python&qid=1671164927&sr=8-236</td>\n",
       "    </tr>\n",
       "    <tr>\n",
       "      <th id=\"T_f7659_level0_row59\" class=\"row_heading level0 row59\" >504</th>\n",
       "      <td id=\"T_f7659_row59_col0\" class=\"data row59 col0\" >Introduction to Python Programming for Business and Social Science Applications</td>\n",
       "      <td id=\"T_f7659_row59_col1\" class=\"data row59 col1\" >[ Frederick Kaefer,  and , Paul Kaefer]</td>\n",
       "      <td id=\"T_f7659_row59_col2\" class=\"data row59 col2\" >48.720000</td>\n",
       "      <td id=\"T_f7659_row59_col3\" class=\"data row59 col3\" >392</td>\n",
       "      <td id=\"T_f7659_row59_col4\" class=\"data row59 col4\" >5.000000</td>\n",
       "      <td id=\"T_f7659_row59_col5\" class=\"data row59 col5\" >3</td>\n",
       "      <td id=\"T_f7659_row59_col6\" class=\"data row59 col6\" >100%</td>\n",
       "      <td id=\"T_f7659_row59_col7\" class=\"data row59 col7\" >nan</td>\n",
       "      <td id=\"T_f7659_row59_col8\" class=\"data row59 col8\" >nan</td>\n",
       "      <td id=\"T_f7659_row59_col9\" class=\"data row59 col9\" >nan</td>\n",
       "      <td id=\"T_f7659_row59_col10\" class=\"data row59 col10\" >nan</td>\n",
       "      <td id=\"T_f7659_row59_col11\" class=\"data row59 col11\" >nan</td>\n",
       "      <td id=\"T_f7659_row59_col12\" class=\"data row59 col12\" >English</td>\n",
       "      <td id=\"T_f7659_row59_col13\" class=\"data row59 col13\" >SAGE Publications, Inc; 1st edition (August 6, 2020)</td>\n",
       "      <td id=\"T_f7659_row59_col14\" class=\"data row59 col14\" >nan</td>\n",
       "      <td id=\"T_f7659_row59_col15\" class=\"data row59 col15\" >/Introduction-Programming-Business-Science-Applications-ebook/dp/B08H5M9NS8/ref=sr_1_281?keywords=python&qid=1671164936&sr=8-281</td>\n",
       "      <td id=\"T_f7659_row59_col16\" class=\"data row59 col16\" >https://www.amazon.com/Introduction-Programming-Business-Science-Applications-ebook/dp/B08H5M9NS8/ref=sr_1_281?keywords=python&qid=1671164936&sr=8-281</td>\n",
       "    </tr>\n",
       "    <tr>\n",
       "      <th id=\"T_f7659_level0_row60\" class=\"row_heading level0 row60\" >506</th>\n",
       "      <td id=\"T_f7659_row60_col0\" class=\"data row60 col0\" >PYTHON DATA SCIENCE: THE ULTIMATE STEP BY STEP BEGINNER’S GUIDE WITH TOOLS AND PRINCIPLES FOR CODING AND DATA ANALYSIS PLUS HANDS-ON PROJECTS TO HAVE A SUCCESSFUL PRACTICAL PROGRAMMING FROM SCRATCH</td>\n",
       "      <td id=\"T_f7659_row60_col1\" class=\"data row60 col1\" >[ ADRIENNE HAWKES MATTHES,  and , JOHN TACKE]</td>\n",
       "      <td id=\"T_f7659_row60_col2\" class=\"data row60 col2\" >nan</td>\n",
       "      <td id=\"T_f7659_row60_col3\" class=\"data row60 col3\" >68</td>\n",
       "      <td id=\"T_f7659_row60_col4\" class=\"data row60 col4\" >4.100000</td>\n",
       "      <td id=\"T_f7659_row60_col5\" class=\"data row60 col5\" >5</td>\n",
       "      <td id=\"T_f7659_row60_col6\" class=\"data row60 col6\" >53%</td>\n",
       "      <td id=\"T_f7659_row60_col7\" class=\"data row60 col7\" >24%</td>\n",
       "      <td id=\"T_f7659_row60_col8\" class=\"data row60 col8\" >23%</td>\n",
       "      <td id=\"T_f7659_row60_col9\" class=\"data row60 col9\" >nan</td>\n",
       "      <td id=\"T_f7659_row60_col10\" class=\"data row60 col10\" >nan</td>\n",
       "      <td id=\"T_f7659_row60_col11\" class=\"data row60 col11\" >nan</td>\n",
       "      <td id=\"T_f7659_row60_col12\" class=\"data row60 col12\" >English</td>\n",
       "      <td id=\"T_f7659_row60_col13\" class=\"data row60 col13\" >nan</td>\n",
       "      <td id=\"T_f7659_row60_col14\" class=\"data row60 col14\" >nan</td>\n",
       "      <td id=\"T_f7659_row60_col15\" class=\"data row60 col15\" >/PYTHON-DATA-SCIENCE-HANDS-PROGRAMMING-ebook/dp/B08F3ZJH9W/ref=sr_1_278?keywords=python&qid=1671164936&sr=8-278</td>\n",
       "      <td id=\"T_f7659_row60_col16\" class=\"data row60 col16\" >https://www.amazon.com/PYTHON-DATA-SCIENCE-HANDS-PROGRAMMING-ebook/dp/B08F3ZJH9W/ref=sr_1_278?keywords=python&qid=1671164936&sr=8-278</td>\n",
       "    </tr>\n",
       "    <tr>\n",
       "      <th id=\"T_f7659_level0_row61\" class=\"row_heading level0 row61\" >518</th>\n",
       "      <td id=\"T_f7659_row61_col0\" class=\"data row61 col0\" >Python Programming For Beginners: The Ultimate Step-by-Step Guide To Learn Python Programming Fast with Practical Exercises</td>\n",
       "      <td id=\"T_f7659_row61_col1\" class=\"data row61 col1\" >[ Luther S. Moore]</td>\n",
       "      <td id=\"T_f7659_row61_col2\" class=\"data row61 col2\" >nan</td>\n",
       "      <td id=\"T_f7659_row61_col3\" class=\"data row61 col3\" >118</td>\n",
       "      <td id=\"T_f7659_row61_col4\" class=\"data row61 col4\" >4.900000</td>\n",
       "      <td id=\"T_f7659_row61_col5\" class=\"data row61 col5\" >155</td>\n",
       "      <td id=\"T_f7659_row61_col6\" class=\"data row61 col6\" >98%</td>\n",
       "      <td id=\"T_f7659_row61_col7\" class=\"data row61 col7\" >1%</td>\n",
       "      <td id=\"T_f7659_row61_col8\" class=\"data row61 col8\" >1%</td>\n",
       "      <td id=\"T_f7659_row61_col9\" class=\"data row61 col9\" >nan</td>\n",
       "      <td id=\"T_f7659_row61_col10\" class=\"data row61 col10\" >nan</td>\n",
       "      <td id=\"T_f7659_row61_col11\" class=\"data row61 col11\" >nan</td>\n",
       "      <td id=\"T_f7659_row61_col12\" class=\"data row61 col12\" >English</td>\n",
       "      <td id=\"T_f7659_row61_col13\" class=\"data row61 col13\" >nan</td>\n",
       "      <td id=\"T_f7659_row61_col14\" class=\"data row61 col14\" >nan</td>\n",
       "      <td id=\"T_f7659_row61_col15\" class=\"data row61 col15\" >/Python-Programming-Beginners-Step-Step-ebook/dp/B0BKQVRNPR/ref=sr_1_309?keywords=python&qid=1671164946&sr=8-309</td>\n",
       "      <td id=\"T_f7659_row61_col16\" class=\"data row61 col16\" >https://www.amazon.com/Python-Programming-Beginners-Step-Step-ebook/dp/B0BKQVRNPR/ref=sr_1_309?keywords=python&qid=1671164946&sr=8-309</td>\n",
       "    </tr>\n",
       "    <tr>\n",
       "      <th id=\"T_f7659_level0_row62\" class=\"row_heading level0 row62\" >529</th>\n",
       "      <td id=\"T_f7659_row62_col0\" class=\"data row62 col0\" >Python: 3 books in 1 : Python basics for Beginners + Python Automation Techniques And Web Scraping + Python For Data Science And Machine Learning</td>\n",
       "      <td id=\"T_f7659_row62_col1\" class=\"data row62 col1\" >nan</td>\n",
       "      <td id=\"T_f7659_row62_col2\" class=\"data row62 col2\" >nan</td>\n",
       "      <td id=\"T_f7659_row62_col3\" class=\"data row62 col3\" >551</td>\n",
       "      <td id=\"T_f7659_row62_col4\" class=\"data row62 col4\" >4.500000</td>\n",
       "      <td id=\"T_f7659_row62_col5\" class=\"data row62 col5\" >13</td>\n",
       "      <td id=\"T_f7659_row62_col6\" class=\"data row62 col6\" >65%</td>\n",
       "      <td id=\"T_f7659_row62_col7\" class=\"data row62 col7\" >18%</td>\n",
       "      <td id=\"T_f7659_row62_col8\" class=\"data row62 col8\" >18%</td>\n",
       "      <td id=\"T_f7659_row62_col9\" class=\"data row62 col9\" >nan</td>\n",
       "      <td id=\"T_f7659_row62_col10\" class=\"data row62 col10\" >nan</td>\n",
       "      <td id=\"T_f7659_row62_col11\" class=\"data row62 col11\" >nan</td>\n",
       "      <td id=\"T_f7659_row62_col12\" class=\"data row62 col12\" >English</td>\n",
       "      <td id=\"T_f7659_row62_col13\" class=\"data row62 col13\" >nan</td>\n",
       "      <td id=\"T_f7659_row62_col14\" class=\"data row62 col14\" >nan</td>\n",
       "      <td id=\"T_f7659_row62_col15\" class=\"data row62 col15\" >/Python-Beginners-Automation-Techniques-Scraping-ebook/dp/B09BG5PKWH/ref=sr_1_295?keywords=python&qid=1671164946&sr=8-295</td>\n",
       "      <td id=\"T_f7659_row62_col16\" class=\"data row62 col16\" >https://www.amazon.com/Python-Beginners-Automation-Techniques-Scraping-ebook/dp/B09BG5PKWH/ref=sr_1_295?keywords=python&qid=1671164946&sr=8-295</td>\n",
       "    </tr>\n",
       "    <tr>\n",
       "      <th id=\"T_f7659_level0_row63\" class=\"row_heading level0 row63\" >548</th>\n",
       "      <td id=\"T_f7659_row63_col0\" class=\"data row63 col0\" >Machine Learning With Python For Beginners: A Step-By-Step Guide with Hands-On Projects (Learn Coding Fast with Hands-On Project Book 7)</td>\n",
       "      <td id=\"T_f7659_row63_col1\" class=\"data row63 col1\" >nan</td>\n",
       "      <td id=\"T_f7659_row63_col2\" class=\"data row63 col2\" >nan</td>\n",
       "      <td id=\"T_f7659_row63_col3\" class=\"data row63 col3\" >220</td>\n",
       "      <td id=\"T_f7659_row63_col4\" class=\"data row63 col4\" >4.500000</td>\n",
       "      <td id=\"T_f7659_row63_col5\" class=\"data row63 col5\" >100</td>\n",
       "      <td id=\"T_f7659_row63_col6\" class=\"data row63 col6\" >66%</td>\n",
       "      <td id=\"T_f7659_row63_col7\" class=\"data row63 col7\" >21%</td>\n",
       "      <td id=\"T_f7659_row63_col8\" class=\"data row63 col8\" >8%</td>\n",
       "      <td id=\"T_f7659_row63_col9\" class=\"data row63 col9\" >4%</td>\n",
       "      <td id=\"T_f7659_row63_col10\" class=\"data row63 col10\" >1%</td>\n",
       "      <td id=\"T_f7659_row63_col11\" class=\"data row63 col11\" >nan</td>\n",
       "      <td id=\"T_f7659_row63_col12\" class=\"data row63 col12\" >English</td>\n",
       "      <td id=\"T_f7659_row63_col13\" class=\"data row63 col13\" >nan</td>\n",
       "      <td id=\"T_f7659_row63_col14\" class=\"data row63 col14\" >nan</td>\n",
       "      <td id=\"T_f7659_row63_col15\" class=\"data row63 col15\" >/Machine-Learning-Python-Beginners-Hands-ebook/dp/B09BNYDH5F/ref=sr_1_250?keywords=python&qid=1671164936&sr=8-250</td>\n",
       "      <td id=\"T_f7659_row63_col16\" class=\"data row63 col16\" >https://www.amazon.com/Machine-Learning-Python-Beginners-Hands-ebook/dp/B09BNYDH5F/ref=sr_1_250?keywords=python&qid=1671164936&sr=8-250</td>\n",
       "    </tr>\n",
       "    <tr>\n",
       "      <th id=\"T_f7659_level0_row64\" class=\"row_heading level0 row64\" >552</th>\n",
       "      <td id=\"T_f7659_row64_col0\" class=\"data row64 col0\" >Learn Coding Basics for Kids, Young Adults and People Who Are Young at Heart, With Python: Python Computer Programming Made Easy!</td>\n",
       "      <td id=\"T_f7659_row64_col1\" class=\"data row64 col1\" >[ Jack Stanley, Erik Gross, et al.]</td>\n",
       "      <td id=\"T_f7659_row64_col2\" class=\"data row64 col2\" >nan</td>\n",
       "      <td id=\"T_f7659_row64_col3\" class=\"data row64 col3\" >149</td>\n",
       "      <td id=\"T_f7659_row64_col4\" class=\"data row64 col4\" >4.600000</td>\n",
       "      <td id=\"T_f7659_row64_col5\" class=\"data row64 col5\" >62</td>\n",
       "      <td id=\"T_f7659_row64_col6\" class=\"data row64 col6\" >67%</td>\n",
       "      <td id=\"T_f7659_row64_col7\" class=\"data row64 col7\" >24%</td>\n",
       "      <td id=\"T_f7659_row64_col8\" class=\"data row64 col8\" >8%</td>\n",
       "      <td id=\"T_f7659_row64_col9\" class=\"data row64 col9\" >nan</td>\n",
       "      <td id=\"T_f7659_row64_col10\" class=\"data row64 col10\" >nan</td>\n",
       "      <td id=\"T_f7659_row64_col11\" class=\"data row64 col11\" >nan</td>\n",
       "      <td id=\"T_f7659_row64_col12\" class=\"data row64 col12\" >English</td>\n",
       "      <td id=\"T_f7659_row64_col13\" class=\"data row64 col13\" >nan</td>\n",
       "      <td id=\"T_f7659_row64_col14\" class=\"data row64 col14\" >nan</td>\n",
       "      <td id=\"T_f7659_row64_col15\" class=\"data row64 col15\" >/Coding-Basics-Adults-People-Python-ebook/dp/B08DNDGF31/ref=sr_1_248?keywords=python&qid=1671164936&sr=8-248</td>\n",
       "      <td id=\"T_f7659_row64_col16\" class=\"data row64 col16\" >https://www.amazon.com/Coding-Basics-Adults-People-Python-ebook/dp/B08DNDGF31/ref=sr_1_248?keywords=python&qid=1671164936&sr=8-248</td>\n",
       "    </tr>\n",
       "    <tr>\n",
       "      <th id=\"T_f7659_level0_row65\" class=\"row_heading level0 row65\" >564</th>\n",
       "      <td id=\"T_f7659_row65_col0\" class=\"data row65 col0\" >Python Programming: Answers all your Questions Step-by-Step (Programming for Beginners: A Friendly Q & A Guide Book 1)</td>\n",
       "      <td id=\"T_f7659_row65_col1\" class=\"data row65 col1\" >nan</td>\n",
       "      <td id=\"T_f7659_row65_col2\" class=\"data row65 col2\" >nan</td>\n",
       "      <td id=\"T_f7659_row65_col3\" class=\"data row65 col3\" >77</td>\n",
       "      <td id=\"T_f7659_row65_col4\" class=\"data row65 col4\" >3.600000</td>\n",
       "      <td id=\"T_f7659_row65_col5\" class=\"data row65 col5\" >4</td>\n",
       "      <td id=\"T_f7659_row65_col6\" class=\"data row65 col6\" >46%</td>\n",
       "      <td id=\"T_f7659_row65_col7\" class=\"data row65 col7\" >26%</td>\n",
       "      <td id=\"T_f7659_row65_col8\" class=\"data row65 col8\" >28%</td>\n",
       "      <td id=\"T_f7659_row65_col9\" class=\"data row65 col9\" >nan</td>\n",
       "      <td id=\"T_f7659_row65_col10\" class=\"data row65 col10\" >nan</td>\n",
       "      <td id=\"T_f7659_row65_col11\" class=\"data row65 col11\" >nan</td>\n",
       "      <td id=\"T_f7659_row65_col12\" class=\"data row65 col12\" >English</td>\n",
       "      <td id=\"T_f7659_row65_col13\" class=\"data row65 col13\" >nan</td>\n",
       "      <td id=\"T_f7659_row65_col14\" class=\"data row65 col14\" >nan</td>\n",
       "      <td id=\"T_f7659_row65_col15\" class=\"data row65 col15\" >/Python-Programming-Questions-Step-Step-ebook/dp/B07MGY6JZH/ref=sr_1_217?keywords=python&qid=1671164927&sr=8-217</td>\n",
       "      <td id=\"T_f7659_row65_col16\" class=\"data row65 col16\" >https://www.amazon.com/Python-Programming-Questions-Step-Step-ebook/dp/B07MGY6JZH/ref=sr_1_217?keywords=python&qid=1671164927&sr=8-217</td>\n",
       "    </tr>\n",
       "    <tr>\n",
       "      <th id=\"T_f7659_level0_row66\" class=\"row_heading level0 row66\" >571</th>\n",
       "      <td id=\"T_f7659_row66_col0\" class=\"data row66 col0\" >53 Must Do Python Projects For All</td>\n",
       "      <td id=\"T_f7659_row66_col1\" class=\"data row66 col1\" >[ Edcorner Learning]</td>\n",
       "      <td id=\"T_f7659_row66_col2\" class=\"data row66 col2\" >nan</td>\n",
       "      <td id=\"T_f7659_row66_col3\" class=\"data row66 col3\" >231</td>\n",
       "      <td id=\"T_f7659_row66_col4\" class=\"data row66 col4\" >3.700000</td>\n",
       "      <td id=\"T_f7659_row66_col5\" class=\"data row66 col5\" >11</td>\n",
       "      <td id=\"T_f7659_row66_col6\" class=\"data row66 col6\" >44%</td>\n",
       "      <td id=\"T_f7659_row66_col7\" class=\"data row66 col7\" >20%</td>\n",
       "      <td id=\"T_f7659_row66_col8\" class=\"data row66 col8\" >36%</td>\n",
       "      <td id=\"T_f7659_row66_col9\" class=\"data row66 col9\" >nan</td>\n",
       "      <td id=\"T_f7659_row66_col10\" class=\"data row66 col10\" >nan</td>\n",
       "      <td id=\"T_f7659_row66_col11\" class=\"data row66 col11\" >nan</td>\n",
       "      <td id=\"T_f7659_row66_col12\" class=\"data row66 col12\" >English</td>\n",
       "      <td id=\"T_f7659_row66_col13\" class=\"data row66 col13\" >nan</td>\n",
       "      <td id=\"T_f7659_row66_col14\" class=\"data row66 col14\" >nan</td>\n",
       "      <td id=\"T_f7659_row66_col15\" class=\"data row66 col15\" >/53-Must-Python-Projects-All-ebook/dp/B09QYZMC2W/ref=sr_1_198?keywords=python&qid=1671164927&sr=8-198</td>\n",
       "      <td id=\"T_f7659_row66_col16\" class=\"data row66 col16\" >https://www.amazon.com/53-Must-Python-Projects-All-ebook/dp/B09QYZMC2W/ref=sr_1_198?keywords=python&qid=1671164927&sr=8-198</td>\n",
       "    </tr>\n",
       "    <tr>\n",
       "      <th id=\"T_f7659_level0_row67\" class=\"row_heading level0 row67\" >576</th>\n",
       "      <td id=\"T_f7659_row67_col0\" class=\"data row67 col0\" >Learn Python Quickly: A Complete Beginner’s Guide to Learning Python, Even If You’re New to Programming: Crash Course with Hands-On Project, Book 1</td>\n",
       "      <td id=\"T_f7659_row67_col1\" class=\"data row67 col1\" >nan</td>\n",
       "      <td id=\"T_f7659_row67_col2\" class=\"data row67 col2\" >nan</td>\n",
       "      <td id=\"T_f7659_row67_col3\" class=\"data row67 col3\" >nan</td>\n",
       "      <td id=\"T_f7659_row67_col4\" class=\"data row67 col4\" >4.400000</td>\n",
       "      <td id=\"T_f7659_row67_col5\" class=\"data row67 col5\" >408</td>\n",
       "      <td id=\"T_f7659_row67_col6\" class=\"data row67 col6\" >60%</td>\n",
       "      <td id=\"T_f7659_row67_col7\" class=\"data row67 col7\" >23%</td>\n",
       "      <td id=\"T_f7659_row67_col8\" class=\"data row67 col8\" >12%</td>\n",
       "      <td id=\"T_f7659_row67_col9\" class=\"data row67 col9\" >2%</td>\n",
       "      <td id=\"T_f7659_row67_col10\" class=\"data row67 col10\" >3%</td>\n",
       "      <td id=\"T_f7659_row67_col11\" class=\"data row67 col11\" >nan</td>\n",
       "      <td id=\"T_f7659_row67_col12\" class=\"data row67 col12\" >English</td>\n",
       "      <td id=\"T_f7659_row67_col13\" class=\"data row67 col13\" >nan</td>\n",
       "      <td id=\"T_f7659_row67_col14\" class=\"data row67 col14\" >nan</td>\n",
       "      <td id=\"T_f7659_row67_col15\" class=\"data row67 col15\" >/Learn-Python-Quickly-Programming-Hands/dp/B0886LLRTH/ref=sr_1_169?keywords=python&qid=1671164918&sr=8-169</td>\n",
       "      <td id=\"T_f7659_row67_col16\" class=\"data row67 col16\" >https://www.amazon.com/Learn-Python-Quickly-Programming-Hands/dp/B0886LLRTH/ref=sr_1_169?keywords=python&qid=1671164918&sr=8-169</td>\n",
       "    </tr>\n",
       "    <tr>\n",
       "      <th id=\"T_f7659_level0_row68\" class=\"row_heading level0 row68\" >592</th>\n",
       "      <td id=\"T_f7659_row68_col0\" class=\"data row68 col0\" >Python for MBAs</td>\n",
       "      <td id=\"T_f7659_row68_col1\" class=\"data row68 col1\" >[ Mattan Griffel,  and , Daniel Guetta]</td>\n",
       "      <td id=\"T_f7659_row68_col2\" class=\"data row68 col2\" >16.990000</td>\n",
       "      <td id=\"T_f7659_row68_col3\" class=\"data row68 col3\" >493</td>\n",
       "      <td id=\"T_f7659_row68_col4\" class=\"data row68 col4\" >4.500000</td>\n",
       "      <td id=\"T_f7659_row68_col5\" class=\"data row68 col5\" >22</td>\n",
       "      <td id=\"T_f7659_row68_col6\" class=\"data row68 col6\" >81%</td>\n",
       "      <td id=\"T_f7659_row68_col7\" class=\"data row68 col7\" >6%</td>\n",
       "      <td id=\"T_f7659_row68_col8\" class=\"data row68 col8\" >7%</td>\n",
       "      <td id=\"T_f7659_row68_col9\" class=\"data row68 col9\" >7%</td>\n",
       "      <td id=\"T_f7659_row68_col10\" class=\"data row68 col10\" >nan</td>\n",
       "      <td id=\"T_f7659_row68_col11\" class=\"data row68 col11\" >nan</td>\n",
       "      <td id=\"T_f7659_row68_col12\" class=\"data row68 col12\" >English</td>\n",
       "      <td id=\"T_f7659_row68_col13\" class=\"data row68 col13\" >Columbia Business School Publishing (May 4, 2021)</td>\n",
       "      <td id=\"T_f7659_row68_col14\" class=\"data row68 col14\" >nan</td>\n",
       "      <td id=\"T_f7659_row68_col15\" class=\"data row68 col15\" >/Python-MBAs-Mattan-Griffel-ebook/dp/B087T2KMDL/ref=sr_1_124?keywords=python&qid=1671164909&sr=8-124</td>\n",
       "      <td id=\"T_f7659_row68_col16\" class=\"data row68 col16\" >https://www.amazon.com/Python-MBAs-Mattan-Griffel-ebook/dp/B087T2KMDL/ref=sr_1_124?keywords=python&qid=1671164909&sr=8-124</td>\n",
       "    </tr>\n",
       "    <tr>\n",
       "      <th id=\"T_f7659_level0_row69\" class=\"row_heading level0 row69\" >610</th>\n",
       "      <td id=\"T_f7659_row69_col0\" class=\"data row69 col0\" >Simplifying Regular Expression Using Python: #Awarded as One of the Best Book in 2020 and 2021 by bookauthority.org</td>\n",
       "      <td id=\"T_f7659_row69_col1\" class=\"data row69 col1\" >[ Abhishek  Singh,  and , Zohaib Hasan]</td>\n",
       "      <td id=\"T_f7659_row69_col2\" class=\"data row69 col2\" >nan</td>\n",
       "      <td id=\"T_f7659_row69_col3\" class=\"data row69 col3\" >82</td>\n",
       "      <td id=\"T_f7659_row69_col4\" class=\"data row69 col4\" >4.200000</td>\n",
       "      <td id=\"T_f7659_row69_col5\" class=\"data row69 col5\" >64</td>\n",
       "      <td id=\"T_f7659_row69_col6\" class=\"data row69 col6\" >57%</td>\n",
       "      <td id=\"T_f7659_row69_col7\" class=\"data row69 col7\" >21%</td>\n",
       "      <td id=\"T_f7659_row69_col8\" class=\"data row69 col8\" >12%</td>\n",
       "      <td id=\"T_f7659_row69_col9\" class=\"data row69 col9\" >5%</td>\n",
       "      <td id=\"T_f7659_row69_col10\" class=\"data row69 col10\" >6%</td>\n",
       "      <td id=\"T_f7659_row69_col11\" class=\"data row69 col11\" >nan</td>\n",
       "      <td id=\"T_f7659_row69_col12\" class=\"data row69 col12\" >English</td>\n",
       "      <td id=\"T_f7659_row69_col13\" class=\"data row69 col13\" >nan</td>\n",
       "      <td id=\"T_f7659_row69_col14\" class=\"data row69 col14\" >nan</td>\n",
       "      <td id=\"T_f7659_row69_col15\" class=\"data row69 col15\" >/Simplifying-Regular-Expression-Using-Python-ebook/dp/B07QZGBNBL/ref=sr_1_76?keywords=python&qid=1671164900&sr=8-76</td>\n",
       "      <td id=\"T_f7659_row69_col16\" class=\"data row69 col16\" >https://www.amazon.com/Simplifying-Regular-Expression-Using-Python-ebook/dp/B07QZGBNBL/ref=sr_1_76?keywords=python&qid=1671164900&sr=8-76</td>\n",
       "    </tr>\n",
       "    <tr>\n",
       "      <th id=\"T_f7659_level0_row70\" class=\"row_heading level0 row70\" >626</th>\n",
       "      <td id=\"T_f7659_row70_col0\" class=\"data row70 col0\" >Python for Beginners: A Step-by-Step Guide to Learn Python from Zero in Just 5 Days: Includes Hands-on Projects and Exercises</td>\n",
       "      <td id=\"T_f7659_row70_col1\" class=\"data row70 col1\" >[ Clive Campbell,  and , Austin R Stoler]</td>\n",
       "      <td id=\"T_f7659_row70_col2\" class=\"data row70 col2\" >nan</td>\n",
       "      <td id=\"T_f7659_row70_col3\" class=\"data row70 col3\" >nan</td>\n",
       "      <td id=\"T_f7659_row70_col4\" class=\"data row70 col4\" >3.800000</td>\n",
       "      <td id=\"T_f7659_row70_col5\" class=\"data row70 col5\" >17</td>\n",
       "      <td id=\"T_f7659_row70_col6\" class=\"data row70 col6\" >48%</td>\n",
       "      <td id=\"T_f7659_row70_col7\" class=\"data row70 col7\" >9%</td>\n",
       "      <td id=\"T_f7659_row70_col8\" class=\"data row70 col8\" >26%</td>\n",
       "      <td id=\"T_f7659_row70_col9\" class=\"data row70 col9\" >9%</td>\n",
       "      <td id=\"T_f7659_row70_col10\" class=\"data row70 col10\" >8%</td>\n",
       "      <td id=\"T_f7659_row70_col11\" class=\"data row70 col11\" >nan</td>\n",
       "      <td id=\"T_f7659_row70_col12\" class=\"data row70 col12\" >English</td>\n",
       "      <td id=\"T_f7659_row70_col13\" class=\"data row70 col13\" >nan</td>\n",
       "      <td id=\"T_f7659_row70_col14\" class=\"data row70 col14\" >nan</td>\n",
       "      <td id=\"T_f7659_row70_col15\" class=\"data row70 col15\" >/Python-for-Beginners-audiobook/dp/B07Y2GTJ54/ref=sr_1_58?keywords=python&qid=1671164900&sr=8-58</td>\n",
       "      <td id=\"T_f7659_row70_col16\" class=\"data row70 col16\" >https://www.amazon.com/Python-for-Beginners-audiobook/dp/B07Y2GTJ54/ref=sr_1_58?keywords=python&qid=1671164900&sr=8-58</td>\n",
       "    </tr>\n",
       "    <tr>\n",
       "      <th id=\"T_f7659_level0_row71\" class=\"row_heading level0 row71\" >628</th>\n",
       "      <td id=\"T_f7659_row71_col0\" class=\"data row71 col0\" >LISINAN Adjustable Reptile Terrarium Heat Lamp Stand,Metal Reptile Lamp Holder Bracket with Turtle Tank Light Fixture Accessories,Used for Lizards Snakes Amphibians Tortoise Habitat(M, 11.81\"x25.19\")</td>\n",
       "      <td id=\"T_f7659_row71_col1\" class=\"data row71 col1\" >nan</td>\n",
       "      <td id=\"T_f7659_row71_col2\" class=\"data row71 col2\" >nan</td>\n",
       "      <td id=\"T_f7659_row71_col3\" class=\"data row71 col3\" >nan</td>\n",
       "      <td id=\"T_f7659_row71_col4\" class=\"data row71 col4\" >4.500000</td>\n",
       "      <td id=\"T_f7659_row71_col5\" class=\"data row71 col5\" >54</td>\n",
       "      <td id=\"T_f7659_row71_col6\" class=\"data row71 col6\" >72%</td>\n",
       "      <td id=\"T_f7659_row71_col7\" class=\"data row71 col7\" >13%</td>\n",
       "      <td id=\"T_f7659_row71_col8\" class=\"data row71 col8\" >6%</td>\n",
       "      <td id=\"T_f7659_row71_col9\" class=\"data row71 col9\" >6%</td>\n",
       "      <td id=\"T_f7659_row71_col10\" class=\"data row71 col10\" >3%</td>\n",
       "      <td id=\"T_f7659_row71_col11\" class=\"data row71 col11\" >nan</td>\n",
       "      <td id=\"T_f7659_row71_col12\" class=\"data row71 col12\" >English</td>\n",
       "      <td id=\"T_f7659_row71_col13\" class=\"data row71 col13\" >nan</td>\n",
       "      <td id=\"T_f7659_row71_col14\" class=\"data row71 col14\" >nan</td>\n",
       "      <td id=\"T_f7659_row71_col15\" class=\"data row71 col15\" >/LISINAN-Adjustable-Terrarium-Accessories-Amphibians/dp/B094HW3D2X/ref=sxin_25_sbl_swi?content-id=amzn1.sym.6ca367be-63d0-4765-855e-02d825778bca%3Aamzn1.sym.6ca367be-63d0-4765-855e-02d825778bca&cv_ct_cx=python&keywords=python&pd_rd_i=B094HW3D2X&pd_rd_r=de905080-8a65-431b-822d-b652734a0201&pd_rd_w=mMdXD&pd_rd_wg=I6FbD&pf_rd_p=6ca367be-63d0-4765-855e-02d825778bca&pf_rd_r=KWYW0166FNAF6HQDXMK4&qid=1671164641&sr=1-1-33f6704f-9b8e-4c12-a6e0-b7957fe916db</td>\n",
       "      <td id=\"T_f7659_row71_col16\" class=\"data row71 col16\" >https://www.amazon.com/LISINAN-Adjustable-Terrarium-Accessories-Amphibians/dp/B094HW3D2X/ref=sxin_25_sbl_swi?content-id=amzn1.sym.6ca367be-63d0-4765-855e-02d825778bca%3Aamzn1.sym.6ca367be-63d0-4765-855e-02d825778bca&cv_ct_cx=python&keywords=python&pd_rd_i=B094HW3D2X&pd_rd_r=de905080-8a65-431b-822d-b652734a0201&pd_rd_w=mMdXD&pd_rd_wg=I6FbD&pf_rd_p=6ca367be-63d0-4765-855e-02d825778bca&pf_rd_r=KWYW0166FNAF6HQDXMK4&qid=1671164641&sr=1-1-33f6704f-9b8e-4c12-a6e0-b7957fe916db</td>\n",
       "    </tr>\n",
       "    <tr>\n",
       "      <th id=\"T_f7659_level0_row72\" class=\"row_heading level0 row72\" >633</th>\n",
       "      <td id=\"T_f7659_row72_col0\" class=\"data row72 col0\" >Python Crash Course, 2nd Edition: A Hands-On, Project-Based Introduction to Programming</td>\n",
       "      <td id=\"T_f7659_row72_col1\" class=\"data row72 col1\" >[ Eric Matthes]</td>\n",
       "      <td id=\"T_f7659_row72_col2\" class=\"data row72 col2\" >23.990000</td>\n",
       "      <td id=\"T_f7659_row72_col3\" class=\"data row72 col3\" >544</td>\n",
       "      <td id=\"T_f7659_row72_col4\" class=\"data row72 col4\" >4.700000</td>\n",
       "      <td id=\"T_f7659_row72_col5\" class=\"data row72 col5\" >7,767</td>\n",
       "      <td id=\"T_f7659_row72_col6\" class=\"data row72 col6\" >81%</td>\n",
       "      <td id=\"T_f7659_row72_col7\" class=\"data row72 col7\" >13%</td>\n",
       "      <td id=\"T_f7659_row72_col8\" class=\"data row72 col8\" >4%</td>\n",
       "      <td id=\"T_f7659_row72_col9\" class=\"data row72 col9\" >1%</td>\n",
       "      <td id=\"T_f7659_row72_col10\" class=\"data row72 col10\" >1%</td>\n",
       "      <td id=\"T_f7659_row72_col11\" class=\"data row72 col11\" >nan</td>\n",
       "      <td id=\"T_f7659_row72_col12\" class=\"data row72 col12\" >\"Brilliant.\"</td>\n",
       "      <td id=\"T_f7659_row72_col13\" class=\"data row72 col13\" >No Starch Press; 2nd edition (May 21, 2019)</td>\n",
       "      <td id=\"T_f7659_row72_col14\" class=\"data row72 col14\" >nan</td>\n",
       "      <td id=\"T_f7659_row72_col15\" class=\"data row72 col15\" >/Python-Crash-Course-Eric-Matthes-ebook/dp/B07J4521M3/ref=sxin_24_sbl_swi?content-id=amzn1.sym.6ca367be-63d0-4765-855e-02d825778bca%3Aamzn1.sym.6ca367be-63d0-4765-855e-02d825778bca&cv_ct_cx=python&keywords=python&pd_rd_i=B07J4521M3&pd_rd_r=de905080-8a65-431b-822d-b652734a0201&pd_rd_w=OaZsm&pd_rd_wg=I6FbD&pf_rd_p=6ca367be-63d0-4765-855e-02d825778bca&pf_rd_r=KWYW0166FNAF6HQDXMK4&qid=1671164641&sr=1-2-33f6704f-9b8e-4c12-a6e0-b7957fe916db</td>\n",
       "      <td id=\"T_f7659_row72_col16\" class=\"data row72 col16\" >https://www.amazon.com/Python-Crash-Course-Eric-Matthes-ebook/dp/B07J4521M3/ref=sxin_24_sbl_swi?content-id=amzn1.sym.6ca367be-63d0-4765-855e-02d825778bca%3Aamzn1.sym.6ca367be-63d0-4765-855e-02d825778bca&cv_ct_cx=python&keywords=python&pd_rd_i=B07J4521M3&pd_rd_r=de905080-8a65-431b-822d-b652734a0201&pd_rd_w=OaZsm&pd_rd_wg=I6FbD&pf_rd_p=6ca367be-63d0-4765-855e-02d825778bca&pf_rd_r=KWYW0166FNAF6HQDXMK4&qid=1671164641&sr=1-2-33f6704f-9b8e-4c12-a6e0-b7957fe916db</td>\n",
       "    </tr>\n",
       "    <tr>\n",
       "      <th id=\"T_f7659_level0_row73\" class=\"row_heading level0 row73\" >641</th>\n",
       "      <td id=\"T_f7659_row73_col0\" class=\"data row73 col0\" >Leading a Data Driven Organization: A Practical Guide to Transforming Yourself and Your Organization to Win the Data Science Revolution</td>\n",
       "      <td id=\"T_f7659_row73_col1\" class=\"data row73 col1\" >[ Gordon Summers]</td>\n",
       "      <td id=\"T_f7659_row73_col2\" class=\"data row73 col2\" >2.990000</td>\n",
       "      <td id=\"T_f7659_row73_col3\" class=\"data row73 col3\" >108</td>\n",
       "      <td id=\"T_f7659_row73_col4\" class=\"data row73 col4\" >5.000000</td>\n",
       "      <td id=\"T_f7659_row73_col5\" class=\"data row73 col5\" >5</td>\n",
       "      <td id=\"T_f7659_row73_col6\" class=\"data row73 col6\" >100%</td>\n",
       "      <td id=\"T_f7659_row73_col7\" class=\"data row73 col7\" >nan</td>\n",
       "      <td id=\"T_f7659_row73_col8\" class=\"data row73 col8\" >nan</td>\n",
       "      <td id=\"T_f7659_row73_col9\" class=\"data row73 col9\" >nan</td>\n",
       "      <td id=\"T_f7659_row73_col10\" class=\"data row73 col10\" >nan</td>\n",
       "      <td id=\"T_f7659_row73_col11\" class=\"data row73 col11\" >nan</td>\n",
       "      <td id=\"T_f7659_row73_col12\" class=\"data row73 col12\" >English</td>\n",
       "      <td id=\"T_f7659_row73_col13\" class=\"data row73 col13\" >nan</td>\n",
       "      <td id=\"T_f7659_row73_col14\" class=\"data row73 col14\" >nan</td>\n",
       "      <td id=\"T_f7659_row73_col15\" class=\"data row73 col15\" >/Leading-Data-Driven-Organization-Transforming-ebook/dp/B07JFRJ8NT/ref=sr_1_49?crid=1IWIG31DNPO6P&keywords=data+science&qid=1671164641&sprefix=data+science%2Caps%2C586&sr=8-49</td>\n",
       "      <td id=\"T_f7659_row73_col16\" class=\"data row73 col16\" >https://www.amazon.com/Leading-Data-Driven-Organization-Transforming-ebook/dp/B07JFRJ8NT/ref=sr_1_49?crid=1IWIG31DNPO6P&keywords=data+science&qid=1671164641&sprefix=data+science%2Caps%2C586&sr=8-49</td>\n",
       "    </tr>\n",
       "    <tr>\n",
       "      <th id=\"T_f7659_level0_row74\" class=\"row_heading level0 row74\" >647</th>\n",
       "      <td id=\"T_f7659_row74_col0\" class=\"data row74 col0\" >Statistics for Absolute Beginners (Second Edition) (AI, Data Science, Python & Statistics for Beginners Book 5)</td>\n",
       "      <td id=\"T_f7659_row74_col1\" class=\"data row74 col1\" >nan</td>\n",
       "      <td id=\"T_f7659_row74_col2\" class=\"data row74 col2\" >nan</td>\n",
       "      <td id=\"T_f7659_row74_col3\" class=\"data row74 col3\" >166</td>\n",
       "      <td id=\"T_f7659_row74_col4\" class=\"data row74 col4\" >4.400000</td>\n",
       "      <td id=\"T_f7659_row74_col5\" class=\"data row74 col5\" >149</td>\n",
       "      <td id=\"T_f7659_row74_col6\" class=\"data row74 col6\" >68%</td>\n",
       "      <td id=\"T_f7659_row74_col7\" class=\"data row74 col7\" >13%</td>\n",
       "      <td id=\"T_f7659_row74_col8\" class=\"data row74 col8\" >11%</td>\n",
       "      <td id=\"T_f7659_row74_col9\" class=\"data row74 col9\" >2%</td>\n",
       "      <td id=\"T_f7659_row74_col10\" class=\"data row74 col10\" >6%</td>\n",
       "      <td id=\"T_f7659_row74_col11\" class=\"data row74 col11\" >nan</td>\n",
       "      <td id=\"T_f7659_row74_col12\" class=\"data row74 col12\" >English</td>\n",
       "      <td id=\"T_f7659_row74_col13\" class=\"data row74 col13\" >Scatterplot Press; 2nd edition (February 24, 2020)</td>\n",
       "      <td id=\"T_f7659_row74_col14\" class=\"data row74 col14\" >nan</td>\n",
       "      <td id=\"T_f7659_row74_col15\" class=\"data row74 col15\" >/Statistics-Absolute-Beginners-Second-Theobald-ebook/dp/B0854DM1Y7/ref=sr_1_38?crid=1IWIG31DNPO6P&keywords=data+science&qid=1671164641&sprefix=data+science%2Caps%2C586&sr=8-38</td>\n",
       "      <td id=\"T_f7659_row74_col16\" class=\"data row74 col16\" >https://www.amazon.com/Statistics-Absolute-Beginners-Second-Theobald-ebook/dp/B0854DM1Y7/ref=sr_1_38?crid=1IWIG31DNPO6P&keywords=data+science&qid=1671164641&sprefix=data+science%2Caps%2C586&sr=8-38</td>\n",
       "    </tr>\n",
       "    <tr>\n",
       "      <th id=\"T_f7659_level0_row75\" class=\"row_heading level0 row75\" >654</th>\n",
       "      <td id=\"T_f7659_row75_col0\" class=\"data row75 col0\" >Data Science for Business: What You Need to Know About Data Mining and Data-Analytic Thinking</td>\n",
       "      <td id=\"T_f7659_row75_col1\" class=\"data row75 col1\" >[ Foster Provost, Tom Fawcett, et al.]</td>\n",
       "      <td id=\"T_f7659_row75_col2\" class=\"data row75 col2\" >nan</td>\n",
       "      <td id=\"T_f7659_row75_col3\" class=\"data row75 col3\" >nan</td>\n",
       "      <td id=\"T_f7659_row75_col4\" class=\"data row75 col4\" >4.500000</td>\n",
       "      <td id=\"T_f7659_row75_col5\" class=\"data row75 col5\" >1,001</td>\n",
       "      <td id=\"T_f7659_row75_col6\" class=\"data row75 col6\" >72%</td>\n",
       "      <td id=\"T_f7659_row75_col7\" class=\"data row75 col7\" >15%</td>\n",
       "      <td id=\"T_f7659_row75_col8\" class=\"data row75 col8\" >7%</td>\n",
       "      <td id=\"T_f7659_row75_col9\" class=\"data row75 col9\" >3%</td>\n",
       "      <td id=\"T_f7659_row75_col10\" class=\"data row75 col10\" >3%</td>\n",
       "      <td id=\"T_f7659_row75_col11\" class=\"data row75 col11\" >nan</td>\n",
       "      <td id=\"T_f7659_row75_col12\" class=\"data row75 col12\" >English</td>\n",
       "      <td id=\"T_f7659_row75_col13\" class=\"data row75 col13\" >nan</td>\n",
       "      <td id=\"T_f7659_row75_col14\" class=\"data row75 col14\" >nan</td>\n",
       "      <td id=\"T_f7659_row75_col15\" class=\"data row75 col15\" >/Data-Science-Business-Data-Analytic-Thinking/dp/B08VL5K5ZX/ref=sr_1_16?crid=1IWIG31DNPO6P&keywords=data+science&qid=1671164641&sprefix=data+science%2Caps%2C586&sr=8-16</td>\n",
       "      <td id=\"T_f7659_row75_col16\" class=\"data row75 col16\" >https://www.amazon.com/Data-Science-Business-Data-Analytic-Thinking/dp/B08VL5K5ZX/ref=sr_1_16?crid=1IWIG31DNPO6P&keywords=data+science&qid=1671164641&sprefix=data+science%2Caps%2C586&sr=8-16</td>\n",
       "    </tr>\n",
       "    <tr>\n",
       "      <th id=\"T_f7659_level0_row76\" class=\"row_heading level0 row76\" >664</th>\n",
       "      <td id=\"T_f7659_row76_col0\" class=\"data row76 col0\" >Behind Every Good Decision: How Anyone Can Use Business Analytics to Turn Data into Profitable Insight</td>\n",
       "      <td id=\"T_f7659_row76_col1\" class=\"data row76 col1\" >[ Piyanka Jain,  and , Puneet Sharma]</td>\n",
       "      <td id=\"T_f7659_row76_col2\" class=\"data row76 col2\" >17.490000</td>\n",
       "      <td id=\"T_f7659_row76_col3\" class=\"data row76 col3\" >248</td>\n",
       "      <td id=\"T_f7659_row76_col4\" class=\"data row76 col4\" >4.400000</td>\n",
       "      <td id=\"T_f7659_row76_col5\" class=\"data row76 col5\" >93</td>\n",
       "      <td id=\"T_f7659_row76_col6\" class=\"data row76 col6\" >66%</td>\n",
       "      <td id=\"T_f7659_row76_col7\" class=\"data row76 col7\" >19%</td>\n",
       "      <td id=\"T_f7659_row76_col8\" class=\"data row76 col8\" >9%</td>\n",
       "      <td id=\"T_f7659_row76_col9\" class=\"data row76 col9\" >6%</td>\n",
       "      <td id=\"T_f7659_row76_col10\" class=\"data row76 col10\" >nan</td>\n",
       "      <td id=\"T_f7659_row76_col11\" class=\"data row76 col11\" >nan</td>\n",
       "      <td id=\"T_f7659_row76_col12\" class=\"data row76 col12\" >English</td>\n",
       "      <td id=\"T_f7659_row76_col13\" class=\"data row76 col13\" >AMACOM (November 5, 2014)</td>\n",
       "      <td id=\"T_f7659_row76_col14\" class=\"data row76 col14\" >nan</td>\n",
       "      <td id=\"T_f7659_row76_col15\" class=\"data row76 col15\" >/Behind-Every-Good-Decision-Profitable-ebook/dp/B00KVO2C88/ref=sr_1_95?crid=1IWIG31DNPO6P&keywords=data+science&qid=1671165031&sprefix=data+science%2Caps%2C586&sr=8-95</td>\n",
       "      <td id=\"T_f7659_row76_col16\" class=\"data row76 col16\" >https://www.amazon.com/Behind-Every-Good-Decision-Profitable-ebook/dp/B00KVO2C88/ref=sr_1_95?crid=1IWIG31DNPO6P&keywords=data+science&qid=1671165031&sprefix=data+science%2Caps%2C586&sr=8-95</td>\n",
       "    </tr>\n",
       "    <tr>\n",
       "      <th id=\"T_f7659_level0_row77\" class=\"row_heading level0 row77\" >669</th>\n",
       "      <td id=\"T_f7659_row77_col0\" class=\"data row77 col0\" >Be the Outlier: How to Ace Data Science Interviews</td>\n",
       "      <td id=\"T_f7659_row77_col1\" class=\"data row77 col1\" >[ Shrilata Murthy]</td>\n",
       "      <td id=\"T_f7659_row77_col2\" class=\"data row77 col2\" >5.990000</td>\n",
       "      <td id=\"T_f7659_row77_col3\" class=\"data row77 col3\" >212</td>\n",
       "      <td id=\"T_f7659_row77_col4\" class=\"data row77 col4\" >4.200000</td>\n",
       "      <td id=\"T_f7659_row77_col5\" class=\"data row77 col5\" >58</td>\n",
       "      <td id=\"T_f7659_row77_col6\" class=\"data row77 col6\" >62%</td>\n",
       "      <td id=\"T_f7659_row77_col7\" class=\"data row77 col7\" >11%</td>\n",
       "      <td id=\"T_f7659_row77_col8\" class=\"data row77 col8\" >18%</td>\n",
       "      <td id=\"T_f7659_row77_col9\" class=\"data row77 col9\" >5%</td>\n",
       "      <td id=\"T_f7659_row77_col10\" class=\"data row77 col10\" >4%</td>\n",
       "      <td id=\"T_f7659_row77_col11\" class=\"data row77 col11\" >nan</td>\n",
       "      <td id=\"T_f7659_row77_col12\" class=\"data row77 col12\" >English</td>\n",
       "      <td id=\"T_f7659_row77_col13\" class=\"data row77 col13\" >New Degree Press (August 4, 2020)</td>\n",
       "      <td id=\"T_f7659_row77_col14\" class=\"data row77 col14\" >nan</td>\n",
       "      <td id=\"T_f7659_row77_col15\" class=\"data row77 col15\" >/Be-Outlier-Data-Science-Interviews-ebook/dp/B08F9M83LJ/ref=sr_1_85?crid=1IWIG31DNPO6P&keywords=data+science&qid=1671165031&sprefix=data+science%2Caps%2C586&sr=8-85</td>\n",
       "      <td id=\"T_f7659_row77_col16\" class=\"data row77 col16\" >https://www.amazon.com/Be-Outlier-Data-Science-Interviews-ebook/dp/B08F9M83LJ/ref=sr_1_85?crid=1IWIG31DNPO6P&keywords=data+science&qid=1671165031&sprefix=data+science%2Caps%2C586&sr=8-85</td>\n",
       "    </tr>\n",
       "    <tr>\n",
       "      <th id=\"T_f7659_level0_row78\" class=\"row_heading level0 row78\" >680</th>\n",
       "      <td id=\"T_f7659_row78_col0\" class=\"data row78 col0\" >Data Science for Beginners 2020: Learn How Data Analytics and Machine Learning Are Used to Define New Strategies for Marketing and Business. (The Data Science Bible, Book 1)</td>\n",
       "      <td id=\"T_f7659_row78_col1\" class=\"data row78 col1\" >[ Ross Zowler, Cyrus Carey, et al.]</td>\n",
       "      <td id=\"T_f7659_row78_col2\" class=\"data row78 col2\" >nan</td>\n",
       "      <td id=\"T_f7659_row78_col3\" class=\"data row78 col3\" >nan</td>\n",
       "      <td id=\"T_f7659_row78_col4\" class=\"data row78 col4\" >4.000000</td>\n",
       "      <td id=\"T_f7659_row78_col5\" class=\"data row78 col5\" >1</td>\n",
       "      <td id=\"T_f7659_row78_col6\" class=\"data row78 col6\" >100%</td>\n",
       "      <td id=\"T_f7659_row78_col7\" class=\"data row78 col7\" >nan</td>\n",
       "      <td id=\"T_f7659_row78_col8\" class=\"data row78 col8\" >nan</td>\n",
       "      <td id=\"T_f7659_row78_col9\" class=\"data row78 col9\" >nan</td>\n",
       "      <td id=\"T_f7659_row78_col10\" class=\"data row78 col10\" >nan</td>\n",
       "      <td id=\"T_f7659_row78_col11\" class=\"data row78 col11\" >nan</td>\n",
       "      <td id=\"T_f7659_row78_col12\" class=\"data row78 col12\" >English</td>\n",
       "      <td id=\"T_f7659_row78_col13\" class=\"data row78 col13\" >nan</td>\n",
       "      <td id=\"T_f7659_row78_col14\" class=\"data row78 col14\" >nan</td>\n",
       "      <td id=\"T_f7659_row78_col15\" class=\"data row78 col15\" >/Data-Science-Beginners-2020-Strategies/dp/B08643MZBP/ref=sr_1_145?crid=1IWIG31DNPO6P&keywords=data+science&qid=1671165042&sprefix=data+science%2Caps%2C586&sr=8-145</td>\n",
       "      <td id=\"T_f7659_row78_col16\" class=\"data row78 col16\" >https://www.amazon.com/Data-Science-Beginners-2020-Strategies/dp/B08643MZBP/ref=sr_1_145?crid=1IWIG31DNPO6P&keywords=data+science&qid=1671165042&sprefix=data+science%2Caps%2C586&sr=8-145</td>\n",
       "    </tr>\n",
       "    <tr>\n",
       "      <th id=\"T_f7659_level0_row79\" class=\"row_heading level0 row79\" >682</th>\n",
       "      <td id=\"T_f7659_row79_col0\" class=\"data row79 col0\" >Building Data Science Applications with FastAPI: Develop, manage, and deploy efficient machine learning applications with Python</td>\n",
       "      <td id=\"T_f7659_row79_col1\" class=\"data row79 col1\" >[ François Voron]</td>\n",
       "      <td id=\"T_f7659_row79_col2\" class=\"data row79 col2\" >31.490000</td>\n",
       "      <td id=\"T_f7659_row79_col3\" class=\"data row79 col3\" >426</td>\n",
       "      <td id=\"T_f7659_row79_col4\" class=\"data row79 col4\" >4.400000</td>\n",
       "      <td id=\"T_f7659_row79_col5\" class=\"data row79 col5\" >29</td>\n",
       "      <td id=\"T_f7659_row79_col6\" class=\"data row79 col6\" >69%</td>\n",
       "      <td id=\"T_f7659_row79_col7\" class=\"data row79 col7\" >6%</td>\n",
       "      <td id=\"T_f7659_row79_col8\" class=\"data row79 col8\" >19%</td>\n",
       "      <td id=\"T_f7659_row79_col9\" class=\"data row79 col9\" >6%</td>\n",
       "      <td id=\"T_f7659_row79_col10\" class=\"data row79 col10\" >nan</td>\n",
       "      <td id=\"T_f7659_row79_col11\" class=\"data row79 col11\" >nan</td>\n",
       "      <td id=\"T_f7659_row79_col12\" class=\"data row79 col12\" >English</td>\n",
       "      <td id=\"T_f7659_row79_col13\" class=\"data row79 col13\" >Packt Publishing; 1st edition (October 8, 2021)</td>\n",
       "      <td id=\"T_f7659_row79_col14\" class=\"data row79 col14\" >nan</td>\n",
       "      <td id=\"T_f7659_row79_col15\" class=\"data row79 col15\" >/Building-Data-Science-Applications-FastAPI-ebook/dp/B09926TFQ5/ref=sr_1_142?crid=1IWIG31DNPO6P&keywords=data+science&qid=1671165042&sprefix=data+science%2Caps%2C586&sr=8-142</td>\n",
       "      <td id=\"T_f7659_row79_col16\" class=\"data row79 col16\" >https://www.amazon.com/Building-Data-Science-Applications-FastAPI-ebook/dp/B09926TFQ5/ref=sr_1_142?crid=1IWIG31DNPO6P&keywords=data+science&qid=1671165042&sprefix=data+science%2Caps%2C586&sr=8-142</td>\n",
       "    </tr>\n",
       "    <tr>\n",
       "      <th id=\"T_f7659_level0_row80\" class=\"row_heading level0 row80\" >683</th>\n",
       "      <td id=\"T_f7659_row80_col0\" class=\"data row80 col0\" >Minding the Machines: Building and Leading Data Science and Analytics Teams</td>\n",
       "      <td id=\"T_f7659_row80_col1\" class=\"data row80 col1\" >[ Jeremy Adamson]</td>\n",
       "      <td id=\"T_f7659_row80_col2\" class=\"data row80 col2\" >24.000000</td>\n",
       "      <td id=\"T_f7659_row80_col3\" class=\"data row80 col3\" >232</td>\n",
       "      <td id=\"T_f7659_row80_col4\" class=\"data row80 col4\" >4.400000</td>\n",
       "      <td id=\"T_f7659_row80_col5\" class=\"data row80 col5\" >20</td>\n",
       "      <td id=\"T_f7659_row80_col6\" class=\"data row80 col6\" >74%</td>\n",
       "      <td id=\"T_f7659_row80_col7\" class=\"data row80 col7\" >7%</td>\n",
       "      <td id=\"T_f7659_row80_col8\" class=\"data row80 col8\" >12%</td>\n",
       "      <td id=\"T_f7659_row80_col9\" class=\"data row80 col9\" >7%</td>\n",
       "      <td id=\"T_f7659_row80_col10\" class=\"data row80 col10\" >nan</td>\n",
       "      <td id=\"T_f7659_row80_col11\" class=\"data row80 col11\" >nan</td>\n",
       "      <td id=\"T_f7659_row80_col12\" class=\"data row80 col12\" >English</td>\n",
       "      <td id=\"T_f7659_row80_col13\" class=\"data row80 col13\" >Wiley; 1st edition (June 25, 2021)</td>\n",
       "      <td id=\"T_f7659_row80_col14\" class=\"data row80 col14\" >nan</td>\n",
       "      <td id=\"T_f7659_row80_col15\" class=\"data row80 col15\" >/Minding-Machines-Building-Leading-Analytics-ebook/dp/B0981HRHNC/ref=sr_1_141?crid=1IWIG31DNPO6P&keywords=data+science&qid=1671165042&sprefix=data+science%2Caps%2C586&sr=8-141</td>\n",
       "      <td id=\"T_f7659_row80_col16\" class=\"data row80 col16\" >https://www.amazon.com/Minding-Machines-Building-Leading-Analytics-ebook/dp/B0981HRHNC/ref=sr_1_141?crid=1IWIG31DNPO6P&keywords=data+science&qid=1671165042&sprefix=data+science%2Caps%2C586&sr=8-141</td>\n",
       "    </tr>\n",
       "    <tr>\n",
       "      <th id=\"T_f7659_level0_row81\" class=\"row_heading level0 row81\" >690</th>\n",
       "      <td id=\"T_f7659_row81_col0\" class=\"data row81 col0\" >Data Science for Executives: Leveraging Machine Intelligence to Drive Business ROI</td>\n",
       "      <td id=\"T_f7659_row81_col1\" class=\"data row81 col1\" >[ Nir Kaldero, Derek Perkins, et al.]</td>\n",
       "      <td id=\"T_f7659_row81_col2\" class=\"data row81 col2\" >nan</td>\n",
       "      <td id=\"T_f7659_row81_col3\" class=\"data row81 col3\" >nan</td>\n",
       "      <td id=\"T_f7659_row81_col4\" class=\"data row81 col4\" >4.100000</td>\n",
       "      <td id=\"T_f7659_row81_col5\" class=\"data row81 col5\" >47</td>\n",
       "      <td id=\"T_f7659_row81_col6\" class=\"data row81 col6\" >54%</td>\n",
       "      <td id=\"T_f7659_row81_col7\" class=\"data row81 col7\" >20%</td>\n",
       "      <td id=\"T_f7659_row81_col8\" class=\"data row81 col8\" >17%</td>\n",
       "      <td id=\"T_f7659_row81_col9\" class=\"data row81 col9\" >4%</td>\n",
       "      <td id=\"T_f7659_row81_col10\" class=\"data row81 col10\" >6%</td>\n",
       "      <td id=\"T_f7659_row81_col11\" class=\"data row81 col11\" >nan</td>\n",
       "      <td id=\"T_f7659_row81_col12\" class=\"data row81 col12\" >English</td>\n",
       "      <td id=\"T_f7659_row81_col13\" class=\"data row81 col13\" >nan</td>\n",
       "      <td id=\"T_f7659_row81_col14\" class=\"data row81 col14\" >nan</td>\n",
       "      <td id=\"T_f7659_row81_col15\" class=\"data row81 col15\" >/Data-Science-Executives-Leveraging-Intelligence/dp/B07PZZL3Z8/ref=sr_1_202?crid=1IWIG31DNPO6P&keywords=data+science&qid=1671165050&sprefix=data+science%2Caps%2C586&sr=8-202</td>\n",
       "      <td id=\"T_f7659_row81_col16\" class=\"data row81 col16\" >https://www.amazon.com/Data-Science-Executives-Leveraging-Intelligence/dp/B07PZZL3Z8/ref=sr_1_202?crid=1IWIG31DNPO6P&keywords=data+science&qid=1671165050&sprefix=data+science%2Caps%2C586&sr=8-202</td>\n",
       "    </tr>\n",
       "    <tr>\n",
       "      <th id=\"T_f7659_level0_row82\" class=\"row_heading level0 row82\" >701</th>\n",
       "      <td id=\"T_f7659_row82_col0\" class=\"data row82 col0\" >Machine Learning For Absolute Beginners: A Plain English Introduction (Second Edition) (AI, Data Science, Python & Statistics for Beginners Book 3)</td>\n",
       "      <td id=\"T_f7659_row82_col1\" class=\"data row82 col1\" >nan</td>\n",
       "      <td id=\"T_f7659_row82_col2\" class=\"data row82 col2\" >nan</td>\n",
       "      <td id=\"T_f7659_row82_col3\" class=\"data row82 col3\" >167</td>\n",
       "      <td id=\"T_f7659_row82_col4\" class=\"data row82 col4\" >4.500000</td>\n",
       "      <td id=\"T_f7659_row82_col5\" class=\"data row82 col5\" >1,123</td>\n",
       "      <td id=\"T_f7659_row82_col6\" class=\"data row82 col6\" >68%</td>\n",
       "      <td id=\"T_f7659_row82_col7\" class=\"data row82 col7\" >18%</td>\n",
       "      <td id=\"T_f7659_row82_col8\" class=\"data row82 col8\" >8%</td>\n",
       "      <td id=\"T_f7659_row82_col9\" class=\"data row82 col9\" >3%</td>\n",
       "      <td id=\"T_f7659_row82_col10\" class=\"data row82 col10\" >2%</td>\n",
       "      <td id=\"T_f7659_row82_col11\" class=\"data row82 col11\" >nan</td>\n",
       "      <td id=\"T_f7659_row82_col12\" class=\"data row82 col12\" >English</td>\n",
       "      <td id=\"T_f7659_row82_col13\" class=\"data row82 col13\" >Scatterplot Press; 2nd edition (June 21, 2017)</td>\n",
       "      <td id=\"T_f7659_row82_col14\" class=\"data row82 col14\" >nan</td>\n",
       "      <td id=\"T_f7659_row82_col15\" class=\"data row82 col15\" >/Machine-Learning-Absolute-Beginners-Introduction-ebook/dp/B07335JNW1/ref=sr_1_189?crid=1IWIG31DNPO6P&keywords=data+science&qid=1671165050&sprefix=data+science%2Caps%2C586&sr=8-189</td>\n",
       "      <td id=\"T_f7659_row82_col16\" class=\"data row82 col16\" >https://www.amazon.com/Machine-Learning-Absolute-Beginners-Introduction-ebook/dp/B07335JNW1/ref=sr_1_189?crid=1IWIG31DNPO6P&keywords=data+science&qid=1671165050&sprefix=data+science%2Caps%2C586&sr=8-189</td>\n",
       "    </tr>\n",
       "    <tr>\n",
       "      <th id=\"T_f7659_level0_row83\" class=\"row_heading level0 row83\" >704</th>\n",
       "      <td id=\"T_f7659_row83_col0\" class=\"data row83 col0\" >The Data Science Workshop: Learn how you can build machine learning models and create your own real-world data science projects, 2nd Edition</td>\n",
       "      <td id=\"T_f7659_row83_col1\" class=\"data row83 col1\" >[ Anthony So, Thomas V. Joseph, et al.]</td>\n",
       "      <td id=\"T_f7659_row83_col2\" class=\"data row83 col2\" >17.840000</td>\n",
       "      <td id=\"T_f7659_row83_col3\" class=\"data row83 col3\" >824</td>\n",
       "      <td id=\"T_f7659_row83_col4\" class=\"data row83 col4\" >4.600000</td>\n",
       "      <td id=\"T_f7659_row83_col5\" class=\"data row83 col5\" >12</td>\n",
       "      <td id=\"T_f7659_row83_col6\" class=\"data row83 col6\" >81%</td>\n",
       "      <td id=\"T_f7659_row83_col7\" class=\"data row83 col7\" >11%</td>\n",
       "      <td id=\"T_f7659_row83_col8\" class=\"data row83 col8\" >8%</td>\n",
       "      <td id=\"T_f7659_row83_col9\" class=\"data row83 col9\" >nan</td>\n",
       "      <td id=\"T_f7659_row83_col10\" class=\"data row83 col10\" >nan</td>\n",
       "      <td id=\"T_f7659_row83_col11\" class=\"data row83 col11\" >nan</td>\n",
       "      <td id=\"T_f7659_row83_col12\" class=\"data row83 col12\" >English</td>\n",
       "      <td id=\"T_f7659_row83_col13\" class=\"data row83 col13\" >Packt Publishing; 2nd edition (August 28, 2020)</td>\n",
       "      <td id=\"T_f7659_row83_col14\" class=\"data row83 col14\" >nan</td>\n",
       "      <td id=\"T_f7659_row83_col15\" class=\"data row83 col15\" >/Data-Science-Workshop-learning-real-world-ebook/dp/B08H4G9R34/ref=sr_1_182?crid=1IWIG31DNPO6P&keywords=data+science&qid=1671165050&sprefix=data+science%2Caps%2C586&sr=8-182</td>\n",
       "      <td id=\"T_f7659_row83_col16\" class=\"data row83 col16\" >https://www.amazon.com/Data-Science-Workshop-learning-real-world-ebook/dp/B08H4G9R34/ref=sr_1_182?crid=1IWIG31DNPO6P&keywords=data+science&qid=1671165050&sprefix=data+science%2Caps%2C586&sr=8-182</td>\n",
       "    </tr>\n",
       "    <tr>\n",
       "      <th id=\"T_f7659_level0_row84\" class=\"row_heading level0 row84\" >715</th>\n",
       "      <td id=\"T_f7659_row84_col0\" class=\"data row84 col0\" >Teradata Query Performance Tuning: DWHPro's Guide</td>\n",
       "      <td id=\"T_f7659_row84_col1\" class=\"data row84 col1\" >[ Roland Wenzlofsky,  and , Artemios Vogiatzis]</td>\n",
       "      <td id=\"T_f7659_row84_col2\" class=\"data row84 col2\" >55.000000</td>\n",
       "      <td id=\"T_f7659_row84_col3\" class=\"data row84 col3\" >322</td>\n",
       "      <td id=\"T_f7659_row84_col4\" class=\"data row84 col4\" >4.900000</td>\n",
       "      <td id=\"T_f7659_row84_col5\" class=\"data row84 col5\" >12</td>\n",
       "      <td id=\"T_f7659_row84_col6\" class=\"data row84 col6\" >88%</td>\n",
       "      <td id=\"T_f7659_row84_col7\" class=\"data row84 col7\" >12%</td>\n",
       "      <td id=\"T_f7659_row84_col8\" class=\"data row84 col8\" >nan</td>\n",
       "      <td id=\"T_f7659_row84_col9\" class=\"data row84 col9\" >nan</td>\n",
       "      <td id=\"T_f7659_row84_col10\" class=\"data row84 col10\" >nan</td>\n",
       "      <td id=\"T_f7659_row84_col11\" class=\"data row84 col11\" >nan</td>\n",
       "      <td id=\"T_f7659_row84_col12\" class=\"data row84 col12\" >English</td>\n",
       "      <td id=\"T_f7659_row84_col13\" class=\"data row84 col13\" >nan</td>\n",
       "      <td id=\"T_f7659_row84_col14\" class=\"data row84 col14\" >nan</td>\n",
       "      <td id=\"T_f7659_row84_col15\" class=\"data row84 col15\" >/Teradata-Query-Performance-Tuning-DWHPros-ebook/dp/B08KHP87JB/ref=sr_1_245?crid=1IWIG31DNPO6P&keywords=data+science&qid=1671165060&sprefix=data+science%2Caps%2C586&sr=8-245</td>\n",
       "      <td id=\"T_f7659_row84_col16\" class=\"data row84 col16\" >https://www.amazon.com/Teradata-Query-Performance-Tuning-DWHPros-ebook/dp/B08KHP87JB/ref=sr_1_245?crid=1IWIG31DNPO6P&keywords=data+science&qid=1671165060&sprefix=data+science%2Caps%2C586&sr=8-245</td>\n",
       "    </tr>\n",
       "    <tr>\n",
       "      <th id=\"T_f7659_level0_row85\" class=\"row_heading level0 row85\" >716</th>\n",
       "      <td id=\"T_f7659_row85_col0\" class=\"data row85 col0\" >The United States of America: the Superpower, the Trump Presidency & the Fall of Western Civilization</td>\n",
       "      <td id=\"T_f7659_row85_col1\" class=\"data row85 col1\" >[ Jamal H. Qadri Ph.D.]</td>\n",
       "      <td id=\"T_f7659_row85_col2\" class=\"data row85 col2\" >3.990000</td>\n",
       "      <td id=\"T_f7659_row85_col3\" class=\"data row85 col3\" >98</td>\n",
       "      <td id=\"T_f7659_row85_col4\" class=\"data row85 col4\" >4.400000</td>\n",
       "      <td id=\"T_f7659_row85_col5\" class=\"data row85 col5\" >7</td>\n",
       "      <td id=\"T_f7659_row85_col6\" class=\"data row85 col6\" >60%</td>\n",
       "      <td id=\"T_f7659_row85_col7\" class=\"data row85 col7\" >20%</td>\n",
       "      <td id=\"T_f7659_row85_col8\" class=\"data row85 col8\" >20%</td>\n",
       "      <td id=\"T_f7659_row85_col9\" class=\"data row85 col9\" >nan</td>\n",
       "      <td id=\"T_f7659_row85_col10\" class=\"data row85 col10\" >nan</td>\n",
       "      <td id=\"T_f7659_row85_col11\" class=\"data row85 col11\" >nan</td>\n",
       "      <td id=\"T_f7659_row85_col12\" class=\"data row85 col12\" >English</td>\n",
       "      <td id=\"T_f7659_row85_col13\" class=\"data row85 col13\" >Xlibris US (August 31, 2020)</td>\n",
       "      <td id=\"T_f7659_row85_col14\" class=\"data row85 col14\" >nan</td>\n",
       "      <td id=\"T_f7659_row85_col15\" class=\"data row85 col15\" >/United-States-America-Superpower-Civilization-ebook/dp/B08JGPW3RM/ref=sr_1_243?crid=1IWIG31DNPO6P&keywords=data+science&qid=1671165060&sprefix=data+science%2Caps%2C586&sr=8-243</td>\n",
       "      <td id=\"T_f7659_row85_col16\" class=\"data row85 col16\" >https://www.amazon.com/United-States-America-Superpower-Civilization-ebook/dp/B08JGPW3RM/ref=sr_1_243?crid=1IWIG31DNPO6P&keywords=data+science&qid=1671165060&sprefix=data+science%2Caps%2C586&sr=8-243</td>\n",
       "    </tr>\n",
       "    <tr>\n",
       "      <th id=\"T_f7659_level0_row86\" class=\"row_heading level0 row86\" >718</th>\n",
       "      <td id=\"T_f7659_row86_col0\" class=\"data row86 col0\" >Roman's Data Science: How to monetize your data</td>\n",
       "      <td id=\"T_f7659_row86_col1\" class=\"data row86 col1\" >[ Roman Zykov, Vladimir Vishvanyuk, et al.]</td>\n",
       "      <td id=\"T_f7659_row86_col2\" class=\"data row86 col2\" >nan</td>\n",
       "      <td id=\"T_f7659_row86_col3\" class=\"data row86 col3\" >350</td>\n",
       "      <td id=\"T_f7659_row86_col4\" class=\"data row86 col4\" >4.700000</td>\n",
       "      <td id=\"T_f7659_row86_col5\" class=\"data row86 col5\" >11</td>\n",
       "      <td id=\"T_f7659_row86_col6\" class=\"data row86 col6\" >76%</td>\n",
       "      <td id=\"T_f7659_row86_col7\" class=\"data row86 col7\" >13%</td>\n",
       "      <td id=\"T_f7659_row86_col8\" class=\"data row86 col8\" >10%</td>\n",
       "      <td id=\"T_f7659_row86_col9\" class=\"data row86 col9\" >nan</td>\n",
       "      <td id=\"T_f7659_row86_col10\" class=\"data row86 col10\" >nan</td>\n",
       "      <td id=\"T_f7659_row86_col11\" class=\"data row86 col11\" >nan</td>\n",
       "      <td id=\"T_f7659_row86_col12\" class=\"data row86 col12\" >English</td>\n",
       "      <td id=\"T_f7659_row86_col13\" class=\"data row86 col13\" >nan</td>\n",
       "      <td id=\"T_f7659_row86_col14\" class=\"data row86 col14\" >nan</td>\n",
       "      <td id=\"T_f7659_row86_col15\" class=\"data row86 col15\" >/Romans-Data-Science-monetize-your-ebook/dp/B09CVD8T5K/ref=sr_1_242?crid=1IWIG31DNPO6P&keywords=data+science&qid=1671165060&sprefix=data+science%2Caps%2C586&sr=8-242</td>\n",
       "      <td id=\"T_f7659_row86_col16\" class=\"data row86 col16\" >https://www.amazon.com/Romans-Data-Science-monetize-your-ebook/dp/B09CVD8T5K/ref=sr_1_242?crid=1IWIG31DNPO6P&keywords=data+science&qid=1671165060&sprefix=data+science%2Caps%2C586&sr=8-242</td>\n",
       "    </tr>\n",
       "    <tr>\n",
       "      <th id=\"T_f7659_level0_row87\" class=\"row_heading level0 row87\" >719</th>\n",
       "      <td id=\"T_f7659_row87_col0\" class=\"data row87 col0\" >Data Science from Scratch with Python: A Step By Step Guide for Beginner's and Faster Way To Learn Python In 7 Days & NLP using Advanced (Including Programming Interview Questions)</td>\n",
       "      <td id=\"T_f7659_row87_col1\" class=\"data row87 col1\" >[ Richard Wilson]</td>\n",
       "      <td id=\"T_f7659_row87_col2\" class=\"data row87 col2\" >nan</td>\n",
       "      <td id=\"T_f7659_row87_col3\" class=\"data row87 col3\" >243</td>\n",
       "      <td id=\"T_f7659_row87_col4\" class=\"data row87 col4\" >4.500000</td>\n",
       "      <td id=\"T_f7659_row87_col5\" class=\"data row87 col5\" >94</td>\n",
       "      <td id=\"T_f7659_row87_col6\" class=\"data row87 col6\" >74%</td>\n",
       "      <td id=\"T_f7659_row87_col7\" class=\"data row87 col7\" >13%</td>\n",
       "      <td id=\"T_f7659_row87_col8\" class=\"data row87 col8\" >3%</td>\n",
       "      <td id=\"T_f7659_row87_col9\" class=\"data row87 col9\" >3%</td>\n",
       "      <td id=\"T_f7659_row87_col10\" class=\"data row87 col10\" >7%</td>\n",
       "      <td id=\"T_f7659_row87_col11\" class=\"data row87 col11\" >nan</td>\n",
       "      <td id=\"T_f7659_row87_col12\" class=\"data row87 col12\" >English</td>\n",
       "      <td id=\"T_f7659_row87_col13\" class=\"data row87 col13\" >nan</td>\n",
       "      <td id=\"T_f7659_row87_col14\" class=\"data row87 col14\" >nan</td>\n",
       "      <td id=\"T_f7659_row87_col15\" class=\"data row87 col15\" >/Data-Science-Scratch-Python-Programming-ebook/dp/B07XLC99Q4/ref=sr_1_239?crid=1IWIG31DNPO6P&keywords=data+science&qid=1671165060&sprefix=data+science%2Caps%2C586&sr=8-239</td>\n",
       "      <td id=\"T_f7659_row87_col16\" class=\"data row87 col16\" >https://www.amazon.com/Data-Science-Scratch-Python-Programming-ebook/dp/B07XLC99Q4/ref=sr_1_239?crid=1IWIG31DNPO6P&keywords=data+science&qid=1671165060&sprefix=data+science%2Caps%2C586&sr=8-239</td>\n",
       "    </tr>\n",
       "    <tr>\n",
       "      <th id=\"T_f7659_level0_row88\" class=\"row_heading level0 row88\" >724</th>\n",
       "      <td id=\"T_f7659_row88_col0\" class=\"data row88 col0\" >Data Science from Scratch: From Data Visualization to Manipulation: It Is the Easy Way! All You Need for Business Using the Basic Principles of Python and Beyond (Revised & Expanded Edition)</td>\n",
       "      <td id=\"T_f7659_row88_col1\" class=\"data row88 col1\" >[ William Gray, Damon Knox, et al.]</td>\n",
       "      <td id=\"T_f7659_row88_col2\" class=\"data row88 col2\" >nan</td>\n",
       "      <td id=\"T_f7659_row88_col3\" class=\"data row88 col3\" >nan</td>\n",
       "      <td id=\"T_f7659_row88_col4\" class=\"data row88 col4\" >2.700000</td>\n",
       "      <td id=\"T_f7659_row88_col5\" class=\"data row88 col5\" >12</td>\n",
       "      <td id=\"T_f7659_row88_col6\" class=\"data row88 col6\" >20%</td>\n",
       "      <td id=\"T_f7659_row88_col7\" class=\"data row88 col7\" >31%</td>\n",
       "      <td id=\"T_f7659_row88_col8\" class=\"data row88 col8\" >49%</td>\n",
       "      <td id=\"T_f7659_row88_col9\" class=\"data row88 col9\" >nan</td>\n",
       "      <td id=\"T_f7659_row88_col10\" class=\"data row88 col10\" >nan</td>\n",
       "      <td id=\"T_f7659_row88_col11\" class=\"data row88 col11\" >nan</td>\n",
       "      <td id=\"T_f7659_row88_col12\" class=\"data row88 col12\" >English</td>\n",
       "      <td id=\"T_f7659_row88_col13\" class=\"data row88 col13\" >nan</td>\n",
       "      <td id=\"T_f7659_row88_col14\" class=\"data row88 col14\" >nan</td>\n",
       "      <td id=\"T_f7659_row88_col15\" class=\"data row88 col15\" >/Data-Science-Scratch-Visualization-Manipulation/dp/B083QRD132/ref=sr_1_233?crid=1IWIG31DNPO6P&keywords=data+science&qid=1671165060&sprefix=data+science%2Caps%2C586&sr=8-233</td>\n",
       "      <td id=\"T_f7659_row88_col16\" class=\"data row88 col16\" >https://www.amazon.com/Data-Science-Scratch-Visualization-Manipulation/dp/B083QRD132/ref=sr_1_233?crid=1IWIG31DNPO6P&keywords=data+science&qid=1671165060&sprefix=data+science%2Caps%2C586&sr=8-233</td>\n",
       "    </tr>\n",
       "    <tr>\n",
       "      <th id=\"T_f7659_level0_row89\" class=\"row_heading level0 row89\" >742</th>\n",
       "      <td id=\"T_f7659_row89_col0\" class=\"data row89 col0\" >Data Science in Production: Building Scalable Model Pipelines with Python</td>\n",
       "      <td id=\"T_f7659_row89_col1\" class=\"data row89 col1\" >[ Ben Weber]</td>\n",
       "      <td id=\"T_f7659_row89_col2\" class=\"data row89 col2\" >4.990000</td>\n",
       "      <td id=\"T_f7659_row89_col3\" class=\"data row89 col3\" >234</td>\n",
       "      <td id=\"T_f7659_row89_col4\" class=\"data row89 col4\" >4.300000</td>\n",
       "      <td id=\"T_f7659_row89_col5\" class=\"data row89 col5\" >39</td>\n",
       "      <td id=\"T_f7659_row89_col6\" class=\"data row89 col6\" >47%</td>\n",
       "      <td id=\"T_f7659_row89_col7\" class=\"data row89 col7\" >42%</td>\n",
       "      <td id=\"T_f7659_row89_col8\" class=\"data row89 col8\" >7%</td>\n",
       "      <td id=\"T_f7659_row89_col9\" class=\"data row89 col9\" >4%</td>\n",
       "      <td id=\"T_f7659_row89_col10\" class=\"data row89 col10\" >nan</td>\n",
       "      <td id=\"T_f7659_row89_col11\" class=\"data row89 col11\" >nan</td>\n",
       "      <td id=\"T_f7659_row89_col12\" class=\"data row89 col12\" >English</td>\n",
       "      <td id=\"T_f7659_row89_col13\" class=\"data row89 col13\" >nan</td>\n",
       "      <td id=\"T_f7659_row89_col14\" class=\"data row89 col14\" >nan</td>\n",
       "      <td id=\"T_f7659_row89_col15\" class=\"data row89 col15\" >/Data-Science-Production-Building-Pipelines-ebook/dp/B083H2YWP4/ref=sr_1_289?crid=1IWIG31DNPO6P&keywords=data+science&qid=1671165070&sprefix=data+science%2Caps%2C586&sr=8-289</td>\n",
       "      <td id=\"T_f7659_row89_col16\" class=\"data row89 col16\" >https://www.amazon.com/Data-Science-Production-Building-Pipelines-ebook/dp/B083H2YWP4/ref=sr_1_289?crid=1IWIG31DNPO6P&keywords=data+science&qid=1671165070&sprefix=data+science%2Caps%2C586&sr=8-289</td>\n",
       "    </tr>\n",
       "    <tr>\n",
       "      <th id=\"T_f7659_level0_row90\" class=\"row_heading level0 row90\" >745</th>\n",
       "      <td id=\"T_f7659_row90_col0\" class=\"data row90 col0\" >Python Programming: 2 Books in 1: Python for Data Analysis and Science with Big Data Analysis, Statistics and Machine Learning.</td>\n",
       "      <td id=\"T_f7659_row90_col1\" class=\"data row90 col1\" >[ Computer Science Academy]</td>\n",
       "      <td id=\"T_f7659_row90_col2\" class=\"data row90 col2\" >nan</td>\n",
       "      <td id=\"T_f7659_row90_col3\" class=\"data row90 col3\" >311</td>\n",
       "      <td id=\"T_f7659_row90_col4\" class=\"data row90 col4\" >3.500000</td>\n",
       "      <td id=\"T_f7659_row90_col5\" class=\"data row90 col5\" >7</td>\n",
       "      <td id=\"T_f7659_row90_col6\" class=\"data row90 col6\" >50%</td>\n",
       "      <td id=\"T_f7659_row90_col7\" class=\"data row90 col7\" >17%</td>\n",
       "      <td id=\"T_f7659_row90_col8\" class=\"data row90 col8\" >17%</td>\n",
       "      <td id=\"T_f7659_row90_col9\" class=\"data row90 col9\" >17%</td>\n",
       "      <td id=\"T_f7659_row90_col10\" class=\"data row90 col10\" >nan</td>\n",
       "      <td id=\"T_f7659_row90_col11\" class=\"data row90 col11\" >nan</td>\n",
       "      <td id=\"T_f7659_row90_col12\" class=\"data row90 col12\" >English</td>\n",
       "      <td id=\"T_f7659_row90_col13\" class=\"data row90 col13\" >nan</td>\n",
       "      <td id=\"T_f7659_row90_col14\" class=\"data row90 col14\" >nan</td>\n",
       "      <td id=\"T_f7659_row90_col15\" class=\"data row90 col15\" >/Python-Programming-Analysis-Statistics-Learning-ebook/dp/B085XL3HTZ/ref=sr_1_279?crid=1IWIG31DNPO6P&keywords=data+science&qid=1671165070&sprefix=data+science%2Caps%2C586&sr=8-279</td>\n",
       "      <td id=\"T_f7659_row90_col16\" class=\"data row90 col16\" >https://www.amazon.com/Python-Programming-Analysis-Statistics-Learning-ebook/dp/B085XL3HTZ/ref=sr_1_279?crid=1IWIG31DNPO6P&keywords=data+science&qid=1671165070&sprefix=data+science%2Caps%2C586&sr=8-279</td>\n",
       "    </tr>\n",
       "    <tr>\n",
       "      <th id=\"T_f7659_level0_row91\" class=\"row_heading level0 row91\" >748</th>\n",
       "      <td id=\"T_f7659_row91_col0\" class=\"data row91 col0\" >DATA SCIENCE: A Comprehensive Beginner’s Guide to Learn About the Realms of Data Science from A-Z</td>\n",
       "      <td id=\"T_f7659_row91_col1\" class=\"data row91 col1\" >nan</td>\n",
       "      <td id=\"T_f7659_row91_col2\" class=\"data row91 col2\" >nan</td>\n",
       "      <td id=\"T_f7659_row91_col3\" class=\"data row91 col3\" >186</td>\n",
       "      <td id=\"T_f7659_row91_col4\" class=\"data row91 col4\" >4.200000</td>\n",
       "      <td id=\"T_f7659_row91_col5\" class=\"data row91 col5\" >27</td>\n",
       "      <td id=\"T_f7659_row91_col6\" class=\"data row91 col6\" >54%</td>\n",
       "      <td id=\"T_f7659_row91_col7\" class=\"data row91 col7\" >22%</td>\n",
       "      <td id=\"T_f7659_row91_col8\" class=\"data row91 col8\" >19%</td>\n",
       "      <td id=\"T_f7659_row91_col9\" class=\"data row91 col9\" >5%</td>\n",
       "      <td id=\"T_f7659_row91_col10\" class=\"data row91 col10\" >nan</td>\n",
       "      <td id=\"T_f7659_row91_col11\" class=\"data row91 col11\" >nan</td>\n",
       "      <td id=\"T_f7659_row91_col12\" class=\"data row91 col12\" >English</td>\n",
       "      <td id=\"T_f7659_row91_col13\" class=\"data row91 col13\" >nan</td>\n",
       "      <td id=\"T_f7659_row91_col14\" class=\"data row91 col14\" >nan</td>\n",
       "      <td id=\"T_f7659_row91_col15\" class=\"data row91 col15\" >/DATA-SCIENCE-Comprehensive-Beginners-Z-ebook/dp/B087QLY6XN/ref=sr_1_277?crid=1IWIG31DNPO6P&keywords=data+science&qid=1671165070&sprefix=data+science%2Caps%2C586&sr=8-277</td>\n",
       "      <td id=\"T_f7659_row91_col16\" class=\"data row91 col16\" >https://www.amazon.com/DATA-SCIENCE-Comprehensive-Beginners-Z-ebook/dp/B087QLY6XN/ref=sr_1_277?crid=1IWIG31DNPO6P&keywords=data+science&qid=1671165070&sprefix=data+science%2Caps%2C586&sr=8-277</td>\n",
       "    </tr>\n",
       "    <tr>\n",
       "      <th id=\"T_f7659_level0_row92\" class=\"row_heading level0 row92\" >751</th>\n",
       "      <td id=\"T_f7659_row92_col0\" class=\"data row92 col0\" >Python Machine Learning: Discover the Essentials of Machine Learning, Data Analysis, Data Science, Data Mining, and Artificial Intelligence Using Python Code with Python Tricks</td>\n",
       "      <td id=\"T_f7659_row92_col1\" class=\"data row92 col1\" >nan</td>\n",
       "      <td id=\"T_f7659_row92_col2\" class=\"data row92 col2\" >nan</td>\n",
       "      <td id=\"T_f7659_row92_col3\" class=\"data row92 col3\" >nan</td>\n",
       "      <td id=\"T_f7659_row92_col4\" class=\"data row92 col4\" >4.900000</td>\n",
       "      <td id=\"T_f7659_row92_col5\" class=\"data row92 col5\" >11</td>\n",
       "      <td id=\"T_f7659_row92_col6\" class=\"data row92 col6\" >86%</td>\n",
       "      <td id=\"T_f7659_row92_col7\" class=\"data row92 col7\" >14%</td>\n",
       "      <td id=\"T_f7659_row92_col8\" class=\"data row92 col8\" >nan</td>\n",
       "      <td id=\"T_f7659_row92_col9\" class=\"data row92 col9\" >nan</td>\n",
       "      <td id=\"T_f7659_row92_col10\" class=\"data row92 col10\" >nan</td>\n",
       "      <td id=\"T_f7659_row92_col11\" class=\"data row92 col11\" >nan</td>\n",
       "      <td id=\"T_f7659_row92_col12\" class=\"data row92 col12\" >English</td>\n",
       "      <td id=\"T_f7659_row92_col13\" class=\"data row92 col13\" >nan</td>\n",
       "      <td id=\"T_f7659_row92_col14\" class=\"data row92 col14\" >nan</td>\n",
       "      <td id=\"T_f7659_row92_col15\" class=\"data row92 col15\" >/Python-Machine-Learning-Essentials-Intelligence/dp/B07ZTPVRTH/ref=sr_1_271?crid=1IWIG31DNPO6P&keywords=data+science&qid=1671165070&sprefix=data+science%2Caps%2C586&sr=8-271</td>\n",
       "      <td id=\"T_f7659_row92_col16\" class=\"data row92 col16\" >https://www.amazon.com/Python-Machine-Learning-Essentials-Intelligence/dp/B07ZTPVRTH/ref=sr_1_271?crid=1IWIG31DNPO6P&keywords=data+science&qid=1671165070&sprefix=data+science%2Caps%2C586&sr=8-271</td>\n",
       "    </tr>\n",
       "    <tr>\n",
       "      <th id=\"T_f7659_level0_row93\" class=\"row_heading level0 row93\" >762</th>\n",
       "      <td id=\"T_f7659_row93_col0\" class=\"data row93 col0\" >Machine Learning for Absolute Beginners: A Plain English Introduction (Third Edition) (Machine Learning with Python for Beginners Book 1)</td>\n",
       "      <td id=\"T_f7659_row93_col1\" class=\"data row93 col1\" >nan</td>\n",
       "      <td id=\"T_f7659_row93_col2\" class=\"data row93 col2\" >nan</td>\n",
       "      <td id=\"T_f7659_row93_col3\" class=\"data row93 col3\" >181</td>\n",
       "      <td id=\"T_f7659_row93_col4\" class=\"data row93 col4\" >4.400000</td>\n",
       "      <td id=\"T_f7659_row93_col5\" class=\"data row93 col5\" >177</td>\n",
       "      <td id=\"T_f7659_row93_col6\" class=\"data row93 col6\" >66%</td>\n",
       "      <td id=\"T_f7659_row93_col7\" class=\"data row93 col7\" >17%</td>\n",
       "      <td id=\"T_f7659_row93_col8\" class=\"data row93 col8\" >10%</td>\n",
       "      <td id=\"T_f7659_row93_col9\" class=\"data row93 col9\" >3%</td>\n",
       "      <td id=\"T_f7659_row93_col10\" class=\"data row93 col10\" >3%</td>\n",
       "      <td id=\"T_f7659_row93_col11\" class=\"data row93 col11\" >nan</td>\n",
       "      <td id=\"T_f7659_row93_col12\" class=\"data row93 col12\" >English</td>\n",
       "      <td id=\"T_f7659_row93_col13\" class=\"data row93 col13\" >Scatterplot Press; 3rd edition (December 31, 2020)</td>\n",
       "      <td id=\"T_f7659_row93_col14\" class=\"data row93 col14\" >nan</td>\n",
       "      <td id=\"T_f7659_row93_col15\" class=\"data row93 col15\" >/Machine-Learning-Absolute-Beginners-Introduction-ebook/dp/B08RWBSKQB/ref=sr_1_303?crid=1IWIG31DNPO6P&keywords=data+science&qid=1671165079&sprefix=data+science%2Caps%2C586&sr=8-303</td>\n",
       "      <td id=\"T_f7659_row93_col16\" class=\"data row93 col16\" >https://www.amazon.com/Machine-Learning-Absolute-Beginners-Introduction-ebook/dp/B08RWBSKQB/ref=sr_1_303?crid=1IWIG31DNPO6P&keywords=data+science&qid=1671165079&sprefix=data+science%2Caps%2C586&sr=8-303</td>\n",
       "    </tr>\n",
       "    <tr>\n",
       "      <th id=\"T_f7659_level0_row94\" class=\"row_heading level0 row94\" >770</th>\n",
       "      <td id=\"T_f7659_row94_col0\" class=\"data row94 col0\" >Computer Science Unleashed: Harness the Power of Computational Systems (Code is Awesome)</td>\n",
       "      <td id=\"T_f7659_row94_col1\" class=\"data row94 col1\" >nan</td>\n",
       "      <td id=\"T_f7659_row94_col2\" class=\"data row94 col2\" >19.950000</td>\n",
       "      <td id=\"T_f7659_row94_col3\" class=\"data row94 col3\" >270</td>\n",
       "      <td id=\"T_f7659_row94_col4\" class=\"data row94 col4\" >4.900000</td>\n",
       "      <td id=\"T_f7659_row94_col5\" class=\"data row94 col5\" >29</td>\n",
       "      <td id=\"T_f7659_row94_col6\" class=\"data row94 col6\" >95%</td>\n",
       "      <td id=\"T_f7659_row94_col7\" class=\"data row94 col7\" >5%</td>\n",
       "      <td id=\"T_f7659_row94_col8\" class=\"data row94 col8\" >nan</td>\n",
       "      <td id=\"T_f7659_row94_col9\" class=\"data row94 col9\" >nan</td>\n",
       "      <td id=\"T_f7659_row94_col10\" class=\"data row94 col10\" >nan</td>\n",
       "      <td id=\"T_f7659_row94_col11\" class=\"data row94 col11\" >nan</td>\n",
       "      <td id=\"T_f7659_row94_col12\" class=\"data row94 col12\" >English</td>\n",
       "      <td id=\"T_f7659_row94_col13\" class=\"data row94 col13\" >Code Energy (July 2, 2021)</td>\n",
       "      <td id=\"T_f7659_row94_col14\" class=\"data row94 col14\" >nan</td>\n",
       "      <td id=\"T_f7659_row94_col15\" class=\"data row94 col15\" >/Computer-Science-Unleashed-Harness-Computational-ebook/dp/B098LR4G9T/ref=sr_1_266?crid=1IWIG31DNPO6P&keywords=data+science&qid=1671165070&sprefix=data+science%2Caps%2C586&sr=8-266</td>\n",
       "      <td id=\"T_f7659_row94_col16\" class=\"data row94 col16\" >https://www.amazon.com/Computer-Science-Unleashed-Harness-Computational-ebook/dp/B098LR4G9T/ref=sr_1_266?crid=1IWIG31DNPO6P&keywords=data+science&qid=1671165070&sprefix=data+science%2Caps%2C586&sr=8-266</td>\n",
       "    </tr>\n",
       "    <tr>\n",
       "      <th id=\"T_f7659_level0_row95\" class=\"row_heading level0 row95\" >782</th>\n",
       "      <td id=\"T_f7659_row95_col0\" class=\"data row95 col0\" >Data Science for Dummies: 2nd Edition</td>\n",
       "      <td id=\"T_f7659_row95_col1\" class=\"data row95 col1\" >[ Lillian Pierson, Jake Porway - foreword, et al.]</td>\n",
       "      <td id=\"T_f7659_row95_col2\" class=\"data row95 col2\" >nan</td>\n",
       "      <td id=\"T_f7659_row95_col3\" class=\"data row95 col3\" >nan</td>\n",
       "      <td id=\"T_f7659_row95_col4\" class=\"data row95 col4\" >4.400000</td>\n",
       "      <td id=\"T_f7659_row95_col5\" class=\"data row95 col5\" >205</td>\n",
       "      <td id=\"T_f7659_row95_col6\" class=\"data row95 col6\" >60%</td>\n",
       "      <td id=\"T_f7659_row95_col7\" class=\"data row95 col7\" >24%</td>\n",
       "      <td id=\"T_f7659_row95_col8\" class=\"data row95 col8\" >13%</td>\n",
       "      <td id=\"T_f7659_row95_col9\" class=\"data row95 col9\" >2%</td>\n",
       "      <td id=\"T_f7659_row95_col10\" class=\"data row95 col10\" >2%</td>\n",
       "      <td id=\"T_f7659_row95_col11\" class=\"data row95 col11\" >nan</td>\n",
       "      <td id=\"T_f7659_row95_col12\" class=\"data row95 col12\" >English</td>\n",
       "      <td id=\"T_f7659_row95_col13\" class=\"data row95 col13\" >nan</td>\n",
       "      <td id=\"T_f7659_row95_col14\" class=\"data row95 col14\" >nan</td>\n",
       "      <td id=\"T_f7659_row95_col15\" class=\"data row95 col15\" >/Data-Science-Dummies-2nd/dp/B07WHM8XVD/ref=sr_1_246?crid=1IWIG31DNPO6P&keywords=data+science&qid=1671165070&sprefix=data+science%2Caps%2C586&sr=8-246</td>\n",
       "      <td id=\"T_f7659_row95_col16\" class=\"data row95 col16\" >https://www.amazon.com/Data-Science-Dummies-2nd/dp/B07WHM8XVD/ref=sr_1_246?crid=1IWIG31DNPO6P&keywords=data+science&qid=1671165070&sprefix=data+science%2Caps%2C586&sr=8-246</td>\n",
       "    </tr>\n",
       "    <tr>\n",
       "      <th id=\"T_f7659_level0_row96\" class=\"row_heading level0 row96\" >783</th>\n",
       "      <td id=\"T_f7659_row96_col0\" class=\"data row96 col0\" >Data Science Interview: Prep for SQL, Panda, Python, R Language, Machine Learning, DBMS and RDBMS – And More – The Full Data Scientist Interview Handbook</td>\n",
       "      <td id=\"T_f7659_row96_col1\" class=\"data row96 col1\" >[ DSI ACE PREP]</td>\n",
       "      <td id=\"T_f7659_row96_col2\" class=\"data row96 col2\" >nan</td>\n",
       "      <td id=\"T_f7659_row96_col3\" class=\"data row96 col3\" >158</td>\n",
       "      <td id=\"T_f7659_row96_col4\" class=\"data row96 col4\" >4.700000</td>\n",
       "      <td id=\"T_f7659_row96_col5\" class=\"data row96 col5\" >63</td>\n",
       "      <td id=\"T_f7659_row96_col6\" class=\"data row96 col6\" >88%</td>\n",
       "      <td id=\"T_f7659_row96_col7\" class=\"data row96 col7\" >6%</td>\n",
       "      <td id=\"T_f7659_row96_col8\" class=\"data row96 col8\" >3%</td>\n",
       "      <td id=\"T_f7659_row96_col9\" class=\"data row96 col9\" >3%</td>\n",
       "      <td id=\"T_f7659_row96_col10\" class=\"data row96 col10\" >nan</td>\n",
       "      <td id=\"T_f7659_row96_col11\" class=\"data row96 col11\" >nan</td>\n",
       "      <td id=\"T_f7659_row96_col12\" class=\"data row96 col12\" >English</td>\n",
       "      <td id=\"T_f7659_row96_col13\" class=\"data row96 col13\" >Data Science Interview Books (January 5, 2022)</td>\n",
       "      <td id=\"T_f7659_row96_col14\" class=\"data row96 col14\" >nan</td>\n",
       "      <td id=\"T_f7659_row96_col15\" class=\"data row96 col15\" >/Data-Science-Interview-Language-Scientist-ebook/dp/B09PX25VQ3/ref=sr_1_221?crid=1IWIG31DNPO6P&keywords=data+science&qid=1671165060&sprefix=data+science%2Caps%2C586&sr=8-221</td>\n",
       "      <td id=\"T_f7659_row96_col16\" class=\"data row96 col16\" >https://www.amazon.com/Data-Science-Interview-Language-Scientist-ebook/dp/B09PX25VQ3/ref=sr_1_221?crid=1IWIG31DNPO6P&keywords=data+science&qid=1671165060&sprefix=data+science%2Caps%2C586&sr=8-221</td>\n",
       "    </tr>\n",
       "    <tr>\n",
       "      <th id=\"T_f7659_level0_row97\" class=\"row_heading level0 row97\" >800</th>\n",
       "      <td id=\"T_f7659_row97_col0\" class=\"data row97 col0\" >The Alignment Problem: Machine Learning and Human Values</td>\n",
       "      <td id=\"T_f7659_row97_col1\" class=\"data row97 col1\" >[ Brian Christian,  and , Brilliance Audio]</td>\n",
       "      <td id=\"T_f7659_row97_col2\" class=\"data row97 col2\" >nan</td>\n",
       "      <td id=\"T_f7659_row97_col3\" class=\"data row97 col3\" >nan</td>\n",
       "      <td id=\"T_f7659_row97_col4\" class=\"data row97 col4\" >4.600000</td>\n",
       "      <td id=\"T_f7659_row97_col5\" class=\"data row97 col5\" >262</td>\n",
       "      <td id=\"T_f7659_row97_col6\" class=\"data row97 col6\" >72%</td>\n",
       "      <td id=\"T_f7659_row97_col7\" class=\"data row97 col7\" >22%</td>\n",
       "      <td id=\"T_f7659_row97_col8\" class=\"data row97 col8\" >4%</td>\n",
       "      <td id=\"T_f7659_row97_col9\" class=\"data row97 col9\" >1%</td>\n",
       "      <td id=\"T_f7659_row97_col10\" class=\"data row97 col10\" >1%</td>\n",
       "      <td id=\"T_f7659_row97_col11\" class=\"data row97 col11\" >nan</td>\n",
       "      <td id=\"T_f7659_row97_col12\" class=\"data row97 col12\" >English</td>\n",
       "      <td id=\"T_f7659_row97_col13\" class=\"data row97 col13\" >nan</td>\n",
       "      <td id=\"T_f7659_row97_col14\" class=\"data row97 col14\" >nan</td>\n",
       "      <td id=\"T_f7659_row97_col15\" class=\"data row97 col15\" >/Alignment-Problem-Machine-Learning-Values/dp/B085DTXC59/ref=sr_1_175?crid=1IWIG31DNPO6P&keywords=data+science&qid=1671165050&sprefix=data+science%2Caps%2C586&sr=8-175</td>\n",
       "      <td id=\"T_f7659_row97_col16\" class=\"data row97 col16\" >https://www.amazon.com/Alignment-Problem-Machine-Learning-Values/dp/B085DTXC59/ref=sr_1_175?crid=1IWIG31DNPO6P&keywords=data+science&qid=1671165050&sprefix=data+science%2Caps%2C586&sr=8-175</td>\n",
       "    </tr>\n",
       "    <tr>\n",
       "      <th id=\"T_f7659_level0_row98\" class=\"row_heading level0 row98\" >812</th>\n",
       "      <td id=\"T_f7659_row98_col0\" class=\"data row98 col0\" >Data Science Strategy For Dummies</td>\n",
       "      <td id=\"T_f7659_row98_col1\" class=\"data row98 col1\" >[ Ulrika J&auml;gare]</td>\n",
       "      <td id=\"T_f7659_row98_col2\" class=\"data row98 col2\" >18.000000</td>\n",
       "      <td id=\"T_f7659_row98_col3\" class=\"data row98 col3\" >328</td>\n",
       "      <td id=\"T_f7659_row98_col4\" class=\"data row98 col4\" >4.200000</td>\n",
       "      <td id=\"T_f7659_row98_col5\" class=\"data row98 col5\" >48</td>\n",
       "      <td id=\"T_f7659_row98_col6\" class=\"data row98 col6\" >58%</td>\n",
       "      <td id=\"T_f7659_row98_col7\" class=\"data row98 col7\" >24%</td>\n",
       "      <td id=\"T_f7659_row98_col8\" class=\"data row98 col8\" >5%</td>\n",
       "      <td id=\"T_f7659_row98_col9\" class=\"data row98 col9\" >5%</td>\n",
       "      <td id=\"T_f7659_row98_col10\" class=\"data row98 col10\" >7%</td>\n",
       "      <td id=\"T_f7659_row98_col11\" class=\"data row98 col11\" >nan</td>\n",
       "      <td id=\"T_f7659_row98_col12\" class=\"data row98 col12\" >English</td>\n",
       "      <td id=\"T_f7659_row98_col13\" class=\"data row98 col13\" >For Dummies; 1st edition (June 12, 2019)</td>\n",
       "      <td id=\"T_f7659_row98_col14\" class=\"data row98 col14\" >nan</td>\n",
       "      <td id=\"T_f7659_row98_col15\" class=\"data row98 col15\" >/Data-Science-Strategy-Dummies-Computer-ebook/dp/B07T4HFCF4/ref=sr_1_128?crid=1IWIG31DNPO6P&keywords=data+science&qid=1671165042&sprefix=data+science%2Caps%2C586&sr=8-128</td>\n",
       "      <td id=\"T_f7659_row98_col16\" class=\"data row98 col16\" >https://www.amazon.com/Data-Science-Strategy-Dummies-Computer-ebook/dp/B07T4HFCF4/ref=sr_1_128?crid=1IWIG31DNPO6P&keywords=data+science&qid=1671165042&sprefix=data+science%2Caps%2C586&sr=8-128</td>\n",
       "    </tr>\n",
       "    <tr>\n",
       "      <th id=\"T_f7659_level0_row99\" class=\"row_heading level0 row99\" >823</th>\n",
       "      <td id=\"T_f7659_row99_col0\" class=\"data row99 col0\" >Foundations of Data Science</td>\n",
       "      <td id=\"T_f7659_row99_col1\" class=\"data row99 col1\" >[ Avrim Blum, John Hopcroft, et al.]</td>\n",
       "      <td id=\"T_f7659_row99_col2\" class=\"data row99 col2\" >51.990000</td>\n",
       "      <td id=\"T_f7659_row99_col3\" class=\"data row99 col3\" >nan</td>\n",
       "      <td id=\"T_f7659_row99_col4\" class=\"data row99 col4\" >4.600000</td>\n",
       "      <td id=\"T_f7659_row99_col5\" class=\"data row99 col5\" >49</td>\n",
       "      <td id=\"T_f7659_row99_col6\" class=\"data row99 col6\" >78%</td>\n",
       "      <td id=\"T_f7659_row99_col7\" class=\"data row99 col7\" >13%</td>\n",
       "      <td id=\"T_f7659_row99_col8\" class=\"data row99 col8\" >5%</td>\n",
       "      <td id=\"T_f7659_row99_col9\" class=\"data row99 col9\" >3%</td>\n",
       "      <td id=\"T_f7659_row99_col10\" class=\"data row99 col10\" >nan</td>\n",
       "      <td id=\"T_f7659_row99_col11\" class=\"data row99 col11\" >nan</td>\n",
       "      <td id=\"T_f7659_row99_col12\" class=\"data row99 col12\" >English</td>\n",
       "      <td id=\"T_f7659_row99_col13\" class=\"data row99 col13\" >nan</td>\n",
       "      <td id=\"T_f7659_row99_col14\" class=\"data row99 col14\" >nan</td>\n",
       "      <td id=\"T_f7659_row99_col15\" class=\"data row99 col15\" >/Foundations-Data-Science-Avrim-Blum/dp/1108485065/ref=sr_1_72?crid=1IWIG31DNPO6P&keywords=data+science&qid=1671165031&sprefix=data+science%2Caps%2C586&sr=8-72</td>\n",
       "      <td id=\"T_f7659_row99_col16\" class=\"data row99 col16\" >https://www.amazon.com/Foundations-Data-Science-Avrim-Blum/dp/1108485065/ref=sr_1_72?crid=1IWIG31DNPO6P&keywords=data+science&qid=1671165031&sprefix=data+science%2Caps%2C586&sr=8-72</td>\n",
       "    </tr>\n",
       "  </tbody>\n",
       "</table>\n"
      ],
      "text/plain": [
       "<pandas.io.formats.style.Styler at 0x7f7b5a3364d0>"
      ]
     },
     "metadata": {},
     "output_type": "display_data"
    },
    {
     "name": "stdout",
     "output_type": "stream",
     "text": [
      "number of articles : 100\n"
     ]
    }
   ],
   "source": [
    "df_noISBN = df[(df[\"ISBN_13\"].isnull())]\n",
    "\n",
    "display(df_noISBN.style.set_properties(subset=['title'], **{'width': '300px'}))\n",
    "print(f\"number of articles : {len(df_noISBN)}\")\n"
   ]
  },
  {
   "cell_type": "code",
   "execution_count": 12,
   "id": "30ae25b8",
   "metadata": {
    "scrolled": true
   },
   "outputs": [
    {
     "data": {
      "text/html": [
       "<div>\n",
       "<style scoped>\n",
       "    .dataframe tbody tr th:only-of-type {\n",
       "        vertical-align: middle;\n",
       "    }\n",
       "\n",
       "    .dataframe tbody tr th {\n",
       "        vertical-align: top;\n",
       "    }\n",
       "\n",
       "    .dataframe thead th {\n",
       "        text-align: right;\n",
       "    }\n",
       "</style>\n",
       "<table border=\"1\" class=\"dataframe\">\n",
       "  <thead>\n",
       "    <tr style=\"text-align: right;\">\n",
       "      <th></th>\n",
       "      <th>title</th>\n",
       "      <th>author</th>\n",
       "      <th>price</th>\n",
       "      <th>pages</th>\n",
       "      <th>avg_reviews</th>\n",
       "      <th>n_reviews</th>\n",
       "      <th>star5</th>\n",
       "      <th>star4</th>\n",
       "      <th>star3</th>\n",
       "      <th>star2</th>\n",
       "      <th>star1</th>\n",
       "      <th>weight</th>\n",
       "      <th>language</th>\n",
       "      <th>publisher</th>\n",
       "      <th>ISBN_13</th>\n",
       "      <th>link</th>\n",
       "      <th>complete_link</th>\n",
       "    </tr>\n",
       "  </thead>\n",
       "  <tbody>\n",
       "    <tr>\n",
       "      <th>386</th>\n",
       "      <td>2Pack Reptile Plants Hanging Silk Terrarium Pl...</td>\n",
       "      <td>NaN</td>\n",
       "      <td>NaN</td>\n",
       "      <td>NaN</td>\n",
       "      <td>4.4</td>\n",
       "      <td>701</td>\n",
       "      <td>68%</td>\n",
       "      <td>15%</td>\n",
       "      <td>9%</td>\n",
       "      <td>4%</td>\n",
       "      <td>3%</td>\n",
       "      <td>NaN</td>\n",
       "      <td>English</td>\n",
       "      <td>NaN</td>\n",
       "      <td>NaN</td>\n",
       "      <td>/Reptile-Hanging-Terrarium-Suction-Decorations...</td>\n",
       "      <td>https://www.amazon.com/Reptile-Hanging-Terrari...</td>\n",
       "    </tr>\n",
       "    <tr>\n",
       "      <th>387</th>\n",
       "      <td>Tikaton Reptile Heat Pad - Adjustable Temperat...</td>\n",
       "      <td>NaN</td>\n",
       "      <td>NaN</td>\n",
       "      <td>NaN</td>\n",
       "      <td>4.4</td>\n",
       "      <td>6,045</td>\n",
       "      <td>66%</td>\n",
       "      <td>17%</td>\n",
       "      <td>8%</td>\n",
       "      <td>4%</td>\n",
       "      <td>5%</td>\n",
       "      <td>NaN</td>\n",
       "      <td>English</td>\n",
       "      <td>NaN</td>\n",
       "      <td>99</td>\n",
       "      <td>/Tikaton-Reptile-Heat-Pad-Temperature/dp/B0813...</td>\n",
       "      <td>https://www.amazon.com/Tikaton-Reptile-Heat-Pa...</td>\n",
       "    </tr>\n",
       "    <tr>\n",
       "      <th>388</th>\n",
       "      <td>kathson Reptile Vines Plants Flexible Bendable...</td>\n",
       "      <td>NaN</td>\n",
       "      <td>NaN</td>\n",
       "      <td>NaN</td>\n",
       "      <td>4.4</td>\n",
       "      <td>904</td>\n",
       "      <td>67%</td>\n",
       "      <td>17%</td>\n",
       "      <td>10%</td>\n",
       "      <td>3%</td>\n",
       "      <td>3%</td>\n",
       "      <td>NaN</td>\n",
       "      <td>English</td>\n",
       "      <td>NaN</td>\n",
       "      <td>NaN</td>\n",
       "      <td>/kathson-Flexible-Bendable-Climbing-Terrarium/...</td>\n",
       "      <td>https://www.amazon.com/kathson-Flexible-Bendab...</td>\n",
       "    </tr>\n",
       "    <tr>\n",
       "      <th>389</th>\n",
       "      <td>Zoo Med Reptile Rock Corner Water Dish, Large ...</td>\n",
       "      <td>NaN</td>\n",
       "      <td>NaN</td>\n",
       "      <td>NaN</td>\n",
       "      <td>4.7</td>\n",
       "      <td>1,881</td>\n",
       "      <td>85%</td>\n",
       "      <td>8%</td>\n",
       "      <td>4%</td>\n",
       "      <td>1%</td>\n",
       "      <td>2%</td>\n",
       "      <td>NaN</td>\n",
       "      <td>English</td>\n",
       "      <td>NaN</td>\n",
       "      <td>NaN</td>\n",
       "      <td>/Zoo-Med-Reptile-Corner-Water/dp/B000QFR6J2/re...</td>\n",
       "      <td>https://www.amazon.com/Zoo-Med-Reptile-Corner-...</td>\n",
       "    </tr>\n",
       "    <tr>\n",
       "      <th>390</th>\n",
       "      <td>AQUA KT Reptile Corner Branch Terrarium Plant ...</td>\n",
       "      <td>NaN</td>\n",
       "      <td>NaN</td>\n",
       "      <td>NaN</td>\n",
       "      <td>4.4</td>\n",
       "      <td>1,397</td>\n",
       "      <td>68%</td>\n",
       "      <td>13%</td>\n",
       "      <td>11%</td>\n",
       "      <td>3%</td>\n",
       "      <td>4%</td>\n",
       "      <td>NaN</td>\n",
       "      <td>English</td>\n",
       "      <td>NaN</td>\n",
       "      <td>NaN</td>\n",
       "      <td>/Aqua-KT-Terrarium-Decoration-Amphibian/dp/B07...</td>\n",
       "      <td>https://www.amazon.com/Aqua-KT-Terrarium-Decor...</td>\n",
       "    </tr>\n",
       "    <tr>\n",
       "      <th>392</th>\n",
       "      <td>DOHAOOE Reptile Tank Accessories Habitat Water...</td>\n",
       "      <td>NaN</td>\n",
       "      <td>NaN</td>\n",
       "      <td>NaN</td>\n",
       "      <td>4.1</td>\n",
       "      <td>77</td>\n",
       "      <td>64%</td>\n",
       "      <td>12%</td>\n",
       "      <td>7%</td>\n",
       "      <td>6%</td>\n",
       "      <td>12%</td>\n",
       "      <td>NaN</td>\n",
       "      <td>English</td>\n",
       "      <td>NaN</td>\n",
       "      <td>NaN</td>\n",
       "      <td>/DOHAOOE-Reptile-Accessories-Artificial-Chamel...</td>\n",
       "      <td>https://www.amazon.com/DOHAOOE-Reptile-Accesso...</td>\n",
       "    </tr>\n",
       "    <tr>\n",
       "      <th>393</th>\n",
       "      <td>REPTI ZOO Reptile Terrarium Thermometer Hygrom...</td>\n",
       "      <td>NaN</td>\n",
       "      <td>NaN</td>\n",
       "      <td>NaN</td>\n",
       "      <td>4.4</td>\n",
       "      <td>4,388</td>\n",
       "      <td>68%</td>\n",
       "      <td>15%</td>\n",
       "      <td>8%</td>\n",
       "      <td>4%</td>\n",
       "      <td>5%</td>\n",
       "      <td>NaN</td>\n",
       "      <td>English</td>\n",
       "      <td>NaN</td>\n",
       "      <td>NaN</td>\n",
       "      <td>/REPTIZOO-Reptile-Terrarium-Thermometer-Hygrom...</td>\n",
       "      <td>https://www.amazon.com/REPTIZOO-Reptile-Terrar...</td>\n",
       "    </tr>\n",
       "    <tr>\n",
       "      <th>628</th>\n",
       "      <td>LISINAN Adjustable Reptile Terrarium Heat Lamp...</td>\n",
       "      <td>NaN</td>\n",
       "      <td>NaN</td>\n",
       "      <td>NaN</td>\n",
       "      <td>4.5</td>\n",
       "      <td>54</td>\n",
       "      <td>72%</td>\n",
       "      <td>13%</td>\n",
       "      <td>6%</td>\n",
       "      <td>6%</td>\n",
       "      <td>3%</td>\n",
       "      <td>NaN</td>\n",
       "      <td>English</td>\n",
       "      <td>NaN</td>\n",
       "      <td>NaN</td>\n",
       "      <td>/LISINAN-Adjustable-Terrarium-Accessories-Amph...</td>\n",
       "      <td>https://www.amazon.com/LISINAN-Adjustable-Terr...</td>\n",
       "    </tr>\n",
       "  </tbody>\n",
       "</table>\n",
       "</div>"
      ],
      "text/plain": [
       "                                                 title author  price pages  \\\n",
       "386  2Pack Reptile Plants Hanging Silk Terrarium Pl...    NaN    NaN   NaN   \n",
       "387  Tikaton Reptile Heat Pad - Adjustable Temperat...    NaN    NaN   NaN   \n",
       "388  kathson Reptile Vines Plants Flexible Bendable...    NaN    NaN   NaN   \n",
       "389  Zoo Med Reptile Rock Corner Water Dish, Large ...    NaN    NaN   NaN   \n",
       "390  AQUA KT Reptile Corner Branch Terrarium Plant ...    NaN    NaN   NaN   \n",
       "392  DOHAOOE Reptile Tank Accessories Habitat Water...    NaN    NaN   NaN   \n",
       "393  REPTI ZOO Reptile Terrarium Thermometer Hygrom...    NaN    NaN   NaN   \n",
       "628  LISINAN Adjustable Reptile Terrarium Heat Lamp...    NaN    NaN   NaN   \n",
       "\n",
       "     avg_reviews n_reviews star5 star4 star3 star2 star1 weight language  \\\n",
       "386          4.4       701   68%   15%    9%    4%    3%    NaN  English   \n",
       "387          4.4     6,045   66%   17%    8%    4%    5%    NaN  English   \n",
       "388          4.4       904   67%   17%   10%    3%    3%    NaN  English   \n",
       "389          4.7     1,881   85%    8%    4%    1%    2%    NaN  English   \n",
       "390          4.4     1,397   68%   13%   11%    3%    4%    NaN  English   \n",
       "392          4.1        77   64%   12%    7%    6%   12%    NaN  English   \n",
       "393          4.4     4,388   68%   15%    8%    4%    5%    NaN  English   \n",
       "628          4.5        54   72%   13%    6%    6%    3%    NaN  English   \n",
       "\n",
       "    publisher ISBN_13                                               link  \\\n",
       "386       NaN     NaN  /Reptile-Hanging-Terrarium-Suction-Decorations...   \n",
       "387       NaN      99  /Tikaton-Reptile-Heat-Pad-Temperature/dp/B0813...   \n",
       "388       NaN     NaN  /kathson-Flexible-Bendable-Climbing-Terrarium/...   \n",
       "389       NaN     NaN  /Zoo-Med-Reptile-Corner-Water/dp/B000QFR6J2/re...   \n",
       "390       NaN     NaN  /Aqua-KT-Terrarium-Decoration-Amphibian/dp/B07...   \n",
       "392       NaN     NaN  /DOHAOOE-Reptile-Accessories-Artificial-Chamel...   \n",
       "393       NaN     NaN  /REPTIZOO-Reptile-Terrarium-Thermometer-Hygrom...   \n",
       "628       NaN     NaN  /LISINAN-Adjustable-Terrarium-Accessories-Amph...   \n",
       "\n",
       "                                         complete_link  \n",
       "386  https://www.amazon.com/Reptile-Hanging-Terrari...  \n",
       "387  https://www.amazon.com/Tikaton-Reptile-Heat-Pa...  \n",
       "388  https://www.amazon.com/kathson-Flexible-Bendab...  \n",
       "389  https://www.amazon.com/Zoo-Med-Reptile-Corner-...  \n",
       "390  https://www.amazon.com/Aqua-KT-Terrarium-Decor...  \n",
       "392  https://www.amazon.com/DOHAOOE-Reptile-Accesso...  \n",
       "393  https://www.amazon.com/REPTIZOO-Reptile-Terrar...  \n",
       "628  https://www.amazon.com/LISINAN-Adjustable-Terr...  "
      ]
     },
     "execution_count": 12,
     "metadata": {},
     "output_type": "execute_result"
    }
   ],
   "source": [
    "df[df[\"title\"].str.contains(\"Reptile\")]"
   ]
  },
  {
   "cell_type": "markdown",
   "id": "94837aa1",
   "metadata": {},
   "source": [
    "The review of ISBN allows to emphazise that most of these article are audio guide on Kindle format without ISBN. Nonetheless, despite no ISBN, these article remains books in a different format and should be kept in the dataset for the analysis.\n",
    "\n",
    "In parallel the review of the dataset, allow to highlight other non-related DS product which are not book, but rather object for reptile. \n",
    "\n",
    "By removing these last article, this closing the EDA part with a clean dataset."
   ]
  },
  {
   "cell_type": "code",
   "execution_count": 13,
   "id": "d12dbfd0",
   "metadata": {},
   "outputs": [
    {
     "data": {
      "text/plain": [
       "type\n",
       "Audio     36\n",
       "Paper    655\n",
       "Name: title, dtype: int64"
      ]
     },
     "execution_count": 13,
     "metadata": {},
     "output_type": "execute_result"
    }
   ],
   "source": [
    "def article_type(cond1, cond2, cond3):\n",
    "    if (len(str(cond1)) < 10) & (str(cond2) == \"nan\") & (str(cond3) == \"nan\"):\n",
    "        return \"Audio\"\n",
    "    else:\n",
    "        return \"Paper\"\n",
    "\n",
    "# other method\n",
    "# df[\"type2\"] = df.ISBN_13.apply(lambda x: \"Paper\" if len(str(x))>=10 else \"Audio\")\n",
    "\n",
    "df[\"type\"] = df.apply(lambda x: article_type(x.ISBN_13, x.pages, x.weight), axis = 1)\n",
    "df.groupby(\"type\").title.count()\n"
   ]
  },
  {
   "cell_type": "code",
   "execution_count": 52,
   "id": "3bb96a3f",
   "metadata": {},
   "outputs": [
    {
     "name": "stdout",
     "output_type": "stream",
     "text": [
      "<class 'pandas.core.frame.DataFrame'>\n",
      "Int64Index: 691 entries, 0 to 829\n",
      "Data columns (total 18 columns):\n",
      " #   Column         Non-Null Count  Dtype  \n",
      "---  ------         --------------  -----  \n",
      " 0   title          691 non-null    object \n",
      " 1   author         555 non-null    object \n",
      " 2   price          626 non-null    float64\n",
      " 3   pages          652 non-null    object \n",
      " 4   avg_reviews    691 non-null    float64\n",
      " 5   n_reviews      691 non-null    object \n",
      " 6   star5          691 non-null    object \n",
      " 7   star4          625 non-null    object \n",
      " 8   star3          545 non-null    object \n",
      " 9   star2          443 non-null    object \n",
      " 10  star1          324 non-null    object \n",
      " 11  weight         578 non-null    object \n",
      " 12  language       691 non-null    object \n",
      " 13  publisher      622 non-null    object \n",
      " 14  ISBN_13        591 non-null    object \n",
      " 15  link           691 non-null    object \n",
      " 16  complete_link  691 non-null    object \n",
      " 17  type           691 non-null    object \n",
      "dtypes: float64(2), object(16)\n",
      "memory usage: 118.7+ KB\n"
     ]
    }
   ],
   "source": [
    "df.info()"
   ]
  },
  {
   "cell_type": "code",
   "execution_count": 157,
   "id": "24ee8e55",
   "metadata": {},
   "outputs": [],
   "source": [
    "df.dropna(how=\"all\", axis=0, subset=['price'], inplace=True)\n",
    "df.n_reviews.replace(',','', regex=True, inplace=True)\n",
    "df.n_reviews = df.n_reviews.astype('float64')"
   ]
  },
  {
   "cell_type": "code",
   "execution_count": 187,
   "id": "07011072",
   "metadata": {},
   "outputs": [
    {
     "data": {
      "text/html": [
       "<div>\n",
       "<style scoped>\n",
       "    .dataframe tbody tr th:only-of-type {\n",
       "        vertical-align: middle;\n",
       "    }\n",
       "\n",
       "    .dataframe tbody tr th {\n",
       "        vertical-align: top;\n",
       "    }\n",
       "\n",
       "    .dataframe thead th {\n",
       "        text-align: right;\n",
       "    }\n",
       "</style>\n",
       "<table border=\"1\" class=\"dataframe\">\n",
       "  <thead>\n",
       "    <tr style=\"text-align: right;\">\n",
       "      <th></th>\n",
       "      <th>pages</th>\n",
       "      <th>title</th>\n",
       "    </tr>\n",
       "  </thead>\n",
       "  <tbody>\n",
       "    <tr>\n",
       "      <th>0</th>\n",
       "      <td>for creating superior text  in just a few min...</td>\n",
       "      <td>1</td>\n",
       "    </tr>\n",
       "    <tr>\n",
       "      <th>1</th>\n",
       "      <td>1,000</td>\n",
       "      <td>1</td>\n",
       "    </tr>\n",
       "    <tr>\n",
       "      <th>2</th>\n",
       "      <td>1004</td>\n",
       "      <td>1</td>\n",
       "    </tr>\n",
       "    <tr>\n",
       "      <th>3</th>\n",
       "      <td>101</td>\n",
       "      <td>2</td>\n",
       "    </tr>\n",
       "    <tr>\n",
       "      <th>4</th>\n",
       "      <td>1012</td>\n",
       "      <td>1</td>\n",
       "    </tr>\n",
       "    <tr>\n",
       "      <th>...</th>\n",
       "      <td>...</td>\n",
       "      <td>...</td>\n",
       "    </tr>\n",
       "    <tr>\n",
       "      <th>326</th>\n",
       "      <td>Expand your app by creating dynamic  that gene...</td>\n",
       "      <td>1</td>\n",
       "    </tr>\n",
       "    <tr>\n",
       "      <th>327</th>\n",
       "      <td>Explores all features and functions in two-col...</td>\n",
       "      <td>1</td>\n",
       "    </tr>\n",
       "    <tr>\n",
       "      <th>328</th>\n",
       "      <td>Extract data from APIs and web</td>\n",
       "      <td>1</td>\n",
       "    </tr>\n",
       "    <tr>\n",
       "      <th>329</th>\n",
       "      <td>Full-color , showcasing all 24 final data visu...</td>\n",
       "      <td>1</td>\n",
       "    </tr>\n",
       "    <tr>\n",
       "      <th>330</th>\n",
       "      <td>Parse complicated HTML</td>\n",
       "      <td>1</td>\n",
       "    </tr>\n",
       "  </tbody>\n",
       "</table>\n",
       "<p>331 rows × 2 columns</p>\n",
       "</div>"
      ],
      "text/plain": [
       "                                                 pages  title\n",
       "0     for creating superior text  in just a few min...      1\n",
       "1                                                1,000      1\n",
       "2                                                 1004      1\n",
       "3                                                  101      2\n",
       "4                                                 1012      1\n",
       "..                                                 ...    ...\n",
       "326  Expand your app by creating dynamic  that gene...      1\n",
       "327  Explores all features and functions in two-col...      1\n",
       "328                    Extract data from APIs and web       1\n",
       "329  Full-color , showcasing all 24 final data visu...      1\n",
       "330                           Parse complicated HTML        1\n",
       "\n",
       "[331 rows x 2 columns]"
      ]
     },
     "execution_count": 187,
     "metadata": {},
     "output_type": "execute_result"
    }
   ],
   "source": [
    "df.groupby('pages')['title'].count().reset_index()"
   ]
  },
  {
   "cell_type": "code",
   "execution_count": 185,
   "id": "22c04da3",
   "metadata": {},
   "outputs": [
    {
     "data": {
      "text/plain": [
       "122    Explores all features and functions in two-col...\n",
       "237     for creating superior text  in just a few min...\n",
       "282                      Extract data from APIs and web \n",
       "357    Expand your app by creating dynamic  that gene...\n",
       "382                                                1,000\n",
       "543                             Parse complicated HTML  \n",
       "811    Full-color , showcasing all 24 final data visu...\n",
       "Name: pages, dtype: object"
      ]
     },
     "execution_count": 185,
     "metadata": {},
     "output_type": "execute_result"
    }
   ],
   "source": [
    "df_pages = df.pages\n",
    "#df_pages.groupby('pages')['title'].count()\n",
    "df_pages[df_pages.str.isnumeric() == False]"
   ]
  },
  {
   "cell_type": "code",
   "execution_count": 191,
   "id": "5e49b678",
   "metadata": {},
   "outputs": [
    {
     "name": "stdout",
     "output_type": "stream",
     "text": [
      "<class 'pandas.core.frame.DataFrame'>\n",
      "Int64Index: 619 entries, 0 to 829\n",
      "Data columns (total 18 columns):\n",
      " #   Column         Non-Null Count  Dtype  \n",
      "---  ------         --------------  -----  \n",
      " 0   title          619 non-null    object \n",
      " 1   author         517 non-null    object \n",
      " 2   price          619 non-null    float64\n",
      " 3   pages          619 non-null    float64\n",
      " 4   avg_reviews    619 non-null    float64\n",
      " 5   n_reviews      619 non-null    float64\n",
      " 6   star5          619 non-null    object \n",
      " 7   star4          556 non-null    object \n",
      " 8   star3          482 non-null    object \n",
      " 9   star2          394 non-null    object \n",
      " 10  star1          282 non-null    object \n",
      " 11  weight         569 non-null    object \n",
      " 12  language       619 non-null    object \n",
      " 13  publisher      604 non-null    object \n",
      " 14  ISBN_13        577 non-null    object \n",
      " 15  link           619 non-null    object \n",
      " 16  complete_link  619 non-null    object \n",
      " 17  type           619 non-null    object \n",
      "dtypes: float64(4), object(14)\n",
      "memory usage: 91.9+ KB\n"
     ]
    },
    {
     "name": "stderr",
     "output_type": "stream",
     "text": [
      "/var/folders/fc/0r24xcjn60ngyqxq33xdcs8c0000gn/T/ipykernel_67938/2001298481.py:1: SettingWithCopyWarning:\n",
      "\n",
      "\n",
      "A value is trying to be set on a copy of a slice from a DataFrame.\n",
      "Try using .loc[row_indexer,col_indexer] = value instead\n",
      "\n",
      "See the caveats in the documentation: https://pandas.pydata.org/pandas-docs/stable/user_guide/indexing.html#returning-a-view-versus-a-copy\n",
      "\n"
     ]
    }
   ],
   "source": [
    "df = df[df.pages.str.isnumeric() == True]\n",
    "df.pages = df.pages.astype('float64')\n",
    "df.info()"
   ]
  },
  {
   "cell_type": "markdown",
   "id": "d0c15faa",
   "metadata": {},
   "source": [
    "### 1.2. Data Visualization\n",
    "[review comments]"
   ]
  },
  {
   "cell_type": "code",
   "execution_count": 265,
   "id": "136d068a",
   "metadata": {},
   "outputs": [
    {
     "data": {
      "image/png": "[encoded data removed]",
      "text/plain": [
       "<Figure size 1000x700 with 2 Axes>"
      ]
     },
     "metadata": {},
     "output_type": "display_data"
    }
   ],
   "source": [
    "matrice_corr = df.corr()\n",
    "fig, ax = plt.subplots(figsize=(10,7))\n",
    "sns.heatmap(matrice_corr, ax=ax, annot=True);"
   ]
  },
  {
   "cell_type": "markdown",
   "id": "b962afe1",
   "metadata": {},
   "source": [
    "## Price vs. Rating"
   ]
  },
  {
   "cell_type": "code",
   "execution_count": 271,
   "id": "95511a33",
   "metadata": {},
   "outputs": [
    {
     "data": {
      "image/png": "[encoded data removed]",
      "text/plain": [
       "<Figure size 1000x700 with 4 Axes>"
      ]
     },
     "metadata": {},
     "output_type": "display_data"
    }
   ],
   "source": [
    "fig, ((ax1, ax2), (ax3, ax4)) = plt.subplots(2, 2, figsize=(10, 7))\n",
    "fig.tight_layout(pad=4.0)\n",
    "scatter1 = ax1.scatter(df.avg_reviews, df.price, c=df.price, alpha=0.5)\n",
    "ax1.set_title(\"Price vs. Average rating\")\n",
    "ax1.set_xlabel(\"Rating\")\n",
    "ax1.set_ylabel(\"Price\")\n",
    "\n",
    "scatter2 = ax2.scatter(df.avg_reviews, df.n_reviews, c=df.price, alpha=0.5)\n",
    "ax2.set_title(\"Average rating vs. number of reviews\")\n",
    "ax2.set_xlabel(\"Rating\")\n",
    "ax2.set_ylabel(\"number of reviews\")\n",
    "\n",
    "scatter3 = ax3.scatter(df.price, df.n_reviews, c=df.price, alpha=0.5)\n",
    "ax3.set_title(\"Price vs. number of reviews\")\n",
    "ax3.set_xlabel(\"Price\")\n",
    "ax3.set_ylabel(\"Number of reviews\")\n",
    "\n",
    "scatter4 = ax4.scatter(df.pages, df.price, c=df.price, alpha=0.5)\n",
    "ax4.set_title(\"Price vs. number of pages\")\n",
    "ax4.set_xlabel(\"Number of pages\")\n",
    "ax4.set_ylabel(\"Price\")\n",
    "\n",
    "fig.legend(*scatter1.legend_elements(),loc=\"center right\", title=\"Price\", borderaxespad=-0.5)\n",
    "plt.show();\n"
   ]
  },
  {
   "cell_type": "markdown",
   "id": "5bd28d9a",
   "metadata": {},
   "source": [
    "### Best Python Books"
   ]
  },
  {
   "cell_type": "code",
   "execution_count": 290,
   "id": "3ad95aa5",
   "metadata": {
    "collapsed": true
   },
   "outputs": [
    {
     "name": "stdout",
     "output_type": "stream",
     "text": [
      "<class 'pandas.core.frame.DataFrame'>\n",
      "Int64Index: 248 entries, 3 to 821\n",
      "Data columns (total 18 columns):\n",
      " #   Column         Non-Null Count  Dtype  \n",
      "---  ------         --------------  -----  \n",
      " 0   title          248 non-null    object \n",
      " 1   author         204 non-null    object \n",
      " 2   price          248 non-null    float64\n",
      " 3   pages          248 non-null    float64\n",
      " 4   avg_reviews    248 non-null    float64\n",
      " 5   n_reviews      248 non-null    float64\n",
      " 6   star5          248 non-null    object \n",
      " 7   star4          222 non-null    object \n",
      " 8   star3          206 non-null    object \n",
      " 9   star2          180 non-null    object \n",
      " 10  star1          137 non-null    object \n",
      " 11  weight         230 non-null    object \n",
      " 12  language       248 non-null    object \n",
      " 13  publisher      241 non-null    object \n",
      " 14  ISBN_13        232 non-null    object \n",
      " 15  link           248 non-null    object \n",
      " 16  complete_link  248 non-null    object \n",
      " 17  type           248 non-null    object \n",
      "dtypes: float64(4), object(14)\n",
      "memory usage: 36.8+ KB\n"
     ]
    }
   ],
   "source": [
    "df['title'] = df['title'].apply(str.lower)\n",
    "df_python_book = df[df['title'].str.contains(\"python\")]\n",
    "df_python_book.info()"
   ]
  },
  {
   "cell_type": "code",
   "execution_count": 429,
   "id": "7b1c77aa",
   "metadata": {
    "scrolled": true
   },
   "outputs": [
    {
     "data": {
      "text/html": [
       "<div>\n",
       "<style scoped>\n",
       "    .dataframe tbody tr th:only-of-type {\n",
       "        vertical-align: middle;\n",
       "    }\n",
       "\n",
       "    .dataframe tbody tr th {\n",
       "        vertical-align: top;\n",
       "    }\n",
       "\n",
       "    .dataframe thead th {\n",
       "        text-align: right;\n",
       "    }\n",
       "</style>\n",
       "<table border=\"1\" class=\"dataframe\">\n",
       "  <thead>\n",
       "    <tr style=\"text-align: right;\">\n",
       "      <th></th>\n",
       "      <th>title</th>\n",
       "      <th>author</th>\n",
       "      <th>price</th>\n",
       "      <th>avg_reviews</th>\n",
       "      <th>n_reviews</th>\n",
       "      <th>type</th>\n",
       "    </tr>\n",
       "  </thead>\n",
       "  <tbody>\n",
       "    <tr>\n",
       "      <th>633</th>\n",
       "      <td>python crash course, 2nd edition: a hands-on, ...</td>\n",
       "      <td>[ Eric Matthes]</td>\n",
       "      <td>23.99</td>\n",
       "      <td>4.7</td>\n",
       "      <td>7767.0</td>\n",
       "      <td>Paper</td>\n",
       "    </tr>\n",
       "    <tr>\n",
       "      <th>394</th>\n",
       "      <td>python: - the bible- 3 manuscripts in 1 book: ...</td>\n",
       "      <td>NaN</td>\n",
       "      <td>27.97</td>\n",
       "      <td>4.3</td>\n",
       "      <td>4228.0</td>\n",
       "      <td>Paper</td>\n",
       "    </tr>\n",
       "    <tr>\n",
       "      <th>532</th>\n",
       "      <td>python: for beginners: a crash course guide to...</td>\n",
       "      <td>[ Timothy C. Needham]</td>\n",
       "      <td>13.66</td>\n",
       "      <td>4.3</td>\n",
       "      <td>3142.0</td>\n",
       "      <td>Paper</td>\n",
       "    </tr>\n",
       "    <tr>\n",
       "      <th>61</th>\n",
       "      <td>automate the boring stuff with python, 2nd edi...</td>\n",
       "      <td>[ Al Sweigart]</td>\n",
       "      <td>26.49</td>\n",
       "      <td>4.7</td>\n",
       "      <td>2672.0</td>\n",
       "      <td>Paper</td>\n",
       "    </tr>\n",
       "    <tr>\n",
       "      <th>32</th>\n",
       "      <td>python for everybody: exploring data in python 3</td>\n",
       "      <td>[ Charles R. Severance, Aimee Andrion, et al.]</td>\n",
       "      <td>0.99</td>\n",
       "      <td>4.6</td>\n",
       "      <td>2568.0</td>\n",
       "      <td>Paper</td>\n",
       "    </tr>\n",
       "    <tr>\n",
       "      <th>629</th>\n",
       "      <td>learning python: powerful object-oriented prog...</td>\n",
       "      <td>NaN</td>\n",
       "      <td>46.99</td>\n",
       "      <td>4.5</td>\n",
       "      <td>1724.0</td>\n",
       "      <td>Paper</td>\n",
       "    </tr>\n",
       "    <tr>\n",
       "      <th>630</th>\n",
       "      <td>learning python, 5th edition</td>\n",
       "      <td>NaN</td>\n",
       "      <td>58.55</td>\n",
       "      <td>4.5</td>\n",
       "      <td>1724.0</td>\n",
       "      <td>Paper</td>\n",
       "    </tr>\n",
       "    <tr>\n",
       "      <th>3</th>\n",
       "      <td>python for data analysis: data wrangling with ...</td>\n",
       "      <td>[ William McKinney]</td>\n",
       "      <td>53.99</td>\n",
       "      <td>4.6</td>\n",
       "      <td>1686.0</td>\n",
       "      <td>Paper</td>\n",
       "    </tr>\n",
       "    <tr>\n",
       "      <th>611</th>\n",
       "      <td>coding for kids: python: learn to code with 50...</td>\n",
       "      <td>[ Adrienne Tacke]</td>\n",
       "      <td>12.73</td>\n",
       "      <td>4.6</td>\n",
       "      <td>1512.0</td>\n",
       "      <td>Paper</td>\n",
       "    </tr>\n",
       "    <tr>\n",
       "      <th>631</th>\n",
       "      <td>python programming language</td>\n",
       "      <td>[ Berajah Jayne]</td>\n",
       "      <td>7.95</td>\n",
       "      <td>4.6</td>\n",
       "      <td>1505.0</td>\n",
       "      <td>Paper</td>\n",
       "    </tr>\n",
       "  </tbody>\n",
       "</table>\n",
       "</div>"
      ],
      "text/plain": [
       "                                                 title  \\\n",
       "633  python crash course, 2nd edition: a hands-on, ...   \n",
       "394  python: - the bible- 3 manuscripts in 1 book: ...   \n",
       "532  python: for beginners: a crash course guide to...   \n",
       "61   automate the boring stuff with python, 2nd edi...   \n",
       "32    python for everybody: exploring data in python 3   \n",
       "629  learning python: powerful object-oriented prog...   \n",
       "630                       learning python, 5th edition   \n",
       "3    python for data analysis: data wrangling with ...   \n",
       "611  coding for kids: python: learn to code with 50...   \n",
       "631                        python programming language   \n",
       "\n",
       "                                             author  price  avg_reviews  \\\n",
       "633                                 [ Eric Matthes]  23.99          4.7   \n",
       "394                                             NaN  27.97          4.3   \n",
       "532                           [ Timothy C. Needham]  13.66          4.3   \n",
       "61                                   [ Al Sweigart]  26.49          4.7   \n",
       "32   [ Charles R. Severance, Aimee Andrion, et al.]   0.99          4.6   \n",
       "629                                             NaN  46.99          4.5   \n",
       "630                                             NaN  58.55          4.5   \n",
       "3                               [ William McKinney]  53.99          4.6   \n",
       "611                               [ Adrienne Tacke]  12.73          4.6   \n",
       "631                                [ Berajah Jayne]   7.95          4.6   \n",
       "\n",
       "     n_reviews   type  \n",
       "633     7767.0  Paper  \n",
       "394     4228.0  Paper  \n",
       "532     3142.0  Paper  \n",
       "61      2672.0  Paper  \n",
       "32      2568.0  Paper  \n",
       "629     1724.0  Paper  \n",
       "630     1724.0  Paper  \n",
       "3       1686.0  Paper  \n",
       "611     1512.0  Paper  \n",
       "631     1505.0  Paper  "
      ]
     },
     "execution_count": 429,
     "metadata": {},
     "output_type": "execute_result"
    }
   ],
   "source": [
    "best_python_book = df_python_book.nlargest(10, [\"n_reviews\", \"avg_reviews\"])\n",
    "best_python_book[[\"title\", \"author\",\"price\", \"avg_reviews\", \"n_reviews\", \"type\"]]"
   ]
  },
  {
   "cell_type": "code",
   "execution_count": 408,
   "id": "f0b5590c",
   "metadata": {
    "collapsed": true
   },
   "outputs": [
    {
     "data": {
      "image/png": "[encoded data removed]",
      "text/plain": [
       "<Figure size 1000x600 with 1 Axes>"
      ]
     },
     "metadata": {},
     "output_type": "display_data"
    }
   ],
   "source": [
    "# to remove\n",
    "prices = best_python_book.price\n",
    "pages = best_python_book.pages\n",
    "reviews = best_python_book.n_reviews\n",
    "ratings = best_python_book.avg_reviews\n",
    "\n",
    "fig, ax =  plt.subplots(figsize=(10,6))\n",
    "\n",
    "scatter = ax.scatter(ratings, prices, c=reviews, s=pages, alpha=0.5)\n",
    "ax.set_title(\"Rating vs. price of Python's books\")\n",
    "ax.set_xlabel(\"Average ratings\")\n",
    "ax.set_ylabel(\"Number of reviews\")\n",
    "\n",
    "legend1 = ax.legend(*scatter.legend_elements(),loc=\"center right\", title=\"Prices\", borderaxespad=-7)\n",
    "ax.add_artist(legend1)\n",
    "\n",
    "plt.show();\n",
    "\n"
   ]
  },
  {
   "cell_type": "code",
   "execution_count": 426,
   "id": "3969b84e",
   "metadata": {},
   "outputs": [
    {
     "data": {
      "application/vnd.plotly.v1+json": {
       "config": {
        "plotlyServerURL": "https://plot.ly"
       },
       "data": [
        {
         "hovertemplate": "<b>%{hovertext}</b><br><br>avg_reviews=%{x}<br>n_reviews=%{y}<br>price=%{marker.color}<extra></extra>",
         "hovertext": [
          "python for data analysis: data wrangling with pandas, numpy, and ipython",
          "python in easy steps",
          "python tricks: a buffet of awesome python features",
          "think bayes: bayesian statistics in python (o'reilly)",
          "fluent python: clear, concise, and effective programming",
          "python programming for beginners: the ultimate crash course to learn python coding quickly and easily | step-by-step guide with hands-on exercises & beginners projects",
          "practical linear algebra for data science: from core concepts to applications using python",
          "coding games in python (computer coding for kids)",
          "python for everybody: exploring data in python 3",
          "think python: how to think like a computer scientist",
          "python for algorithmic trading: from idea to cloud deployment",
          "python for data science: a hands-on introduction",
          "practical deep learning: a python-based introduction",
          "murach's python for data analysis (training & reference)",
          "robust python: write clean and maintainable code",
          "applied text analysis with python: enabling language-aware data products with machine learning",
          "time series analysis with python cookbook: practical recipes for exploratory data analysis, data preparation, forecasting, and model evaluation",
          "data analysis with python: introducing numpy, pandas, matplotlib, and essential elements of python programming (english edition)",
          "intro to python for computer science and data science: learning to program with ai, big data and the cloud",
          "hands-on data analysis with pandas: efficiently perform data collection, wrangling, analysis, and visualization using python",
          "automate the boring stuff with python, 2nd edition: practical programming for total beginners",
          "machine learning explained the simple way: a beginners guide to learning python for data science, machine learning and ace your data science interview with little coding experience.",
          "fundamentals of music processing: using python and jupyter notebooks",
          "python: 3 books in 1- your complete guide to python programming with python for beginners, python data analysis and python machine learning (programming languages for beginners)",
          "python data analysis - second edition",
          "become a python data analyst: perform exploratory data analysis and gain insight into scientific computing using python",
          "practical discrete mathematics: discover math principles that fuel algorithms for computer science and machine learning with python",
          "data science from scratch: first principles with python",
          "python for data analysis: learn the principles of data analysis and raise your programming iq. improve your machine learning experience and become a skilled programmer by learning 10+ coding secrets",
          "python for beginners: the biggest python programming crash course for beginners | learn python coding like a pro in 7 days! + hands-on workbook",
          "python for arcgis pro: automate cartography and data analysis using arcpy, arcgis api for python, notebooks, and pandas",
          "practical data analysis using jupyter notebook: learn how to speak the language of data by extracting useful and actionable insights using python",
          "learning the pandas library: python tools for data munging, analysis, and visual",
          "hands-on javascript for python developers: leverage your python knowledge to quickly learn javascript and advance your web development career",
          "python numpy for beginners: numpy specialization for data science (python for beginners in data science and data analysis book 1)",
          "python programming for beginners: 2 books in 1 - the ultimate step-by-step guide to learn python programming quickly with practical exercises (computer programming)",
          "python programming: 3 books in 1: the complete beginner’s guide to learning the most popular programming language",
          "the pandas workshop: a comprehensive guide to using python for data analysis with real-world case studies",
          "python data analysis: perform data collection, data processing, wrangling, visualization, and model building using python, 3rd edition",
          "deep learning: a comprehensive guide to python coding and programming machine learning and neural networks for data analysis (python programming deep learning)",
          "pandas for everyone: python data analysis (addison-wesley data & analytics series)",
          "learning geospatial analysis with python: understand gis fundamentals and perform remote sensing data analysis using python 3.7, 3rd edition",
          "python programming for beginners: the #1 python programming crash course to learn python coding well and fast (with hands-on exercises)",
          "big data analysis with python: combine spark and python to unlock the powers of parallel computing and machine learning",
          "python: learn coding programs with python programming and master data analysis & analytics, data science and machine learning with the complete crash course for beginners - 5 manuscripts in 1 book",
          "introduction to python in earth science data analysis: from descriptive statistics to machine learning (springer textbooks in earth sciences, geography and environment)",
          "humanities data analysis: case studies with python",
          "data analysis from scratch python: 2 books in 1: basic data analysis and time series analysis in finance using python (financial data analytics using python)",
          "python and r for the modern data scientist: the best of both worlds",
          "artificial intelligence in finance: a python-based guide",
          "python for data science for dummies",
          "data analytics for absolute beginners: a deconstructed guide to data literacy: (introduction to data, data visualization, business intelligence & ... science, python & statistics for beginners)",
          "behavioral data analysis with r and python: customer-driven data for real business results",
          "hands-on data analysis with pandas: a python data science handbook for data collection, wrangling, analysis, and visualization, 2nd edition",
          "practical statistics for data scientists: 50+ essential concepts using r and python",
          "python for excel: a modern environment for automation and data analysis",
          "data structures & algorithms in python (developer's library)",
          "time series forecasting in python",
          "data analysis with python and pyspark",
          "python for geospatial data analysis: theory, tools, and practice for location intelligence",
          "pandas 1.x cookbook: practical recipes for scientific computing, time series analysis, and exploratory data analysis using python, 2nd edition",
          "python and algorithmic thinking for the complete beginner (2nd edition): learn to think like a programmer",
          "effective pandas: patterns for data manipulation (treading on python)",
          "python for data analysis: data wrangling with pandas, numpy, and jupyter",
          "python distilled (developer's library)",
          "python all-in-one for dummies (for dummies (computer/tech))",
          "beyond the basic stuff with python: best practices for writing clean code",
          "python basics: a practical introduction to python 3",
          "python programming for beginners: the most comprehensive programming guide to become a python expert from scratch in no time. includes hands-on exercises",
          "introducing python: modern computing in simple packages",
          "black hat python, 2nd edition: python programming for hackers and pentesters",
          "python for kids, 2nd edition: a playful introduction to programming",
          "python for tweens and teens - 2nd edition (full color version): learn computational and algorithmic thinking",
          "the book of dash: build dashboards with python and plotly",
          "invent your own computer games with python, 4th edition",
          "python architecture patterns: master api design, event-driven structures, and package management in python",
          "python: - the bible- 3 manuscripts in 1 book: -python programming for beginners -python programming for intermediates -python programming for advanced (your place to learn python with ease)",
          "introduction to synthetic aperture radar using python and matlab®",
          "testing python: applying unit testing, tdd, bdd and acceptance testing",
          "an introduction to python programming for scientists and engineers",
          "impractical python projects: playful programming activities to make you smarter",
          "python programming exercises, gently explained",
          "teach yourself visually python (teach yourself visually (tech))",
          "python one-liners: write concise, eloquent python like a professional",
          "python for cybersecurity: using python for cyber offense and defense",
          "python cookbook, third edition",
          "learn python 3 the hard way: a very simple introduction to the terrifyingly beautiful world of computers and code (zed shaw's hard way series)",
          "data visualization in python",
          "quantitative finance with python: a practical guide to investment management, trading, and financial engineering (chapman and hall/crc financial mathematics series)",
          "python for devops: learn ruthlessly effective automation",
          "learn coding basics in hours with python",
          "learn python programming: a complete guide to learning python basics and it’s practical applications in recent development technologies",
          "django 4 by example: build powerful and reliable python web applications from scratch, 4th edition",
          "artificial intelligence programming with python: from zero to hero",
          "high performance python: practical performant programming for humans",
          "murach's python programming (2nd edition)",
          "hands-on financial trading with python: a practical guide to using zipline and other python libraries for backtesting trading strategies",
          "serious python: black-belt advice on deployment, scalability, testing, and more",
          "ball pythons as pets - your complete owners guide: ball python breeding, caring, where to buy, types, temperament, cost, health, handling, husbandry, diet, and much more!",
          "machine learning for financial risk management with python: algorithms for modeling risk",
          "begin to code with python",
          "python programming in context",
          "python scripting for arcgis pro",
          "the spirit of python: exposing satan’s plan to squeeze the life out of you",
          "mission python: code a space adventure game!",
          "python 3 standard library by example, the (developer's library)",
          "python scripting for arcgis (python scripting, 1)",
          "advanced python programming: accelerate your python programs using proven techniques and design patterns, 2nd edition",
          "100 days of code learning journal: notebook for python programming beginners/learners. gift for programmer. progress tracker. game /coding projects.",
          "learn python programming: an in-depth introduction to the fundamentals of python, 3rd edition",
          "python for finance: mastering data-driven finance",
          "speed up your python with rust: optimize python performance by creating python pip modules in rust with pyo3",
          "python flash cards: syntax, concepts, and examples",
          "reticulated pythons: a complete guide to care and husbandry",
          "python for rtl verification: a complete course in python, cocotb, and pyuvm",
          "learn to program with minecraft: transform your world with the power of python",
          "a student's guide to python for physical modeling: updated edition",
          "functional python programming: use a functional approach to write succinct, expressive, and efficient python code, 3rd edition",
          "mathematical logic through python",
          "mega python vs. gatoroid",
          "deep learning from scratch: building with python from first principles",
          "practical python programming for iot: build advanced iot projects using a raspberry pi 4, mqtt, restful apis, websockets, and python 3",
          "python feature engineering cookbook: over 70 recipes for creating, engineering, and transforming features to build machine learning models, 2nd edition",
          "modern time series forecasting with python: explore industry-ready time series forecasting using modern machine learning and deep learning",
          "the hitchhiker's guide to python: best practices for development",
          "a smarter way to learn python: learn it faster. remember it longer.",
          "math for programmers: 3d graphics, machine learning, and simulations with python",
          "beginning programming with python for dummies",
          "the pythons' autobiography by the pythons",
          "microsoft python certification exam 98-281 & pcep – preparation guide: introduction to programming using python, pcep – certified entry level python programmer",
          "creative coding in python: 30+ programming projects in art, games, and more",
          "black hat python: python programming for hackers and pentesters",
          "problem solving with algorithms and data structures using python second edition",
          "quantum chemistry and computing for the curious: illustrated with python and qiskit® code",
          "bioinformatics with python cookbook: use modern python libraries and applications to solve real-world computational biology problems, 3rd edition",
          "boas and pythons of the world",
          "machine learning with python cookbook: practical solutions from preprocessing to deep learning",
          "test-driven development with python: obey the testing goat: using django, selenium, and javascript",
          "numerical python in astronomy and astrophysics: a practical guide to astrophysical problem solving (undergraduate lecture notes in physics)",
          "code this game!: make your game using python, then break your game to create a new one!",
          "bite-size python: an introduction to python programming",
          "the python bible volume 5: python for finance (stock analysis, trading, share prices)",
          "python for biologists: a complete programming course for beginners",
          "a student's guide to python for physical modeling: second edition",
          "machine learning with python for everyone (addison-wesley data & analytics series)",
          "introduction to python programming for business and social science applications",
          "programming the raspberry pi, third edition: getting started with python",
          "the quick python book",
          "advancing into analytics: from excel to python and r",
          "coding for beginners: using python [hardcover] [jan 01, 2017] louie stowell",
          "tiny python projects: 21 small fun projects for python beginners designed to build programming skill, teach new algorithms and techniques, and introduce software testing",
          "python crash course: a practical beginner's guide to learn python in 7 days or less, introducing you into the world of data science, artificial intelligence and machine learning, with hands-on project",
          "bayesian analysis with python: introduction to statistical modeling and probabilistic programming using pymc3 and arviz, 2nd edition",
          "building python microservices with fastapi: build secure, scalable, and structured python microservices from design concepts to infrastructure",
          "3d deep learning with python: design and develop your computer vision model with 3d data using pytorch3d and more",
          "python data cleaning cookbook: modern techniques and python tools to detect and remove dirty data and extract key insights",
          "web development with django: learn to build modern web applications with a python-based framework",
          "doing math with python: use programming to explore algebra, statistics, calculus, and more!",
          "hands-on explainable ai (xai) with python: interpret, visualize, explain, and integrate reliable ai for fair, secure, and trustworthy ai apps",
          "hands-on data structures and algorithms with python: store, manipulate, and access data effectively and boost the performance of your applications, 3rd edition",
          "python: this book includes: learn how to develop programs and apps in 7 days with python programming and start deep hands-on learning for beginners of data science and machine learning.",
          "python: for beginners: a crash course guide to learn python in 1 week",
          "numerical python: scientific computing and data science applications with numpy, scipy and matplotlib",
          "poisonous pythons paralyze pennsylvania (american chillers)",
          "learning scientific programming with python",
          "mastering spacy: an end-to-end practical guide to implementing nlp applications using the python ecosystem",
          "natural language processing with python: analyzing text with the natural language toolkit",
          "automate the boring stuff with python: practical programming for total beginners",
          "python for civil and structural engineers",
          "advanced python scripting for arcgis pro",
          "python programming for the absolute beginner, 3rd edition",
          "murach's python programming",
          "learn quantum computing with python and ibm quantum experience: a hands-on introduction to quantum computing and writing your own quantum programs with python",
          "hands-on gradient boosting with xgboost and scikit-learn: perform accessible machine learning and extreme gradient boosting with python",
          "python natural language processing cookbook: over 50 recipes to understand, analyze, and generate text for implementing language processing tasks",
          "python concurrency with asyncio",
          "make a raspberry pi-controlled robot: building a rover with python, linux, motors, and sensors",
          "starting out with python",
          "classic computer science problems in python",
          "bayesian modeling and computation in python (chapman & hall/crc texts in statistical science)",
          "python object-oriented programming: build robust and maintainable object-oriented python applications and libraries, 4th edition",
          "the computer programming bible: a step by step guide on how to master from the basics to advanced of python, c, c++, c#, html coding raspberry pi3",
          "learn python programming for beginners: a beginner's guide comprehending python. develop your programming skills and learn all the tricks with this crash course.",
          "python crash course: a hands-on, project-based introduction to programming",
          "python for programmers: with big data and artificial intelligence case studies",
          "using asyncio in python: understanding python's asynchronous programming features",
          "introduction to computation and programming using python, third edition: with application to computational modeling and understanding data",
          "python cheat sheet, cover the basic python syntaxes, a reference guide: python programming synatx book, syntax table & chart, quick study workbook (syntax series)",
          "deep learning with pytorch lightning: swiftly build high-performance artificial intelligence (ai) models using python",
          "practical fraud prevention: fraud and aml analytics for fintech and ecommerce, using sql and python",
          "dive into algorithms: a pythonic adventure for the intrepid beginner",
          "real-world python: a hacker's guide to solving problems with code",
          "cracking codes with python: an introduction to building and breaking ciphers",
          "python: 2 books in 1 : learn python programming for beginners and machine learning",
          "mastering python networking: your one-stop solution to using python for network automation, programmability, and devops, 3rd edition",
          "python: programming basics for absolute beginners (step-by-step python)",
          "the greedy python/ready-to-read level 1 (the world of eric carle)",
          "the recursive book of recursion: ace the coding interview with python and javascript",
          "learning python with raspberry pi",
          "cpython internals: your guide to the python 3 interpreter",
          "python for dummies",
          "python for beginners: enter the real world of python and learn how to think like a programmer",
          "learn more python 3 the hard way: the next step for new python programmers (zed shaw's hard way series)",
          "learn to code by solving problems: a python programming primer",
          "introduction to machine learning with python: a guide for data scientists",
          "python for mbas",
          "python by example: learning to program in 150 challenges",
          "python for microcontrollers: getting started with micropython",
          "python testing with pytest: simple, rapid, effective, and scalable",
          "beware the burmese pythons: and other invasive animal species",
          "python programming for beginners: a kid's guide to coding fundamentals",
          "learn python: this book includes: crash course and coding. a guide to master python, data science and analysis. advanced methods to learn how to create codes with this machine learning tool",
          "alligator vs. python (who would win?) (12)",
          "python gui programming with tkinter: design and build functional and user-friendly gui applications, 2nd edition",
          "coding for kids: python: learn to code with 50 awesome games and activities",
          "python pocket reference: python in your pocket (pocket reference (o'reilly))",
          "introduction to radar with python and matlab",
          "python for tweens and teens - 2nd edition (black & white version): learn computational and algorithmic thinking",
          "game development using python",
          "guide to programming with python",
          "the python bible 7 in 1: volumes one to seven (beginner, intermediate, data science, machine learning, finance, neural networks, computer vision)",
          "architecture patterns with python: enabling test-driven development, domain-driven design, and event-driven microservices",
          "deep learning with python, second edition",
          "learning python: powerful object-oriented programming",
          "learning python, 5th edition",
          "python programming language",
          "python crash course, 2nd edition: a hands-on, project-based introduction to programming",
          "the big book of small python projects: 81 easy practice programs",
          "mastering reinforcement learning with python: build next-generation, self-learning models using reinforcement learning techniques and best practices",
          "learning opencv 4 computer vision with python 3: get to grips with tools, techniques, and algorithms for computer vision and machine learning, 3rd edition",
          "practical data science with python: learn tools and techniques from hands-on examples to extract insights from data",
          "machine learning and data science blueprints for finance: from building trading strategies to robo-advisors using python",
          "building data science applications with fastapi: develop, manage, and deploy efficient machine learning applications with python",
          "foundations of statistics for data scientists: with r and python (chapman & hall/crc texts in statistical science)",
          "data science crash course for beginners with python: fundamentals and practices with python (machine learning & data science for beginners)",
          "introducing data science: big data, machine learning, and more, using python tools",
          "hands-on data science for marketing: improve your marketing strategies with machine learning using python and r",
          "data science in production: building scalable model pipelines with python",
          "data visualization with python for beginners: visualize your data using pandas, matplotlib and seaborn (machine learning & data science for beginners)",
          "practitioner’s guide to data science: streamlining data science solutions using python, scikit-learn, and azure ml service platform (english edition)",
          "data visualization: clear introduction to data visualization with python. proper guide for data scientist (data mining, analytics and visualization)",
          "python for data science: comprehensive guide to data science with python",
          "python machine learning for beginners: learning from scratch numpy, pandas, matplotlib, seaborn, scikitlearn, and tensorflow for machine learning and ... learning & data science for beginners)",
          "extending power bi with python and r: ingest, transform, enrich, and visualize data using the power of analytical languages",
          "foundational python for data science (addison-wesley data & analytics series)",
          "data structures and algorithms with python (undergraduate topics in computer science)",
          "data science for beginners: 4 books in 1: python programming, data analysis, machine learning. a complete overview to master the art of data science ... python for business (data science mastery)",
          "machine learning with pytorch and scikit-learn: develop machine learning and deep learning models with python"
         ],
         "legendgroup": "",
         "marker": {
          "color": [
           53.99,
           10.69,
           29.99,
           24.2,
           50.99,
           15.97,
           54.99,
           13.99,
           0.99,
           28.99,
           44.49,
           27.99,
           36.99,
           59.2,
           32.99,
           44.99,
           49.99,
           29.95,
           97.99,
           21.09,
           26.49,
           11.97,
           77.07,
           24.95,
           51.99,
           24.99,
           62.99,
           44.97,
           33.99,
           17.95,
           59.84,
           34.99,
           19.99,
           29.99,
           9.99,
           19.99,
           25.1,
           49.99,
           34.99,
           4.97,
           17.27,
           51.99,
           19.16,
           13.29,
           24.9,
           48.15,
           19.31,
           24.99,
           39.49,
           45.99,
           19.89,
           14.8,
           37.74,
           35.67,
           31.9,
           32.99,
           69.99,
           59.99,
           48.49,
           59.05,
           39.99,
           48.98,
           32.01,
           37,
           36.46,
           29.99,
           30.22,
           9.99,
           18.51,
           24.49,
           40.49,
           33.61,
           47.7,
           34.49,
           20.49,
           41.99,
           27.97,
           151.59,
           27,
           78.41,
           18.99,
           6.99,
           22.3,
           39.55,
           23.14,
           51.48,
           29.99,
           58.11,
           92.7,
           35.99,
           3.99,
           13.75,
           49.99,
           28.49,
           28.49,
           48.78,
           46.99,
           29.24,
           11.97,
           49.99,
           27.32,
           71.75,
           50.99,
           16.99,
           29.95,
           59.99,
           59.77,
           49.99,
           7,
           37.11,
           65.05,
           41.99,
           27.95,
           29,
           44.95,
           29.05,
           4.95,
           32.99,
           36.5,
           9.23,
           38.99,
           39.99,
           61.24,
           44.99,
           24.99,
           19.95,
           40.84,
           24.49,
           19.99,
           19.99,
           19.89,
           34.95,
           42.75,
           47.99,
           54.99,
           16.22,
           49.18,
           45.99,
           53.92,
           18.8,
           23.72,
           7.99,
           39,
           24.95,
           49.99,
           48.72,
           15,
           29.99,
           39.49,
           21.27,
           39.99,
           14.99,
           46.99,
           44.99,
           39.99,
           37.21,
           41.99,
           29.95,
           51.99,
           44.99,
           24.38,
           13.66,
           51.99,
           7.99,
           51.63,
           46.99,
           50.23,
           59.99,
           19.99,
           40.99,
           40.49,
           34.3,
           41.99,
           41.99,
           37.99,
           44.49,
           9.59,
           139.99,
           29.99,
           92.39,
           38.24,
           12.74,
           19.95,
           34,
           57.4,
           30.49,
           55,
           13.99,
           46.99,
           43.49,
           39.95,
           34.95,
           19.37,
           24.9,
           57.99,
           16.38,
           4.99,
           35.99,
           17.39,
           39.99,
           16.59,
           14.99,
           28.56,
           23.06,
           49.35,
           16.99,
           23.99,
           16.63,
           34.99,
           19.99,
           14.4,
           18.99,
           4.99,
           39.99,
           12.73,
           13.79,
           159,
           34.99,
           69.95,
           6.04,
           39.99,
           45.49,
           39.49,
           46.99,
           58.55,
           7.95,
           23.99,
           25.49,
           46.99,
           36.99,
           51.99,
           44.49,
           31.49,
           99.95,
           23.48,
           42.74,
           45.89,
           4.99,
           19.99,
           29.95,
           14.95,
           14.95,
           25.19,
           40.66,
           24,
           59.45,
           25.62,
           39.02
          ],
          "coloraxis": "coloraxis",
          "size": [
           53.99,
           10.69,
           29.99,
           24.2,
           50.99,
           15.97,
           54.99,
           13.99,
           0.99,
           28.99,
           44.49,
           27.99,
           36.99,
           59.2,
           32.99,
           44.99,
           49.99,
           29.95,
           97.99,
           21.09,
           26.49,
           11.97,
           77.07,
           24.95,
           51.99,
           24.99,
           62.99,
           44.97,
           33.99,
           17.95,
           59.84,
           34.99,
           19.99,
           29.99,
           9.99,
           19.99,
           25.1,
           49.99,
           34.99,
           4.97,
           17.27,
           51.99,
           19.16,
           13.29,
           24.9,
           48.15,
           19.31,
           24.99,
           39.49,
           45.99,
           19.89,
           14.8,
           37.74,
           35.67,
           31.9,
           32.99,
           69.99,
           59.99,
           48.49,
           59.05,
           39.99,
           48.98,
           32.01,
           37,
           36.46,
           29.99,
           30.22,
           9.99,
           18.51,
           24.49,
           40.49,
           33.61,
           47.7,
           34.49,
           20.49,
           41.99,
           27.97,
           151.59,
           27,
           78.41,
           18.99,
           6.99,
           22.3,
           39.55,
           23.14,
           51.48,
           29.99,
           58.11,
           92.7,
           35.99,
           3.99,
           13.75,
           49.99,
           28.49,
           28.49,
           48.78,
           46.99,
           29.24,
           11.97,
           49.99,
           27.32,
           71.75,
           50.99,
           16.99,
           29.95,
           59.99,
           59.77,
           49.99,
           7,
           37.11,
           65.05,
           41.99,
           27.95,
           29,
           44.95,
           29.05,
           4.95,
           32.99,
           36.5,
           9.23,
           38.99,
           39.99,
           61.24,
           44.99,
           24.99,
           19.95,
           40.84,
           24.49,
           19.99,
           19.99,
           19.89,
           34.95,
           42.75,
           47.99,
           54.99,
           16.22,
           49.18,
           45.99,
           53.92,
           18.8,
           23.72,
           7.99,
           39,
           24.95,
           49.99,
           48.72,
           15,
           29.99,
           39.49,
           21.27,
           39.99,
           14.99,
           46.99,
           44.99,
           39.99,
           37.21,
           41.99,
           29.95,
           51.99,
           44.99,
           24.38,
           13.66,
           51.99,
           7.99,
           51.63,
           46.99,
           50.23,
           59.99,
           19.99,
           40.99,
           40.49,
           34.3,
           41.99,
           41.99,
           37.99,
           44.49,
           9.59,
           139.99,
           29.99,
           92.39,
           38.24,
           12.74,
           19.95,
           34,
           57.4,
           30.49,
           55,
           13.99,
           46.99,
           43.49,
           39.95,
           34.95,
           19.37,
           24.9,
           57.99,
           16.38,
           4.99,
           35.99,
           17.39,
           39.99,
           16.59,
           14.99,
           28.56,
           23.06,
           49.35,
           16.99,
           23.99,
           16.63,
           34.99,
           19.99,
           14.4,
           18.99,
           4.99,
           39.99,
           12.73,
           13.79,
           159,
           34.99,
           69.95,
           6.04,
           39.99,
           45.49,
           39.49,
           46.99,
           58.55,
           7.95,
           23.99,
           25.49,
           46.99,
           36.99,
           51.99,
           44.49,
           31.49,
           99.95,
           23.48,
           42.74,
           45.89,
           4.99,
           19.99,
           29.95,
           14.95,
           14.95,
           25.19,
           40.66,
           24,
           59.45,
           25.62,
           39.02
          ],
          "sizemode": "area",
          "sizeref": 0.3975,
          "symbol": "circle"
         },
         "mode": "markers",
         "name": "",
         "orientation": "v",
         "showlegend": false,
         "type": "scatter",
         "x": [
          4.6,
          4.6,
          4.7,
          4.5,
          4.7,
          4.9,
          4.1,
          4.5,
          4.6,
          4.6,
          4.3,
          4.6,
          4.7,
          4.4,
          4.5,
          4.4,
          4.8,
          3,
          4.7,
          4.5,
          4.7,
          5,
          5,
          4.6,
          3.9,
          4.8,
          4.3,
          4.3,
          1,
          4.4,
          4.7,
          4,
          4.2,
          4.5,
          3.7,
          4.7,
          4.6,
          4.6,
          4.7,
          4.7,
          4.5,
          4.2,
          4.7,
          3.7,
          4.1,
          4.6,
          5,
          5,
          4,
          4.4,
          4.4,
          4.4,
          4.3,
          4.3,
          4.6,
          4.6,
          5,
          4.5,
          4.8,
          3,
          4.3,
          4.5,
          4.7,
          4.4,
          4.6,
          4.6,
          4.7,
          4.6,
          4.7,
          4.7,
          4.7,
          5,
          4.5,
          4,
          4.7,
          4.3,
          4.3,
          5,
          4.1,
          1,
          4.7,
          5,
          3,
          4.8,
          4.7,
          4.6,
          4.4,
          3.3,
          4.3,
          4.5,
          4.5,
          4.9,
          4.7,
          5,
          4.7,
          4.6,
          4.4,
          4.7,
          4.3,
          3.8,
          4.4,
          4.4,
          4.5,
          4.8,
          4.5,
          4.5,
          4.5,
          4.3,
          5,
          4.3,
          4.6,
          4.8,
          4.7,
          4.7,
          4.5,
          4.4,
          4.5,
          5,
          5,
          4.3,
          4.3,
          4.5,
          5,
          5,
          4.4,
          4.6,
          4.5,
          4.4,
          4.6,
          3.9,
          4.6,
          4.6,
          4.5,
          4.8,
          4.4,
          4.6,
          4.5,
          4.7,
          4.7,
          4.4,
          4.8,
          3.9,
          4.8,
          4.5,
          4.6,
          5,
          4.6,
          4.4,
          4.6,
          4.6,
          4.6,
          3.8,
          4.1,
          5,
          5,
          4.6,
          4.4,
          4.5,
          3.7,
          4.8,
          4.1,
          4.3,
          4.4,
          4.4,
          4.5,
          4,
          4.4,
          4.7,
          3.8,
          4.4,
          4.3,
          4.5,
          4.5,
          4.7,
          4.2,
          3.9,
          4,
          4.6,
          4.4,
          4.2,
          4.3,
          4.4,
          3.9,
          4.5,
          4.4,
          4.3,
          4.6,
          5,
          4.3,
          4.5,
          4.5,
          4.7,
          4.7,
          3.8,
          4.6,
          4,
          4.7,
          5,
          4.2,
          4.7,
          4.3,
          4.2,
          4.6,
          4.7,
          4.5,
          4.5,
          4.5,
          4.2,
          4.4,
          5,
          4.7,
          4.8,
          4.8,
          4.4,
          4.6,
          4.5,
          4.2,
          4.5,
          4.7,
          4.1,
          4.5,
          4.6,
          4.7,
          4.5,
          4.5,
          4.6,
          4.7,
          4.5,
          4.5,
          4.3,
          4.8,
          4.3,
          4.4,
          3.6,
          5,
          4.4,
          4.3,
          4.3,
          4.1,
          4.5,
          3.8,
          3.8,
          4.4,
          4.4,
          4.4,
          4.4,
          4.5,
          4.6
         ],
         "xaxis": "x",
         "y": [
          1686,
          386,
          1330,
          55,
          172,
          264,
          4,
          274,
          2568,
          509,
          102,
          13,
          38,
          26,
          57,
          76,
          16,
          2,
          297,
          60,
          2672,
          21,
          3,
          108,
          9,
          10,
          39,
          318,
          1,
          292,
          51,
          33,
          78,
          16,
          6,
          196,
          105,
          13,
          50,
          22,
          274,
          29,
          386,
          5,
          273,
          3,
          5,
          3,
          18,
          44,
          194,
          334,
          16,
          70,
          736,
          205,
          3,
          2,
          8,
          1,
          89,
          92,
          162,
          34,
          115,
          243,
          259,
          491,
          249,
          363,
          406,
          1,
          61,
          1,
          442,
          23,
          4228,
          1,
          30,
          1,
          297,
          3,
          1,
          126,
          12,
          579,
          932,
          12,
          5,
          236,
          326,
          59,
          28,
          6,
          146,
          93,
          25,
          336,
          210,
          8,
          64,
          48,
          141,
          905,
          159,
          120,
          185,
          14,
          1,
          48,
          268,
          12,
          406,
          66,
          12,
          303,
          87,
          2,
          6,
          238,
          84,
          53,
          1,
          2,
          132,
          1068,
          65,
          279,
          149,
          18,
          315,
          505,
          145,
          16,
          7,
          33,
          178,
          121,
          15,
          101,
          78,
          30,
          109,
          20,
          37,
          3,
          145,
          95,
          61,
          501,
          49,
          12,
          44,
          4,
          2,
          67,
          70,
          163,
          24,
          13,
          64,
          3142,
          114,
          23,
          55,
          31,
          180,
          1386,
          17,
          43,
          688,
          213,
          92,
          30,
          39,
          8,
          38,
          606,
          135,
          20,
          74,
          184,
          21,
          1291,
          111,
          62,
          123,
          4,
          15,
          28,
          88,
          96,
          363,
          14,
          146,
          187,
          323,
          16,
          162,
          157,
          324,
          20,
          106,
          49,
          591,
          22,
          372,
          80,
          41,
          1,
          93,
          169,
          414,
          62,
          1512,
          845,
          12,
          61,
          5,
          12,
          150,
          390,
          197,
          1724,
          1724,
          1505,
          7767,
          145,
          36,
          87,
          24,
          54,
          29,
          7,
          10,
          98,
          68,
          39,
          62,
          4,
          14,
          11,
          59,
          25,
          8,
          28,
          2,
          164
         ],
         "yaxis": "y"
        }
       ],
       "layout": {
        "coloraxis": {
         "colorbar": {
          "title": {
           "text": "price"
          }
         },
         "colorscale": [
          [
           0,
           "#0d0887"
          ],
          [
           0.1111111111111111,
           "#46039f"
          ],
          [
           0.2222222222222222,
           "#7201a8"
          ],
          [
           0.3333333333333333,
           "#9c179e"
          ],
          [
           0.4444444444444444,
           "#bd3786"
          ],
          [
           0.5555555555555556,
           "#d8576b"
          ],
          [
           0.6666666666666666,
           "#ed7953"
          ],
          [
           0.7777777777777778,
           "#fb9f3a"
          ],
          [
           0.8888888888888888,
           "#fdca26"
          ],
          [
           1,
           "#f0f921"
          ]
         ]
        },
        "legend": {
         "itemsizing": "constant",
         "tracegroupgap": 0
        },
        "template": {
         "data": {
          "bar": [
           {
            "error_x": {
             "color": "#2a3f5f"
            },
            "error_y": {
             "color": "#2a3f5f"
            },
            "marker": {
             "line": {
              "color": "#E5ECF6",
              "width": 0.5
             },
             "pattern": {
              "fillmode": "overlay",
              "size": 10,
              "solidity": 0.2
             }
            },
            "type": "bar"
           }
          ],
          "barpolar": [
           {
            "marker": {
             "line": {
              "color": "#E5ECF6",
              "width": 0.5
             },
             "pattern": {
              "fillmode": "overlay",
              "size": 10,
              "solidity": 0.2
             }
            },
            "type": "barpolar"
           }
          ],
          "carpet": [
           {
            "aaxis": {
             "endlinecolor": "#2a3f5f",
             "gridcolor": "white",
             "linecolor": "white",
             "minorgridcolor": "white",
             "startlinecolor": "#2a3f5f"
            },
            "baxis": {
             "endlinecolor": "#2a3f5f",
             "gridcolor": "white",
             "linecolor": "white",
             "minorgridcolor": "white",
             "startlinecolor": "#2a3f5f"
            },
            "type": "carpet"
           }
          ],
          "choropleth": [
           {
            "colorbar": {
             "outlinewidth": 0,
             "ticks": ""
            },
            "type": "choropleth"
           }
          ],
          "contour": [
           {
            "colorbar": {
             "outlinewidth": 0,
             "ticks": ""
            },
            "colorscale": [
             [
              0,
              "#0d0887"
             ],
             [
              0.1111111111111111,
              "#46039f"
             ],
             [
              0.2222222222222222,
              "#7201a8"
             ],
             [
              0.3333333333333333,
              "#9c179e"
             ],
             [
              0.4444444444444444,
              "#bd3786"
             ],
             [
              0.5555555555555556,
              "#d8576b"
             ],
             [
              0.6666666666666666,
              "#ed7953"
             ],
             [
              0.7777777777777778,
              "#fb9f3a"
             ],
             [
              0.8888888888888888,
              "#fdca26"
             ],
             [
              1,
              "#f0f921"
             ]
            ],
            "type": "contour"
           }
          ],
          "contourcarpet": [
           {
            "colorbar": {
             "outlinewidth": 0,
             "ticks": ""
            },
            "type": "contourcarpet"
           }
          ],
          "heatmap": [
           {
            "colorbar": {
             "outlinewidth": 0,
             "ticks": ""
            },
            "colorscale": [
             [
              0,
              "#0d0887"
             ],
             [
              0.1111111111111111,
              "#46039f"
             ],
             [
              0.2222222222222222,
              "#7201a8"
             ],
             [
              0.3333333333333333,
              "#9c179e"
             ],
             [
              0.4444444444444444,
              "#bd3786"
             ],
             [
              0.5555555555555556,
              "#d8576b"
             ],
             [
              0.6666666666666666,
              "#ed7953"
             ],
             [
              0.7777777777777778,
              "#fb9f3a"
             ],
             [
              0.8888888888888888,
              "#fdca26"
             ],
             [
              1,
              "#f0f921"
             ]
            ],
            "type": "heatmap"
           }
          ],
          "heatmapgl": [
           {
            "colorbar": {
             "outlinewidth": 0,
             "ticks": ""
            },
            "colorscale": [
             [
              0,
              "#0d0887"
             ],
             [
              0.1111111111111111,
              "#46039f"
             ],
             [
              0.2222222222222222,
              "#7201a8"
             ],
             [
              0.3333333333333333,
              "#9c179e"
             ],
             [
              0.4444444444444444,
              "#bd3786"
             ],
             [
              0.5555555555555556,
              "#d8576b"
             ],
             [
              0.6666666666666666,
              "#ed7953"
             ],
             [
              0.7777777777777778,
              "#fb9f3a"
             ],
             [
              0.8888888888888888,
              "#fdca26"
             ],
             [
              1,
              "#f0f921"
             ]
            ],
            "type": "heatmapgl"
           }
          ],
          "histogram": [
           {
            "marker": {
             "pattern": {
              "fillmode": "overlay",
              "size": 10,
              "solidity": 0.2
             }
            },
            "type": "histogram"
           }
          ],
          "histogram2d": [
           {
            "colorbar": {
             "outlinewidth": 0,
             "ticks": ""
            },
            "colorscale": [
             [
              0,
              "#0d0887"
             ],
             [
              0.1111111111111111,
              "#46039f"
             ],
             [
              0.2222222222222222,
              "#7201a8"
             ],
             [
              0.3333333333333333,
              "#9c179e"
             ],
             [
              0.4444444444444444,
              "#bd3786"
             ],
             [
              0.5555555555555556,
              "#d8576b"
             ],
             [
              0.6666666666666666,
              "#ed7953"
             ],
             [
              0.7777777777777778,
              "#fb9f3a"
             ],
             [
              0.8888888888888888,
              "#fdca26"
             ],
             [
              1,
              "#f0f921"
             ]
            ],
            "type": "histogram2d"
           }
          ],
          "histogram2dcontour": [
           {
            "colorbar": {
             "outlinewidth": 0,
             "ticks": ""
            },
            "colorscale": [
             [
              0,
              "#0d0887"
             ],
             [
              0.1111111111111111,
              "#46039f"
             ],
             [
              0.2222222222222222,
              "#7201a8"
             ],
             [
              0.3333333333333333,
              "#9c179e"
             ],
             [
              0.4444444444444444,
              "#bd3786"
             ],
             [
              0.5555555555555556,
              "#d8576b"
             ],
             [
              0.6666666666666666,
              "#ed7953"
             ],
             [
              0.7777777777777778,
              "#fb9f3a"
             ],
             [
              0.8888888888888888,
              "#fdca26"
             ],
             [
              1,
              "#f0f921"
             ]
            ],
            "type": "histogram2dcontour"
           }
          ],
          "mesh3d": [
           {
            "colorbar": {
             "outlinewidth": 0,
             "ticks": ""
            },
            "type": "mesh3d"
           }
          ],
          "parcoords": [
           {
            "line": {
             "colorbar": {
              "outlinewidth": 0,
              "ticks": ""
             }
            },
            "type": "parcoords"
           }
          ],
          "pie": [
           {
            "automargin": true,
            "type": "pie"
           }
          ],
          "scatter": [
           {
            "fillpattern": {
             "fillmode": "overlay",
             "size": 10,
             "solidity": 0.2
            },
            "type": "scatter"
           }
          ],
          "scatter3d": [
           {
            "line": {
             "colorbar": {
              "outlinewidth": 0,
              "ticks": ""
             }
            },
            "marker": {
             "colorbar": {
              "outlinewidth": 0,
              "ticks": ""
             }
            },
            "type": "scatter3d"
           }
          ],
          "scattercarpet": [
           {
            "marker": {
             "colorbar": {
              "outlinewidth": 0,
              "ticks": ""
             }
            },
            "type": "scattercarpet"
           }
          ],
          "scattergeo": [
           {
            "marker": {
             "colorbar": {
              "outlinewidth": 0,
              "ticks": ""
             }
            },
            "type": "scattergeo"
           }
          ],
          "scattergl": [
           {
            "marker": {
             "colorbar": {
              "outlinewidth": 0,
              "ticks": ""
             }
            },
            "type": "scattergl"
           }
          ],
          "scattermapbox": [
           {
            "marker": {
             "colorbar": {
              "outlinewidth": 0,
              "ticks": ""
             }
            },
            "type": "scattermapbox"
           }
          ],
          "scatterpolar": [
           {
            "marker": {
             "colorbar": {
              "outlinewidth": 0,
              "ticks": ""
             }
            },
            "type": "scatterpolar"
           }
          ],
          "scatterpolargl": [
           {
            "marker": {
             "colorbar": {
              "outlinewidth": 0,
              "ticks": ""
             }
            },
            "type": "scatterpolargl"
           }
          ],
          "scatterternary": [
           {
            "marker": {
             "colorbar": {
              "outlinewidth": 0,
              "ticks": ""
             }
            },
            "type": "scatterternary"
           }
          ],
          "surface": [
           {
            "colorbar": {
             "outlinewidth": 0,
             "ticks": ""
            },
            "colorscale": [
             [
              0,
              "#0d0887"
             ],
             [
              0.1111111111111111,
              "#46039f"
             ],
             [
              0.2222222222222222,
              "#7201a8"
             ],
             [
              0.3333333333333333,
              "#9c179e"
             ],
             [
              0.4444444444444444,
              "#bd3786"
             ],
             [
              0.5555555555555556,
              "#d8576b"
             ],
             [
              0.6666666666666666,
              "#ed7953"
             ],
             [
              0.7777777777777778,
              "#fb9f3a"
             ],
             [
              0.8888888888888888,
              "#fdca26"
             ],
             [
              1,
              "#f0f921"
             ]
            ],
            "type": "surface"
           }
          ],
          "table": [
           {
            "cells": {
             "fill": {
              "color": "#EBF0F8"
             },
             "line": {
              "color": "white"
             }
            },
            "header": {
             "fill": {
              "color": "#C8D4E3"
             },
             "line": {
              "color": "white"
             }
            },
            "type": "table"
           }
          ]
         },
         "layout": {
          "annotationdefaults": {
           "arrowcolor": "#2a3f5f",
           "arrowhead": 0,
           "arrowwidth": 1
          },
          "autotypenumbers": "strict",
          "coloraxis": {
           "colorbar": {
            "outlinewidth": 0,
            "ticks": ""
           }
          },
          "colorscale": {
           "diverging": [
            [
             0,
             "#8e0152"
            ],
            [
             0.1,
             "#c51b7d"
            ],
            [
             0.2,
             "#de77ae"
            ],
            [
             0.3,
             "#f1b6da"
            ],
            [
             0.4,
             "#fde0ef"
            ],
            [
             0.5,
             "#f7f7f7"
            ],
            [
             0.6,
             "#e6f5d0"
            ],
            [
             0.7,
             "#b8e186"
            ],
            [
             0.8,
             "#7fbc41"
            ],
            [
             0.9,
             "#4d9221"
            ],
            [
             1,
             "#276419"
            ]
           ],
           "sequential": [
            [
             0,
             "#0d0887"
            ],
            [
             0.1111111111111111,
             "#46039f"
            ],
            [
             0.2222222222222222,
             "#7201a8"
            ],
            [
             0.3333333333333333,
             "#9c179e"
            ],
            [
             0.4444444444444444,
             "#bd3786"
            ],
            [
             0.5555555555555556,
             "#d8576b"
            ],
            [
             0.6666666666666666,
             "#ed7953"
            ],
            [
             0.7777777777777778,
             "#fb9f3a"
            ],
            [
             0.8888888888888888,
             "#fdca26"
            ],
            [
             1,
             "#f0f921"
            ]
           ],
           "sequentialminus": [
            [
             0,
             "#0d0887"
            ],
            [
             0.1111111111111111,
             "#46039f"
            ],
            [
             0.2222222222222222,
             "#7201a8"
            ],
            [
             0.3333333333333333,
             "#9c179e"
            ],
            [
             0.4444444444444444,
             "#bd3786"
            ],
            [
             0.5555555555555556,
             "#d8576b"
            ],
            [
             0.6666666666666666,
             "#ed7953"
            ],
            [
             0.7777777777777778,
             "#fb9f3a"
            ],
            [
             0.8888888888888888,
             "#fdca26"
            ],
            [
             1,
             "#f0f921"
            ]
           ]
          },
          "colorway": [
           "#636efa",
           "#EF553B",
           "#00cc96",
           "#ab63fa",
           "#FFA15A",
           "#19d3f3",
           "#FF6692",
           "#B6E880",
           "#FF97FF",
           "#FECB52"
          ],
          "font": {
           "color": "#2a3f5f"
          },
          "geo": {
           "bgcolor": "white",
           "lakecolor": "white",
           "landcolor": "#E5ECF6",
           "showlakes": true,
           "showland": true,
           "subunitcolor": "white"
          },
          "hoverlabel": {
           "align": "left"
          },
          "hovermode": "closest",
          "mapbox": {
           "style": "light"
          },
          "paper_bgcolor": "white",
          "plot_bgcolor": "#E5ECF6",
          "polar": {
           "angularaxis": {
            "gridcolor": "white",
            "linecolor": "white",
            "ticks": ""
           },
           "bgcolor": "#E5ECF6",
           "radialaxis": {
            "gridcolor": "white",
            "linecolor": "white",
            "ticks": ""
           }
          },
          "scene": {
           "xaxis": {
            "backgroundcolor": "#E5ECF6",
            "gridcolor": "white",
            "gridwidth": 2,
            "linecolor": "white",
            "showbackground": true,
            "ticks": "",
            "zerolinecolor": "white"
           },
           "yaxis": {
            "backgroundcolor": "#E5ECF6",
            "gridcolor": "white",
            "gridwidth": 2,
            "linecolor": "white",
            "showbackground": true,
            "ticks": "",
            "zerolinecolor": "white"
           },
           "zaxis": {
            "backgroundcolor": "#E5ECF6",
            "gridcolor": "white",
            "gridwidth": 2,
            "linecolor": "white",
            "showbackground": true,
            "ticks": "",
            "zerolinecolor": "white"
           }
          },
          "shapedefaults": {
           "line": {
            "color": "#2a3f5f"
           }
          },
          "ternary": {
           "aaxis": {
            "gridcolor": "white",
            "linecolor": "white",
            "ticks": ""
           },
           "baxis": {
            "gridcolor": "white",
            "linecolor": "white",
            "ticks": ""
           },
           "bgcolor": "#E5ECF6",
           "caxis": {
            "gridcolor": "white",
            "linecolor": "white",
            "ticks": ""
           }
          },
          "title": {
           "x": 0.05
          },
          "xaxis": {
           "automargin": true,
           "gridcolor": "white",
           "linecolor": "white",
           "ticks": "",
           "title": {
            "standoff": 15
           },
           "zerolinecolor": "white",
           "zerolinewidth": 2
          },
          "yaxis": {
           "automargin": true,
           "gridcolor": "white",
           "linecolor": "white",
           "ticks": "",
           "title": {
            "standoff": 15
           },
           "zerolinecolor": "white",
           "zerolinewidth": 2
          }
         }
        },
        "title": {
         "text": "Reviews of Python's Books"
        },
        "xaxis": {
         "anchor": "y",
         "domain": [
          0,
          1
         ],
         "range": [
          0,
          5.5
         ],
         "title": {
          "text": "avg_reviews"
         }
        },
        "yaxis": {
         "anchor": "x",
         "domain": [
          0,
          1
         ],
         "title": {
          "text": "n_reviews"
         }
        }
       }
      },
      "text/html": [
       "<div>                            <div id=\"11034b19-56a0-4c29-827b-072645801334\" class=\"plotly-graph-div\" style=\"height:525px; width:100%;\"></div>            <script type=\"text/javascript\">                require([\"plotly\"], function(Plotly) {                    window.PLOTLYENV=window.PLOTLYENV || {};                                    if (document.getElementById(\"11034b19-56a0-4c29-827b-072645801334\")) {                    Plotly.newPlot(                        \"11034b19-56a0-4c29-827b-072645801334\",                        [{\"hovertemplate\":\"<b>%{hovertext}</b><br><br>avg_reviews=%{x}<br>n_reviews=%{y}<br>price=%{marker.color}<extra></extra>\",\"hovertext\":[\"python for data analysis: data wrangling with pandas, numpy, and ipython\",\"python in easy steps\",\"python tricks: a buffet of awesome python features\",\"think bayes: bayesian statistics in python (o'reilly)\",\"fluent python: clear, concise, and effective programming\",\"python programming for beginners: the ultimate crash course to learn python coding quickly and easily | step-by-step guide with hands-on exercises & beginners projects\",\"practical linear algebra for data science: from core concepts to applications using python\",\"coding games in python (computer coding for kids)\",\"python for everybody: exploring data in python 3\",\"think python: how to think like a computer scientist\",\"python for algorithmic trading: from idea to cloud deployment\",\"python for data science: a hands-on introduction\",\"practical deep learning: a python-based introduction\",\"murach's python for data analysis (training & reference)\",\"robust python: write clean and maintainable code\",\"applied text analysis with python: enabling language-aware data products with machine learning\",\"time series analysis with python cookbook: practical recipes for exploratory data analysis, data preparation, forecasting, and model evaluation\",\"data analysis with python: introducing numpy, pandas, matplotlib, and essential elements of python programming (english edition)\",\"intro to python for computer science and data science: learning to program with ai, big data and the cloud\",\"hands-on data analysis with pandas: efficiently perform data collection, wrangling, analysis, and visualization using python\",\"automate the boring stuff with python, 2nd edition: practical programming for total beginners\",\"machine learning explained the simple way: a beginners guide to learning python for data science, machine learning and ace your data science interview with little coding experience.\",\"fundamentals of music processing: using python and jupyter notebooks\",\"python: 3 books in 1- your complete guide to python programming with python for beginners, python data analysis and python machine learning (programming languages for beginners)\",\"python data analysis - second edition\",\"become a python data analyst: perform exploratory data analysis and gain insight into scientific computing using python\",\"practical discrete mathematics: discover math principles that fuel algorithms for computer science and machine learning with python\",\"data science from scratch: first principles with python\",\"python for data analysis: learn the principles of data analysis and raise your programming iq. improve your machine learning experience and become a skilled programmer by learning 10+ coding secrets\",\"python for beginners: the biggest python programming crash course for beginners | learn python coding like a pro in 7 days! + hands-on workbook\",\"python for arcgis pro: automate cartography and data analysis using arcpy, arcgis api for python, notebooks, and pandas\",\"practical data analysis using jupyter notebook: learn how to speak the language of data by extracting useful and actionable insights using python\",\"learning the pandas library: python tools for data munging, analysis, and visual\",\"hands-on javascript for python developers: leverage your python knowledge to quickly learn javascript and advance your web development career\",\"python numpy for beginners: numpy specialization for data science (python for beginners in data science and data analysis book 1)\",\"python programming for beginners: 2 books in 1 - the ultimate step-by-step guide to learn python programming quickly with practical exercises (computer programming)\",\"python programming: 3 books in 1: the complete beginner\\u2019s guide to learning the most popular programming language\",\"the pandas workshop: a comprehensive guide to using python for data analysis with real-world case studies\",\"python data analysis: perform data collection, data processing, wrangling, visualization, and model building using python, 3rd edition\",\"deep learning: a comprehensive guide to python coding and programming machine learning and neural networks for data analysis (python programming deep learning)\",\"pandas for everyone: python data analysis (addison-wesley data & analytics series)\",\"learning geospatial analysis with python: understand gis fundamentals and perform remote sensing data analysis using python 3.7, 3rd edition\",\"python programming for beginners: the #1 python programming crash course to learn python coding well and fast (with hands-on exercises)\",\"big data analysis with python: combine spark and python to unlock the powers of parallel computing and machine learning\",\"python: learn coding programs with python programming and master data analysis & analytics, data science and machine learning with the complete crash course for beginners - 5 manuscripts in 1 book\",\"introduction to python in earth science data analysis: from descriptive statistics to machine learning (springer textbooks in earth sciences, geography and environment)\",\"humanities data analysis: case studies with python\",\"data analysis from scratch python: 2 books in 1: basic data analysis and time series analysis in finance using python (financial data analytics using python)\",\"python and r for the modern data scientist: the best of both worlds\",\"artificial intelligence in finance: a python-based guide\",\"python for data science for dummies\",\"data analytics for absolute beginners: a deconstructed guide to data literacy: (introduction to data, data visualization, business intelligence & ... science, python & statistics for beginners)\",\"behavioral data analysis with r and python: customer-driven data for real business results\",\"hands-on data analysis with pandas: a python data science handbook for data collection, wrangling, analysis, and visualization, 2nd edition\",\"practical statistics for data scientists: 50+ essential concepts using r and python\",\"python for excel: a modern environment for automation and data analysis\",\"data structures & algorithms in python (developer's library)\",\"time series forecasting in python\",\"data analysis with python and pyspark\",\"python for geospatial data analysis: theory, tools, and practice for location intelligence\",\"pandas 1.x cookbook: practical recipes for scientific computing, time series analysis, and exploratory data analysis using python, 2nd edition\",\"python and algorithmic thinking for the complete beginner (2nd edition): learn to think like a programmer\",\"effective pandas: patterns for data manipulation (treading on python)\",\"python for data analysis: data wrangling with pandas, numpy, and jupyter\",\"python distilled (developer's library)\",\"python all-in-one for dummies (for dummies (computer/tech))\",\"beyond the basic stuff with python: best practices for writing clean code\",\"python basics: a practical introduction to python 3\",\"python programming for beginners: the most comprehensive programming guide to become a python expert from scratch in no time. includes hands-on exercises\",\"introducing python: modern computing in simple packages\",\"black hat python, 2nd edition: python programming for hackers and pentesters\",\"python for kids, 2nd edition: a playful introduction to programming\",\"python for tweens and teens - 2nd edition (full color version): learn computational and algorithmic thinking\",\"the book of dash: build dashboards with python and plotly\",\"invent your own computer games with python, 4th edition\",\"python architecture patterns: master api design, event-driven structures, and package management in python\",\"python: - the bible- 3 manuscripts in 1 book: -python programming for beginners -python programming for intermediates -python programming for advanced (your place to learn python with ease)\",\"introduction to synthetic aperture radar using python and matlab\\u00ae\",\"testing python: applying unit testing, tdd, bdd and acceptance testing\",\"an introduction to python programming for scientists and engineers\",\"impractical python projects: playful programming activities to make you smarter\",\"python programming exercises, gently explained\",\"teach yourself visually python (teach yourself visually (tech))\",\"python one-liners: write concise, eloquent python like a professional\",\"python for cybersecurity: using python for cyber offense and defense\",\"python cookbook, third edition\",\"learn python 3 the hard way: a very simple introduction to the terrifyingly beautiful world of computers and code (zed shaw's hard way series)\",\"data visualization in python\",\"quantitative finance with python: a practical guide to investment management, trading, and financial engineering (chapman and hall/crc financial mathematics series)\",\"python for devops: learn ruthlessly effective automation\",\"learn coding basics in hours with python\",\"learn python programming: a complete guide to learning python basics and it\\u2019s practical applications in recent development technologies\",\"django 4 by example: build powerful and reliable python web applications from scratch, 4th edition\",\"artificial intelligence programming with python: from zero to hero\",\"high performance python: practical performant programming for humans\",\"murach's python programming (2nd edition)\",\"hands-on financial trading with python: a practical guide to using zipline and other python libraries for backtesting trading strategies\",\"serious python: black-belt advice on deployment, scalability, testing, and more\",\"ball pythons as pets - your complete owners guide: ball python breeding, caring, where to buy, types, temperament, cost, health, handling, husbandry, diet, and much more!\",\"machine learning for financial risk management with python: algorithms for modeling risk\",\"begin to code with python\",\"python programming in context\",\"python scripting for arcgis pro\",\"the spirit of python: exposing satan\\u2019s plan to squeeze the life out of you\",\"mission python: code a space adventure game!\",\"python 3 standard library by example, the (developer's library)\",\"python scripting for arcgis (python scripting, 1)\",\"advanced python programming: accelerate your python programs using proven techniques and design patterns, 2nd edition\",\"100 days of code learning journal: notebook for python programming beginners/learners. gift for programmer. progress tracker. game /coding projects.\",\"learn python programming: an in-depth introduction to the fundamentals of python, 3rd edition\",\"python for finance: mastering data-driven finance\",\"speed up your python with rust: optimize python performance by creating python pip modules in rust with pyo3\",\"python flash cards: syntax, concepts, and examples\",\"reticulated pythons: a complete guide to care and husbandry\",\"python for rtl verification: a complete course in python, cocotb, and pyuvm\",\"learn to program with minecraft: transform your world with the power of python\",\"a student's guide to python for physical modeling: updated edition\",\"functional python programming: use a functional approach to write succinct, expressive, and efficient python code, 3rd edition\",\"mathematical logic through python\",\"mega python vs. gatoroid\",\"deep learning from scratch: building with python from first principles\",\"practical python programming for iot: build advanced iot projects using a raspberry pi 4, mqtt, restful apis, websockets, and python 3\",\"python feature engineering cookbook: over 70 recipes for creating, engineering, and transforming features to build machine learning models, 2nd edition\",\"modern time series forecasting with python: explore industry-ready time series forecasting using modern machine learning and deep learning\",\"the hitchhiker's guide to python: best practices for development\",\"a smarter way to learn python: learn it faster. remember it longer.\",\"math for programmers: 3d graphics, machine learning, and simulations with python\",\"beginning programming with python for dummies\",\"the pythons' autobiography by the pythons\",\"microsoft python certification exam 98-281 & pcep \\u2013 preparation guide: introduction to programming using python, pcep \\u2013 certified entry level python programmer\",\"creative coding in python: 30+ programming projects in art, games, and more\",\"black hat python: python programming for hackers and pentesters\",\"problem solving with algorithms and data structures using python second edition\",\"quantum chemistry and computing for the curious: illustrated with python and qiskit\\u00ae code\",\"bioinformatics with python cookbook: use modern python libraries and applications to solve real-world computational biology problems, 3rd edition\",\"boas and pythons of the world\",\"machine learning with python cookbook: practical solutions from preprocessing to deep learning\",\"test-driven development with python: obey the testing goat: using django, selenium, and javascript\",\"numerical python in astronomy and astrophysics: a practical guide to astrophysical problem solving (undergraduate lecture notes in physics)\",\"code this game!: make your game using python, then break your game to create a new one!\",\"bite-size python: an introduction to python programming\",\"the python bible volume 5: python for finance (stock analysis, trading, share prices)\",\"python for biologists: a complete programming course for beginners\",\"a student's guide to python for physical modeling: second edition\",\"machine learning with python for everyone (addison-wesley data & analytics series)\",\"introduction to python programming for business and social science applications\",\"programming the raspberry pi, third edition: getting started with python\",\"the quick python book\",\"advancing into analytics: from excel to python and r\",\"coding for beginners: using python [hardcover] [jan 01, 2017] louie stowell\",\"tiny python projects: 21 small fun projects for python beginners designed to build programming skill, teach new algorithms and techniques, and introduce software testing\",\"python crash course: a practical beginner's guide to learn python in 7 days or less, introducing you into the world of data science, artificial intelligence and machine learning, with hands-on project\",\"bayesian analysis with python: introduction to statistical modeling and probabilistic programming using pymc3 and arviz, 2nd edition\",\"building python microservices with fastapi: build secure, scalable, and structured python microservices from design concepts to infrastructure\",\"3d deep learning with python: design and develop your computer vision model with 3d data using pytorch3d and more\",\"python data cleaning cookbook: modern techniques and python tools to detect and remove dirty data and extract key insights\",\"web development with django: learn to build modern web applications with a python-based framework\",\"doing math with python: use programming to explore algebra, statistics, calculus, and more!\",\"hands-on explainable ai (xai) with python: interpret, visualize, explain, and integrate reliable ai for fair, secure, and trustworthy ai apps\",\"hands-on data structures and algorithms with python: store, manipulate, and access data effectively and boost the performance of your applications, 3rd edition\",\"python: this book includes: learn how to develop programs and apps in 7 days with python programming and start deep hands-on learning for beginners of data science and machine learning.\",\"python: for beginners: a crash course guide to learn python in 1 week\",\"numerical python: scientific computing and data science applications with numpy, scipy and matplotlib\",\"poisonous pythons paralyze pennsylvania (american chillers)\",\"learning scientific programming with python\",\"mastering spacy: an end-to-end practical guide to implementing nlp applications using the python ecosystem\",\"natural language processing with python: analyzing text with the natural language toolkit\",\"automate the boring stuff with python: practical programming for total beginners\",\"python for civil and structural engineers\",\"advanced python scripting for arcgis pro\",\"python programming for the absolute beginner, 3rd edition\",\"murach's python programming\",\"learn quantum computing with python and ibm quantum experience: a hands-on introduction to quantum computing and writing your own quantum programs with python\",\"hands-on gradient boosting with xgboost and scikit-learn: perform accessible machine learning and extreme gradient boosting with python\",\"python natural language processing cookbook: over 50 recipes to understand, analyze, and generate text for implementing language processing tasks\",\"python concurrency with asyncio\",\"make a raspberry pi-controlled robot: building a rover with python, linux, motors, and sensors\",\"starting out with python\",\"classic computer science problems in python\",\"bayesian modeling and computation in python (chapman & hall/crc texts in statistical science)\",\"python object-oriented programming: build robust and maintainable object-oriented python applications and libraries, 4th edition\",\"the computer programming bible: a step by step guide on how to master from the basics to advanced of python, c, c++, c#, html coding raspberry pi3\",\"learn python programming for beginners: a beginner's guide comprehending python. develop your programming skills and learn all the tricks with this crash course.\",\"python crash course: a hands-on, project-based introduction to programming\",\"python for programmers: with big data and artificial intelligence case studies\",\"using asyncio in python: understanding python's asynchronous programming features\",\"introduction to computation and programming using python, third edition: with application to computational modeling and understanding data\",\"python cheat sheet, cover the basic python syntaxes, a reference guide: python programming synatx book, syntax table & chart, quick study workbook (syntax series)\",\"deep learning with pytorch lightning: swiftly build high-performance artificial intelligence (ai) models using python\",\"practical fraud prevention: fraud and aml analytics for fintech and ecommerce, using sql and python\",\"dive into algorithms: a pythonic adventure for the intrepid beginner\",\"real-world python: a hacker's guide to solving problems with code\",\"cracking codes with python: an introduction to building and breaking ciphers\",\"python: 2 books in 1 : learn python programming for beginners and machine learning\",\"mastering python networking: your one-stop solution to using python for network automation, programmability, and devops, 3rd edition\",\"python: programming basics for absolute beginners (step-by-step python)\",\"the greedy python/ready-to-read level 1 (the world of eric carle)\",\"the recursive book of recursion: ace the coding interview with python and javascript\",\"learning python with raspberry pi\",\"cpython internals: your guide to the python 3 interpreter\",\"python for dummies\",\"python for beginners: enter the real world of python and learn how to think like a programmer\",\"learn more python 3 the hard way: the next step for new python programmers (zed shaw's hard way series)\",\"learn to code by solving problems: a python programming primer\",\"introduction to machine learning with python: a guide for data scientists\",\"python for mbas\",\"python by example: learning to program in 150 challenges\",\"python for microcontrollers: getting started with micropython\",\"python testing with pytest: simple, rapid, effective, and scalable\",\"beware the burmese pythons: and other invasive animal species\",\"python programming for beginners: a kid's guide to coding fundamentals\",\"learn python: this book includes: crash course and coding. a guide to master python, data science and analysis. advanced methods to learn how to create codes with this machine learning tool\",\"alligator vs. python (who would win?) (12)\",\"python gui programming with tkinter: design and build functional and user-friendly gui applications, 2nd edition\",\"coding for kids: python: learn to code with 50 awesome games and activities\",\"python pocket reference: python in your pocket (pocket reference (o'reilly))\",\"introduction to radar with python and matlab\",\"python for tweens and teens - 2nd edition (black & white version): learn computational and algorithmic thinking\",\"game development using python\",\"guide to programming with python\",\"the python bible 7 in 1: volumes one to seven (beginner, intermediate, data science, machine learning, finance, neural networks, computer vision)\",\"architecture patterns with python: enabling test-driven development, domain-driven design, and event-driven microservices\",\"deep learning with python, second edition\",\"learning python: powerful object-oriented programming\",\"learning python, 5th edition\",\"python programming language\",\"python crash course, 2nd edition: a hands-on, project-based introduction to programming\",\"the big book of small python projects: 81 easy practice programs\",\"mastering reinforcement learning with python: build next-generation, self-learning models using reinforcement learning techniques and best practices\",\"learning opencv 4 computer vision with python 3: get to grips with tools, techniques, and algorithms for computer vision and machine learning, 3rd edition\",\"practical data science with python: learn tools and techniques from hands-on examples to extract insights from data\",\"machine learning and data science blueprints for finance: from building trading strategies to robo-advisors using python\",\"building data science applications with fastapi: develop, manage, and deploy efficient machine learning applications with python\",\"foundations of statistics for data scientists: with r and python (chapman & hall/crc texts in statistical science)\",\"data science crash course for beginners with python: fundamentals and practices with python (machine learning & data science for beginners)\",\"introducing data science: big data, machine learning, and more, using python tools\",\"hands-on data science for marketing: improve your marketing strategies with machine learning using python and r\",\"data science in production: building scalable model pipelines with python\",\"data visualization with python for beginners: visualize your data using pandas, matplotlib and seaborn (machine learning & data science for beginners)\",\"practitioner\\u2019s guide to data science: streamlining data science solutions using python, scikit-learn, and azure ml service platform (english edition)\",\"data visualization: clear introduction to data visualization with python. proper guide for data scientist (data mining, analytics and visualization)\",\"python for data science: comprehensive guide to data science with python\",\"python machine learning for beginners: learning from scratch numpy, pandas, matplotlib, seaborn, scikitlearn, and tensorflow for machine learning and ... learning & data science for beginners)\",\"extending power bi with python and r: ingest, transform, enrich, and visualize data using the power of analytical languages\",\"foundational python for data science (addison-wesley data & analytics series)\",\"data structures and algorithms with python (undergraduate topics in computer science)\",\"data science for beginners: 4 books in 1: python programming, data analysis, machine learning. a complete overview to master the art of data science ... python for business (data science mastery)\",\"machine learning with pytorch and scikit-learn: develop machine learning and deep learning models with python\"],\"legendgroup\":\"\",\"marker\":{\"color\":[53.99,10.69,29.99,24.2,50.99,15.97,54.99,13.99,0.99,28.99,44.49,27.99,36.99,59.2,32.99,44.99,49.99,29.95,97.99,21.09,26.49,11.97,77.07,24.95,51.99,24.99,62.99,44.97,33.99,17.95,59.84,34.99,19.99,29.99,9.99,19.99,25.1,49.99,34.99,4.97,17.27,51.99,19.16,13.29,24.9,48.15,19.31,24.99,39.49,45.99,19.89,14.8,37.74,35.67,31.9,32.99,69.99,59.99,48.49,59.05,39.99,48.98,32.01,37.0,36.46,29.99,30.22,9.99,18.51,24.49,40.49,33.61,47.7,34.49,20.49,41.99,27.97,151.59,27.0,78.41,18.99,6.99,22.3,39.55,23.14,51.48,29.99,58.11,92.7,35.99,3.99,13.75,49.99,28.49,28.49,48.78,46.99,29.24,11.97,49.99,27.32,71.75,50.99,16.99,29.95,59.99,59.77,49.99,7.0,37.11,65.05,41.99,27.95,29.0,44.95,29.05,4.95,32.99,36.5,9.23,38.99,39.99,61.24,44.99,24.99,19.95,40.84,24.49,19.99,19.99,19.89,34.95,42.75,47.99,54.99,16.22,49.18,45.99,53.92,18.8,23.72,7.99,39.0,24.95,49.99,48.72,15.0,29.99,39.49,21.27,39.99,14.99,46.99,44.99,39.99,37.21,41.99,29.95,51.99,44.99,24.38,13.66,51.99,7.99,51.63,46.99,50.23,59.99,19.99,40.99,40.49,34.3,41.99,41.99,37.99,44.49,9.59,139.99,29.99,92.39,38.24,12.74,19.95,34.0,57.4,30.49,55.0,13.99,46.99,43.49,39.95,34.95,19.37,24.9,57.99,16.38,4.99,35.99,17.39,39.99,16.59,14.99,28.56,23.06,49.35,16.99,23.99,16.63,34.99,19.99,14.4,18.99,4.99,39.99,12.73,13.79,159.0,34.99,69.95,6.04,39.99,45.49,39.49,46.99,58.55,7.95,23.99,25.49,46.99,36.99,51.99,44.49,31.49,99.95,23.48,42.74,45.89,4.99,19.99,29.95,14.95,14.95,25.19,40.66,24.0,59.45,25.62,39.02],\"coloraxis\":\"coloraxis\",\"size\":[53.99,10.69,29.99,24.2,50.99,15.97,54.99,13.99,0.99,28.99,44.49,27.99,36.99,59.2,32.99,44.99,49.99,29.95,97.99,21.09,26.49,11.97,77.07,24.95,51.99,24.99,62.99,44.97,33.99,17.95,59.84,34.99,19.99,29.99,9.99,19.99,25.1,49.99,34.99,4.97,17.27,51.99,19.16,13.29,24.9,48.15,19.31,24.99,39.49,45.99,19.89,14.8,37.74,35.67,31.9,32.99,69.99,59.99,48.49,59.05,39.99,48.98,32.01,37.0,36.46,29.99,30.22,9.99,18.51,24.49,40.49,33.61,47.7,34.49,20.49,41.99,27.97,151.59,27.0,78.41,18.99,6.99,22.3,39.55,23.14,51.48,29.99,58.11,92.7,35.99,3.99,13.75,49.99,28.49,28.49,48.78,46.99,29.24,11.97,49.99,27.32,71.75,50.99,16.99,29.95,59.99,59.77,49.99,7.0,37.11,65.05,41.99,27.95,29.0,44.95,29.05,4.95,32.99,36.5,9.23,38.99,39.99,61.24,44.99,24.99,19.95,40.84,24.49,19.99,19.99,19.89,34.95,42.75,47.99,54.99,16.22,49.18,45.99,53.92,18.8,23.72,7.99,39.0,24.95,49.99,48.72,15.0,29.99,39.49,21.27,39.99,14.99,46.99,44.99,39.99,37.21,41.99,29.95,51.99,44.99,24.38,13.66,51.99,7.99,51.63,46.99,50.23,59.99,19.99,40.99,40.49,34.3,41.99,41.99,37.99,44.49,9.59,139.99,29.99,92.39,38.24,12.74,19.95,34.0,57.4,30.49,55.0,13.99,46.99,43.49,39.95,34.95,19.37,24.9,57.99,16.38,4.99,35.99,17.39,39.99,16.59,14.99,28.56,23.06,49.35,16.99,23.99,16.63,34.99,19.99,14.4,18.99,4.99,39.99,12.73,13.79,159.0,34.99,69.95,6.04,39.99,45.49,39.49,46.99,58.55,7.95,23.99,25.49,46.99,36.99,51.99,44.49,31.49,99.95,23.48,42.74,45.89,4.99,19.99,29.95,14.95,14.95,25.19,40.66,24.0,59.45,25.62,39.02],\"sizemode\":\"area\",\"sizeref\":0.3975,\"symbol\":\"circle\"},\"mode\":\"markers\",\"name\":\"\",\"orientation\":\"v\",\"showlegend\":false,\"x\":[4.6,4.6,4.7,4.5,4.7,4.9,4.1,4.5,4.6,4.6,4.3,4.6,4.7,4.4,4.5,4.4,4.8,3.0,4.7,4.5,4.7,5.0,5.0,4.6,3.9,4.8,4.3,4.3,1.0,4.4,4.7,4.0,4.2,4.5,3.7,4.7,4.6,4.6,4.7,4.7,4.5,4.2,4.7,3.7,4.1,4.6,5.0,5.0,4.0,4.4,4.4,4.4,4.3,4.3,4.6,4.6,5.0,4.5,4.8,3.0,4.3,4.5,4.7,4.4,4.6,4.6,4.7,4.6,4.7,4.7,4.7,5.0,4.5,4.0,4.7,4.3,4.3,5.0,4.1,1.0,4.7,5.0,3.0,4.8,4.7,4.6,4.4,3.3,4.3,4.5,4.5,4.9,4.7,5.0,4.7,4.6,4.4,4.7,4.3,3.8,4.4,4.4,4.5,4.8,4.5,4.5,4.5,4.3,5.0,4.3,4.6,4.8,4.7,4.7,4.5,4.4,4.5,5.0,5.0,4.3,4.3,4.5,5.0,5.0,4.4,4.6,4.5,4.4,4.6,3.9,4.6,4.6,4.5,4.8,4.4,4.6,4.5,4.7,4.7,4.4,4.8,3.9,4.8,4.5,4.6,5.0,4.6,4.4,4.6,4.6,4.6,3.8,4.1,5.0,5.0,4.6,4.4,4.5,3.7,4.8,4.1,4.3,4.4,4.4,4.5,4.0,4.4,4.7,3.8,4.4,4.3,4.5,4.5,4.7,4.2,3.9,4.0,4.6,4.4,4.2,4.3,4.4,3.9,4.5,4.4,4.3,4.6,5.0,4.3,4.5,4.5,4.7,4.7,3.8,4.6,4.0,4.7,5.0,4.2,4.7,4.3,4.2,4.6,4.7,4.5,4.5,4.5,4.2,4.4,5.0,4.7,4.8,4.8,4.4,4.6,4.5,4.2,4.5,4.7,4.1,4.5,4.6,4.7,4.5,4.5,4.6,4.7,4.5,4.5,4.3,4.8,4.3,4.4,3.6,5.0,4.4,4.3,4.3,4.1,4.5,3.8,3.8,4.4,4.4,4.4,4.4,4.5,4.6],\"xaxis\":\"x\",\"y\":[1686.0,386.0,1330.0,55.0,172.0,264.0,4.0,274.0,2568.0,509.0,102.0,13.0,38.0,26.0,57.0,76.0,16.0,2.0,297.0,60.0,2672.0,21.0,3.0,108.0,9.0,10.0,39.0,318.0,1.0,292.0,51.0,33.0,78.0,16.0,6.0,196.0,105.0,13.0,50.0,22.0,274.0,29.0,386.0,5.0,273.0,3.0,5.0,3.0,18.0,44.0,194.0,334.0,16.0,70.0,736.0,205.0,3.0,2.0,8.0,1.0,89.0,92.0,162.0,34.0,115.0,243.0,259.0,491.0,249.0,363.0,406.0,1.0,61.0,1.0,442.0,23.0,4228.0,1.0,30.0,1.0,297.0,3.0,1.0,126.0,12.0,579.0,932.0,12.0,5.0,236.0,326.0,59.0,28.0,6.0,146.0,93.0,25.0,336.0,210.0,8.0,64.0,48.0,141.0,905.0,159.0,120.0,185.0,14.0,1.0,48.0,268.0,12.0,406.0,66.0,12.0,303.0,87.0,2.0,6.0,238.0,84.0,53.0,1.0,2.0,132.0,1068.0,65.0,279.0,149.0,18.0,315.0,505.0,145.0,16.0,7.0,33.0,178.0,121.0,15.0,101.0,78.0,30.0,109.0,20.0,37.0,3.0,145.0,95.0,61.0,501.0,49.0,12.0,44.0,4.0,2.0,67.0,70.0,163.0,24.0,13.0,64.0,3142.0,114.0,23.0,55.0,31.0,180.0,1386.0,17.0,43.0,688.0,213.0,92.0,30.0,39.0,8.0,38.0,606.0,135.0,20.0,74.0,184.0,21.0,1291.0,111.0,62.0,123.0,4.0,15.0,28.0,88.0,96.0,363.0,14.0,146.0,187.0,323.0,16.0,162.0,157.0,324.0,20.0,106.0,49.0,591.0,22.0,372.0,80.0,41.0,1.0,93.0,169.0,414.0,62.0,1512.0,845.0,12.0,61.0,5.0,12.0,150.0,390.0,197.0,1724.0,1724.0,1505.0,7767.0,145.0,36.0,87.0,24.0,54.0,29.0,7.0,10.0,98.0,68.0,39.0,62.0,4.0,14.0,11.0,59.0,25.0,8.0,28.0,2.0,164.0],\"yaxis\":\"y\",\"type\":\"scatter\"}],                        {\"template\":{\"data\":{\"histogram2dcontour\":[{\"type\":\"histogram2dcontour\",\"colorbar\":{\"outlinewidth\":0,\"ticks\":\"\"},\"colorscale\":[[0.0,\"#0d0887\"],[0.1111111111111111,\"#46039f\"],[0.2222222222222222,\"#7201a8\"],[0.3333333333333333,\"#9c179e\"],[0.4444444444444444,\"#bd3786\"],[0.5555555555555556,\"#d8576b\"],[0.6666666666666666,\"#ed7953\"],[0.7777777777777778,\"#fb9f3a\"],[0.8888888888888888,\"#fdca26\"],[1.0,\"#f0f921\"]]}],\"choropleth\":[{\"type\":\"choropleth\",\"colorbar\":{\"outlinewidth\":0,\"ticks\":\"\"}}],\"histogram2d\":[{\"type\":\"histogram2d\",\"colorbar\":{\"outlinewidth\":0,\"ticks\":\"\"},\"colorscale\":[[0.0,\"#0d0887\"],[0.1111111111111111,\"#46039f\"],[0.2222222222222222,\"#7201a8\"],[0.3333333333333333,\"#9c179e\"],[0.4444444444444444,\"#bd3786\"],[0.5555555555555556,\"#d8576b\"],[0.6666666666666666,\"#ed7953\"],[0.7777777777777778,\"#fb9f3a\"],[0.8888888888888888,\"#fdca26\"],[1.0,\"#f0f921\"]]}],\"heatmap\":[{\"type\":\"heatmap\",\"colorbar\":{\"outlinewidth\":0,\"ticks\":\"\"},\"colorscale\":[[0.0,\"#0d0887\"],[0.1111111111111111,\"#46039f\"],[0.2222222222222222,\"#7201a8\"],[0.3333333333333333,\"#9c179e\"],[0.4444444444444444,\"#bd3786\"],[0.5555555555555556,\"#d8576b\"],[0.6666666666666666,\"#ed7953\"],[0.7777777777777778,\"#fb9f3a\"],[0.8888888888888888,\"#fdca26\"],[1.0,\"#f0f921\"]]}],\"heatmapgl\":[{\"type\":\"heatmapgl\",\"colorbar\":{\"outlinewidth\":0,\"ticks\":\"\"},\"colorscale\":[[0.0,\"#0d0887\"],[0.1111111111111111,\"#46039f\"],[0.2222222222222222,\"#7201a8\"],[0.3333333333333333,\"#9c179e\"],[0.4444444444444444,\"#bd3786\"],[0.5555555555555556,\"#d8576b\"],[0.6666666666666666,\"#ed7953\"],[0.7777777777777778,\"#fb9f3a\"],[0.8888888888888888,\"#fdca26\"],[1.0,\"#f0f921\"]]}],\"contourcarpet\":[{\"type\":\"contourcarpet\",\"colorbar\":{\"outlinewidth\":0,\"ticks\":\"\"}}],\"contour\":[{\"type\":\"contour\",\"colorbar\":{\"outlinewidth\":0,\"ticks\":\"\"},\"colorscale\":[[0.0,\"#0d0887\"],[0.1111111111111111,\"#46039f\"],[0.2222222222222222,\"#7201a8\"],[0.3333333333333333,\"#9c179e\"],[0.4444444444444444,\"#bd3786\"],[0.5555555555555556,\"#d8576b\"],[0.6666666666666666,\"#ed7953\"],[0.7777777777777778,\"#fb9f3a\"],[0.8888888888888888,\"#fdca26\"],[1.0,\"#f0f921\"]]}],\"surface\":[{\"type\":\"surface\",\"colorbar\":{\"outlinewidth\":0,\"ticks\":\"\"},\"colorscale\":[[0.0,\"#0d0887\"],[0.1111111111111111,\"#46039f\"],[0.2222222222222222,\"#7201a8\"],[0.3333333333333333,\"#9c179e\"],[0.4444444444444444,\"#bd3786\"],[0.5555555555555556,\"#d8576b\"],[0.6666666666666666,\"#ed7953\"],[0.7777777777777778,\"#fb9f3a\"],[0.8888888888888888,\"#fdca26\"],[1.0,\"#f0f921\"]]}],\"mesh3d\":[{\"type\":\"mesh3d\",\"colorbar\":{\"outlinewidth\":0,\"ticks\":\"\"}}],\"scatter\":[{\"fillpattern\":{\"fillmode\":\"overlay\",\"size\":10,\"solidity\":0.2},\"type\":\"scatter\"}],\"parcoords\":[{\"type\":\"parcoords\",\"line\":{\"colorbar\":{\"outlinewidth\":0,\"ticks\":\"\"}}}],\"scatterpolargl\":[{\"type\":\"scatterpolargl\",\"marker\":{\"colorbar\":{\"outlinewidth\":0,\"ticks\":\"\"}}}],\"bar\":[{\"error_x\":{\"color\":\"#2a3f5f\"},\"error_y\":{\"color\":\"#2a3f5f\"},\"marker\":{\"line\":{\"color\":\"#E5ECF6\",\"width\":0.5},\"pattern\":{\"fillmode\":\"overlay\",\"size\":10,\"solidity\":0.2}},\"type\":\"bar\"}],\"scattergeo\":[{\"type\":\"scattergeo\",\"marker\":{\"colorbar\":{\"outlinewidth\":0,\"ticks\":\"\"}}}],\"scatterpolar\":[{\"type\":\"scatterpolar\",\"marker\":{\"colorbar\":{\"outlinewidth\":0,\"ticks\":\"\"}}}],\"histogram\":[{\"marker\":{\"pattern\":{\"fillmode\":\"overlay\",\"size\":10,\"solidity\":0.2}},\"type\":\"histogram\"}],\"scattergl\":[{\"type\":\"scattergl\",\"marker\":{\"colorbar\":{\"outlinewidth\":0,\"ticks\":\"\"}}}],\"scatter3d\":[{\"type\":\"scatter3d\",\"line\":{\"colorbar\":{\"outlinewidth\":0,\"ticks\":\"\"}},\"marker\":{\"colorbar\":{\"outlinewidth\":0,\"ticks\":\"\"}}}],\"scattermapbox\":[{\"type\":\"scattermapbox\",\"marker\":{\"colorbar\":{\"outlinewidth\":0,\"ticks\":\"\"}}}],\"scatterternary\":[{\"type\":\"scatterternary\",\"marker\":{\"colorbar\":{\"outlinewidth\":0,\"ticks\":\"\"}}}],\"scattercarpet\":[{\"type\":\"scattercarpet\",\"marker\":{\"colorbar\":{\"outlinewidth\":0,\"ticks\":\"\"}}}],\"carpet\":[{\"aaxis\":{\"endlinecolor\":\"#2a3f5f\",\"gridcolor\":\"white\",\"linecolor\":\"white\",\"minorgridcolor\":\"white\",\"startlinecolor\":\"#2a3f5f\"},\"baxis\":{\"endlinecolor\":\"#2a3f5f\",\"gridcolor\":\"white\",\"linecolor\":\"white\",\"minorgridcolor\":\"white\",\"startlinecolor\":\"#2a3f5f\"},\"type\":\"carpet\"}],\"table\":[{\"cells\":{\"fill\":{\"color\":\"#EBF0F8\"},\"line\":{\"color\":\"white\"}},\"header\":{\"fill\":{\"color\":\"#C8D4E3\"},\"line\":{\"color\":\"white\"}},\"type\":\"table\"}],\"barpolar\":[{\"marker\":{\"line\":{\"color\":\"#E5ECF6\",\"width\":0.5},\"pattern\":{\"fillmode\":\"overlay\",\"size\":10,\"solidity\":0.2}},\"type\":\"barpolar\"}],\"pie\":[{\"automargin\":true,\"type\":\"pie\"}]},\"layout\":{\"autotypenumbers\":\"strict\",\"colorway\":[\"#636efa\",\"#EF553B\",\"#00cc96\",\"#ab63fa\",\"#FFA15A\",\"#19d3f3\",\"#FF6692\",\"#B6E880\",\"#FF97FF\",\"#FECB52\"],\"font\":{\"color\":\"#2a3f5f\"},\"hovermode\":\"closest\",\"hoverlabel\":{\"align\":\"left\"},\"paper_bgcolor\":\"white\",\"plot_bgcolor\":\"#E5ECF6\",\"polar\":{\"bgcolor\":\"#E5ECF6\",\"angularaxis\":{\"gridcolor\":\"white\",\"linecolor\":\"white\",\"ticks\":\"\"},\"radialaxis\":{\"gridcolor\":\"white\",\"linecolor\":\"white\",\"ticks\":\"\"}},\"ternary\":{\"bgcolor\":\"#E5ECF6\",\"aaxis\":{\"gridcolor\":\"white\",\"linecolor\":\"white\",\"ticks\":\"\"},\"baxis\":{\"gridcolor\":\"white\",\"linecolor\":\"white\",\"ticks\":\"\"},\"caxis\":{\"gridcolor\":\"white\",\"linecolor\":\"white\",\"ticks\":\"\"}},\"coloraxis\":{\"colorbar\":{\"outlinewidth\":0,\"ticks\":\"\"}},\"colorscale\":{\"sequential\":[[0.0,\"#0d0887\"],[0.1111111111111111,\"#46039f\"],[0.2222222222222222,\"#7201a8\"],[0.3333333333333333,\"#9c179e\"],[0.4444444444444444,\"#bd3786\"],[0.5555555555555556,\"#d8576b\"],[0.6666666666666666,\"#ed7953\"],[0.7777777777777778,\"#fb9f3a\"],[0.8888888888888888,\"#fdca26\"],[1.0,\"#f0f921\"]],\"sequentialminus\":[[0.0,\"#0d0887\"],[0.1111111111111111,\"#46039f\"],[0.2222222222222222,\"#7201a8\"],[0.3333333333333333,\"#9c179e\"],[0.4444444444444444,\"#bd3786\"],[0.5555555555555556,\"#d8576b\"],[0.6666666666666666,\"#ed7953\"],[0.7777777777777778,\"#fb9f3a\"],[0.8888888888888888,\"#fdca26\"],[1.0,\"#f0f921\"]],\"diverging\":[[0,\"#8e0152\"],[0.1,\"#c51b7d\"],[0.2,\"#de77ae\"],[0.3,\"#f1b6da\"],[0.4,\"#fde0ef\"],[0.5,\"#f7f7f7\"],[0.6,\"#e6f5d0\"],[0.7,\"#b8e186\"],[0.8,\"#7fbc41\"],[0.9,\"#4d9221\"],[1,\"#276419\"]]},\"xaxis\":{\"gridcolor\":\"white\",\"linecolor\":\"white\",\"ticks\":\"\",\"title\":{\"standoff\":15},\"zerolinecolor\":\"white\",\"automargin\":true,\"zerolinewidth\":2},\"yaxis\":{\"gridcolor\":\"white\",\"linecolor\":\"white\",\"ticks\":\"\",\"title\":{\"standoff\":15},\"zerolinecolor\":\"white\",\"automargin\":true,\"zerolinewidth\":2},\"scene\":{\"xaxis\":{\"backgroundcolor\":\"#E5ECF6\",\"gridcolor\":\"white\",\"linecolor\":\"white\",\"showbackground\":true,\"ticks\":\"\",\"zerolinecolor\":\"white\",\"gridwidth\":2},\"yaxis\":{\"backgroundcolor\":\"#E5ECF6\",\"gridcolor\":\"white\",\"linecolor\":\"white\",\"showbackground\":true,\"ticks\":\"\",\"zerolinecolor\":\"white\",\"gridwidth\":2},\"zaxis\":{\"backgroundcolor\":\"#E5ECF6\",\"gridcolor\":\"white\",\"linecolor\":\"white\",\"showbackground\":true,\"ticks\":\"\",\"zerolinecolor\":\"white\",\"gridwidth\":2}},\"shapedefaults\":{\"line\":{\"color\":\"#2a3f5f\"}},\"annotationdefaults\":{\"arrowcolor\":\"#2a3f5f\",\"arrowhead\":0,\"arrowwidth\":1},\"geo\":{\"bgcolor\":\"white\",\"landcolor\":\"#E5ECF6\",\"subunitcolor\":\"white\",\"showland\":true,\"showlakes\":true,\"lakecolor\":\"white\"},\"title\":{\"x\":0.05},\"mapbox\":{\"style\":\"light\"}}},\"xaxis\":{\"anchor\":\"y\",\"domain\":[0.0,1.0],\"title\":{\"text\":\"avg_reviews\"},\"range\":[0,5.5]},\"yaxis\":{\"anchor\":\"x\",\"domain\":[0.0,1.0],\"title\":{\"text\":\"n_reviews\"}},\"coloraxis\":{\"colorbar\":{\"title\":{\"text\":\"price\"}},\"colorscale\":[[0.0,\"#0d0887\"],[0.1111111111111111,\"#46039f\"],[0.2222222222222222,\"#7201a8\"],[0.3333333333333333,\"#9c179e\"],[0.4444444444444444,\"#bd3786\"],[0.5555555555555556,\"#d8576b\"],[0.6666666666666666,\"#ed7953\"],[0.7777777777777778,\"#fb9f3a\"],[0.8888888888888888,\"#fdca26\"],[1.0,\"#f0f921\"]]},\"legend\":{\"tracegroupgap\":0,\"itemsizing\":\"constant\"},\"title\":{\"text\":\"Reviews of Python's Books\"}},                        {\"responsive\": true}                    ).then(function(){\n",
       "                            \n",
       "var gd = document.getElementById('11034b19-56a0-4c29-827b-072645801334');\n",
       "var x = new MutationObserver(function (mutations, observer) {{\n",
       "        var display = window.getComputedStyle(gd).display;\n",
       "        if (!display || display === 'none') {{\n",
       "            console.log([gd, 'removed!']);\n",
       "            Plotly.purge(gd);\n",
       "            observer.disconnect();\n",
       "        }}\n",
       "}});\n",
       "\n",
       "// Listen for the removal of the full notebook cells\n",
       "var notebookContainer = gd.closest('#notebook-container');\n",
       "if (notebookContainer) {{\n",
       "    x.observe(notebookContainer, {childList: true});\n",
       "}}\n",
       "\n",
       "// Listen for the clearing of the current output cell\n",
       "var outputEl = gd.closest('.output');\n",
       "if (outputEl) {{\n",
       "    x.observe(outputEl, {childList: true});\n",
       "}}\n",
       "\n",
       "                        })                };                });            </script>        </div>"
      ]
     },
     "metadata": {},
     "output_type": "display_data"
    }
   ],
   "source": [
    "fig = px.scatter(df_python_book, x=\"avg_reviews\", y=\"n_reviews\", color='price', \n",
    "                 size='price', title=\"Reviews of Python's Books\", range_x=[0,5.5], hover_name=\"title\")\n",
    "fig.show()"
   ]
  },
  {
   "cell_type": "markdown",
   "id": "38c1f0c0",
   "metadata": {},
   "source": [
    "### Best Machine Learning Books"
   ]
  },
  {
   "cell_type": "code",
   "execution_count": 293,
   "id": "a581d4ac",
   "metadata": {
    "collapsed": true
   },
   "outputs": [
    {
     "name": "stdout",
     "output_type": "stream",
     "text": [
      "<class 'pandas.core.frame.DataFrame'>\n",
      "Int64Index: 64 entries, 19 to 829\n",
      "Data columns (total 18 columns):\n",
      " #   Column         Non-Null Count  Dtype  \n",
      "---  ------         --------------  -----  \n",
      " 0   title          64 non-null     object \n",
      " 1   author         50 non-null     object \n",
      " 2   price          64 non-null     float64\n",
      " 3   pages          64 non-null     float64\n",
      " 4   avg_reviews    64 non-null     float64\n",
      " 5   n_reviews      64 non-null     float64\n",
      " 6   star5          64 non-null     object \n",
      " 7   star4          57 non-null     object \n",
      " 8   star3          50 non-null     object \n",
      " 9   star2          37 non-null     object \n",
      " 10  star1          31 non-null     object \n",
      " 11  weight         58 non-null     object \n",
      " 12  language       64 non-null     object \n",
      " 13  publisher      61 non-null     object \n",
      " 14  ISBN_13        60 non-null     object \n",
      " 15  link           64 non-null     object \n",
      " 16  complete_link  64 non-null     object \n",
      " 17  type           64 non-null     object \n",
      "dtypes: float64(4), object(14)\n",
      "memory usage: 9.5+ KB\n"
     ]
    }
   ],
   "source": [
    "df_ML_book = df[df['title'].str.contains(\"machine learning\")]\n",
    "df_ML_book.info()"
   ]
  },
  {
   "cell_type": "code",
   "execution_count": 399,
   "id": "5fee8c70",
   "metadata": {
    "scrolled": true
   },
   "outputs": [
    {
     "data": {
      "text/html": [
       "<div>\n",
       "<style scoped>\n",
       "    .dataframe tbody tr th:only-of-type {\n",
       "        vertical-align: middle;\n",
       "    }\n",
       "\n",
       "    .dataframe tbody tr th {\n",
       "        vertical-align: top;\n",
       "    }\n",
       "\n",
       "    .dataframe thead th {\n",
       "        text-align: right;\n",
       "    }\n",
       "</style>\n",
       "<table border=\"1\" class=\"dataframe\">\n",
       "  <thead>\n",
       "    <tr style=\"text-align: right;\">\n",
       "      <th></th>\n",
       "      <th>title</th>\n",
       "      <th>author</th>\n",
       "      <th>price</th>\n",
       "      <th>avg_reviews</th>\n",
       "      <th>n_reviews</th>\n",
       "      <th>type</th>\n",
       "    </tr>\n",
       "  </thead>\n",
       "  <tbody>\n",
       "    <tr>\n",
       "      <th>478</th>\n",
       "      <td>hands-on machine learning with scikit-learn, k...</td>\n",
       "      <td>[ Aurélien Géron]</td>\n",
       "      <td>57.49</td>\n",
       "      <td>4.8</td>\n",
       "      <td>3129.0</td>\n",
       "      <td>Paper</td>\n",
       "    </tr>\n",
       "    <tr>\n",
       "      <th>717</th>\n",
       "      <td>the hundred-page machine learning book</td>\n",
       "      <td>[ Andriy Burkov]</td>\n",
       "      <td>31.99</td>\n",
       "      <td>4.6</td>\n",
       "      <td>839.0</td>\n",
       "      <td>Paper</td>\n",
       "    </tr>\n",
       "    <tr>\n",
       "      <th>720</th>\n",
       "      <td>pattern recognition and machine learning (info...</td>\n",
       "      <td>[ Christopher M. Bishop]</td>\n",
       "      <td>105.22</td>\n",
       "      <td>4.6</td>\n",
       "      <td>687.0</td>\n",
       "      <td>Paper</td>\n",
       "    </tr>\n",
       "    <tr>\n",
       "      <th>678</th>\n",
       "      <td>mathematics for machine learning</td>\n",
       "      <td>NaN</td>\n",
       "      <td>48.99</td>\n",
       "      <td>4.7</td>\n",
       "      <td>608.0</td>\n",
       "      <td>Paper</td>\n",
       "    </tr>\n",
       "    <tr>\n",
       "      <th>591</th>\n",
       "      <td>introduction to machine learning with python: ...</td>\n",
       "      <td>NaN</td>\n",
       "      <td>49.35</td>\n",
       "      <td>4.5</td>\n",
       "      <td>591.0</td>\n",
       "      <td>Paper</td>\n",
       "    </tr>\n",
       "    <tr>\n",
       "      <th>241</th>\n",
       "      <td>python: learn coding programs with python prog...</td>\n",
       "      <td>[ TechExp Academy]</td>\n",
       "      <td>24.90</td>\n",
       "      <td>4.1</td>\n",
       "      <td>273.0</td>\n",
       "      <td>Paper</td>\n",
       "    </tr>\n",
       "    <tr>\n",
       "      <th>726</th>\n",
       "      <td>machine learning design patterns: solutions to...</td>\n",
       "      <td>[ Valliappa Lakshmanan, Sara Robinson, et al.]</td>\n",
       "      <td>36.99</td>\n",
       "      <td>4.6</td>\n",
       "      <td>263.0</td>\n",
       "      <td>Paper</td>\n",
       "    </tr>\n",
       "    <tr>\n",
       "      <th>807</th>\n",
       "      <td>machine learning with r: expert techniques for...</td>\n",
       "      <td>[ Brett Lantz]</td>\n",
       "      <td>37.99</td>\n",
       "      <td>4.6</td>\n",
       "      <td>237.0</td>\n",
       "      <td>Paper</td>\n",
       "    </tr>\n",
       "    <tr>\n",
       "      <th>498</th>\n",
       "      <td>becoming a data head: how to think, speak and ...</td>\n",
       "      <td>[ Alex J. Gutman,  and , Jordan Goldmeier]</td>\n",
       "      <td>24.49</td>\n",
       "      <td>4.6</td>\n",
       "      <td>209.0</td>\n",
       "      <td>Paper</td>\n",
       "    </tr>\n",
       "    <tr>\n",
       "      <th>643</th>\n",
       "      <td>designing machine learning systems: an iterati...</td>\n",
       "      <td>[ Chip Huyen]</td>\n",
       "      <td>32.23</td>\n",
       "      <td>4.7</td>\n",
       "      <td>186.0</td>\n",
       "      <td>Paper</td>\n",
       "    </tr>\n",
       "  </tbody>\n",
       "</table>\n",
       "</div>"
      ],
      "text/plain": [
       "                                                 title  \\\n",
       "478  hands-on machine learning with scikit-learn, k...   \n",
       "717             the hundred-page machine learning book   \n",
       "720  pattern recognition and machine learning (info...   \n",
       "678                   mathematics for machine learning   \n",
       "591  introduction to machine learning with python: ...   \n",
       "241  python: learn coding programs with python prog...   \n",
       "726  machine learning design patterns: solutions to...   \n",
       "807  machine learning with r: expert techniques for...   \n",
       "498  becoming a data head: how to think, speak and ...   \n",
       "643  designing machine learning systems: an iterati...   \n",
       "\n",
       "                                             author   price  avg_reviews  \\\n",
       "478                               [ Aurélien Géron]   57.49          4.8   \n",
       "717                                [ Andriy Burkov]   31.99          4.6   \n",
       "720                        [ Christopher M. Bishop]  105.22          4.6   \n",
       "678                                             NaN   48.99          4.7   \n",
       "591                                             NaN   49.35          4.5   \n",
       "241                              [ TechExp Academy]   24.90          4.1   \n",
       "726  [ Valliappa Lakshmanan, Sara Robinson, et al.]   36.99          4.6   \n",
       "807                                  [ Brett Lantz]   37.99          4.6   \n",
       "498      [ Alex J. Gutman,  and , Jordan Goldmeier]   24.49          4.6   \n",
       "643                                   [ Chip Huyen]   32.23          4.7   \n",
       "\n",
       "     n_reviews   type  \n",
       "478     3129.0  Paper  \n",
       "717      839.0  Paper  \n",
       "720      687.0  Paper  \n",
       "678      608.0  Paper  \n",
       "591      591.0  Paper  \n",
       "241      273.0  Paper  \n",
       "726      263.0  Paper  \n",
       "807      237.0  Paper  \n",
       "498      209.0  Paper  \n",
       "643      186.0  Paper  "
      ]
     },
     "execution_count": 399,
     "metadata": {},
     "output_type": "execute_result"
    }
   ],
   "source": [
    "best_ML_book = df_ML_book.nlargest(10, [\"n_reviews\", \"avg_reviews\"])\n",
    "best_ML_book[[\"title\", \"author\",\"price\", \"avg_reviews\", \"n_reviews\", \"type\"]]"
   ]
  },
  {
   "cell_type": "code",
   "execution_count": 427,
   "id": "1406fd75",
   "metadata": {},
   "outputs": [
    {
     "data": {
      "application/vnd.plotly.v1+json": {
       "config": {
        "plotlyServerURL": "https://plot.ly"
       },
       "data": [
        {
         "hovertemplate": "<b>%{hovertext}</b><br><br>avg_reviews=%{x}<br>n_reviews=%{y}<br>price=%{marker.color}<extra></extra>",
         "hovertext": [
          "quantum machine learning and optimisation in finance: on the road to quantum advantage",
          "applied text analysis with python: enabling language-aware data products with machine learning",
          "machine learning explained the simple way: a beginners guide to learning python for data science, machine learning and ace your data science interview with little coding experience.",
          "supervised machine learning for text analysis in r (chapman & hall/crc data science series)",
          "python: 3 books in 1- your complete guide to python programming with python for beginners, python data analysis and python machine learning (programming languages for beginners)",
          "introduction to machine learning with r: rigorous mathematical analysis",
          "machine learning: a first course for engineers and scientists",
          "machine learning bookcamp: build a portfolio of real-life projects",
          "practical discrete mathematics: discover math principles that fuel algorithms for computer science and machine learning with python",
          "python for data analysis: learn the principles of data analysis and raise your programming iq. improve your machine learning experience and become a skilled programmer by learning 10+ coding secrets",
          "deep learning: a comprehensive guide to python coding and programming machine learning and neural networks for data analysis (python programming deep learning)",
          "big data analysis with python: combine spark and python to unlock the powers of parallel computing and machine learning",
          "python: learn coding programs with python programming and master data analysis & analytics, data science and machine learning with the complete crash course for beginners - 5 manuscripts in 1 book",
          "introduction to python in earth science data analysis: from descriptive statistics to machine learning (springer textbooks in earth sciences, geography and environment)",
          "the kaggle book: data analysis and machine learning for competitive data science",
          "practical time series analysis: prediction with statistics and machine learning",
          "machine learning for financial risk management with python: algorithms for modeling risk",
          "python feature engineering cookbook: over 70 recipes for creating, engineering, and transforming features to build machine learning models, 2nd edition",
          "modern time series forecasting with python: explore industry-ready time series forecasting using modern machine learning and deep learning",
          "math for programmers: 3d graphics, machine learning, and simulations with python",
          "hands-on machine learning with scikit-learn, keras, and tensorflow: concepts, tools, and techniques to build intelligent systems",
          "machine learning with python cookbook: practical solutions from preprocessing to deep learning",
          "becoming a data head: how to think, speak and understand data science, statistics and machine learning",
          "machine learning with python for everyone (addison-wesley data & analytics series)",
          "python crash course: a practical beginner's guide to learn python in 7 days or less, introducing you into the world of data science, artificial intelligence and machine learning, with hands-on project",
          "applied machine learning and ai for engineers: solve business problems that can't be solved algorithmically",
          "python: this book includes: learn how to develop programs and apps in 7 days with python programming and start deep hands-on learning for beginners of data science and machine learning.",
          "hands-on gradient boosting with xgboost and scikit-learn: perform accessible machine learning and extreme gradient boosting with python",
          "python: 2 books in 1 : learn python programming for beginners and machine learning",
          "introduction to machine learning with python: a guide for data scientists",
          "learn python: this book includes: crash course and coding. a guide to master python, data science and analysis. advanced methods to learn how to create codes with this machine learning tool",
          "the python bible 7 in 1: volumes one to seven (beginner, intermediate, data science, machine learning, finance, neural networks, computer vision)",
          "learning opencv 4 computer vision with python 3: get to grips with tools, techniques, and algorithms for computer vision and machine learning, 3rd edition",
          "data-driven science and engineering: machine learning, dynamical systems, and control",
          "designing machine learning systems: an iterative process for production-ready applications",
          "data science on aws: implementing end-to-end, continuous ai and machine learning pipelines",
          "machine learning with quantum computers (quantum science and technology)",
          "machine learning and data science blueprints for finance: from building trading strategies to robo-advisors using python",
          "data science on the google cloud platform: implementing end-to-end real-time data pipelines: from ingest to machine learning",
          "text as data: a new framework for machine learning and the social sciences",
          "data science and machine learning: mathematical and statistical methods (chapman & hall/crc machine learning & pattern recognition)",
          "mathematics for machine learning",
          "building data science applications with fastapi: develop, manage, and deploy efficient machine learning applications with python",
          "quantum machine learning: an applied approach: the theory and application of quantum machine learning in science and industry",
          "the data science workshop: learn how you can build machine learning models and create your own real-world data science projects, 2nd edition",
          "data science crash course for beginners with python: fundamentals and practices with python (machine learning & data science for beginners)",
          "azure data scientist associate certification guide: a hands-on guide to machine learning in azure and passing the microsoft certified dp-100 exam",
          "the hundred-page machine learning book",
          "pattern recognition and machine learning (information science and statistics)",
          "introducing data science: big data, machine learning, and more, using python tools",
          "machine learning design patterns: solutions to common challenges in data preparation, model building, and mlops",
          "hands-on data science for marketing: improve your marketing strategies with machine learning using python and r",
          "data visualization with python for beginners: visualize your data using pandas, matplotlib and seaborn (machine learning & data science for beginners)",
          "python machine learning for beginners: learning from scratch numpy, pandas, matplotlib, seaborn, scikitlearn, and tensorflow for machine learning and ... learning & data science for beginners)",
          "machine learning design interview: machine learning system design interview",
          "the machine learning solutions architect handbook: create machine learning platforms to run solutions in an enterprise setting",
          "the handbook of data science and ai: generate value from data with machine learning and data analytics",
          "google bigquery: the definitive guide: data warehousing, analytics, and machine learning at scale",
          "automated machine learning in action",
          "machine learning with r: expert techniques for predictive modeling, 3rd edition",
          "data science for beginners: 4 books in 1: python programming, data analysis, machine learning. a complete overview to master the art of data science ... python for business (data science mastery)",
          "machine learning with pytorch and scikit-learn: develop machine learning and deep learning models with python",
          "machine learning in finance: from theory to practice",
          "ai and machine learning for coders: a programmer's guide to artificial intelligence"
         ],
         "legendgroup": "",
         "marker": {
          "color": [
           49.99,
           44.99,
           11.97,
           43.52,
           24.95,
           40.49,
           69.99,
           35.99,
           62.99,
           33.99,
           4.97,
           13.29,
           24.9,
           48.15,
           46.99,
           51.99,
           49.99,
           61.24,
           44.99,
           40.84,
           57.49,
           49.18,
           24.49,
           49.99,
           14.99,
           62.99,
           24.38,
           41.99,
           24.9,
           49.35,
           18.99,
           39.99,
           36.99,
           64.99,
           32.23,
           31.99,
           101.24,
           44.49,
           50.99,
           35.99,
           80,
           48.99,
           31.49,
           49.48,
           17.84,
           23.48,
           53.64,
           31.99,
           105.22,
           42.74,
           36.99,
           45.89,
           19.99,
           25.19,
           39.99,
           54.99,
           42.49,
           29.99,
           44.99,
           37.99,
           25.62,
           39.02,
           55.18,
           38.49
          ],
          "coloraxis": "coloraxis",
          "size": [
           49.99,
           44.99,
           11.97,
           43.52,
           24.95,
           40.49,
           69.99,
           35.99,
           62.99,
           33.99,
           4.97,
           13.29,
           24.9,
           48.15,
           46.99,
           51.99,
           49.99,
           61.24,
           44.99,
           40.84,
           57.49,
           49.18,
           24.49,
           49.99,
           14.99,
           62.99,
           24.38,
           41.99,
           24.9,
           49.35,
           18.99,
           39.99,
           36.99,
           64.99,
           32.23,
           31.99,
           101.24,
           44.49,
           50.99,
           35.99,
           80,
           48.99,
           31.49,
           49.48,
           17.84,
           23.48,
           53.64,
           31.99,
           105.22,
           42.74,
           36.99,
           45.89,
           19.99,
           25.19,
           39.99,
           54.99,
           42.49,
           29.99,
           44.99,
           37.99,
           25.62,
           39.02,
           55.18,
           38.49
          ],
          "sizemode": "area",
          "sizeref": 0.26305,
          "symbol": "circle"
         },
         "mode": "markers",
         "name": "",
         "orientation": "v",
         "showlegend": false,
         "type": "scatter",
         "x": [
          4.9,
          4.4,
          5,
          4.5,
          4.6,
          4.1,
          5,
          4.5,
          4.3,
          1,
          4.7,
          3.7,
          4.1,
          4.6,
          4.4,
          4.1,
          3.8,
          5,
          5,
          4.5,
          4.8,
          4.5,
          4.6,
          4.6,
          3.8,
          5,
          4.1,
          4.7,
          3.8,
          4.5,
          4.8,
          4.5,
          4.3,
          4.8,
          4.7,
          4.4,
          4.6,
          4.3,
          4.8,
          4.7,
          4.8,
          4.7,
          4.4,
          4.1,
          4.6,
          5,
          4.4,
          4.6,
          4.6,
          4.4,
          4.6,
          4.3,
          4.1,
          4.4,
          3.4,
          4.6,
          4.6,
          4.5,
          4.5,
          4.6,
          4.5,
          4.6,
          4.5,
          4.7
         ],
         "xaxis": "x",
         "y": [
          14,
          76,
          21,
          12,
          108,
          21,
          4,
          14,
          39,
          1,
          22,
          5,
          273,
          3,
          87,
          125,
          8,
          1,
          2,
          65,
          3129,
          178,
          209,
          37,
          12,
          1,
          64,
          30,
          14,
          591,
          169,
          150,
          87,
          33,
          186,
          159,
          7,
          54,
          16,
          24,
          37,
          608,
          29,
          10,
          12,
          10,
          17,
          839,
          687,
          98,
          263,
          68,
          62,
          59,
          69,
          41,
          11,
          105,
          4,
          237,
          2,
          164,
          93,
          142
         ],
         "yaxis": "y"
        }
       ],
       "layout": {
        "coloraxis": {
         "colorbar": {
          "title": {
           "text": "price"
          }
         },
         "colorscale": [
          [
           0,
           "#0d0887"
          ],
          [
           0.1111111111111111,
           "#46039f"
          ],
          [
           0.2222222222222222,
           "#7201a8"
          ],
          [
           0.3333333333333333,
           "#9c179e"
          ],
          [
           0.4444444444444444,
           "#bd3786"
          ],
          [
           0.5555555555555556,
           "#d8576b"
          ],
          [
           0.6666666666666666,
           "#ed7953"
          ],
          [
           0.7777777777777778,
           "#fb9f3a"
          ],
          [
           0.8888888888888888,
           "#fdca26"
          ],
          [
           1,
           "#f0f921"
          ]
         ]
        },
        "legend": {
         "itemsizing": "constant",
         "tracegroupgap": 0
        },
        "template": {
         "data": {
          "bar": [
           {
            "error_x": {
             "color": "#2a3f5f"
            },
            "error_y": {
             "color": "#2a3f5f"
            },
            "marker": {
             "line": {
              "color": "#E5ECF6",
              "width": 0.5
             },
             "pattern": {
              "fillmode": "overlay",
              "size": 10,
              "solidity": 0.2
             }
            },
            "type": "bar"
           }
          ],
          "barpolar": [
           {
            "marker": {
             "line": {
              "color": "#E5ECF6",
              "width": 0.5
             },
             "pattern": {
              "fillmode": "overlay",
              "size": 10,
              "solidity": 0.2
             }
            },
            "type": "barpolar"
           }
          ],
          "carpet": [
           {
            "aaxis": {
             "endlinecolor": "#2a3f5f",
             "gridcolor": "white",
             "linecolor": "white",
             "minorgridcolor": "white",
             "startlinecolor": "#2a3f5f"
            },
            "baxis": {
             "endlinecolor": "#2a3f5f",
             "gridcolor": "white",
             "linecolor": "white",
             "minorgridcolor": "white",
             "startlinecolor": "#2a3f5f"
            },
            "type": "carpet"
           }
          ],
          "choropleth": [
           {
            "colorbar": {
             "outlinewidth": 0,
             "ticks": ""
            },
            "type": "choropleth"
           }
          ],
          "contour": [
           {
            "colorbar": {
             "outlinewidth": 0,
             "ticks": ""
            },
            "colorscale": [
             [
              0,
              "#0d0887"
             ],
             [
              0.1111111111111111,
              "#46039f"
             ],
             [
              0.2222222222222222,
              "#7201a8"
             ],
             [
              0.3333333333333333,
              "#9c179e"
             ],
             [
              0.4444444444444444,
              "#bd3786"
             ],
             [
              0.5555555555555556,
              "#d8576b"
             ],
             [
              0.6666666666666666,
              "#ed7953"
             ],
             [
              0.7777777777777778,
              "#fb9f3a"
             ],
             [
              0.8888888888888888,
              "#fdca26"
             ],
             [
              1,
              "#f0f921"
             ]
            ],
            "type": "contour"
           }
          ],
          "contourcarpet": [
           {
            "colorbar": {
             "outlinewidth": 0,
             "ticks": ""
            },
            "type": "contourcarpet"
           }
          ],
          "heatmap": [
           {
            "colorbar": {
             "outlinewidth": 0,
             "ticks": ""
            },
            "colorscale": [
             [
              0,
              "#0d0887"
             ],
             [
              0.1111111111111111,
              "#46039f"
             ],
             [
              0.2222222222222222,
              "#7201a8"
             ],
             [
              0.3333333333333333,
              "#9c179e"
             ],
             [
              0.4444444444444444,
              "#bd3786"
             ],
             [
              0.5555555555555556,
              "#d8576b"
             ],
             [
              0.6666666666666666,
              "#ed7953"
             ],
             [
              0.7777777777777778,
              "#fb9f3a"
             ],
             [
              0.8888888888888888,
              "#fdca26"
             ],
             [
              1,
              "#f0f921"
             ]
            ],
            "type": "heatmap"
           }
          ],
          "heatmapgl": [
           {
            "colorbar": {
             "outlinewidth": 0,
             "ticks": ""
            },
            "colorscale": [
             [
              0,
              "#0d0887"
             ],
             [
              0.1111111111111111,
              "#46039f"
             ],
             [
              0.2222222222222222,
              "#7201a8"
             ],
             [
              0.3333333333333333,
              "#9c179e"
             ],
             [
              0.4444444444444444,
              "#bd3786"
             ],
             [
              0.5555555555555556,
              "#d8576b"
             ],
             [
              0.6666666666666666,
              "#ed7953"
             ],
             [
              0.7777777777777778,
              "#fb9f3a"
             ],
             [
              0.8888888888888888,
              "#fdca26"
             ],
             [
              1,
              "#f0f921"
             ]
            ],
            "type": "heatmapgl"
           }
          ],
          "histogram": [
           {
            "marker": {
             "pattern": {
              "fillmode": "overlay",
              "size": 10,
              "solidity": 0.2
             }
            },
            "type": "histogram"
           }
          ],
          "histogram2d": [
           {
            "colorbar": {
             "outlinewidth": 0,
             "ticks": ""
            },
            "colorscale": [
             [
              0,
              "#0d0887"
             ],
             [
              0.1111111111111111,
              "#46039f"
             ],
             [
              0.2222222222222222,
              "#7201a8"
             ],
             [
              0.3333333333333333,
              "#9c179e"
             ],
             [
              0.4444444444444444,
              "#bd3786"
             ],
             [
              0.5555555555555556,
              "#d8576b"
             ],
             [
              0.6666666666666666,
              "#ed7953"
             ],
             [
              0.7777777777777778,
              "#fb9f3a"
             ],
             [
              0.8888888888888888,
              "#fdca26"
             ],
             [
              1,
              "#f0f921"
             ]
            ],
            "type": "histogram2d"
           }
          ],
          "histogram2dcontour": [
           {
            "colorbar": {
             "outlinewidth": 0,
             "ticks": ""
            },
            "colorscale": [
             [
              0,
              "#0d0887"
             ],
             [
              0.1111111111111111,
              "#46039f"
             ],
             [
              0.2222222222222222,
              "#7201a8"
             ],
             [
              0.3333333333333333,
              "#9c179e"
             ],
             [
              0.4444444444444444,
              "#bd3786"
             ],
             [
              0.5555555555555556,
              "#d8576b"
             ],
             [
              0.6666666666666666,
              "#ed7953"
             ],
             [
              0.7777777777777778,
              "#fb9f3a"
             ],
             [
              0.8888888888888888,
              "#fdca26"
             ],
             [
              1,
              "#f0f921"
             ]
            ],
            "type": "histogram2dcontour"
           }
          ],
          "mesh3d": [
           {
            "colorbar": {
             "outlinewidth": 0,
             "ticks": ""
            },
            "type": "mesh3d"
           }
          ],
          "parcoords": [
           {
            "line": {
             "colorbar": {
              "outlinewidth": 0,
              "ticks": ""
             }
            },
            "type": "parcoords"
           }
          ],
          "pie": [
           {
            "automargin": true,
            "type": "pie"
           }
          ],
          "scatter": [
           {
            "fillpattern": {
             "fillmode": "overlay",
             "size": 10,
             "solidity": 0.2
            },
            "type": "scatter"
           }
          ],
          "scatter3d": [
           {
            "line": {
             "colorbar": {
              "outlinewidth": 0,
              "ticks": ""
             }
            },
            "marker": {
             "colorbar": {
              "outlinewidth": 0,
              "ticks": ""
             }
            },
            "type": "scatter3d"
           }
          ],
          "scattercarpet": [
           {
            "marker": {
             "colorbar": {
              "outlinewidth": 0,
              "ticks": ""
             }
            },
            "type": "scattercarpet"
           }
          ],
          "scattergeo": [
           {
            "marker": {
             "colorbar": {
              "outlinewidth": 0,
              "ticks": ""
             }
            },
            "type": "scattergeo"
           }
          ],
          "scattergl": [
           {
            "marker": {
             "colorbar": {
              "outlinewidth": 0,
              "ticks": ""
             }
            },
            "type": "scattergl"
           }
          ],
          "scattermapbox": [
           {
            "marker": {
             "colorbar": {
              "outlinewidth": 0,
              "ticks": ""
             }
            },
            "type": "scattermapbox"
           }
          ],
          "scatterpolar": [
           {
            "marker": {
             "colorbar": {
              "outlinewidth": 0,
              "ticks": ""
             }
            },
            "type": "scatterpolar"
           }
          ],
          "scatterpolargl": [
           {
            "marker": {
             "colorbar": {
              "outlinewidth": 0,
              "ticks": ""
             }
            },
            "type": "scatterpolargl"
           }
          ],
          "scatterternary": [
           {
            "marker": {
             "colorbar": {
              "outlinewidth": 0,
              "ticks": ""
             }
            },
            "type": "scatterternary"
           }
          ],
          "surface": [
           {
            "colorbar": {
             "outlinewidth": 0,
             "ticks": ""
            },
            "colorscale": [
             [
              0,
              "#0d0887"
             ],
             [
              0.1111111111111111,
              "#46039f"
             ],
             [
              0.2222222222222222,
              "#7201a8"
             ],
             [
              0.3333333333333333,
              "#9c179e"
             ],
             [
              0.4444444444444444,
              "#bd3786"
             ],
             [
              0.5555555555555556,
              "#d8576b"
             ],
             [
              0.6666666666666666,
              "#ed7953"
             ],
             [
              0.7777777777777778,
              "#fb9f3a"
             ],
             [
              0.8888888888888888,
              "#fdca26"
             ],
             [
              1,
              "#f0f921"
             ]
            ],
            "type": "surface"
           }
          ],
          "table": [
           {
            "cells": {
             "fill": {
              "color": "#EBF0F8"
             },
             "line": {
              "color": "white"
             }
            },
            "header": {
             "fill": {
              "color": "#C8D4E3"
             },
             "line": {
              "color": "white"
             }
            },
            "type": "table"
           }
          ]
         },
         "layout": {
          "annotationdefaults": {
           "arrowcolor": "#2a3f5f",
           "arrowhead": 0,
           "arrowwidth": 1
          },
          "autotypenumbers": "strict",
          "coloraxis": {
           "colorbar": {
            "outlinewidth": 0,
            "ticks": ""
           }
          },
          "colorscale": {
           "diverging": [
            [
             0,
             "#8e0152"
            ],
            [
             0.1,
             "#c51b7d"
            ],
            [
             0.2,
             "#de77ae"
            ],
            [
             0.3,
             "#f1b6da"
            ],
            [
             0.4,
             "#fde0ef"
            ],
            [
             0.5,
             "#f7f7f7"
            ],
            [
             0.6,
             "#e6f5d0"
            ],
            [
             0.7,
             "#b8e186"
            ],
            [
             0.8,
             "#7fbc41"
            ],
            [
             0.9,
             "#4d9221"
            ],
            [
             1,
             "#276419"
            ]
           ],
           "sequential": [
            [
             0,
             "#0d0887"
            ],
            [
             0.1111111111111111,
             "#46039f"
            ],
            [
             0.2222222222222222,
             "#7201a8"
            ],
            [
             0.3333333333333333,
             "#9c179e"
            ],
            [
             0.4444444444444444,
             "#bd3786"
            ],
            [
             0.5555555555555556,
             "#d8576b"
            ],
            [
             0.6666666666666666,
             "#ed7953"
            ],
            [
             0.7777777777777778,
             "#fb9f3a"
            ],
            [
             0.8888888888888888,
             "#fdca26"
            ],
            [
             1,
             "#f0f921"
            ]
           ],
           "sequentialminus": [
            [
             0,
             "#0d0887"
            ],
            [
             0.1111111111111111,
             "#46039f"
            ],
            [
             0.2222222222222222,
             "#7201a8"
            ],
            [
             0.3333333333333333,
             "#9c179e"
            ],
            [
             0.4444444444444444,
             "#bd3786"
            ],
            [
             0.5555555555555556,
             "#d8576b"
            ],
            [
             0.6666666666666666,
             "#ed7953"
            ],
            [
             0.7777777777777778,
             "#fb9f3a"
            ],
            [
             0.8888888888888888,
             "#fdca26"
            ],
            [
             1,
             "#f0f921"
            ]
           ]
          },
          "colorway": [
           "#636efa",
           "#EF553B",
           "#00cc96",
           "#ab63fa",
           "#FFA15A",
           "#19d3f3",
           "#FF6692",
           "#B6E880",
           "#FF97FF",
           "#FECB52"
          ],
          "font": {
           "color": "#2a3f5f"
          },
          "geo": {
           "bgcolor": "white",
           "lakecolor": "white",
           "landcolor": "#E5ECF6",
           "showlakes": true,
           "showland": true,
           "subunitcolor": "white"
          },
          "hoverlabel": {
           "align": "left"
          },
          "hovermode": "closest",
          "mapbox": {
           "style": "light"
          },
          "paper_bgcolor": "white",
          "plot_bgcolor": "#E5ECF6",
          "polar": {
           "angularaxis": {
            "gridcolor": "white",
            "linecolor": "white",
            "ticks": ""
           },
           "bgcolor": "#E5ECF6",
           "radialaxis": {
            "gridcolor": "white",
            "linecolor": "white",
            "ticks": ""
           }
          },
          "scene": {
           "xaxis": {
            "backgroundcolor": "#E5ECF6",
            "gridcolor": "white",
            "gridwidth": 2,
            "linecolor": "white",
            "showbackground": true,
            "ticks": "",
            "zerolinecolor": "white"
           },
           "yaxis": {
            "backgroundcolor": "#E5ECF6",
            "gridcolor": "white",
            "gridwidth": 2,
            "linecolor": "white",
            "showbackground": true,
            "ticks": "",
            "zerolinecolor": "white"
           },
           "zaxis": {
            "backgroundcolor": "#E5ECF6",
            "gridcolor": "white",
            "gridwidth": 2,
            "linecolor": "white",
            "showbackground": true,
            "ticks": "",
            "zerolinecolor": "white"
           }
          },
          "shapedefaults": {
           "line": {
            "color": "#2a3f5f"
           }
          },
          "ternary": {
           "aaxis": {
            "gridcolor": "white",
            "linecolor": "white",
            "ticks": ""
           },
           "baxis": {
            "gridcolor": "white",
            "linecolor": "white",
            "ticks": ""
           },
           "bgcolor": "#E5ECF6",
           "caxis": {
            "gridcolor": "white",
            "linecolor": "white",
            "ticks": ""
           }
          },
          "title": {
           "x": 0.05
          },
          "xaxis": {
           "automargin": true,
           "gridcolor": "white",
           "linecolor": "white",
           "ticks": "",
           "title": {
            "standoff": 15
           },
           "zerolinecolor": "white",
           "zerolinewidth": 2
          },
          "yaxis": {
           "automargin": true,
           "gridcolor": "white",
           "linecolor": "white",
           "ticks": "",
           "title": {
            "standoff": 15
           },
           "zerolinecolor": "white",
           "zerolinewidth": 2
          }
         }
        },
        "title": {
         "text": "Reviews of Machine Learning's Books"
        },
        "xaxis": {
         "anchor": "y",
         "domain": [
          0,
          1
         ],
         "range": [
          0,
          5.5
         ],
         "title": {
          "text": "avg_reviews"
         }
        },
        "yaxis": {
         "anchor": "x",
         "domain": [
          0,
          1
         ],
         "title": {
          "text": "n_reviews"
         }
        }
       }
      },
      "text/html": [
       "<div>                            <div id=\"ccf6dc17-b2d9-4e55-86a9-88b6487a179d\" class=\"plotly-graph-div\" style=\"height:525px; width:100%;\"></div>            <script type=\"text/javascript\">                require([\"plotly\"], function(Plotly) {                    window.PLOTLYENV=window.PLOTLYENV || {};                                    if (document.getElementById(\"ccf6dc17-b2d9-4e55-86a9-88b6487a179d\")) {                    Plotly.newPlot(                        \"ccf6dc17-b2d9-4e55-86a9-88b6487a179d\",                        [{\"hovertemplate\":\"<b>%{hovertext}</b><br><br>avg_reviews=%{x}<br>n_reviews=%{y}<br>price=%{marker.color}<extra></extra>\",\"hovertext\":[\"quantum machine learning and optimisation in finance: on the road to quantum advantage\",\"applied text analysis with python: enabling language-aware data products with machine learning\",\"machine learning explained the simple way: a beginners guide to learning python for data science, machine learning and ace your data science interview with little coding experience.\",\"supervised machine learning for text analysis in r (chapman & hall/crc data science series)\",\"python: 3 books in 1- your complete guide to python programming with python for beginners, python data analysis and python machine learning (programming languages for beginners)\",\"introduction to machine learning with r: rigorous mathematical analysis\",\"machine learning: a first course for engineers and scientists\",\"machine learning bookcamp: build a portfolio of real-life projects\",\"practical discrete mathematics: discover math principles that fuel algorithms for computer science and machine learning with python\",\"python for data analysis: learn the principles of data analysis and raise your programming iq. improve your machine learning experience and become a skilled programmer by learning 10+ coding secrets\",\"deep learning: a comprehensive guide to python coding and programming machine learning and neural networks for data analysis (python programming deep learning)\",\"big data analysis with python: combine spark and python to unlock the powers of parallel computing and machine learning\",\"python: learn coding programs with python programming and master data analysis & analytics, data science and machine learning with the complete crash course for beginners - 5 manuscripts in 1 book\",\"introduction to python in earth science data analysis: from descriptive statistics to machine learning (springer textbooks in earth sciences, geography and environment)\",\"the kaggle book: data analysis and machine learning for competitive data science\",\"practical time series analysis: prediction with statistics and machine learning\",\"machine learning for financial risk management with python: algorithms for modeling risk\",\"python feature engineering cookbook: over 70 recipes for creating, engineering, and transforming features to build machine learning models, 2nd edition\",\"modern time series forecasting with python: explore industry-ready time series forecasting using modern machine learning and deep learning\",\"math for programmers: 3d graphics, machine learning, and simulations with python\",\"hands-on machine learning with scikit-learn, keras, and tensorflow: concepts, tools, and techniques to build intelligent systems\",\"machine learning with python cookbook: practical solutions from preprocessing to deep learning\",\"becoming a data head: how to think, speak and understand data science, statistics and machine learning\",\"machine learning with python for everyone (addison-wesley data & analytics series)\",\"python crash course: a practical beginner's guide to learn python in 7 days or less, introducing you into the world of data science, artificial intelligence and machine learning, with hands-on project\",\"applied machine learning and ai for engineers: solve business problems that can't be solved algorithmically\",\"python: this book includes: learn how to develop programs and apps in 7 days with python programming and start deep hands-on learning for beginners of data science and machine learning.\",\"hands-on gradient boosting with xgboost and scikit-learn: perform accessible machine learning and extreme gradient boosting with python\",\"python: 2 books in 1 : learn python programming for beginners and machine learning\",\"introduction to machine learning with python: a guide for data scientists\",\"learn python: this book includes: crash course and coding. a guide to master python, data science and analysis. advanced methods to learn how to create codes with this machine learning tool\",\"the python bible 7 in 1: volumes one to seven (beginner, intermediate, data science, machine learning, finance, neural networks, computer vision)\",\"learning opencv 4 computer vision with python 3: get to grips with tools, techniques, and algorithms for computer vision and machine learning, 3rd edition\",\"data-driven science and engineering: machine learning, dynamical systems, and control\",\"designing machine learning systems: an iterative process for production-ready applications\",\"data science on aws: implementing end-to-end, continuous ai and machine learning pipelines\",\"machine learning with quantum computers (quantum science and technology)\",\"machine learning and data science blueprints for finance: from building trading strategies to robo-advisors using python\",\"data science on the google cloud platform: implementing end-to-end real-time data pipelines: from ingest to machine learning\",\"text as data: a new framework for machine learning and the social sciences\",\"data science and machine learning: mathematical and statistical methods (chapman & hall/crc machine learning & pattern recognition)\",\"mathematics for machine learning\",\"building data science applications with fastapi: develop, manage, and deploy efficient machine learning applications with python\",\"quantum machine learning: an applied approach: the theory and application of quantum machine learning in science and industry\",\"the data science workshop: learn how you can build machine learning models and create your own real-world data science projects, 2nd edition\",\"data science crash course for beginners with python: fundamentals and practices with python (machine learning & data science for beginners)\",\"azure data scientist associate certification guide: a hands-on guide to machine learning in azure and passing the microsoft certified dp-100 exam\",\"the hundred-page machine learning book\",\"pattern recognition and machine learning (information science and statistics)\",\"introducing data science: big data, machine learning, and more, using python tools\",\"machine learning design patterns: solutions to common challenges in data preparation, model building, and mlops\",\"hands-on data science for marketing: improve your marketing strategies with machine learning using python and r\",\"data visualization with python for beginners: visualize your data using pandas, matplotlib and seaborn (machine learning & data science for beginners)\",\"python machine learning for beginners: learning from scratch numpy, pandas, matplotlib, seaborn, scikitlearn, and tensorflow for machine learning and ... learning & data science for beginners)\",\"machine learning design interview: machine learning system design interview\",\"the machine learning solutions architect handbook: create machine learning platforms to run solutions in an enterprise setting\",\"the handbook of data science and ai: generate value from data with machine learning and data analytics\",\"google bigquery: the definitive guide: data warehousing, analytics, and machine learning at scale\",\"automated machine learning in action\",\"machine learning with r: expert techniques for predictive modeling, 3rd edition\",\"data science for beginners: 4 books in 1: python programming, data analysis, machine learning. a complete overview to master the art of data science ... python for business (data science mastery)\",\"machine learning with pytorch and scikit-learn: develop machine learning and deep learning models with python\",\"machine learning in finance: from theory to practice\",\"ai and machine learning for coders: a programmer's guide to artificial intelligence\"],\"legendgroup\":\"\",\"marker\":{\"color\":[49.99,44.99,11.97,43.52,24.95,40.49,69.99,35.99,62.99,33.99,4.97,13.29,24.9,48.15,46.99,51.99,49.99,61.24,44.99,40.84,57.49,49.18,24.49,49.99,14.99,62.99,24.38,41.99,24.9,49.35,18.99,39.99,36.99,64.99,32.23,31.99,101.24,44.49,50.99,35.99,80.0,48.99,31.49,49.48,17.84,23.48,53.64,31.99,105.22,42.74,36.99,45.89,19.99,25.19,39.99,54.99,42.49,29.99,44.99,37.99,25.62,39.02,55.18,38.49],\"coloraxis\":\"coloraxis\",\"size\":[49.99,44.99,11.97,43.52,24.95,40.49,69.99,35.99,62.99,33.99,4.97,13.29,24.9,48.15,46.99,51.99,49.99,61.24,44.99,40.84,57.49,49.18,24.49,49.99,14.99,62.99,24.38,41.99,24.9,49.35,18.99,39.99,36.99,64.99,32.23,31.99,101.24,44.49,50.99,35.99,80.0,48.99,31.49,49.48,17.84,23.48,53.64,31.99,105.22,42.74,36.99,45.89,19.99,25.19,39.99,54.99,42.49,29.99,44.99,37.99,25.62,39.02,55.18,38.49],\"sizemode\":\"area\",\"sizeref\":0.26305,\"symbol\":\"circle\"},\"mode\":\"markers\",\"name\":\"\",\"orientation\":\"v\",\"showlegend\":false,\"x\":[4.9,4.4,5.0,4.5,4.6,4.1,5.0,4.5,4.3,1.0,4.7,3.7,4.1,4.6,4.4,4.1,3.8,5.0,5.0,4.5,4.8,4.5,4.6,4.6,3.8,5.0,4.1,4.7,3.8,4.5,4.8,4.5,4.3,4.8,4.7,4.4,4.6,4.3,4.8,4.7,4.8,4.7,4.4,4.1,4.6,5.0,4.4,4.6,4.6,4.4,4.6,4.3,4.1,4.4,3.4,4.6,4.6,4.5,4.5,4.6,4.5,4.6,4.5,4.7],\"xaxis\":\"x\",\"y\":[14.0,76.0,21.0,12.0,108.0,21.0,4.0,14.0,39.0,1.0,22.0,5.0,273.0,3.0,87.0,125.0,8.0,1.0,2.0,65.0,3129.0,178.0,209.0,37.0,12.0,1.0,64.0,30.0,14.0,591.0,169.0,150.0,87.0,33.0,186.0,159.0,7.0,54.0,16.0,24.0,37.0,608.0,29.0,10.0,12.0,10.0,17.0,839.0,687.0,98.0,263.0,68.0,62.0,59.0,69.0,41.0,11.0,105.0,4.0,237.0,2.0,164.0,93.0,142.0],\"yaxis\":\"y\",\"type\":\"scatter\"}],                        {\"template\":{\"data\":{\"histogram2dcontour\":[{\"type\":\"histogram2dcontour\",\"colorbar\":{\"outlinewidth\":0,\"ticks\":\"\"},\"colorscale\":[[0.0,\"#0d0887\"],[0.1111111111111111,\"#46039f\"],[0.2222222222222222,\"#7201a8\"],[0.3333333333333333,\"#9c179e\"],[0.4444444444444444,\"#bd3786\"],[0.5555555555555556,\"#d8576b\"],[0.6666666666666666,\"#ed7953\"],[0.7777777777777778,\"#fb9f3a\"],[0.8888888888888888,\"#fdca26\"],[1.0,\"#f0f921\"]]}],\"choropleth\":[{\"type\":\"choropleth\",\"colorbar\":{\"outlinewidth\":0,\"ticks\":\"\"}}],\"histogram2d\":[{\"type\":\"histogram2d\",\"colorbar\":{\"outlinewidth\":0,\"ticks\":\"\"},\"colorscale\":[[0.0,\"#0d0887\"],[0.1111111111111111,\"#46039f\"],[0.2222222222222222,\"#7201a8\"],[0.3333333333333333,\"#9c179e\"],[0.4444444444444444,\"#bd3786\"],[0.5555555555555556,\"#d8576b\"],[0.6666666666666666,\"#ed7953\"],[0.7777777777777778,\"#fb9f3a\"],[0.8888888888888888,\"#fdca26\"],[1.0,\"#f0f921\"]]}],\"heatmap\":[{\"type\":\"heatmap\",\"colorbar\":{\"outlinewidth\":0,\"ticks\":\"\"},\"colorscale\":[[0.0,\"#0d0887\"],[0.1111111111111111,\"#46039f\"],[0.2222222222222222,\"#7201a8\"],[0.3333333333333333,\"#9c179e\"],[0.4444444444444444,\"#bd3786\"],[0.5555555555555556,\"#d8576b\"],[0.6666666666666666,\"#ed7953\"],[0.7777777777777778,\"#fb9f3a\"],[0.8888888888888888,\"#fdca26\"],[1.0,\"#f0f921\"]]}],\"heatmapgl\":[{\"type\":\"heatmapgl\",\"colorbar\":{\"outlinewidth\":0,\"ticks\":\"\"},\"colorscale\":[[0.0,\"#0d0887\"],[0.1111111111111111,\"#46039f\"],[0.2222222222222222,\"#7201a8\"],[0.3333333333333333,\"#9c179e\"],[0.4444444444444444,\"#bd3786\"],[0.5555555555555556,\"#d8576b\"],[0.6666666666666666,\"#ed7953\"],[0.7777777777777778,\"#fb9f3a\"],[0.8888888888888888,\"#fdca26\"],[1.0,\"#f0f921\"]]}],\"contourcarpet\":[{\"type\":\"contourcarpet\",\"colorbar\":{\"outlinewidth\":0,\"ticks\":\"\"}}],\"contour\":[{\"type\":\"contour\",\"colorbar\":{\"outlinewidth\":0,\"ticks\":\"\"},\"colorscale\":[[0.0,\"#0d0887\"],[0.1111111111111111,\"#46039f\"],[0.2222222222222222,\"#7201a8\"],[0.3333333333333333,\"#9c179e\"],[0.4444444444444444,\"#bd3786\"],[0.5555555555555556,\"#d8576b\"],[0.6666666666666666,\"#ed7953\"],[0.7777777777777778,\"#fb9f3a\"],[0.8888888888888888,\"#fdca26\"],[1.0,\"#f0f921\"]]}],\"surface\":[{\"type\":\"surface\",\"colorbar\":{\"outlinewidth\":0,\"ticks\":\"\"},\"colorscale\":[[0.0,\"#0d0887\"],[0.1111111111111111,\"#46039f\"],[0.2222222222222222,\"#7201a8\"],[0.3333333333333333,\"#9c179e\"],[0.4444444444444444,\"#bd3786\"],[0.5555555555555556,\"#d8576b\"],[0.6666666666666666,\"#ed7953\"],[0.7777777777777778,\"#fb9f3a\"],[0.8888888888888888,\"#fdca26\"],[1.0,\"#f0f921\"]]}],\"mesh3d\":[{\"type\":\"mesh3d\",\"colorbar\":{\"outlinewidth\":0,\"ticks\":\"\"}}],\"scatter\":[{\"fillpattern\":{\"fillmode\":\"overlay\",\"size\":10,\"solidity\":0.2},\"type\":\"scatter\"}],\"parcoords\":[{\"type\":\"parcoords\",\"line\":{\"colorbar\":{\"outlinewidth\":0,\"ticks\":\"\"}}}],\"scatterpolargl\":[{\"type\":\"scatterpolargl\",\"marker\":{\"colorbar\":{\"outlinewidth\":0,\"ticks\":\"\"}}}],\"bar\":[{\"error_x\":{\"color\":\"#2a3f5f\"},\"error_y\":{\"color\":\"#2a3f5f\"},\"marker\":{\"line\":{\"color\":\"#E5ECF6\",\"width\":0.5},\"pattern\":{\"fillmode\":\"overlay\",\"size\":10,\"solidity\":0.2}},\"type\":\"bar\"}],\"scattergeo\":[{\"type\":\"scattergeo\",\"marker\":{\"colorbar\":{\"outlinewidth\":0,\"ticks\":\"\"}}}],\"scatterpolar\":[{\"type\":\"scatterpolar\",\"marker\":{\"colorbar\":{\"outlinewidth\":0,\"ticks\":\"\"}}}],\"histogram\":[{\"marker\":{\"pattern\":{\"fillmode\":\"overlay\",\"size\":10,\"solidity\":0.2}},\"type\":\"histogram\"}],\"scattergl\":[{\"type\":\"scattergl\",\"marker\":{\"colorbar\":{\"outlinewidth\":0,\"ticks\":\"\"}}}],\"scatter3d\":[{\"type\":\"scatter3d\",\"line\":{\"colorbar\":{\"outlinewidth\":0,\"ticks\":\"\"}},\"marker\":{\"colorbar\":{\"outlinewidth\":0,\"ticks\":\"\"}}}],\"scattermapbox\":[{\"type\":\"scattermapbox\",\"marker\":{\"colorbar\":{\"outlinewidth\":0,\"ticks\":\"\"}}}],\"scatterternary\":[{\"type\":\"scatterternary\",\"marker\":{\"colorbar\":{\"outlinewidth\":0,\"ticks\":\"\"}}}],\"scattercarpet\":[{\"type\":\"scattercarpet\",\"marker\":{\"colorbar\":{\"outlinewidth\":0,\"ticks\":\"\"}}}],\"carpet\":[{\"aaxis\":{\"endlinecolor\":\"#2a3f5f\",\"gridcolor\":\"white\",\"linecolor\":\"white\",\"minorgridcolor\":\"white\",\"startlinecolor\":\"#2a3f5f\"},\"baxis\":{\"endlinecolor\":\"#2a3f5f\",\"gridcolor\":\"white\",\"linecolor\":\"white\",\"minorgridcolor\":\"white\",\"startlinecolor\":\"#2a3f5f\"},\"type\":\"carpet\"}],\"table\":[{\"cells\":{\"fill\":{\"color\":\"#EBF0F8\"},\"line\":{\"color\":\"white\"}},\"header\":{\"fill\":{\"color\":\"#C8D4E3\"},\"line\":{\"color\":\"white\"}},\"type\":\"table\"}],\"barpolar\":[{\"marker\":{\"line\":{\"color\":\"#E5ECF6\",\"width\":0.5},\"pattern\":{\"fillmode\":\"overlay\",\"size\":10,\"solidity\":0.2}},\"type\":\"barpolar\"}],\"pie\":[{\"automargin\":true,\"type\":\"pie\"}]},\"layout\":{\"autotypenumbers\":\"strict\",\"colorway\":[\"#636efa\",\"#EF553B\",\"#00cc96\",\"#ab63fa\",\"#FFA15A\",\"#19d3f3\",\"#FF6692\",\"#B6E880\",\"#FF97FF\",\"#FECB52\"],\"font\":{\"color\":\"#2a3f5f\"},\"hovermode\":\"closest\",\"hoverlabel\":{\"align\":\"left\"},\"paper_bgcolor\":\"white\",\"plot_bgcolor\":\"#E5ECF6\",\"polar\":{\"bgcolor\":\"#E5ECF6\",\"angularaxis\":{\"gridcolor\":\"white\",\"linecolor\":\"white\",\"ticks\":\"\"},\"radialaxis\":{\"gridcolor\":\"white\",\"linecolor\":\"white\",\"ticks\":\"\"}},\"ternary\":{\"bgcolor\":\"#E5ECF6\",\"aaxis\":{\"gridcolor\":\"white\",\"linecolor\":\"white\",\"ticks\":\"\"},\"baxis\":{\"gridcolor\":\"white\",\"linecolor\":\"white\",\"ticks\":\"\"},\"caxis\":{\"gridcolor\":\"white\",\"linecolor\":\"white\",\"ticks\":\"\"}},\"coloraxis\":{\"colorbar\":{\"outlinewidth\":0,\"ticks\":\"\"}},\"colorscale\":{\"sequential\":[[0.0,\"#0d0887\"],[0.1111111111111111,\"#46039f\"],[0.2222222222222222,\"#7201a8\"],[0.3333333333333333,\"#9c179e\"],[0.4444444444444444,\"#bd3786\"],[0.5555555555555556,\"#d8576b\"],[0.6666666666666666,\"#ed7953\"],[0.7777777777777778,\"#fb9f3a\"],[0.8888888888888888,\"#fdca26\"],[1.0,\"#f0f921\"]],\"sequentialminus\":[[0.0,\"#0d0887\"],[0.1111111111111111,\"#46039f\"],[0.2222222222222222,\"#7201a8\"],[0.3333333333333333,\"#9c179e\"],[0.4444444444444444,\"#bd3786\"],[0.5555555555555556,\"#d8576b\"],[0.6666666666666666,\"#ed7953\"],[0.7777777777777778,\"#fb9f3a\"],[0.8888888888888888,\"#fdca26\"],[1.0,\"#f0f921\"]],\"diverging\":[[0,\"#8e0152\"],[0.1,\"#c51b7d\"],[0.2,\"#de77ae\"],[0.3,\"#f1b6da\"],[0.4,\"#fde0ef\"],[0.5,\"#f7f7f7\"],[0.6,\"#e6f5d0\"],[0.7,\"#b8e186\"],[0.8,\"#7fbc41\"],[0.9,\"#4d9221\"],[1,\"#276419\"]]},\"xaxis\":{\"gridcolor\":\"white\",\"linecolor\":\"white\",\"ticks\":\"\",\"title\":{\"standoff\":15},\"zerolinecolor\":\"white\",\"automargin\":true,\"zerolinewidth\":2},\"yaxis\":{\"gridcolor\":\"white\",\"linecolor\":\"white\",\"ticks\":\"\",\"title\":{\"standoff\":15},\"zerolinecolor\":\"white\",\"automargin\":true,\"zerolinewidth\":2},\"scene\":{\"xaxis\":{\"backgroundcolor\":\"#E5ECF6\",\"gridcolor\":\"white\",\"linecolor\":\"white\",\"showbackground\":true,\"ticks\":\"\",\"zerolinecolor\":\"white\",\"gridwidth\":2},\"yaxis\":{\"backgroundcolor\":\"#E5ECF6\",\"gridcolor\":\"white\",\"linecolor\":\"white\",\"showbackground\":true,\"ticks\":\"\",\"zerolinecolor\":\"white\",\"gridwidth\":2},\"zaxis\":{\"backgroundcolor\":\"#E5ECF6\",\"gridcolor\":\"white\",\"linecolor\":\"white\",\"showbackground\":true,\"ticks\":\"\",\"zerolinecolor\":\"white\",\"gridwidth\":2}},\"shapedefaults\":{\"line\":{\"color\":\"#2a3f5f\"}},\"annotationdefaults\":{\"arrowcolor\":\"#2a3f5f\",\"arrowhead\":0,\"arrowwidth\":1},\"geo\":{\"bgcolor\":\"white\",\"landcolor\":\"#E5ECF6\",\"subunitcolor\":\"white\",\"showland\":true,\"showlakes\":true,\"lakecolor\":\"white\"},\"title\":{\"x\":0.05},\"mapbox\":{\"style\":\"light\"}}},\"xaxis\":{\"anchor\":\"y\",\"domain\":[0.0,1.0],\"title\":{\"text\":\"avg_reviews\"},\"range\":[0,5.5]},\"yaxis\":{\"anchor\":\"x\",\"domain\":[0.0,1.0],\"title\":{\"text\":\"n_reviews\"}},\"coloraxis\":{\"colorbar\":{\"title\":{\"text\":\"price\"}},\"colorscale\":[[0.0,\"#0d0887\"],[0.1111111111111111,\"#46039f\"],[0.2222222222222222,\"#7201a8\"],[0.3333333333333333,\"#9c179e\"],[0.4444444444444444,\"#bd3786\"],[0.5555555555555556,\"#d8576b\"],[0.6666666666666666,\"#ed7953\"],[0.7777777777777778,\"#fb9f3a\"],[0.8888888888888888,\"#fdca26\"],[1.0,\"#f0f921\"]]},\"legend\":{\"tracegroupgap\":0,\"itemsizing\":\"constant\"},\"title\":{\"text\":\"Reviews of Machine Learning's Books\"}},                        {\"responsive\": true}                    ).then(function(){\n",
       "                            \n",
       "var gd = document.getElementById('ccf6dc17-b2d9-4e55-86a9-88b6487a179d');\n",
       "var x = new MutationObserver(function (mutations, observer) {{\n",
       "        var display = window.getComputedStyle(gd).display;\n",
       "        if (!display || display === 'none') {{\n",
       "            console.log([gd, 'removed!']);\n",
       "            Plotly.purge(gd);\n",
       "            observer.disconnect();\n",
       "        }}\n",
       "}});\n",
       "\n",
       "// Listen for the removal of the full notebook cells\n",
       "var notebookContainer = gd.closest('#notebook-container');\n",
       "if (notebookContainer) {{\n",
       "    x.observe(notebookContainer, {childList: true});\n",
       "}}\n",
       "\n",
       "// Listen for the clearing of the current output cell\n",
       "var outputEl = gd.closest('.output');\n",
       "if (outputEl) {{\n",
       "    x.observe(outputEl, {childList: true});\n",
       "}}\n",
       "\n",
       "                        })                };                });            </script>        </div>"
      ]
     },
     "metadata": {},
     "output_type": "display_data"
    }
   ],
   "source": [
    "fig = px.scatter(df_ML_book, x=\"avg_reviews\", y=\"n_reviews\", color='price', \n",
    "                 size='price', title=\"Reviews of Machine Learning's Books\", range_x=[0,5.5], hover_name=\"title\")\n",
    "fig.show()"
   ]
  },
  {
   "cell_type": "markdown",
   "id": "0a761cad",
   "metadata": {},
   "source": [
    "### Best Deep learning Books"
   ]
  },
  {
   "cell_type": "code",
   "execution_count": 295,
   "id": "4e1644fe",
   "metadata": {
    "collapsed": true
   },
   "outputs": [
    {
     "name": "stdout",
     "output_type": "stream",
     "text": [
      "<class 'pandas.core.frame.DataFrame'>\n",
      "Int64Index: 12 entries, 37 to 827\n",
      "Data columns (total 18 columns):\n",
      " #   Column         Non-Null Count  Dtype  \n",
      "---  ------         --------------  -----  \n",
      " 0   title          12 non-null     object \n",
      " 1   author         10 non-null     object \n",
      " 2   price          12 non-null     float64\n",
      " 3   pages          12 non-null     float64\n",
      " 4   avg_reviews    12 non-null     float64\n",
      " 5   n_reviews      12 non-null     float64\n",
      " 6   star5          12 non-null     object \n",
      " 7   star4          10 non-null     object \n",
      " 8   star3          9 non-null      object \n",
      " 9   star2          6 non-null      object \n",
      " 10  star1          5 non-null      object \n",
      " 11  weight         11 non-null     object \n",
      " 12  language       12 non-null     object \n",
      " 13  publisher      11 non-null     object \n",
      " 14  ISBN_13        11 non-null     object \n",
      " 15  link           12 non-null     object \n",
      " 16  complete_link  12 non-null     object \n",
      " 17  type           12 non-null     object \n",
      "dtypes: float64(4), object(14)\n",
      "memory usage: 1.8+ KB\n"
     ]
    }
   ],
   "source": [
    "df_DL_book = df[df['title'].str.contains(\"deep learning\")]\n",
    "df_DL_book.info()"
   ]
  },
  {
   "cell_type": "code",
   "execution_count": 403,
   "id": "41ed1528",
   "metadata": {
    "scrolled": true
   },
   "outputs": [
    {
     "data": {
      "text/html": [
       "<div>\n",
       "<style scoped>\n",
       "    .dataframe tbody tr th:only-of-type {\n",
       "        vertical-align: middle;\n",
       "    }\n",
       "\n",
       "    .dataframe tbody tr th {\n",
       "        vertical-align: top;\n",
       "    }\n",
       "\n",
       "    .dataframe thead th {\n",
       "        text-align: right;\n",
       "    }\n",
       "</style>\n",
       "<table border=\"1\" class=\"dataframe\">\n",
       "  <thead>\n",
       "    <tr style=\"text-align: right;\">\n",
       "      <th></th>\n",
       "      <th>title</th>\n",
       "      <th>author</th>\n",
       "      <th>price</th>\n",
       "      <th>avg_reviews</th>\n",
       "      <th>n_reviews</th>\n",
       "      <th>type</th>\n",
       "    </tr>\n",
       "  </thead>\n",
       "  <tbody>\n",
       "    <tr>\n",
       "      <th>627</th>\n",
       "      <td>deep learning with python, second edition</td>\n",
       "      <td>[ Francois Chollet]</td>\n",
       "      <td>39.49</td>\n",
       "      <td>4.7</td>\n",
       "      <td>197.0</td>\n",
       "      <td>Paper</td>\n",
       "    </tr>\n",
       "    <tr>\n",
       "      <th>493</th>\n",
       "      <td>machine learning with python cookbook: practic...</td>\n",
       "      <td>NaN</td>\n",
       "      <td>49.18</td>\n",
       "      <td>4.5</td>\n",
       "      <td>178.0</td>\n",
       "      <td>Paper</td>\n",
       "    </tr>\n",
       "    <tr>\n",
       "      <th>821</th>\n",
       "      <td>machine learning with pytorch and scikit-learn...</td>\n",
       "      <td>[ Sebastian Raschka, Yuxi (Hayden) Liu, et al.]</td>\n",
       "      <td>39.02</td>\n",
       "      <td>4.6</td>\n",
       "      <td>164.0</td>\n",
       "      <td>Paper</td>\n",
       "    </tr>\n",
       "    <tr>\n",
       "      <th>463</th>\n",
       "      <td>deep learning from scratch: building with pyth...</td>\n",
       "      <td>[ Seth Weidman]</td>\n",
       "      <td>38.99</td>\n",
       "      <td>4.3</td>\n",
       "      <td>84.0</td>\n",
       "      <td>Paper</td>\n",
       "    </tr>\n",
       "    <tr>\n",
       "      <th>825</th>\n",
       "      <td>deep learning: engage the world change the world</td>\n",
       "      <td>[ Michael Fullan, Joanne Quinn, et al.]</td>\n",
       "      <td>5.33</td>\n",
       "      <td>4.5</td>\n",
       "      <td>74.0</td>\n",
       "      <td>Paper</td>\n",
       "    </tr>\n",
       "    <tr>\n",
       "      <th>465</th>\n",
       "      <td>modern computer vision with pytorch: explore d...</td>\n",
       "      <td>[ V Kishore Ayyadevara,  and , Yeshwanth Reddy]</td>\n",
       "      <td>48.84</td>\n",
       "      <td>4.6</td>\n",
       "      <td>56.0</td>\n",
       "      <td>Paper</td>\n",
       "    </tr>\n",
       "    <tr>\n",
       "      <th>37</th>\n",
       "      <td>practical deep learning: a python-based introd...</td>\n",
       "      <td>[ Ronald T. Kneusel]</td>\n",
       "      <td>36.99</td>\n",
       "      <td>4.7</td>\n",
       "      <td>38.0</td>\n",
       "      <td>Paper</td>\n",
       "    </tr>\n",
       "    <tr>\n",
       "      <th>205</th>\n",
       "      <td>deep learning: a comprehensive guide to python...</td>\n",
       "      <td>NaN</td>\n",
       "      <td>4.97</td>\n",
       "      <td>4.7</td>\n",
       "      <td>22.0</td>\n",
       "      <td>Paper</td>\n",
       "    </tr>\n",
       "    <tr>\n",
       "      <th>570</th>\n",
       "      <td>deep learning with pytorch lightning: swiftly ...</td>\n",
       "      <td>[ Kunal Sawarkar]</td>\n",
       "      <td>46.99</td>\n",
       "      <td>4.3</td>\n",
       "      <td>15.0</td>\n",
       "      <td>Paper</td>\n",
       "    </tr>\n",
       "    <tr>\n",
       "      <th>827</th>\n",
       "      <td>practical deep learning at scale with mlflow: ...</td>\n",
       "      <td>[ Yong Liu,  and , Dr. Matei Zaharia]</td>\n",
       "      <td>44.99</td>\n",
       "      <td>4.8</td>\n",
       "      <td>8.0</td>\n",
       "      <td>Paper</td>\n",
       "    </tr>\n",
       "  </tbody>\n",
       "</table>\n",
       "</div>"
      ],
      "text/plain": [
       "                                                 title  \\\n",
       "627          deep learning with python, second edition   \n",
       "493  machine learning with python cookbook: practic...   \n",
       "821  machine learning with pytorch and scikit-learn...   \n",
       "463  deep learning from scratch: building with pyth...   \n",
       "825   deep learning: engage the world change the world   \n",
       "465  modern computer vision with pytorch: explore d...   \n",
       "37   practical deep learning: a python-based introd...   \n",
       "205  deep learning: a comprehensive guide to python...   \n",
       "570  deep learning with pytorch lightning: swiftly ...   \n",
       "827  practical deep learning at scale with mlflow: ...   \n",
       "\n",
       "                                              author  price  avg_reviews  \\\n",
       "627                              [ Francois Chollet]  39.49          4.7   \n",
       "493                                              NaN  49.18          4.5   \n",
       "821  [ Sebastian Raschka, Yuxi (Hayden) Liu, et al.]  39.02          4.6   \n",
       "463                                  [ Seth Weidman]  38.99          4.3   \n",
       "825          [ Michael Fullan, Joanne Quinn, et al.]   5.33          4.5   \n",
       "465  [ V Kishore Ayyadevara,  and , Yeshwanth Reddy]  48.84          4.6   \n",
       "37                              [ Ronald T. Kneusel]  36.99          4.7   \n",
       "205                                              NaN   4.97          4.7   \n",
       "570                                [ Kunal Sawarkar]  46.99          4.3   \n",
       "827            [ Yong Liu,  and , Dr. Matei Zaharia]  44.99          4.8   \n",
       "\n",
       "     n_reviews   type  \n",
       "627      197.0  Paper  \n",
       "493      178.0  Paper  \n",
       "821      164.0  Paper  \n",
       "463       84.0  Paper  \n",
       "825       74.0  Paper  \n",
       "465       56.0  Paper  \n",
       "37        38.0  Paper  \n",
       "205       22.0  Paper  \n",
       "570       15.0  Paper  \n",
       "827        8.0  Paper  "
      ]
     },
     "execution_count": 403,
     "metadata": {},
     "output_type": "execute_result"
    }
   ],
   "source": [
    "best_DL_book = df_DL_book.nlargest(10, [\"n_reviews\", \"avg_reviews\"])\n",
    "best_DL_book[[\"title\", \"author\",\"price\", \"avg_reviews\", \"n_reviews\", \"type\"]] #.style.set_properties(subset=['title'], **{'width': '300px'}))"
   ]
  },
  {
   "cell_type": "code",
   "execution_count": 428,
   "id": "0aa35252",
   "metadata": {},
   "outputs": [
    {
     "data": {
      "application/vnd.plotly.v1+json": {
       "config": {
        "plotlyServerURL": "https://plot.ly"
       },
       "data": [
        {
         "hovertemplate": "<b>%{hovertext}</b><br><br>avg_reviews=%{x}<br>n_reviews=%{y}<br>price=%{marker.color}<extra></extra>",
         "hovertext": [
          "practical deep learning: a python-based introduction",
          "deep learning: a comprehensive guide to python coding and programming machine learning and neural networks for data analysis (python programming deep learning)",
          "deep learning from scratch: building with python from first principles",
          "modern computer vision with pytorch: explore deep learning concepts and implement over 50 real-world image applications",
          "modern time series forecasting with python: explore industry-ready time series forecasting using modern machine learning and deep learning",
          "machine learning with python cookbook: practical solutions from preprocessing to deep learning",
          "3d deep learning with python: design and develop your computer vision model with 3d data using pytorch3d and more",
          "deep learning with pytorch lightning: swiftly build high-performance artificial intelligence (ai) models using python",
          "deep learning with python, second edition",
          "machine learning with pytorch and scikit-learn: develop machine learning and deep learning models with python",
          "deep learning: engage the world change the world",
          "practical deep learning at scale with mlflow: bridge the gap between offline experimentation and online production"
         ],
         "legendgroup": "",
         "marker": {
          "color": [
           36.99,
           4.97,
           38.99,
           48.84,
           44.99,
           49.18,
           39.99,
           46.99,
           39.49,
           39.02,
           5.33,
           44.99
          ],
          "coloraxis": "coloraxis",
          "size": [
           36.99,
           4.97,
           38.99,
           48.84,
           44.99,
           49.18,
           39.99,
           46.99,
           39.49,
           39.02,
           5.33,
           44.99
          ],
          "sizemode": "area",
          "sizeref": 0.12295,
          "symbol": "circle"
         },
         "mode": "markers",
         "name": "",
         "orientation": "v",
         "showlegend": false,
         "type": "scatter",
         "x": [
          4.7,
          4.7,
          4.3,
          4.6,
          5,
          4.5,
          5,
          4.3,
          4.7,
          4.6,
          4.5,
          4.8
         ],
         "xaxis": "x",
         "y": [
          38,
          22,
          84,
          56,
          2,
          178,
          2,
          15,
          197,
          164,
          74,
          8
         ],
         "yaxis": "y"
        }
       ],
       "layout": {
        "coloraxis": {
         "colorbar": {
          "title": {
           "text": "price"
          }
         },
         "colorscale": [
          [
           0,
           "#0d0887"
          ],
          [
           0.1111111111111111,
           "#46039f"
          ],
          [
           0.2222222222222222,
           "#7201a8"
          ],
          [
           0.3333333333333333,
           "#9c179e"
          ],
          [
           0.4444444444444444,
           "#bd3786"
          ],
          [
           0.5555555555555556,
           "#d8576b"
          ],
          [
           0.6666666666666666,
           "#ed7953"
          ],
          [
           0.7777777777777778,
           "#fb9f3a"
          ],
          [
           0.8888888888888888,
           "#fdca26"
          ],
          [
           1,
           "#f0f921"
          ]
         ]
        },
        "legend": {
         "itemsizing": "constant",
         "tracegroupgap": 0
        },
        "template": {
         "data": {
          "bar": [
           {
            "error_x": {
             "color": "#2a3f5f"
            },
            "error_y": {
             "color": "#2a3f5f"
            },
            "marker": {
             "line": {
              "color": "#E5ECF6",
              "width": 0.5
             },
             "pattern": {
              "fillmode": "overlay",
              "size": 10,
              "solidity": 0.2
             }
            },
            "type": "bar"
           }
          ],
          "barpolar": [
           {
            "marker": {
             "line": {
              "color": "#E5ECF6",
              "width": 0.5
             },
             "pattern": {
              "fillmode": "overlay",
              "size": 10,
              "solidity": 0.2
             }
            },
            "type": "barpolar"
           }
          ],
          "carpet": [
           {
            "aaxis": {
             "endlinecolor": "#2a3f5f",
             "gridcolor": "white",
             "linecolor": "white",
             "minorgridcolor": "white",
             "startlinecolor": "#2a3f5f"
            },
            "baxis": {
             "endlinecolor": "#2a3f5f",
             "gridcolor": "white",
             "linecolor": "white",
             "minorgridcolor": "white",
             "startlinecolor": "#2a3f5f"
            },
            "type": "carpet"
           }
          ],
          "choropleth": [
           {
            "colorbar": {
             "outlinewidth": 0,
             "ticks": ""
            },
            "type": "choropleth"
           }
          ],
          "contour": [
           {
            "colorbar": {
             "outlinewidth": 0,
             "ticks": ""
            },
            "colorscale": [
             [
              0,
              "#0d0887"
             ],
             [
              0.1111111111111111,
              "#46039f"
             ],
             [
              0.2222222222222222,
              "#7201a8"
             ],
             [
              0.3333333333333333,
              "#9c179e"
             ],
             [
              0.4444444444444444,
              "#bd3786"
             ],
             [
              0.5555555555555556,
              "#d8576b"
             ],
             [
              0.6666666666666666,
              "#ed7953"
             ],
             [
              0.7777777777777778,
              "#fb9f3a"
             ],
             [
              0.8888888888888888,
              "#fdca26"
             ],
             [
              1,
              "#f0f921"
             ]
            ],
            "type": "contour"
           }
          ],
          "contourcarpet": [
           {
            "colorbar": {
             "outlinewidth": 0,
             "ticks": ""
            },
            "type": "contourcarpet"
           }
          ],
          "heatmap": [
           {
            "colorbar": {
             "outlinewidth": 0,
             "ticks": ""
            },
            "colorscale": [
             [
              0,
              "#0d0887"
             ],
             [
              0.1111111111111111,
              "#46039f"
             ],
             [
              0.2222222222222222,
              "#7201a8"
             ],
             [
              0.3333333333333333,
              "#9c179e"
             ],
             [
              0.4444444444444444,
              "#bd3786"
             ],
             [
              0.5555555555555556,
              "#d8576b"
             ],
             [
              0.6666666666666666,
              "#ed7953"
             ],
             [
              0.7777777777777778,
              "#fb9f3a"
             ],
             [
              0.8888888888888888,
              "#fdca26"
             ],
             [
              1,
              "#f0f921"
             ]
            ],
            "type": "heatmap"
           }
          ],
          "heatmapgl": [
           {
            "colorbar": {
             "outlinewidth": 0,
             "ticks": ""
            },
            "colorscale": [
             [
              0,
              "#0d0887"
             ],
             [
              0.1111111111111111,
              "#46039f"
             ],
             [
              0.2222222222222222,
              "#7201a8"
             ],
             [
              0.3333333333333333,
              "#9c179e"
             ],
             [
              0.4444444444444444,
              "#bd3786"
             ],
             [
              0.5555555555555556,
              "#d8576b"
             ],
             [
              0.6666666666666666,
              "#ed7953"
             ],
             [
              0.7777777777777778,
              "#fb9f3a"
             ],
             [
              0.8888888888888888,
              "#fdca26"
             ],
             [
              1,
              "#f0f921"
             ]
            ],
            "type": "heatmapgl"
           }
          ],
          "histogram": [
           {
            "marker": {
             "pattern": {
              "fillmode": "overlay",
              "size": 10,
              "solidity": 0.2
             }
            },
            "type": "histogram"
           }
          ],
          "histogram2d": [
           {
            "colorbar": {
             "outlinewidth": 0,
             "ticks": ""
            },
            "colorscale": [
             [
              0,
              "#0d0887"
             ],
             [
              0.1111111111111111,
              "#46039f"
             ],
             [
              0.2222222222222222,
              "#7201a8"
             ],
             [
              0.3333333333333333,
              "#9c179e"
             ],
             [
              0.4444444444444444,
              "#bd3786"
             ],
             [
              0.5555555555555556,
              "#d8576b"
             ],
             [
              0.6666666666666666,
              "#ed7953"
             ],
             [
              0.7777777777777778,
              "#fb9f3a"
             ],
             [
              0.8888888888888888,
              "#fdca26"
             ],
             [
              1,
              "#f0f921"
             ]
            ],
            "type": "histogram2d"
           }
          ],
          "histogram2dcontour": [
           {
            "colorbar": {
             "outlinewidth": 0,
             "ticks": ""
            },
            "colorscale": [
             [
              0,
              "#0d0887"
             ],
             [
              0.1111111111111111,
              "#46039f"
             ],
             [
              0.2222222222222222,
              "#7201a8"
             ],
             [
              0.3333333333333333,
              "#9c179e"
             ],
             [
              0.4444444444444444,
              "#bd3786"
             ],
             [
              0.5555555555555556,
              "#d8576b"
             ],
             [
              0.6666666666666666,
              "#ed7953"
             ],
             [
              0.7777777777777778,
              "#fb9f3a"
             ],
             [
              0.8888888888888888,
              "#fdca26"
             ],
             [
              1,
              "#f0f921"
             ]
            ],
            "type": "histogram2dcontour"
           }
          ],
          "mesh3d": [
           {
            "colorbar": {
             "outlinewidth": 0,
             "ticks": ""
            },
            "type": "mesh3d"
           }
          ],
          "parcoords": [
           {
            "line": {
             "colorbar": {
              "outlinewidth": 0,
              "ticks": ""
             }
            },
            "type": "parcoords"
           }
          ],
          "pie": [
           {
            "automargin": true,
            "type": "pie"
           }
          ],
          "scatter": [
           {
            "fillpattern": {
             "fillmode": "overlay",
             "size": 10,
             "solidity": 0.2
            },
            "type": "scatter"
           }
          ],
          "scatter3d": [
           {
            "line": {
             "colorbar": {
              "outlinewidth": 0,
              "ticks": ""
             }
            },
            "marker": {
             "colorbar": {
              "outlinewidth": 0,
              "ticks": ""
             }
            },
            "type": "scatter3d"
           }
          ],
          "scattercarpet": [
           {
            "marker": {
             "colorbar": {
              "outlinewidth": 0,
              "ticks": ""
             }
            },
            "type": "scattercarpet"
           }
          ],
          "scattergeo": [
           {
            "marker": {
             "colorbar": {
              "outlinewidth": 0,
              "ticks": ""
             }
            },
            "type": "scattergeo"
           }
          ],
          "scattergl": [
           {
            "marker": {
             "colorbar": {
              "outlinewidth": 0,
              "ticks": ""
             }
            },
            "type": "scattergl"
           }
          ],
          "scattermapbox": [
           {
            "marker": {
             "colorbar": {
              "outlinewidth": 0,
              "ticks": ""
             }
            },
            "type": "scattermapbox"
           }
          ],
          "scatterpolar": [
           {
            "marker": {
             "colorbar": {
              "outlinewidth": 0,
              "ticks": ""
             }
            },
            "type": "scatterpolar"
           }
          ],
          "scatterpolargl": [
           {
            "marker": {
             "colorbar": {
              "outlinewidth": 0,
              "ticks": ""
             }
            },
            "type": "scatterpolargl"
           }
          ],
          "scatterternary": [
           {
            "marker": {
             "colorbar": {
              "outlinewidth": 0,
              "ticks": ""
             }
            },
            "type": "scatterternary"
           }
          ],
          "surface": [
           {
            "colorbar": {
             "outlinewidth": 0,
             "ticks": ""
            },
            "colorscale": [
             [
              0,
              "#0d0887"
             ],
             [
              0.1111111111111111,
              "#46039f"
             ],
             [
              0.2222222222222222,
              "#7201a8"
             ],
             [
              0.3333333333333333,
              "#9c179e"
             ],
             [
              0.4444444444444444,
              "#bd3786"
             ],
             [
              0.5555555555555556,
              "#d8576b"
             ],
             [
              0.6666666666666666,
              "#ed7953"
             ],
             [
              0.7777777777777778,
              "#fb9f3a"
             ],
             [
              0.8888888888888888,
              "#fdca26"
             ],
             [
              1,
              "#f0f921"
             ]
            ],
            "type": "surface"
           }
          ],
          "table": [
           {
            "cells": {
             "fill": {
              "color": "#EBF0F8"
             },
             "line": {
              "color": "white"
             }
            },
            "header": {
             "fill": {
              "color": "#C8D4E3"
             },
             "line": {
              "color": "white"
             }
            },
            "type": "table"
           }
          ]
         },
         "layout": {
          "annotationdefaults": {
           "arrowcolor": "#2a3f5f",
           "arrowhead": 0,
           "arrowwidth": 1
          },
          "autotypenumbers": "strict",
          "coloraxis": {
           "colorbar": {
            "outlinewidth": 0,
            "ticks": ""
           }
          },
          "colorscale": {
           "diverging": [
            [
             0,
             "#8e0152"
            ],
            [
             0.1,
             "#c51b7d"
            ],
            [
             0.2,
             "#de77ae"
            ],
            [
             0.3,
             "#f1b6da"
            ],
            [
             0.4,
             "#fde0ef"
            ],
            [
             0.5,
             "#f7f7f7"
            ],
            [
             0.6,
             "#e6f5d0"
            ],
            [
             0.7,
             "#b8e186"
            ],
            [
             0.8,
             "#7fbc41"
            ],
            [
             0.9,
             "#4d9221"
            ],
            [
             1,
             "#276419"
            ]
           ],
           "sequential": [
            [
             0,
             "#0d0887"
            ],
            [
             0.1111111111111111,
             "#46039f"
            ],
            [
             0.2222222222222222,
             "#7201a8"
            ],
            [
             0.3333333333333333,
             "#9c179e"
            ],
            [
             0.4444444444444444,
             "#bd3786"
            ],
            [
             0.5555555555555556,
             "#d8576b"
            ],
            [
             0.6666666666666666,
             "#ed7953"
            ],
            [
             0.7777777777777778,
             "#fb9f3a"
            ],
            [
             0.8888888888888888,
             "#fdca26"
            ],
            [
             1,
             "#f0f921"
            ]
           ],
           "sequentialminus": [
            [
             0,
             "#0d0887"
            ],
            [
             0.1111111111111111,
             "#46039f"
            ],
            [
             0.2222222222222222,
             "#7201a8"
            ],
            [
             0.3333333333333333,
             "#9c179e"
            ],
            [
             0.4444444444444444,
             "#bd3786"
            ],
            [
             0.5555555555555556,
             "#d8576b"
            ],
            [
             0.6666666666666666,
             "#ed7953"
            ],
            [
             0.7777777777777778,
             "#fb9f3a"
            ],
            [
             0.8888888888888888,
             "#fdca26"
            ],
            [
             1,
             "#f0f921"
            ]
           ]
          },
          "colorway": [
           "#636efa",
           "#EF553B",
           "#00cc96",
           "#ab63fa",
           "#FFA15A",
           "#19d3f3",
           "#FF6692",
           "#B6E880",
           "#FF97FF",
           "#FECB52"
          ],
          "font": {
           "color": "#2a3f5f"
          },
          "geo": {
           "bgcolor": "white",
           "lakecolor": "white",
           "landcolor": "#E5ECF6",
           "showlakes": true,
           "showland": true,
           "subunitcolor": "white"
          },
          "hoverlabel": {
           "align": "left"
          },
          "hovermode": "closest",
          "mapbox": {
           "style": "light"
          },
          "paper_bgcolor": "white",
          "plot_bgcolor": "#E5ECF6",
          "polar": {
           "angularaxis": {
            "gridcolor": "white",
            "linecolor": "white",
            "ticks": ""
           },
           "bgcolor": "#E5ECF6",
           "radialaxis": {
            "gridcolor": "white",
            "linecolor": "white",
            "ticks": ""
           }
          },
          "scene": {
           "xaxis": {
            "backgroundcolor": "#E5ECF6",
            "gridcolor": "white",
            "gridwidth": 2,
            "linecolor": "white",
            "showbackground": true,
            "ticks": "",
            "zerolinecolor": "white"
           },
           "yaxis": {
            "backgroundcolor": "#E5ECF6",
            "gridcolor": "white",
            "gridwidth": 2,
            "linecolor": "white",
            "showbackground": true,
            "ticks": "",
            "zerolinecolor": "white"
           },
           "zaxis": {
            "backgroundcolor": "#E5ECF6",
            "gridcolor": "white",
            "gridwidth": 2,
            "linecolor": "white",
            "showbackground": true,
            "ticks": "",
            "zerolinecolor": "white"
           }
          },
          "shapedefaults": {
           "line": {
            "color": "#2a3f5f"
           }
          },
          "ternary": {
           "aaxis": {
            "gridcolor": "white",
            "linecolor": "white",
            "ticks": ""
           },
           "baxis": {
            "gridcolor": "white",
            "linecolor": "white",
            "ticks": ""
           },
           "bgcolor": "#E5ECF6",
           "caxis": {
            "gridcolor": "white",
            "linecolor": "white",
            "ticks": ""
           }
          },
          "title": {
           "x": 0.05
          },
          "xaxis": {
           "automargin": true,
           "gridcolor": "white",
           "linecolor": "white",
           "ticks": "",
           "title": {
            "standoff": 15
           },
           "zerolinecolor": "white",
           "zerolinewidth": 2
          },
          "yaxis": {
           "automargin": true,
           "gridcolor": "white",
           "linecolor": "white",
           "ticks": "",
           "title": {
            "standoff": 15
           },
           "zerolinecolor": "white",
           "zerolinewidth": 2
          }
         }
        },
        "title": {
         "text": "Reviews of Deep Learning's Books"
        },
        "xaxis": {
         "anchor": "y",
         "domain": [
          0,
          1
         ],
         "range": [
          0,
          5.5
         ],
         "title": {
          "text": "avg_reviews"
         }
        },
        "yaxis": {
         "anchor": "x",
         "domain": [
          0,
          1
         ],
         "title": {
          "text": "n_reviews"
         }
        }
       }
      },
      "text/html": [
       "<div>                            <div id=\"6474cd3a-5bcc-4922-be70-46db43d5e02f\" class=\"plotly-graph-div\" style=\"height:525px; width:100%;\"></div>            <script type=\"text/javascript\">                require([\"plotly\"], function(Plotly) {                    window.PLOTLYENV=window.PLOTLYENV || {};                                    if (document.getElementById(\"6474cd3a-5bcc-4922-be70-46db43d5e02f\")) {                    Plotly.newPlot(                        \"6474cd3a-5bcc-4922-be70-46db43d5e02f\",                        [{\"hovertemplate\":\"<b>%{hovertext}</b><br><br>avg_reviews=%{x}<br>n_reviews=%{y}<br>price=%{marker.color}<extra></extra>\",\"hovertext\":[\"practical deep learning: a python-based introduction\",\"deep learning: a comprehensive guide to python coding and programming machine learning and neural networks for data analysis (python programming deep learning)\",\"deep learning from scratch: building with python from first principles\",\"modern computer vision with pytorch: explore deep learning concepts and implement over 50 real-world image applications\",\"modern time series forecasting with python: explore industry-ready time series forecasting using modern machine learning and deep learning\",\"machine learning with python cookbook: practical solutions from preprocessing to deep learning\",\"3d deep learning with python: design and develop your computer vision model with 3d data using pytorch3d and more\",\"deep learning with pytorch lightning: swiftly build high-performance artificial intelligence (ai) models using python\",\"deep learning with python, second edition\",\"machine learning with pytorch and scikit-learn: develop machine learning and deep learning models with python\",\"deep learning: engage the world change the world\",\"practical deep learning at scale with mlflow: bridge the gap between offline experimentation and online production\"],\"legendgroup\":\"\",\"marker\":{\"color\":[36.99,4.97,38.99,48.84,44.99,49.18,39.99,46.99,39.49,39.02,5.33,44.99],\"coloraxis\":\"coloraxis\",\"size\":[36.99,4.97,38.99,48.84,44.99,49.18,39.99,46.99,39.49,39.02,5.33,44.99],\"sizemode\":\"area\",\"sizeref\":0.12295,\"symbol\":\"circle\"},\"mode\":\"markers\",\"name\":\"\",\"orientation\":\"v\",\"showlegend\":false,\"x\":[4.7,4.7,4.3,4.6,5.0,4.5,5.0,4.3,4.7,4.6,4.5,4.8],\"xaxis\":\"x\",\"y\":[38.0,22.0,84.0,56.0,2.0,178.0,2.0,15.0,197.0,164.0,74.0,8.0],\"yaxis\":\"y\",\"type\":\"scatter\"}],                        {\"template\":{\"data\":{\"histogram2dcontour\":[{\"type\":\"histogram2dcontour\",\"colorbar\":{\"outlinewidth\":0,\"ticks\":\"\"},\"colorscale\":[[0.0,\"#0d0887\"],[0.1111111111111111,\"#46039f\"],[0.2222222222222222,\"#7201a8\"],[0.3333333333333333,\"#9c179e\"],[0.4444444444444444,\"#bd3786\"],[0.5555555555555556,\"#d8576b\"],[0.6666666666666666,\"#ed7953\"],[0.7777777777777778,\"#fb9f3a\"],[0.8888888888888888,\"#fdca26\"],[1.0,\"#f0f921\"]]}],\"choropleth\":[{\"type\":\"choropleth\",\"colorbar\":{\"outlinewidth\":0,\"ticks\":\"\"}}],\"histogram2d\":[{\"type\":\"histogram2d\",\"colorbar\":{\"outlinewidth\":0,\"ticks\":\"\"},\"colorscale\":[[0.0,\"#0d0887\"],[0.1111111111111111,\"#46039f\"],[0.2222222222222222,\"#7201a8\"],[0.3333333333333333,\"#9c179e\"],[0.4444444444444444,\"#bd3786\"],[0.5555555555555556,\"#d8576b\"],[0.6666666666666666,\"#ed7953\"],[0.7777777777777778,\"#fb9f3a\"],[0.8888888888888888,\"#fdca26\"],[1.0,\"#f0f921\"]]}],\"heatmap\":[{\"type\":\"heatmap\",\"colorbar\":{\"outlinewidth\":0,\"ticks\":\"\"},\"colorscale\":[[0.0,\"#0d0887\"],[0.1111111111111111,\"#46039f\"],[0.2222222222222222,\"#7201a8\"],[0.3333333333333333,\"#9c179e\"],[0.4444444444444444,\"#bd3786\"],[0.5555555555555556,\"#d8576b\"],[0.6666666666666666,\"#ed7953\"],[0.7777777777777778,\"#fb9f3a\"],[0.8888888888888888,\"#fdca26\"],[1.0,\"#f0f921\"]]}],\"heatmapgl\":[{\"type\":\"heatmapgl\",\"colorbar\":{\"outlinewidth\":0,\"ticks\":\"\"},\"colorscale\":[[0.0,\"#0d0887\"],[0.1111111111111111,\"#46039f\"],[0.2222222222222222,\"#7201a8\"],[0.3333333333333333,\"#9c179e\"],[0.4444444444444444,\"#bd3786\"],[0.5555555555555556,\"#d8576b\"],[0.6666666666666666,\"#ed7953\"],[0.7777777777777778,\"#fb9f3a\"],[0.8888888888888888,\"#fdca26\"],[1.0,\"#f0f921\"]]}],\"contourcarpet\":[{\"type\":\"contourcarpet\",\"colorbar\":{\"outlinewidth\":0,\"ticks\":\"\"}}],\"contour\":[{\"type\":\"contour\",\"colorbar\":{\"outlinewidth\":0,\"ticks\":\"\"},\"colorscale\":[[0.0,\"#0d0887\"],[0.1111111111111111,\"#46039f\"],[0.2222222222222222,\"#7201a8\"],[0.3333333333333333,\"#9c179e\"],[0.4444444444444444,\"#bd3786\"],[0.5555555555555556,\"#d8576b\"],[0.6666666666666666,\"#ed7953\"],[0.7777777777777778,\"#fb9f3a\"],[0.8888888888888888,\"#fdca26\"],[1.0,\"#f0f921\"]]}],\"surface\":[{\"type\":\"surface\",\"colorbar\":{\"outlinewidth\":0,\"ticks\":\"\"},\"colorscale\":[[0.0,\"#0d0887\"],[0.1111111111111111,\"#46039f\"],[0.2222222222222222,\"#7201a8\"],[0.3333333333333333,\"#9c179e\"],[0.4444444444444444,\"#bd3786\"],[0.5555555555555556,\"#d8576b\"],[0.6666666666666666,\"#ed7953\"],[0.7777777777777778,\"#fb9f3a\"],[0.8888888888888888,\"#fdca26\"],[1.0,\"#f0f921\"]]}],\"mesh3d\":[{\"type\":\"mesh3d\",\"colorbar\":{\"outlinewidth\":0,\"ticks\":\"\"}}],\"scatter\":[{\"fillpattern\":{\"fillmode\":\"overlay\",\"size\":10,\"solidity\":0.2},\"type\":\"scatter\"}],\"parcoords\":[{\"type\":\"parcoords\",\"line\":{\"colorbar\":{\"outlinewidth\":0,\"ticks\":\"\"}}}],\"scatterpolargl\":[{\"type\":\"scatterpolargl\",\"marker\":{\"colorbar\":{\"outlinewidth\":0,\"ticks\":\"\"}}}],\"bar\":[{\"error_x\":{\"color\":\"#2a3f5f\"},\"error_y\":{\"color\":\"#2a3f5f\"},\"marker\":{\"line\":{\"color\":\"#E5ECF6\",\"width\":0.5},\"pattern\":{\"fillmode\":\"overlay\",\"size\":10,\"solidity\":0.2}},\"type\":\"bar\"}],\"scattergeo\":[{\"type\":\"scattergeo\",\"marker\":{\"colorbar\":{\"outlinewidth\":0,\"ticks\":\"\"}}}],\"scatterpolar\":[{\"type\":\"scatterpolar\",\"marker\":{\"colorbar\":{\"outlinewidth\":0,\"ticks\":\"\"}}}],\"histogram\":[{\"marker\":{\"pattern\":{\"fillmode\":\"overlay\",\"size\":10,\"solidity\":0.2}},\"type\":\"histogram\"}],\"scattergl\":[{\"type\":\"scattergl\",\"marker\":{\"colorbar\":{\"outlinewidth\":0,\"ticks\":\"\"}}}],\"scatter3d\":[{\"type\":\"scatter3d\",\"line\":{\"colorbar\":{\"outlinewidth\":0,\"ticks\":\"\"}},\"marker\":{\"colorbar\":{\"outlinewidth\":0,\"ticks\":\"\"}}}],\"scattermapbox\":[{\"type\":\"scattermapbox\",\"marker\":{\"colorbar\":{\"outlinewidth\":0,\"ticks\":\"\"}}}],\"scatterternary\":[{\"type\":\"scatterternary\",\"marker\":{\"colorbar\":{\"outlinewidth\":0,\"ticks\":\"\"}}}],\"scattercarpet\":[{\"type\":\"scattercarpet\",\"marker\":{\"colorbar\":{\"outlinewidth\":0,\"ticks\":\"\"}}}],\"carpet\":[{\"aaxis\":{\"endlinecolor\":\"#2a3f5f\",\"gridcolor\":\"white\",\"linecolor\":\"white\",\"minorgridcolor\":\"white\",\"startlinecolor\":\"#2a3f5f\"},\"baxis\":{\"endlinecolor\":\"#2a3f5f\",\"gridcolor\":\"white\",\"linecolor\":\"white\",\"minorgridcolor\":\"white\",\"startlinecolor\":\"#2a3f5f\"},\"type\":\"carpet\"}],\"table\":[{\"cells\":{\"fill\":{\"color\":\"#EBF0F8\"},\"line\":{\"color\":\"white\"}},\"header\":{\"fill\":{\"color\":\"#C8D4E3\"},\"line\":{\"color\":\"white\"}},\"type\":\"table\"}],\"barpolar\":[{\"marker\":{\"line\":{\"color\":\"#E5ECF6\",\"width\":0.5},\"pattern\":{\"fillmode\":\"overlay\",\"size\":10,\"solidity\":0.2}},\"type\":\"barpolar\"}],\"pie\":[{\"automargin\":true,\"type\":\"pie\"}]},\"layout\":{\"autotypenumbers\":\"strict\",\"colorway\":[\"#636efa\",\"#EF553B\",\"#00cc96\",\"#ab63fa\",\"#FFA15A\",\"#19d3f3\",\"#FF6692\",\"#B6E880\",\"#FF97FF\",\"#FECB52\"],\"font\":{\"color\":\"#2a3f5f\"},\"hovermode\":\"closest\",\"hoverlabel\":{\"align\":\"left\"},\"paper_bgcolor\":\"white\",\"plot_bgcolor\":\"#E5ECF6\",\"polar\":{\"bgcolor\":\"#E5ECF6\",\"angularaxis\":{\"gridcolor\":\"white\",\"linecolor\":\"white\",\"ticks\":\"\"},\"radialaxis\":{\"gridcolor\":\"white\",\"linecolor\":\"white\",\"ticks\":\"\"}},\"ternary\":{\"bgcolor\":\"#E5ECF6\",\"aaxis\":{\"gridcolor\":\"white\",\"linecolor\":\"white\",\"ticks\":\"\"},\"baxis\":{\"gridcolor\":\"white\",\"linecolor\":\"white\",\"ticks\":\"\"},\"caxis\":{\"gridcolor\":\"white\",\"linecolor\":\"white\",\"ticks\":\"\"}},\"coloraxis\":{\"colorbar\":{\"outlinewidth\":0,\"ticks\":\"\"}},\"colorscale\":{\"sequential\":[[0.0,\"#0d0887\"],[0.1111111111111111,\"#46039f\"],[0.2222222222222222,\"#7201a8\"],[0.3333333333333333,\"#9c179e\"],[0.4444444444444444,\"#bd3786\"],[0.5555555555555556,\"#d8576b\"],[0.6666666666666666,\"#ed7953\"],[0.7777777777777778,\"#fb9f3a\"],[0.8888888888888888,\"#fdca26\"],[1.0,\"#f0f921\"]],\"sequentialminus\":[[0.0,\"#0d0887\"],[0.1111111111111111,\"#46039f\"],[0.2222222222222222,\"#7201a8\"],[0.3333333333333333,\"#9c179e\"],[0.4444444444444444,\"#bd3786\"],[0.5555555555555556,\"#d8576b\"],[0.6666666666666666,\"#ed7953\"],[0.7777777777777778,\"#fb9f3a\"],[0.8888888888888888,\"#fdca26\"],[1.0,\"#f0f921\"]],\"diverging\":[[0,\"#8e0152\"],[0.1,\"#c51b7d\"],[0.2,\"#de77ae\"],[0.3,\"#f1b6da\"],[0.4,\"#fde0ef\"],[0.5,\"#f7f7f7\"],[0.6,\"#e6f5d0\"],[0.7,\"#b8e186\"],[0.8,\"#7fbc41\"],[0.9,\"#4d9221\"],[1,\"#276419\"]]},\"xaxis\":{\"gridcolor\":\"white\",\"linecolor\":\"white\",\"ticks\":\"\",\"title\":{\"standoff\":15},\"zerolinecolor\":\"white\",\"automargin\":true,\"zerolinewidth\":2},\"yaxis\":{\"gridcolor\":\"white\",\"linecolor\":\"white\",\"ticks\":\"\",\"title\":{\"standoff\":15},\"zerolinecolor\":\"white\",\"automargin\":true,\"zerolinewidth\":2},\"scene\":{\"xaxis\":{\"backgroundcolor\":\"#E5ECF6\",\"gridcolor\":\"white\",\"linecolor\":\"white\",\"showbackground\":true,\"ticks\":\"\",\"zerolinecolor\":\"white\",\"gridwidth\":2},\"yaxis\":{\"backgroundcolor\":\"#E5ECF6\",\"gridcolor\":\"white\",\"linecolor\":\"white\",\"showbackground\":true,\"ticks\":\"\",\"zerolinecolor\":\"white\",\"gridwidth\":2},\"zaxis\":{\"backgroundcolor\":\"#E5ECF6\",\"gridcolor\":\"white\",\"linecolor\":\"white\",\"showbackground\":true,\"ticks\":\"\",\"zerolinecolor\":\"white\",\"gridwidth\":2}},\"shapedefaults\":{\"line\":{\"color\":\"#2a3f5f\"}},\"annotationdefaults\":{\"arrowcolor\":\"#2a3f5f\",\"arrowhead\":0,\"arrowwidth\":1},\"geo\":{\"bgcolor\":\"white\",\"landcolor\":\"#E5ECF6\",\"subunitcolor\":\"white\",\"showland\":true,\"showlakes\":true,\"lakecolor\":\"white\"},\"title\":{\"x\":0.05},\"mapbox\":{\"style\":\"light\"}}},\"xaxis\":{\"anchor\":\"y\",\"domain\":[0.0,1.0],\"title\":{\"text\":\"avg_reviews\"},\"range\":[0,5.5]},\"yaxis\":{\"anchor\":\"x\",\"domain\":[0.0,1.0],\"title\":{\"text\":\"n_reviews\"}},\"coloraxis\":{\"colorbar\":{\"title\":{\"text\":\"price\"}},\"colorscale\":[[0.0,\"#0d0887\"],[0.1111111111111111,\"#46039f\"],[0.2222222222222222,\"#7201a8\"],[0.3333333333333333,\"#9c179e\"],[0.4444444444444444,\"#bd3786\"],[0.5555555555555556,\"#d8576b\"],[0.6666666666666666,\"#ed7953\"],[0.7777777777777778,\"#fb9f3a\"],[0.8888888888888888,\"#fdca26\"],[1.0,\"#f0f921\"]]},\"legend\":{\"tracegroupgap\":0,\"itemsizing\":\"constant\"},\"title\":{\"text\":\"Reviews of Deep Learning's Books\"}},                        {\"responsive\": true}                    ).then(function(){\n",
       "                            \n",
       "var gd = document.getElementById('6474cd3a-5bcc-4922-be70-46db43d5e02f');\n",
       "var x = new MutationObserver(function (mutations, observer) {{\n",
       "        var display = window.getComputedStyle(gd).display;\n",
       "        if (!display || display === 'none') {{\n",
       "            console.log([gd, 'removed!']);\n",
       "            Plotly.purge(gd);\n",
       "            observer.disconnect();\n",
       "        }}\n",
       "}});\n",
       "\n",
       "// Listen for the removal of the full notebook cells\n",
       "var notebookContainer = gd.closest('#notebook-container');\n",
       "if (notebookContainer) {{\n",
       "    x.observe(notebookContainer, {childList: true});\n",
       "}}\n",
       "\n",
       "// Listen for the clearing of the current output cell\n",
       "var outputEl = gd.closest('.output');\n",
       "if (outputEl) {{\n",
       "    x.observe(outputEl, {childList: true});\n",
       "}}\n",
       "\n",
       "                        })                };                });            </script>        </div>"
      ]
     },
     "metadata": {},
     "output_type": "display_data"
    }
   ],
   "source": [
    "fig = px.scatter(df_DL_book, x=\"avg_reviews\", y=\"n_reviews\", color='price', \n",
    "                 size='price', title=\"Reviews of Deep Learning's Books\", range_x=[0,5.5], hover_name=\"title\")\n",
    "fig.show()"
   ]
  },
  {
   "cell_type": "code",
   "execution_count": null,
   "id": "647af09b",
   "metadata": {},
   "outputs": [],
   "source": []
  },
  {
   "cell_type": "code",
   "execution_count": null,
   "id": "fa7f2a2b",
   "metadata": {},
   "outputs": [],
   "source": []
  },
  {
   "cell_type": "code",
   "execution_count": null,
   "id": "2d924809",
   "metadata": {},
   "outputs": [],
   "source": []
  },
  {
   "cell_type": "code",
   "execution_count": null,
   "id": "eabf889e",
   "metadata": {},
   "outputs": [],
   "source": []
  },
  {
   "cell_type": "code",
   "execution_count": null,
   "id": "425681fb",
   "metadata": {},
   "outputs": [],
   "source": []
  },
  {
   "cell_type": "code",
   "execution_count": null,
   "id": "9c4d5fce",
   "metadata": {},
   "outputs": [],
   "source": []
  },
  {
   "cell_type": "code",
   "execution_count": null,
   "id": "eab3cede",
   "metadata": {},
   "outputs": [],
   "source": []
  },
  {
   "cell_type": "code",
   "execution_count": null,
   "id": "1dd556fe",
   "metadata": {},
   "outputs": [],
   "source": []
  },
  {
   "cell_type": "code",
   "execution_count": null,
   "id": "12a87e8e",
   "metadata": {},
   "outputs": [],
   "source": []
  },
  {
   "cell_type": "code",
   "execution_count": null,
   "id": "12d5fd35",
   "metadata": {},
   "outputs": [],
   "source": []
  },
  {
   "cell_type": "code",
   "execution_count": null,
   "id": "b6f50955",
   "metadata": {},
   "outputs": [],
   "source": []
  },
  {
   "cell_type": "code",
   "execution_count": null,
   "id": "05bda4fc",
   "metadata": {},
   "outputs": [],
   "source": []
  },
  {
   "cell_type": "code",
   "execution_count": 67,
   "id": "351a31e1",
   "metadata": {},
   "outputs": [
    {
     "data": {
      "text/html": [
       "<div>\n",
       "<style scoped>\n",
       "    .dataframe tbody tr th:only-of-type {\n",
       "        vertical-align: middle;\n",
       "    }\n",
       "\n",
       "    .dataframe tbody tr th {\n",
       "        vertical-align: top;\n",
       "    }\n",
       "\n",
       "    .dataframe thead th {\n",
       "        text-align: right;\n",
       "    }\n",
       "</style>\n",
       "<table border=\"1\" class=\"dataframe\">\n",
       "  <thead>\n",
       "    <tr style=\"text-align: right;\">\n",
       "      <th></th>\n",
       "      <th>author</th>\n",
       "      <th>title</th>\n",
       "    </tr>\n",
       "  </thead>\n",
       "  <tbody>\n",
       "    <tr>\n",
       "      <th>0</th>\n",
       "      <td>[ Al Sweigart]</td>\n",
       "      <td>8</td>\n",
       "    </tr>\n",
       "    <tr>\n",
       "      <th>1</th>\n",
       "      <td>[ Chad Knowles]</td>\n",
       "      <td>3</td>\n",
       "    </tr>\n",
       "    <tr>\n",
       "      <th>2</th>\n",
       "      <td>[ Eric Matthes]</td>\n",
       "      <td>3</td>\n",
       "    </tr>\n",
       "    <tr>\n",
       "      <th>3</th>\n",
       "      <td>[ Inc. BarCharts]</td>\n",
       "      <td>3</td>\n",
       "    </tr>\n",
       "    <tr>\n",
       "      <th>4</th>\n",
       "      <td>[ Yves Hilpisch]</td>\n",
       "      <td>3</td>\n",
       "    </tr>\n",
       "    <tr>\n",
       "      <th>5</th>\n",
       "      <td>[ Jim Frost]</td>\n",
       "      <td>3</td>\n",
       "    </tr>\n",
       "    <tr>\n",
       "      <th>6</th>\n",
       "      <td>[ Paul A. Zandbergen]</td>\n",
       "      <td>3</td>\n",
       "    </tr>\n",
       "    <tr>\n",
       "      <th>7</th>\n",
       "      <td>[ Leonard J. Ledger]</td>\n",
       "      <td>3</td>\n",
       "    </tr>\n",
       "    <tr>\n",
       "      <th>8</th>\n",
       "      <td>[ Alan Agresti]</td>\n",
       "      <td>3</td>\n",
       "    </tr>\n",
       "    <tr>\n",
       "      <th>9</th>\n",
       "      <td>[ Greg Deckler]</td>\n",
       "      <td>2</td>\n",
       "    </tr>\n",
       "    <tr>\n",
       "      <th>10</th>\n",
       "      <td>[ John Tukey]</td>\n",
       "      <td>2</td>\n",
       "    </tr>\n",
       "    <tr>\n",
       "      <th>11</th>\n",
       "      <td>[ Jason R. Briggs]</td>\n",
       "      <td>2</td>\n",
       "    </tr>\n",
       "    <tr>\n",
       "      <th>12</th>\n",
       "      <td>[ Bernard Marr]</td>\n",
       "      <td>2</td>\n",
       "    </tr>\n",
       "    <tr>\n",
       "      <th>13</th>\n",
       "      <td>[ Michael Dawson]</td>\n",
       "      <td>2</td>\n",
       "    </tr>\n",
       "    <tr>\n",
       "      <th>14</th>\n",
       "      <td>[ John Paul Mueller,  and , Luca Massaron]</td>\n",
       "      <td>2</td>\n",
       "    </tr>\n",
       "    <tr>\n",
       "      <th>15</th>\n",
       "      <td>[ Jordan Morrow]</td>\n",
       "      <td>2</td>\n",
       "    </tr>\n",
       "    <tr>\n",
       "      <th>16</th>\n",
       "      <td>[ Christian Mayer]</td>\n",
       "      <td>2</td>\n",
       "    </tr>\n",
       "    <tr>\n",
       "      <th>17</th>\n",
       "      <td>[ Oz du Soleil,  and , Bill Jelen]</td>\n",
       "      <td>2</td>\n",
       "    </tr>\n",
       "    <tr>\n",
       "      <th>18</th>\n",
       "      <td>[ S. Christian Albright,  and , Wayne L. Winston]</td>\n",
       "      <td>2</td>\n",
       "    </tr>\n",
       "    <tr>\n",
       "      <th>19</th>\n",
       "      <td>[ Aristides Bouras]</td>\n",
       "      <td>2</td>\n",
       "    </tr>\n",
       "    <tr>\n",
       "      <th>20</th>\n",
       "      <td>[ Computer Science Academy]</td>\n",
       "      <td>2</td>\n",
       "    </tr>\n",
       "    <tr>\n",
       "      <th>21</th>\n",
       "      <td>[ Cole Nussbaumer Knaflic]</td>\n",
       "      <td>2</td>\n",
       "    </tr>\n",
       "    <tr>\n",
       "      <th>22</th>\n",
       "      <td>[ Jesse M. Kinder,  and , Philip Nelson]</td>\n",
       "      <td>2</td>\n",
       "    </tr>\n",
       "    <tr>\n",
       "      <th>23</th>\n",
       "      <td>[ Allen B. Downey]</td>\n",
       "      <td>2</td>\n",
       "    </tr>\n",
       "    <tr>\n",
       "      <th>24</th>\n",
       "      <td>[ Michael C. Whitlock,  and , Dolph Schluter]</td>\n",
       "      <td>2</td>\n",
       "    </tr>\n",
       "    <tr>\n",
       "      <th>25</th>\n",
       "      <td>[ Ramesh Sharda, Dursun Delen, et al.]</td>\n",
       "      <td>2</td>\n",
       "    </tr>\n",
       "    <tr>\n",
       "      <th>26</th>\n",
       "      <td>[ Paul McFedries]</td>\n",
       "      <td>2</td>\n",
       "    </tr>\n",
       "    <tr>\n",
       "      <th>27</th>\n",
       "      <td>[ Wayne Winston]</td>\n",
       "      <td>2</td>\n",
       "    </tr>\n",
       "    <tr>\n",
       "      <th>28</th>\n",
       "      <td>[ Lee Vaughan]</td>\n",
       "      <td>2</td>\n",
       "    </tr>\n",
       "    <tr>\n",
       "      <th>29</th>\n",
       "      <td>[ Willard D. Sanders]</td>\n",
       "      <td>2</td>\n",
       "    </tr>\n",
       "    <tr>\n",
       "      <th>30</th>\n",
       "      <td>[ Joseph Schmuller]</td>\n",
       "      <td>2</td>\n",
       "    </tr>\n",
       "  </tbody>\n",
       "</table>\n",
       "</div>"
      ],
      "text/plain": [
       "                                               author  title\n",
       "0                                      [ Al Sweigart]      8\n",
       "1                                     [ Chad Knowles]      3\n",
       "2                                     [ Eric Matthes]      3\n",
       "3                                   [ Inc. BarCharts]      3\n",
       "4                                    [ Yves Hilpisch]      3\n",
       "5                                        [ Jim Frost]      3\n",
       "6                               [ Paul A. Zandbergen]      3\n",
       "7                                [ Leonard J. Ledger]      3\n",
       "8                                     [ Alan Agresti]      3\n",
       "9                                     [ Greg Deckler]      2\n",
       "10                                      [ John Tukey]      2\n",
       "11                                 [ Jason R. Briggs]      2\n",
       "12                                    [ Bernard Marr]      2\n",
       "13                                  [ Michael Dawson]      2\n",
       "14         [ John Paul Mueller,  and , Luca Massaron]      2\n",
       "15                                   [ Jordan Morrow]      2\n",
       "16                                 [ Christian Mayer]      2\n",
       "17                 [ Oz du Soleil,  and , Bill Jelen]      2\n",
       "18  [ S. Christian Albright,  and , Wayne L. Winston]      2\n",
       "19                                [ Aristides Bouras]      2\n",
       "20                        [ Computer Science Academy]      2\n",
       "21                         [ Cole Nussbaumer Knaflic]      2\n",
       "22           [ Jesse M. Kinder,  and , Philip Nelson]      2\n",
       "23                                 [ Allen B. Downey]      2\n",
       "24      [ Michael C. Whitlock,  and , Dolph Schluter]      2\n",
       "25             [ Ramesh Sharda, Dursun Delen, et al.]      2\n",
       "26                                  [ Paul McFedries]      2\n",
       "27                                   [ Wayne Winston]      2\n",
       "28                                     [ Lee Vaughan]      2\n",
       "29                              [ Willard D. Sanders]      2\n",
       "30                                [ Joseph Schmuller]      2"
      ]
     },
     "execution_count": 67,
     "metadata": {},
     "output_type": "execute_result"
    }
   ],
   "source": [
    "df_auth = df.groupby(\"author\")['title'].count().sort_values(ascending = False)\n",
    "df_auth[df_auth > 1].reset_index()"
   ]
  },
  {
   "cell_type": "code",
   "execution_count": null,
   "id": "b57397b4",
   "metadata": {
    "scrolled": true
   },
   "outputs": [],
   "source": [
    "df_dvd = df[df['title'].str.endswith(\"[DVD]\")]\n",
    "\n",
    "print(f\"Numbers of DVD : {len(df_dvd)}\")\n",
    "df_dvd.head().style.set_properties(subset=['title'], **{'width': '300px'})"
   ]
  },
  {
   "cell_type": "code",
   "execution_count": null,
   "id": "16785e43",
   "metadata": {},
   "outputs": [],
   "source": [
    "df_bluray = df[df['title'].str.endswith(\"[Blu-ray]\")]\n",
    "\n",
    "print(f\"Numbers of Blu-Ray : {len(df_bluray)}\")\n",
    "df_bluray.head().style.set_properties(subset=['title'], **{'width': '300px'})"
   ]
  },
  {
   "cell_type": "markdown",
   "id": "b386e25d",
   "metadata": {},
   "source": [
    "> Then articles which ones include DVD or Blu-Ray in their title name."
   ]
  },
  {
   "cell_type": "code",
   "execution_count": null,
   "id": "81ab957a",
   "metadata": {
    "scrolled": true
   },
   "outputs": [],
   "source": []
  },
  {
   "cell_type": "markdown",
   "id": "a74cce71",
   "metadata": {},
   "source": [
    "In reviewing the list from the ISBN code, we can see that we 4 types of category of products:\n",
    "- \n",
    "\n",
    "Only very few articles in the dataset are other than books. \n",
    "\n",
    "As a consequence, to take into consideration our discoveries, we will re-arrange the dataset as following:\n",
    "* Keep only books (removing articles flagged as DVD and Blu-ray)\n",
    "* Keep only Data-science related articles\n",
    "* Keep only enlish-written books (removing spanish books)\n",
    "* Keeping books without NaN\n",
    "* Clean language field (replace all by \"English\")\n",
    "\n",
    "\n",
    "* B. "
   ]
  },
  {
   "cell_type": "code",
   "execution_count": null,
   "id": "5ce94fb2",
   "metadata": {},
   "outputs": [],
   "source": [
    "df[(df[\"language\"] == \"standard library\") | \n",
    "   (df[\"language\"] == \"Scroll to the top of the page and click the \") | \n",
    "   (df[\"language\"] == \"you will discover all you need \")]\n"
   ]
  },
  {
   "cell_type": "code",
   "execution_count": null,
   "id": "237ed52c",
   "metadata": {},
   "outputs": [],
   "source": [
    "#df[\"language\"] = df[\"language\"].astype(str)"
   ]
  },
  {
   "cell_type": "code",
   "execution_count": null,
   "id": "c90175aa",
   "metadata": {},
   "outputs": [],
   "source": [
    "rst = df.language.map(lambda w: len(w))\n",
    "print(rst)"
   ]
  },
  {
   "cell_type": "code",
   "execution_count": null,
   "id": "623dc544",
   "metadata": {
    "scrolled": false
   },
   "outputs": [],
   "source": [
    "df.sort_values(by=['language'], ascending=False)"
   ]
  },
  {
   "cell_type": "code",
   "execution_count": null,
   "id": "c4f8827b",
   "metadata": {},
   "outputs": [],
   "source": [
    "rst.sort_value(by=['min', 'max'], ascending=False)"
   ]
  },
  {
   "cell_type": "code",
   "execution_count": null,
   "id": "a7f8575e",
   "metadata": {},
   "outputs": [],
   "source": [
    "df.language.dtypes"
   ]
  },
  {
   "cell_type": "code",
   "execution_count": null,
   "id": "69617bae",
   "metadata": {},
   "outputs": [],
   "source": []
  }
 ],
 "metadata": {
  "kernelspec": {
   "display_name": "Python 3 (ipykernel)",
   "language": "python",
   "name": "python3"
  },
  "language_info": {
   "codemirror_mode": {
    "name": "ipython",
    "version": 3
   },
   "file_extension": ".py",
   "mimetype": "text/x-python",
   "name": "python",
   "nbconvert_exporter": "python",
   "pygments_lexer": "ipython3",
   "version": "3.10.4"
  }
 },
 "nbformat": 4,
 "nbformat_minor": 5
}
